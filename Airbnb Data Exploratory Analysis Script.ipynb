{
 "cells": [
  {
   "cell_type": "code",
   "execution_count": 49,
   "metadata": {},
   "outputs": [],
   "source": [
    "import pandas as pd\n",
    "import numpy as np\n",
    "import matplotlib.pyplot as plt\n",
    "%matplotlib inline\n",
    "import seaborn as sns\n",
    "from termcolor import colored"
   ]
  },
  {
   "cell_type": "code",
   "execution_count": 3,
   "metadata": {},
   "outputs": [
    {
     "name": "stderr",
     "output_type": "stream",
     "text": [
      "C:\\Users\\yuka.abe\\AppData\\Local\\Continuum\\anaconda3\\lib\\site-packages\\IPython\\core\\interactiveshell.py:2728: DtypeWarning: Columns (23,25) have mixed types. Specify dtype option on import or set low_memory=False.\n",
      "  interactivity=interactivity, compiler=compiler, result=result)\n"
     ]
    }
   ],
   "source": [
    "user_training_dataset=pd.read_csv(\"C:/Users/yuka.abe/Desktop/project_user_final_training_dataset.csv\")"
   ]
  },
  {
   "cell_type": "code",
   "execution_count": 4,
   "metadata": {},
   "outputs": [
    {
     "data": {
      "text/html": [
       "<div>\n",
       "<style scoped>\n",
       "    .dataframe tbody tr th:only-of-type {\n",
       "        vertical-align: middle;\n",
       "    }\n",
       "\n",
       "    .dataframe tbody tr th {\n",
       "        vertical-align: top;\n",
       "    }\n",
       "\n",
       "    .dataframe thead th {\n",
       "        text-align: right;\n",
       "    }\n",
       "</style>\n",
       "<table border=\"1\" class=\"dataframe\">\n",
       "  <thead>\n",
       "    <tr style=\"text-align: right;\">\n",
       "      <th></th>\n",
       "      <th>id</th>\n",
       "      <th>date_account_created</th>\n",
       "      <th>timestamp_first_active</th>\n",
       "      <th>date_first_booking</th>\n",
       "      <th>gender</th>\n",
       "      <th>age</th>\n",
       "      <th>signup_method</th>\n",
       "      <th>signup_flow</th>\n",
       "      <th>language</th>\n",
       "      <th>affiliate_channel</th>\n",
       "      <th>...</th>\n",
       "      <th>number_of_days_account_creation</th>\n",
       "      <th>number_of_active_days</th>\n",
       "      <th>age_computed</th>\n",
       "      <th>number_of_days_account_creation_numeric_value</th>\n",
       "      <th>number_of_active_days_numeric_value</th>\n",
       "      <th>Account_creation_before_booking_flag</th>\n",
       "      <th>user_id_x</th>\n",
       "      <th>session count</th>\n",
       "      <th>user_id_y</th>\n",
       "      <th>Total time spent (in seconds)</th>\n",
       "    </tr>\n",
       "  </thead>\n",
       "  <tbody>\n",
       "    <tr>\n",
       "      <th>0</th>\n",
       "      <td>gxn3p5htnn</td>\n",
       "      <td>6/28/2010</td>\n",
       "      <td>2.009030e+13</td>\n",
       "      <td>NaN</td>\n",
       "      <td>-unknown-</td>\n",
       "      <td>NaN</td>\n",
       "      <td>facebook</td>\n",
       "      <td>0</td>\n",
       "      <td>en</td>\n",
       "      <td>direct</td>\n",
       "      <td>...</td>\n",
       "      <td>NaN</td>\n",
       "      <td>NaN</td>\n",
       "      <td>NaN</td>\n",
       "      <td>NaN</td>\n",
       "      <td>NaN</td>\n",
       "      <td>NaN</td>\n",
       "      <td>NaN</td>\n",
       "      <td>NaN</td>\n",
       "      <td>NaN</td>\n",
       "      <td>NaN</td>\n",
       "    </tr>\n",
       "    <tr>\n",
       "      <th>1</th>\n",
       "      <td>820tgsjxq7</td>\n",
       "      <td>5/25/2011</td>\n",
       "      <td>2.009050e+13</td>\n",
       "      <td>NaN</td>\n",
       "      <td>MALE</td>\n",
       "      <td>38.0</td>\n",
       "      <td>facebook</td>\n",
       "      <td>0</td>\n",
       "      <td>en</td>\n",
       "      <td>seo</td>\n",
       "      <td>...</td>\n",
       "      <td>NaN</td>\n",
       "      <td>NaN</td>\n",
       "      <td>38.0</td>\n",
       "      <td>NaN</td>\n",
       "      <td>NaN</td>\n",
       "      <td>NaN</td>\n",
       "      <td>NaN</td>\n",
       "      <td>NaN</td>\n",
       "      <td>NaN</td>\n",
       "      <td>NaN</td>\n",
       "    </tr>\n",
       "    <tr>\n",
       "      <th>2</th>\n",
       "      <td>4ft3gnwmtx</td>\n",
       "      <td>9/28/2010</td>\n",
       "      <td>2.009060e+13</td>\n",
       "      <td>8/2/2010</td>\n",
       "      <td>FEMALE</td>\n",
       "      <td>56.0</td>\n",
       "      <td>basic</td>\n",
       "      <td>3</td>\n",
       "      <td>en</td>\n",
       "      <td>direct</td>\n",
       "      <td>...</td>\n",
       "      <td>-57 days +00:00:00.000000000</td>\n",
       "      <td>419 days 00:00:00.000000000</td>\n",
       "      <td>56.0</td>\n",
       "      <td>-57.0</td>\n",
       "      <td>419.0</td>\n",
       "      <td>0.0</td>\n",
       "      <td>NaN</td>\n",
       "      <td>NaN</td>\n",
       "      <td>NaN</td>\n",
       "      <td>NaN</td>\n",
       "    </tr>\n",
       "    <tr>\n",
       "      <th>3</th>\n",
       "      <td>bjjt8pjhuk</td>\n",
       "      <td>12/5/2011</td>\n",
       "      <td>2.009100e+13</td>\n",
       "      <td>9/8/2012</td>\n",
       "      <td>FEMALE</td>\n",
       "      <td>42.0</td>\n",
       "      <td>facebook</td>\n",
       "      <td>0</td>\n",
       "      <td>en</td>\n",
       "      <td>direct</td>\n",
       "      <td>...</td>\n",
       "      <td>278 days 00:00:00.000000000</td>\n",
       "      <td>1043 days 00:00:00.000000000</td>\n",
       "      <td>42.0</td>\n",
       "      <td>278.0</td>\n",
       "      <td>1043.0</td>\n",
       "      <td>2.0</td>\n",
       "      <td>NaN</td>\n",
       "      <td>NaN</td>\n",
       "      <td>NaN</td>\n",
       "      <td>NaN</td>\n",
       "    </tr>\n",
       "    <tr>\n",
       "      <th>4</th>\n",
       "      <td>87mebub9p4</td>\n",
       "      <td>9/14/2010</td>\n",
       "      <td>2.009120e+13</td>\n",
       "      <td>2/18/2010</td>\n",
       "      <td>-unknown-</td>\n",
       "      <td>41.0</td>\n",
       "      <td>basic</td>\n",
       "      <td>0</td>\n",
       "      <td>en</td>\n",
       "      <td>direct</td>\n",
       "      <td>...</td>\n",
       "      <td>-208 days +00:00:00.000000000</td>\n",
       "      <td>72 days 00:00:00.000000000</td>\n",
       "      <td>41.0</td>\n",
       "      <td>-208.0</td>\n",
       "      <td>72.0</td>\n",
       "      <td>0.0</td>\n",
       "      <td>NaN</td>\n",
       "      <td>NaN</td>\n",
       "      <td>NaN</td>\n",
       "      <td>NaN</td>\n",
       "    </tr>\n",
       "  </tbody>\n",
       "</table>\n",
       "<p>5 rows × 27 columns</p>\n",
       "</div>"
      ],
      "text/plain": [
       "           id date_account_created  timestamp_first_active date_first_booking  \\\n",
       "0  gxn3p5htnn            6/28/2010            2.009030e+13                NaN   \n",
       "1  820tgsjxq7            5/25/2011            2.009050e+13                NaN   \n",
       "2  4ft3gnwmtx            9/28/2010            2.009060e+13           8/2/2010   \n",
       "3  bjjt8pjhuk            12/5/2011            2.009100e+13           9/8/2012   \n",
       "4  87mebub9p4            9/14/2010            2.009120e+13          2/18/2010   \n",
       "\n",
       "      gender   age signup_method  signup_flow language affiliate_channel  \\\n",
       "0  -unknown-   NaN      facebook            0       en            direct   \n",
       "1       MALE  38.0      facebook            0       en               seo   \n",
       "2     FEMALE  56.0         basic            3       en            direct   \n",
       "3     FEMALE  42.0      facebook            0       en            direct   \n",
       "4  -unknown-  41.0         basic            0       en            direct   \n",
       "\n",
       "               ...               number_of_days_account_creation  \\\n",
       "0              ...                                           NaN   \n",
       "1              ...                                           NaN   \n",
       "2              ...                  -57 days +00:00:00.000000000   \n",
       "3              ...                   278 days 00:00:00.000000000   \n",
       "4              ...                 -208 days +00:00:00.000000000   \n",
       "\n",
       "          number_of_active_days age_computed  \\\n",
       "0                           NaN          NaN   \n",
       "1                           NaN         38.0   \n",
       "2   419 days 00:00:00.000000000         56.0   \n",
       "3  1043 days 00:00:00.000000000         42.0   \n",
       "4    72 days 00:00:00.000000000         41.0   \n",
       "\n",
       "  number_of_days_account_creation_numeric_value  \\\n",
       "0                                           NaN   \n",
       "1                                           NaN   \n",
       "2                                         -57.0   \n",
       "3                                         278.0   \n",
       "4                                        -208.0   \n",
       "\n",
       "  number_of_active_days_numeric_value Account_creation_before_booking_flag  \\\n",
       "0                                 NaN                                  NaN   \n",
       "1                                 NaN                                  NaN   \n",
       "2                               419.0                                  0.0   \n",
       "3                              1043.0                                  2.0   \n",
       "4                                72.0                                  0.0   \n",
       "\n",
       "  user_id_x session count user_id_y  Total time spent (in seconds)  \n",
       "0       NaN           NaN       NaN                            NaN  \n",
       "1       NaN           NaN       NaN                            NaN  \n",
       "2       NaN           NaN       NaN                            NaN  \n",
       "3       NaN           NaN       NaN                            NaN  \n",
       "4       NaN           NaN       NaN                            NaN  \n",
       "\n",
       "[5 rows x 27 columns]"
      ]
     },
     "execution_count": 4,
     "metadata": {},
     "output_type": "execute_result"
    }
   ],
   "source": [
    "user_training_dataset.head()"
   ]
  },
  {
   "cell_type": "code",
   "execution_count": 5,
   "metadata": {},
   "outputs": [
    {
     "data": {
      "text/plain": [
       "Index(['id', 'date_account_created', 'timestamp_first_active',\n",
       "       'date_first_booking', 'gender', 'age', 'signup_method', 'signup_flow',\n",
       "       'language', 'affiliate_channel', 'affiliate_provider',\n",
       "       'first_affiliate_tracked', 'signup_app', 'first_device_type',\n",
       "       'first_browser', 'country_destination',\n",
       "       'timestamp_first_active_cleaned', 'number_of_days_account_creation',\n",
       "       'number_of_active_days', 'age_computed',\n",
       "       'number_of_days_account_creation_numeric_value',\n",
       "       'number_of_active_days_numeric_value',\n",
       "       'Account_creation_before_booking_flag', 'user_id_x', 'session count',\n",
       "       'user_id_y', 'Total time spent (in seconds)'],\n",
       "      dtype='object')"
      ]
     },
     "execution_count": 5,
     "metadata": {},
     "output_type": "execute_result"
    }
   ],
   "source": [
    "user_training_dataset.columns"
   ]
  },
  {
   "cell_type": "markdown",
   "metadata": {},
   "source": [
    "Create a function for showing the descriptive statistics and visualization for continuous and categorical variables:"
   ]
  },
  {
   "cell_type": "code",
   "execution_count": 197,
   "metadata": {},
   "outputs": [],
   "source": [
    "def func_variable_exploratory_analysis(dataset, variable_name, variable_type):\n",
    "    # Make sure variable type is input correctly. If the variable_type input does not fall in the three categories below, an error will be raised.\n",
    "    if variable_type not in ['Categorical', \"Continuous\", \"Datetime\"]:\n",
    "        raise ValueError(\"The variable type should be Categorical, Continuous or Datetime\")\n",
    "    else:\n",
    "        if variable_type=='Categorical':\n",
    "            print('\\033[1m' +\"Distribution of the categorical variables:\" + variable_name )\n",
    "            print('\\033[0m')\n",
    "            print(dataset[variable_name].value_counts())\n",
    "\n",
    "            d=dataset[variable_name].value_counts()/dataset['id'].count()\n",
    "\n",
    "            print('\\033[1m' +\"Distribution of the categorical variables (In Percentage):\" + variable_name)\n",
    "            print('\\033[0m')\n",
    "            print(d.apply(lambda x: \"{0:.0%}\".format(x)))\n",
    "\n",
    "            print('\\033[1m' +\"Below is the distribution the of the categorical variable:\" + variable_name)\n",
    "            print('\\033[0m')\n",
    "            \n",
    "            dataset[variable_name].hist()\n",
    "            plt.show()\n",
    "            \n",
    "        if variable_type=='Continuous':\n",
    "            print('\\033[1m' +\"Descriptive Statistics:\" + variable_name)\n",
    "            print('\\033[0m')\n",
    "\n",
    "            print(dataset[variable_name].describe())\n",
    "\n",
    "\n",
    "            print('\\033[1m' +\"Number of observations with missing value for the continuous variable:\" + variable_name)\n",
    "            print('\\033[0m')\n",
    "\n",
    "            print( dataset['id'].count()-dataset[variable_name].describe()['count'])\n",
    "\n",
    "\n",
    "            print('\\033[1m' +\"PDF and CDF of the variable:\" + variable_name)\n",
    "            print('\\033[0m')\n",
    "\n",
    "\n",
    "            fig=plt.figure()\n",
    "\n",
    "            ax1=plt.subplot(2,1,1)\n",
    "            ax1=dataset[variable_name].hist(bins=10)\n",
    "            plt.title('PDF of the continuous variable')\n",
    "\n",
    "            ax2=plt.subplot(2,1,2)\n",
    "            ax2=dataset[variable_name].hist(bins=10, cumulative=True, normed=True)\n",
    "            plt.title('CDF of the continuous variable')\n",
    "\n",
    "            ax1.get_shared_x_axes().join(ax1, ax2)\n",
    "            ax1.set_xticklabels([])\n",
    "            plt.show()\n",
    "        if variable_type=='Datetime':\n",
    "            date_variable=pd.to_datetime(dataset[variable_name])\n",
    "\n",
    "            print('\\033[1m' +\"Number of observations with missing value for the continuous variable:\" + variable_name)\n",
    "            print('\\033[0m')\n",
    "\n",
    "            print(\"Number of observations with missing value for the continuous variable:\"+ variable_name, dataset['id'].count()-dataset[variable_name].describe()['count'])\n",
    "            \n",
    "            print(\"date range of \" + variable_name + \" : From \" ,date_variable.min(), \" To \", date_variable.max() )\n",
    "\n",
    "\n",
    "\n",
    "\n",
    "\n"
   ]
  },
  {
   "cell_type": "markdown",
   "metadata": {},
   "source": [
    "Create three different lists of column names for categorical variables, continuous variables and datetime variables"
   ]
  },
  {
   "cell_type": "code",
   "execution_count": 176,
   "metadata": {},
   "outputs": [],
   "source": [
    "categorical_variables=['gender', 'signup_method','language', 'affiliate_channel','affiliate_provider',  'first_affiliate_tracked','signup_app', 'first_device_type', 'first_browser', 'country_destination', 'Account_creation_before_booking_flag'  ]\n",
    "continuous_variables=['age_computed', 'signup_flow', 'number_of_days_account_creation', 'number_of_active_days_numeric_value', 'number_of_days_account_creation_numeric_value' , 'session count', 'Total time spent (in seconds)']\n",
    "timestamp_variables=['timestamp_first_active_cleaned', 'date_account_created','date_first_booking' ]"
   ]
  },
  {
   "cell_type": "markdown",
   "metadata": {},
   "source": [
    "Exploratory Analysis for all the categorical variables:"
   ]
  },
  {
   "cell_type": "markdown",
   "metadata": {},
   "source": [
    "Highlight from the categorical variables:\n",
    "- 45% of the gender is unknown.\n",
    "- most of users have basic sign-up method.\n",
    "- 97% of the users have 'English' as their browser language.\n",
    "- 65% of the users come directly to the site.\n",
    "- 86% of the users sign up to the website through computers\n",
    "- 42% of the users use Mac desktop while 34% of the users use windows\n",
    "- We are missing the first booking time for more than 50% of the users. Besides the users with no booking date, 32% of users create an account and make the first booking on the same day and 10% of users have created account before their first booking.\n",
    "- Over 80% of the users have booked NDF or US as their first booking country\n",
    "\n",
    "\n",
    "\n",
    "0: Account creation after first booking\n",
    "1: Account creation and first booking happened on the same day\n",
    "2: Account creation before first booking\n",
    "\n"
   ]
  },
  {
   "cell_type": "code",
   "execution_count": 187,
   "metadata": {},
   "outputs": [
    {
     "data": {
      "text/plain": [
       "['gender',\n",
       " 'signup_method',\n",
       " 'language',\n",
       " 'affiliate_channel',\n",
       " 'affiliate_provider',\n",
       " 'first_affiliate_tracked',\n",
       " 'signup_app',\n",
       " 'first_device_type',\n",
       " 'first_browser',\n",
       " 'country_destination',\n",
       " 'Account_creation_before_booking_flag']"
      ]
     },
     "execution_count": 187,
     "metadata": {},
     "output_type": "execute_result"
    }
   ],
   "source": [
    "categorical_variables"
   ]
  },
  {
   "cell_type": "code",
   "execution_count": 185,
   "metadata": {},
   "outputs": [
    {
     "name": "stdout",
     "output_type": "stream",
     "text": [
      "\u001b[1mDistribution of the categorical variables:gender\n",
      "\u001b[0m\n",
      "-unknown-    95688\n",
      "FEMALE       63041\n",
      "MALE         54440\n",
      "OTHER          282\n",
      "Name: gender, dtype: int64\n",
      "\u001b[1mDistribution of the categorical variables (In Percentage):gender\n",
      "\u001b[0m\n",
      "-unknown-    45%\n",
      "FEMALE       30%\n",
      "MALE         26%\n",
      "OTHER         0%\n",
      "Name: gender, dtype: object\n",
      "\u001b[1mBelow is the distribution the of the categorical variable:gender\n",
      "\u001b[0m\n"
     ]
    },
    {
     "data": {
      "image/png": "[encoded data removed]",
      "text/plain": [
       "<matplotlib.figure.Figure at 0x1d2004e0>"
      ]
     },
     "metadata": {},
     "output_type": "display_data"
    },
    {
     "name": "stdout",
     "output_type": "stream",
     "text": [
      "\u001b[1mDistribution of the categorical variables:signup_method\n",
      "\u001b[0m\n",
      "basic       152897\n",
      "facebook     60008\n",
      "google         546\n",
      "Name: signup_method, dtype: int64\n",
      "\u001b[1mDistribution of the categorical variables (In Percentage):signup_method\n",
      "\u001b[0m\n",
      "basic       72%\n",
      "facebook    28%\n",
      "google       0%\n",
      "Name: signup_method, dtype: object\n",
      "\u001b[1mBelow is the distribution the of the categorical variable:signup_method\n",
      "\u001b[0m\n"
     ]
    },
    {
     "data": {
      "image/png": "[encoded data removed]",
      "text/plain": [
       "<matplotlib.figure.Figure at 0x1d222898>"
      ]
     },
     "metadata": {},
     "output_type": "display_data"
    },
    {
     "name": "stdout",
     "output_type": "stream",
     "text": [
      "\u001b[1mDistribution of the categorical variables:language\n",
      "\u001b[0m\n",
      "en    206314\n",
      "zh      1632\n",
      "fr      1172\n",
      "es       915\n",
      "ko       747\n",
      "de       732\n",
      "it       514\n",
      "ru       389\n",
      "pt       240\n",
      "ja       225\n",
      "sv       122\n",
      "nl        97\n",
      "tr        64\n",
      "da        58\n",
      "pl        54\n",
      "cs        32\n",
      "no        30\n",
      "el        24\n",
      "th        24\n",
      "id        22\n",
      "hu        18\n",
      "fi        14\n",
      "is         5\n",
      "ca         5\n",
      "hr         2\n",
      "Name: language, dtype: int64\n",
      "\u001b[1mDistribution of the categorical variables (In Percentage):language\n",
      "\u001b[0m\n",
      "en    97%\n",
      "zh     1%\n",
      "fr     1%\n",
      "es     0%\n",
      "ko     0%\n",
      "de     0%\n",
      "it     0%\n",
      "ru     0%\n",
      "pt     0%\n",
      "ja     0%\n",
      "sv     0%\n",
      "nl     0%\n",
      "tr     0%\n",
      "da     0%\n",
      "pl     0%\n",
      "cs     0%\n",
      "no     0%\n",
      "el     0%\n",
      "th     0%\n",
      "id     0%\n",
      "hu     0%\n",
      "fi     0%\n",
      "is     0%\n",
      "ca     0%\n",
      "hr     0%\n",
      "Name: language, dtype: object\n",
      "\u001b[1mBelow is the distribution the of the categorical variable:language\n",
      "\u001b[0m\n"
     ]
    },
    {
     "data": {
      "image/png": "[encoded data removed]",
      "text/plain": [
       "<matplotlib.figure.Figure at 0x1d163978>"
      ]
     },
     "metadata": {},
     "output_type": "display_data"
    },
    {
     "name": "stdout",
     "output_type": "stream",
     "text": [
      "\u001b[1mDistribution of the categorical variables:affiliate_channel\n",
      "\u001b[0m\n",
      "direct           137727\n",
      "sem-brand         26045\n",
      "sem-non-brand     18844\n",
      "other              8961\n",
      "seo                8663\n",
      "api                8167\n",
      "content            3948\n",
      "remarketing        1096\n",
      "Name: affiliate_channel, dtype: int64\n",
      "\u001b[1mDistribution of the categorical variables (In Percentage):affiliate_channel\n",
      "\u001b[0m\n",
      "direct           65%\n",
      "sem-brand        12%\n",
      "sem-non-brand     9%\n",
      "other             4%\n",
      "seo               4%\n",
      "api               4%\n",
      "content           2%\n",
      "remarketing       1%\n",
      "Name: affiliate_channel, dtype: object\n",
      "\u001b[1mBelow is the distribution the of the categorical variable:affiliate_channel\n",
      "\u001b[0m\n"
     ]
    },
    {
     "data": {
      "image/png": "[encoded data removed]",
      "text/plain": [
       "<matplotlib.figure.Figure at 0x1aa21ac8>"
      ]
     },
     "metadata": {},
     "output_type": "display_data"
    },
    {
     "name": "stdout",
     "output_type": "stream",
     "text": [
      "\u001b[1mDistribution of the categorical variables:affiliate_provider\n",
      "\u001b[0m\n",
      "direct                 137426\n",
      "google                  51693\n",
      "other                   12549\n",
      "craigslist               3471\n",
      "bing                     2328\n",
      "facebook                 2273\n",
      "vast                      829\n",
      "padmapper                 768\n",
      "facebook-open-graph       545\n",
      "yahoo                     496\n",
      "gsp                       453\n",
      "meetup                    347\n",
      "email-marketing           166\n",
      "naver                      52\n",
      "baidu                      29\n",
      "yandex                     17\n",
      "wayn                        8\n",
      "daum                        1\n",
      "Name: affiliate_provider, dtype: int64\n",
      "\u001b[1mDistribution of the categorical variables (In Percentage):affiliate_provider\n",
      "\u001b[0m\n",
      "direct                 64%\n",
      "google                 24%\n",
      "other                   6%\n",
      "craigslist              2%\n",
      "bing                    1%\n",
      "facebook                1%\n",
      "vast                    0%\n",
      "padmapper               0%\n",
      "facebook-open-graph     0%\n",
      "yahoo                   0%\n",
      "gsp                     0%\n",
      "meetup                  0%\n",
      "email-marketing         0%\n",
      "naver                   0%\n",
      "baidu                   0%\n",
      "yandex                  0%\n",
      "wayn                    0%\n",
      "daum                    0%\n",
      "Name: affiliate_provider, dtype: object\n",
      "\u001b[1mBelow is the distribution the of the categorical variable:affiliate_provider\n",
      "\u001b[0m\n"
     ]
    },
    {
     "data": {
      "image/png": "[encoded data removed]",
      "text/plain": [
       "<matplotlib.figure.Figure at 0x1a067438>"
      ]
     },
     "metadata": {},
     "output_type": "display_data"
    },
    {
     "name": "stdout",
     "output_type": "stream",
     "text": [
      "\u001b[1mDistribution of the categorical variables:first_affiliate_tracked\n",
      "\u001b[0m\n",
      "untracked        109232\n",
      "linked            46287\n",
      "omg               43982\n",
      "tracked-other      6156\n",
      "product            1556\n",
      "marketing           139\n",
      "local ops            34\n",
      "Name: first_affiliate_tracked, dtype: int64\n",
      "\u001b[1mDistribution of the categorical variables (In Percentage):first_affiliate_tracked\n",
      "\u001b[0m\n",
      "untracked        51%\n",
      "linked           22%\n",
      "omg              21%\n",
      "tracked-other     3%\n",
      "product           1%\n",
      "marketing         0%\n",
      "local ops         0%\n",
      "Name: first_affiliate_tracked, dtype: object\n",
      "\u001b[1mBelow is the distribution the of the categorical variable:first_affiliate_tracked\n",
      "\u001b[0m\n"
     ]
    },
    {
     "data": {
      "image/png": "[encoded data removed]",
      "text/plain": [
       "<matplotlib.figure.Figure at 0x1a4d0b70>"
      ]
     },
     "metadata": {},
     "output_type": "display_data"
    },
    {
     "name": "stdout",
     "output_type": "stream",
     "text": [
      "\u001b[1mDistribution of the categorical variables:signup_app\n",
      "\u001b[0m\n",
      "Web        182717\n",
      "iOS         19019\n",
      "Moweb        6261\n",
      "Android      5454\n",
      "Name: signup_app, dtype: int64\n",
      "\u001b[1mDistribution of the categorical variables (In Percentage):signup_app\n",
      "\u001b[0m\n",
      "Web        86%\n",
      "iOS         9%\n",
      "Moweb       3%\n",
      "Android     3%\n",
      "Name: signup_app, dtype: object\n",
      "\u001b[1mBelow is the distribution the of the categorical variable:signup_app\n",
      "\u001b[0m\n"
     ]
    },
    {
     "data": {
      "image/png": "[encoded data removed]",
      "text/plain": [
       "<matplotlib.figure.Figure at 0xddec3c8>"
      ]
     },
     "metadata": {},
     "output_type": "display_data"
    },
    {
     "name": "stdout",
     "output_type": "stream",
     "text": [
      "\u001b[1mDistribution of the categorical variables:first_device_type\n",
      "\u001b[0m\n",
      "Mac Desktop           89600\n",
      "Windows Desktop       72716\n",
      "iPhone                20759\n",
      "iPad                  14339\n",
      "Other/Unknown         10667\n",
      "Android Phone          2803\n",
      "Android Tablet         1292\n",
      "Desktop (Other)        1199\n",
      "SmartPhone (Other)       76\n",
      "Name: first_device_type, dtype: int64\n",
      "\u001b[1mDistribution of the categorical variables (In Percentage):first_device_type\n",
      "\u001b[0m\n",
      "Mac Desktop           42%\n",
      "Windows Desktop       34%\n",
      "iPhone                10%\n",
      "iPad                   7%\n",
      "Other/Unknown          5%\n",
      "Android Phone          1%\n",
      "Android Tablet         1%\n",
      "Desktop (Other)        1%\n",
      "SmartPhone (Other)     0%\n",
      "Name: first_device_type, dtype: object\n",
      "\u001b[1mBelow is the distribution the of the categorical variable:first_device_type\n",
      "\u001b[0m\n"
     ]
    },
    {
     "data": {
      "image/png": "[encoded data removed]",
      "text/plain": [
       "<matplotlib.figure.Figure at 0x193aebe0>"
      ]
     },
     "metadata": {},
     "output_type": "display_data"
    },
    {
     "name": "stdout",
     "output_type": "stream",
     "text": [
      "\u001b[1mDistribution of the categorical variables:first_browser\n",
      "\u001b[0m\n",
      "Chrome                  63845\n",
      "Safari                  45169\n",
      "Firefox                 33655\n",
      "-unknown-               27266\n",
      "IE                      21068\n",
      "Mobile Safari           19274\n",
      "Chrome Mobile            1270\n",
      "Android Browser           851\n",
      "AOL Explorer              245\n",
      "Opera                     188\n",
      "Silk                      124\n",
      "Chromium                   73\n",
      "BlackBerry Browser         53\n",
      "Maxthon                    46\n",
      "IE Mobile                  36\n",
      "Apple Mail                 36\n",
      "Sogou Explorer             33\n",
      "Mobile Firefox             30\n",
      "SiteKiosk                  24\n",
      "RockMelt                   24\n",
      "Iron                       17\n",
      "IceWeasel                  13\n",
      "Pale Moon                  12\n",
      "CometBird                  11\n",
      "SeaMonkey                  11\n",
      "Yandex.Browser             11\n",
      "Camino                      9\n",
      "TenFourFox                  8\n",
      "CoolNovo                    6\n",
      "wOSBrowser                  6\n",
      "Avant Browser               4\n",
      "Opera Mini                  4\n",
      "Mozilla                     3\n",
      "TheWorld Browser            2\n",
      "SlimBrowser                 2\n",
      "Flock                       2\n",
      "OmniWeb                     2\n",
      "Comodo Dragon               2\n",
      "Crazy Browser               2\n",
      "Opera Mobile                2\n",
      "Epic                        1\n",
      "Arora                       1\n",
      "Google Earth                1\n",
      "Conkeror                    1\n",
      "PS Vita browser             1\n",
      "Googlebot                   1\n",
      "Kindle Browser              1\n",
      "IceDragon                   1\n",
      "Palm Pre web browser        1\n",
      "Stainless                   1\n",
      "NetNewsWire                 1\n",
      "Outlook 2007                1\n",
      "Name: first_browser, dtype: int64\n",
      "\u001b[1mDistribution of the categorical variables (In Percentage):first_browser\n",
      "\u001b[0m\n",
      "Chrome                  30%\n",
      "Safari                  21%\n",
      "Firefox                 16%\n",
      "-unknown-               13%\n",
      "IE                      10%\n",
      "Mobile Safari            9%\n",
      "Chrome Mobile            1%\n",
      "Android Browser          0%\n",
      "AOL Explorer             0%\n",
      "Opera                    0%\n",
      "Silk                     0%\n",
      "Chromium                 0%\n",
      "BlackBerry Browser       0%\n",
      "Maxthon                  0%\n",
      "IE Mobile                0%\n",
      "Apple Mail               0%\n",
      "Sogou Explorer           0%\n",
      "Mobile Firefox           0%\n",
      "SiteKiosk                0%\n",
      "RockMelt                 0%\n",
      "Iron                     0%\n",
      "IceWeasel                0%\n",
      "Pale Moon                0%\n",
      "CometBird                0%\n",
      "SeaMonkey                0%\n",
      "Yandex.Browser           0%\n",
      "Camino                   0%\n",
      "TenFourFox               0%\n",
      "CoolNovo                 0%\n",
      "wOSBrowser               0%\n",
      "Avant Browser            0%\n",
      "Opera Mini               0%\n",
      "Mozilla                  0%\n",
      "TheWorld Browser         0%\n",
      "SlimBrowser              0%\n",
      "Flock                    0%\n",
      "OmniWeb                  0%\n",
      "Comodo Dragon            0%\n",
      "Crazy Browser            0%\n",
      "Opera Mobile             0%\n",
      "Epic                     0%\n",
      "Arora                    0%\n",
      "Google Earth             0%\n",
      "Conkeror                 0%\n",
      "PS Vita browser          0%\n",
      "Googlebot                0%\n",
      "Kindle Browser           0%\n",
      "IceDragon                0%\n",
      "Palm Pre web browser     0%\n",
      "Stainless                0%\n",
      "NetNewsWire              0%\n",
      "Outlook 2007             0%\n",
      "Name: first_browser, dtype: object\n",
      "\u001b[1mBelow is the distribution the of the categorical variable:first_browser\n",
      "\u001b[0m\n"
     ]
    },
    {
     "data": {
      "image/png": "[encoded data removed]",
      "text/plain": [
       "<matplotlib.figure.Figure at 0x193aec18>"
      ]
     },
     "metadata": {},
     "output_type": "display_data"
    },
    {
     "name": "stdout",
     "output_type": "stream",
     "text": [
      "\u001b[1mDistribution of the categorical variables:country_destination\n",
      "\u001b[0m\n",
      "NDF      124543\n",
      "US        62376\n",
      "other     10094\n",
      "FR         5023\n",
      "IT         2835\n",
      "GB         2324\n",
      "ES         2249\n",
      "CA         1428\n",
      "DE         1061\n",
      "NL          762\n",
      "AU          539\n",
      "PT          217\n",
      "Name: country_destination, dtype: int64\n",
      "\u001b[1mDistribution of the categorical variables (In Percentage):country_destination\n",
      "\u001b[0m\n",
      "NDF      58%\n",
      "US       29%\n",
      "other     5%\n",
      "FR        2%\n",
      "IT        1%\n",
      "GB        1%\n",
      "ES        1%\n",
      "CA        1%\n",
      "DE        0%\n",
      "NL        0%\n",
      "AU        0%\n",
      "PT        0%\n",
      "Name: country_destination, dtype: object\n",
      "\u001b[1mBelow is the distribution the of the categorical variable:country_destination\n",
      "\u001b[0m\n"
     ]
    },
    {
     "data": {
      "image/png": "[encoded data removed]",
      "text/plain": [
       "<matplotlib.figure.Figure at 0x1a6af828>"
      ]
     },
     "metadata": {},
     "output_type": "display_data"
    },
    {
     "name": "stdout",
     "output_type": "stream",
     "text": [
      "\u001b[1mDistribution of the categorical variables:Account_creation_before_booking_flag\n",
      "\u001b[0m\n",
      "2.0    67475\n",
      "1.0    21404\n",
      "0.0       29\n",
      "Name: Account_creation_before_booking_flag, dtype: int64\n",
      "\u001b[1mDistribution of the categorical variables (In Percentage):Account_creation_before_booking_flag\n",
      "\u001b[0m\n",
      "2.0    32%\n",
      "1.0    10%\n",
      "0.0     0%\n",
      "Name: Account_creation_before_booking_flag, dtype: object\n",
      "\u001b[1mBelow is the distribution the of the categorical variable:Account_creation_before_booking_flag\n",
      "\u001b[0m\n"
     ]
    },
    {
     "data": {
      "image/png": "[encoded data removed]",
      "text/plain": [
       "<matplotlib.figure.Figure at 0x1b0615c0>"
      ]
     },
     "metadata": {},
     "output_type": "display_data"
    }
   ],
   "source": [
    "dataset= user_training_dataset\n",
    "variable_type='Categorical'\n",
    "for variable_name in categorical_variables:\n",
    "    func_variable_exploratory_analysis(dataset, variable_name, variable_type)\n",
    "    \n",
    "\n",
    "    \n",
    "    \n",
    "    "
   ]
  },
  {
   "cell_type": "markdown",
   "metadata": {},
   "source": [
    "Highlight from the continuous variables:\n",
    "- up to 75% of the users have zero sign-up flow.\n",
    "- up to 75% of the users have made their booking within 30 days since they are active on the website.\n",
    "- On average users have 75 activity counts on the website. \n",
    "- On average, users have spent around 414 hours, which doesn't make sense to me. \n"
   ]
  },
  {
   "cell_type": "code",
   "execution_count": 199,
   "metadata": {},
   "outputs": [
    {
     "name": "stdout",
     "output_type": "stream",
     "text": [
      "\u001b[1mDescriptive Statistics:age_computed\n",
      "\u001b[0m\n",
      "count    125461.000000\n",
      "mean         37.945736\n",
      "std          15.405991\n",
      "min          18.000000\n",
      "25%          28.000000\n",
      "50%          34.000000\n",
      "75%          43.000000\n",
      "max         122.000000\n",
      "Name: age_computed, dtype: float64\n",
      "\u001b[1mNumber of observations with missing value for the continuous variable:age_computed\n",
      "\u001b[0m\n",
      "87990.0\n",
      "\u001b[1mPDF and CDF of the variable:age_computed\n",
      "\u001b[0m\n"
     ]
    },
    {
     "data": {
      "image/png": "[encoded data removed]",
      "text/plain": [
       "<matplotlib.figure.Figure at 0x1a25d908>"
      ]
     },
     "metadata": {},
     "output_type": "display_data"
    },
    {
     "name": "stdout",
     "output_type": "stream",
     "text": [
      "\u001b[1mDescriptive Statistics:signup_flow\n",
      "\u001b[0m\n",
      "count    213451.000000\n",
      "mean          3.267387\n",
      "std           7.637707\n",
      "min           0.000000\n",
      "25%           0.000000\n",
      "50%           0.000000\n",
      "75%           0.000000\n",
      "max          25.000000\n",
      "Name: signup_flow, dtype: float64\n",
      "\u001b[1mNumber of observations with missing value for the continuous variable:signup_flow\n",
      "\u001b[0m\n",
      "0.0\n",
      "\u001b[1mPDF and CDF of the variable:signup_flow\n",
      "\u001b[0m\n"
     ]
    },
    {
     "data": {
      "image/png": "[encoded data removed]",
      "text/plain": [
       "<matplotlib.figure.Figure at 0x1b880a90>"
      ]
     },
     "metadata": {},
     "output_type": "display_data"
    },
    {
     "name": "stdout",
     "output_type": "stream",
     "text": [
      "\u001b[1mDescriptive Statistics:number_of_active_days_numeric_value\n",
      "\u001b[0m\n",
      "count    88908.000000\n",
      "mean        44.692176\n",
      "std         88.482784\n",
      "min          0.000000\n",
      "25%          1.000000\n",
      "50%          3.000000\n",
      "75%         29.000000\n",
      "max       1369.000000\n",
      "Name: number_of_active_days_numeric_value, dtype: float64\n",
      "\u001b[1mNumber of observations with missing value for the continuous variable:number_of_active_days_numeric_value\n",
      "\u001b[0m\n",
      "124543.0\n",
      "\u001b[1mPDF and CDF of the variable:number_of_active_days_numeric_value\n",
      "\u001b[0m\n"
     ]
    },
    {
     "data": {
      "image/png": "[encoded data removed]",
      "text/plain": [
       "<matplotlib.figure.Figure at 0x1b154630>"
      ]
     },
     "metadata": {},
     "output_type": "display_data"
    },
    {
     "name": "stdout",
     "output_type": "stream",
     "text": [
      "\u001b[1mDescriptive Statistics:number_of_days_account_creation_numeric_value\n",
      "\u001b[0m\n",
      "count    88908.000000\n",
      "mean        44.362498\n",
      "std         87.499561\n",
      "min       -349.000000\n",
      "25%          1.000000\n",
      "50%          3.000000\n",
      "75%         29.000000\n",
      "max        365.000000\n",
      "Name: number_of_days_account_creation_numeric_value, dtype: float64\n",
      "\u001b[1mNumber of observations with missing value for the continuous variable:number_of_days_account_creation_numeric_value\n",
      "\u001b[0m\n",
      "124543.0\n",
      "\u001b[1mPDF and CDF of the variable:number_of_days_account_creation_numeric_value\n",
      "\u001b[0m\n"
     ]
    },
    {
     "data": {
      "image/png": "[encoded data removed]",
      "text/plain": [
       "<matplotlib.figure.Figure at 0x1a84e898>"
      ]
     },
     "metadata": {},
     "output_type": "display_data"
    },
    {
     "name": "stdout",
     "output_type": "stream",
     "text": [
      "\u001b[1mDescriptive Statistics:session count\n",
      "\u001b[0m\n",
      "count    73815.000000\n",
      "mean        75.024819\n",
      "std        112.543174\n",
      "min          1.000000\n",
      "25%         13.000000\n",
      "50%         38.000000\n",
      "75%         91.000000\n",
      "max       2644.000000\n",
      "Name: session count, dtype: float64\n",
      "\u001b[1mNumber of observations with missing value for the continuous variable:session count\n",
      "\u001b[0m\n",
      "139636.0\n",
      "\u001b[1mPDF and CDF of the variable:session count\n",
      "\u001b[0m\n"
     ]
    },
    {
     "data": {
      "image/png": "[encoded data removed]",
      "text/plain": [
       "<matplotlib.figure.Figure at 0x1b602898>"
      ]
     },
     "metadata": {},
     "output_type": "display_data"
    },
    {
     "name": "stdout",
     "output_type": "stream",
     "text": [
      "\u001b[1mDescriptive Statistics:Total time spent (in seconds)\n",
      "\u001b[0m\n",
      "count    7.381500e+04\n",
      "mean     1.514235e+06\n",
      "std      1.913191e+06\n",
      "min      0.000000e+00\n",
      "25%      2.569205e+05\n",
      "50%      8.728620e+05\n",
      "75%      2.043488e+06\n",
      "max      3.822136e+07\n",
      "Name: Total time spent (in seconds), dtype: float64\n",
      "\u001b[1mNumber of observations with missing value for the continuous variable:Total time spent (in seconds)\n",
      "\u001b[0m\n",
      "139636.0\n",
      "\u001b[1mPDF and CDF of the variable:Total time spent (in seconds)\n",
      "\u001b[0m\n"
     ]
    },
    {
     "data": {
      "image/png": "[encoded data removed]",
      "text/plain": [
       "<matplotlib.figure.Figure at 0x1acd9f60>"
      ]
     },
     "metadata": {},
     "output_type": "display_data"
    }
   ],
   "source": [
    "dataset= user_training_dataset\n",
    "variable_type='Continuous'\n",
    "for variable_name in continuous_variables:\n",
    "    func_variable_exploratory_analysis(dataset, variable_name, variable_type)"
   ]
  },
  {
   "cell_type": "markdown",
   "metadata": {},
   "source": [
    "Highlight from the categorical variables:\n",
    "- 124,543 users do not have first booking date in the dataset.\n",
    "- The first active time stamp field and the account creation timestamp for the users ranges from 2009-03 to 2014-06.\n",
    "- The first booking date field ranges from 2010-01 to 2015-01."
   ]
  },
  {
   "cell_type": "code",
   "execution_count": 198,
   "metadata": {},
   "outputs": [
    {
     "name": "stdout",
     "output_type": "stream",
     "text": [
      "\u001b[1mNumber of observations with missing value for the continuous variable:timestamp_first_active_cleaned\n",
      "\u001b[0m\n",
      "Number of observations with missing value for the continuous variable:timestamp_first_active_cleaned 0\n",
      "date range of timestamp_first_active_cleaned : From  2009-03-19 00:00:00  To  2014-06-30 00:00:00\n",
      "\u001b[1mNumber of observations with missing value for the continuous variable:date_account_created\n",
      "\u001b[0m\n",
      "Number of observations with missing value for the continuous variable:date_account_created 0\n",
      "date range of date_account_created : From  2010-01-01 00:00:00  To  2014-06-30 00:00:00\n",
      "\u001b[1mNumber of observations with missing value for the continuous variable:date_first_booking\n",
      "\u001b[0m\n",
      "Number of observations with missing value for the continuous variable:date_first_booking 124543\n",
      "date range of date_first_booking : From  2010-01-02 00:00:00  To  2015-06-29 00:00:00\n"
     ]
    }
   ],
   "source": [
    "dataset= user_training_dataset\n",
    "variable_type='Datetime'\n",
    "for variable_name in timestamp_variables:\n",
    "    func_variable_exploratory_analysis(dataset, variable_name, variable_type)"
   ]
  },
  {
   "cell_type": "code",
   "execution_count": null,
   "metadata": {},
   "outputs": [],
   "source": []
  }
 ],
 "metadata": {
  "kernelspec": {
   "display_name": "Python 3",
   "language": "python",
   "name": "python3"
  },
  "language_info": {
   "codemirror_mode": {
    "name": "ipython",
    "version": 3
   },
   "file_extension": ".py",
   "mimetype": "text/x-python",
   "name": "python",
   "nbconvert_exporter": "python",
   "pygments_lexer": "ipython3",
   "version": "3.6.4"
  }
 },
 "nbformat": 4,
 "nbformat_minor": 2
}
