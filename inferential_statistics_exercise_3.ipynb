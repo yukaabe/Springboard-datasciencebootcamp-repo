{
 "cells": [
  {
   "cell_type": "markdown",
   "metadata": {},
   "source": [
    "# Hospital Readmissions Data Analysis and Recommendations for Reduction\n",
    "\n",
    "### Background\n",
    "In October 2012, the US government's Center for Medicare and Medicaid Services (CMS) began reducing Medicare payments for Inpatient Prospective Payment System hospitals with excess readmissions. Excess readmissions are measured by a ratio, by dividing a hospital’s number of “predicted” 30-day readmissions for heart attack, heart failure, and pneumonia by the number that would be “expected,” based on an average hospital with similar patients. A ratio greater than 1 indicates excess readmissions.\n",
    "\n",
    "### Exercise Directions\n",
    "\n",
    "In this exercise, you will:\n",
    "+ critique a preliminary analysis of readmissions data and recommendations (provided below) for reducing the readmissions rate\n",
    "+ construct a statistically sound analysis and make recommendations of your own \n",
    "\n",
    "More instructions provided below. Include your work **in this notebook and submit to your Github account**. \n",
    "\n",
    "### Resources\n",
    "+ Data source: https://data.medicare.gov/Hospital-Compare/Hospital-Readmission-Reduction/9n3s-kdb3\n",
    "+ More information: http://www.cms.gov/Medicare/medicare-fee-for-service-payment/acuteinpatientPPS/readmissions-reduction-program.html\n",
    "+ Markdown syntax: http://nestacms.com/docs/creating-content/markdown-cheat-sheet\n",
    "****"
   ]
  },
  {
   "cell_type": "code",
   "execution_count": 1,
   "metadata": {},
   "outputs": [],
   "source": [
    "%matplotlib inline\n",
    "\n",
    "import pandas as pd\n",
    "import numpy as np\n",
    "import matplotlib.pyplot as plt\n",
    "import bokeh.plotting as bkp\n",
    "from mpl_toolkits.axes_grid1 import make_axes_locatable"
   ]
  },
  {
   "cell_type": "code",
   "execution_count": 2,
   "metadata": {},
   "outputs": [],
   "source": [
    "# read in readmissions data provided\n",
    "hospital_read_df = pd.read_csv('data/cms_hospital_readmissions.csv')"
   ]
  },
  {
   "cell_type": "code",
   "execution_count": 5,
   "metadata": {},
   "outputs": [
    {
     "data": {
      "text/html": [
       "<div>\n",
       "<style>\n",
       "    .dataframe thead tr:only-child th {\n",
       "        text-align: right;\n",
       "    }\n",
       "\n",
       "    .dataframe thead th {\n",
       "        text-align: left;\n",
       "    }\n",
       "\n",
       "    .dataframe tbody tr th {\n",
       "        vertical-align: top;\n",
       "    }\n",
       "</style>\n",
       "<table border=\"1\" class=\"dataframe\">\n",
       "  <thead>\n",
       "    <tr style=\"text-align: right;\">\n",
       "      <th></th>\n",
       "      <th>Hospital Name</th>\n",
       "      <th>Provider Number</th>\n",
       "      <th>State</th>\n",
       "      <th>Measure Name</th>\n",
       "      <th>Number of Discharges</th>\n",
       "      <th>Footnote</th>\n",
       "      <th>Excess Readmission Ratio</th>\n",
       "      <th>Predicted Readmission Rate</th>\n",
       "      <th>Expected Readmission Rate</th>\n",
       "      <th>Number of Readmissions</th>\n",
       "      <th>Start Date</th>\n",
       "      <th>End Date</th>\n",
       "    </tr>\n",
       "  </thead>\n",
       "  <tbody>\n",
       "    <tr>\n",
       "      <th>0</th>\n",
       "      <td>FROEDTERT MEMORIAL LUTHERAN HOSPITAL</td>\n",
       "      <td>520177</td>\n",
       "      <td>WI</td>\n",
       "      <td>READM-30-HIP-KNEE-HRRP</td>\n",
       "      <td>242</td>\n",
       "      <td>NaN</td>\n",
       "      <td>1.9095</td>\n",
       "      <td>10.8</td>\n",
       "      <td>5.6</td>\n",
       "      <td>38.0</td>\n",
       "      <td>07/01/2010</td>\n",
       "      <td>06/30/2013</td>\n",
       "    </tr>\n",
       "    <tr>\n",
       "      <th>1</th>\n",
       "      <td>PROVIDENCE HOSPITAL</td>\n",
       "      <td>90006</td>\n",
       "      <td>DC</td>\n",
       "      <td>READM-30-HIP-KNEE-HRRP</td>\n",
       "      <td>247</td>\n",
       "      <td>NaN</td>\n",
       "      <td>1.7521</td>\n",
       "      <td>9.2</td>\n",
       "      <td>5.3</td>\n",
       "      <td>33.0</td>\n",
       "      <td>07/01/2010</td>\n",
       "      <td>06/30/2013</td>\n",
       "    </tr>\n",
       "    <tr>\n",
       "      <th>2</th>\n",
       "      <td>BEAUFORT COUNTY MEMORIAL HOSPITAL</td>\n",
       "      <td>420067</td>\n",
       "      <td>SC</td>\n",
       "      <td>READM-30-HIP-KNEE-HRRP</td>\n",
       "      <td>586</td>\n",
       "      <td>NaN</td>\n",
       "      <td>1.5836</td>\n",
       "      <td>7.6</td>\n",
       "      <td>4.8</td>\n",
       "      <td>53.0</td>\n",
       "      <td>07/01/2010</td>\n",
       "      <td>06/30/2013</td>\n",
       "    </tr>\n",
       "    <tr>\n",
       "      <th>3</th>\n",
       "      <td>ADVOCATE CHRIST HOSPITAL &amp; MEDICAL CENTER</td>\n",
       "      <td>140208</td>\n",
       "      <td>IL</td>\n",
       "      <td>READM-30-HIP-KNEE-HRRP</td>\n",
       "      <td>965</td>\n",
       "      <td>NaN</td>\n",
       "      <td>1.5760</td>\n",
       "      <td>9.0</td>\n",
       "      <td>5.7</td>\n",
       "      <td>95.0</td>\n",
       "      <td>07/01/2010</td>\n",
       "      <td>06/30/2013</td>\n",
       "    </tr>\n",
       "    <tr>\n",
       "      <th>4</th>\n",
       "      <td>BRAZOSPORT REGIONAL HEALTH SYSTEM</td>\n",
       "      <td>450072</td>\n",
       "      <td>TX</td>\n",
       "      <td>READM-30-HIP-KNEE-HRRP</td>\n",
       "      <td>149</td>\n",
       "      <td>NaN</td>\n",
       "      <td>1.5308</td>\n",
       "      <td>8.2</td>\n",
       "      <td>5.4</td>\n",
       "      <td>20.0</td>\n",
       "      <td>07/01/2010</td>\n",
       "      <td>06/30/2013</td>\n",
       "    </tr>\n",
       "  </tbody>\n",
       "</table>\n",
       "</div>"
      ],
      "text/plain": [
       "                               Hospital Name  Provider Number State  \\\n",
       "0       FROEDTERT MEMORIAL LUTHERAN HOSPITAL           520177    WI   \n",
       "1                        PROVIDENCE HOSPITAL            90006    DC   \n",
       "2          BEAUFORT COUNTY MEMORIAL HOSPITAL           420067    SC   \n",
       "3  ADVOCATE CHRIST HOSPITAL & MEDICAL CENTER           140208    IL   \n",
       "4          BRAZOSPORT REGIONAL HEALTH SYSTEM           450072    TX   \n",
       "\n",
       "             Measure Name Number of Discharges  Footnote  \\\n",
       "0  READM-30-HIP-KNEE-HRRP                  242       NaN   \n",
       "1  READM-30-HIP-KNEE-HRRP                  247       NaN   \n",
       "2  READM-30-HIP-KNEE-HRRP                  586       NaN   \n",
       "3  READM-30-HIP-KNEE-HRRP                  965       NaN   \n",
       "4  READM-30-HIP-KNEE-HRRP                  149       NaN   \n",
       "\n",
       "   Excess Readmission Ratio  Predicted Readmission Rate  \\\n",
       "0                    1.9095                        10.8   \n",
       "1                    1.7521                         9.2   \n",
       "2                    1.5836                         7.6   \n",
       "3                    1.5760                         9.0   \n",
       "4                    1.5308                         8.2   \n",
       "\n",
       "   Expected Readmission Rate  Number of Readmissions  Start Date    End Date  \n",
       "0                        5.6                    38.0  07/01/2010  06/30/2013  \n",
       "1                        5.3                    33.0  07/01/2010  06/30/2013  \n",
       "2                        4.8                    53.0  07/01/2010  06/30/2013  \n",
       "3                        5.7                    95.0  07/01/2010  06/30/2013  \n",
       "4                        5.4                    20.0  07/01/2010  06/30/2013  "
      ]
     },
     "execution_count": 5,
     "metadata": {},
     "output_type": "execute_result"
    }
   ],
   "source": [
    "hospital_read_df.head()"
   ]
  },
  {
   "cell_type": "markdown",
   "metadata": {},
   "source": [
    "****\n",
    "## Preliminary Analysis"
   ]
  },
  {
   "cell_type": "code",
   "execution_count": 3,
   "metadata": {},
   "outputs": [
    {
     "name": "stderr",
     "output_type": "stream",
     "text": [
      "/Applications/anaconda3/lib/python3.6/site-packages/pandas/core/indexing.py:517: SettingWithCopyWarning: \n",
      "A value is trying to be set on a copy of a slice from a DataFrame.\n",
      "Try using .loc[row_indexer,col_indexer] = value instead\n",
      "\n",
      "See the caveats in the documentation: http://pandas.pydata.org/pandas-docs/stable/indexing.html#indexing-view-versus-copy\n",
      "  self.obj[item] = s\n"
     ]
    }
   ],
   "source": [
    "# deal with missing and inconvenient portions of data \n",
    "clean_hospital_read_df = hospital_read_df[hospital_read_df['Number of Discharges'] != 'Not Available']\n",
    "clean_hospital_read_df.loc[:, 'Number of Discharges'] = clean_hospital_read_df['Number of Discharges'].astype(int)\n",
    "clean_hospital_read_df = clean_hospital_read_df.sort_values('Number of Discharges')"
   ]
  },
  {
   "cell_type": "code",
   "execution_count": 4,
   "metadata": {},
   "outputs": [
    {
     "data": {
      "image/png": "[encoded data removed]",
      "text/plain": [
       "<matplotlib.figure.Figure at 0x1179f21d0>"
      ]
     },
     "metadata": {},
     "output_type": "display_data"
    }
   ],
   "source": [
    "# generate a scatterplot for number of discharges vs. excess rate of readmissions\n",
    "# lists work better with matplotlib scatterplot function\n",
    "x = [a for a in clean_hospital_read_df['Number of Discharges'][81:-3]]\n",
    "y = list(clean_hospital_read_df['Excess Readmission Ratio'][81:-3])\n",
    "\n",
    "fig, ax = plt.subplots(figsize=(8,5))\n",
    "ax.scatter(x, y,alpha=0.2)\n",
    "\n",
    "ax.fill_between([0,350], 1.15, 2, facecolor='red', alpha = .15, interpolate=True)\n",
    "ax.fill_between([800,2500], .5, .95, facecolor='green', alpha = .15, interpolate=True)\n",
    "\n",
    "ax.set_xlim([0, max(x)])\n",
    "ax.set_xlabel('Number of discharges', fontsize=12)\n",
    "ax.set_ylabel('Excess rate of readmissions', fontsize=12)\n",
    "ax.set_title('Scatterplot of number of discharges vs. excess rate of readmissions', fontsize=14)\n",
    "\n",
    "ax.grid(True)\n",
    "fig.tight_layout()"
   ]
  },
  {
   "cell_type": "markdown",
   "metadata": {},
   "source": [
    "****\n",
    "\n",
    "## Preliminary Report\n",
    "\n",
    "Read the following results/report. While you are reading it, think about if the conclusions are correct, incorrect, misleading or unfounded. Think about what you would change or what additional analyses you would perform.\n",
    "\n",
    "**A. Initial observations based on the plot above**\n",
    "+ Overall, rate of readmissions is trending down with increasing number of discharges\n",
    "+ With lower number of discharges, there is a greater incidence of excess rate of readmissions (area shaded red)\n",
    "+ With higher number of discharges, there is a greater incidence of lower rates of readmissions (area shaded green) \n",
    "\n",
    "**B. Statistics**\n",
    "+ In hospitals/facilities with number of discharges < 100, mean excess readmission rate is 1.023 and 63% have excess readmission rate greater than 1 \n",
    "+ In hospitals/facilities with number of discharges > 1000, mean excess readmission rate is 0.978 and 44% have excess readmission rate greater than 1 \n",
    "\n",
    "**C. Conclusions**\n",
    "+ There is a significant correlation between hospital capacity (number of discharges) and readmission rates. \n",
    "+ Smaller hospitals/facilities may be lacking necessary resources to ensure quality care and prevent complications that lead to readmissions.\n",
    "\n",
    "**D. Regulatory policy recommendations**\n",
    "+ Hospitals/facilties with small capacity (< 300) should be required to demonstrate upgraded resource allocation for quality care to continue operation.\n",
    "+ Directives and incentives should be provided for consolidation of hospitals and facilities to have a smaller number of them with higher capacity and number of discharges."
   ]
  },
  {
   "cell_type": "markdown",
   "metadata": {},
   "source": [
    "****\n",
    "### Exercise\n",
    "\n",
    "Include your work on the following **in this notebook and submit to your Github account**. \n",
    "\n",
    "A. Do you agree with the above analysis and recommendations? Why or why not?\n",
    "   \n",
    "B. Provide support for your arguments and your own recommendations with a statistically sound analysis:\n",
    "\n",
    "   1. Setup an appropriate hypothesis test.\n",
    "   2. Compute and report the observed significance value (or p-value).\n",
    "   3. Report statistical significance for $\\alpha$ = .01. \n",
    "   4. Discuss statistical significance and practical significance. Do they differ here? How does this change your recommendation to the client?\n",
    "   5. Look at the scatterplot above. \n",
    "      - What are the advantages and disadvantages of using this plot to convey information?\n",
    "      - Construct another plot that conveys the same information in a more direct manner.\n",
    "\n",
    "\n",
    "\n",
    "You can compose in notebook cells using Markdown: \n",
    "+ In the control panel at the top, choose Cell > Cell Type > Markdown\n",
    "+ Markdown syntax: http://nestacms.com/docs/creating-content/markdown-cheat-sheet\n",
    "****"
   ]
  },
  {
   "cell_type": "markdown",
   "metadata": {
    "collapsed": true
   },
   "source": [
    "A. Do you agree with the above analysis and recommendations? Why or why not?\n"
   ]
  },
  {
   "cell_type": "markdown",
   "metadata": {},
   "source": [
    "I don't agree with the above analysis for the following reason:\n",
    "- When looking at the R squared between number of discharges and excess readmission ratio, the R squared is only -9%, which means there's no strong correlation between them. (The chart that was shown above does not even show a linear trend)\n",
    "\n",
    "- Also, the analysis is comparing directly on the number without going through any statistical significance chance. It would be better to reach conclusion after doing the stats test."
   ]
  },
  {
   "cell_type": "code",
   "execution_count": 15,
   "metadata": {},
   "outputs": [
    {
     "name": "stderr",
     "output_type": "stream",
     "text": [
      "/Applications/anaconda3/lib/python3.6/site-packages/pandas/core/indexing.py:517: SettingWithCopyWarning: \n",
      "A value is trying to be set on a copy of a slice from a DataFrame.\n",
      "Try using .loc[row_indexer,col_indexer] = value instead\n",
      "\n",
      "See the caveats in the documentation: http://pandas.pydata.org/pandas-docs/stable/indexing.html#indexing-view-versus-copy\n",
      "  self.obj[item] = s\n"
     ]
    }
   ],
   "source": [
    "# deal with missing and inconvenient portions of data \n",
    "clean_hospital_read_df = hospital_read_df[hospital_read_df['Number of Discharges'] != 'Not Available']\n",
    "clean_hospital_read_df.loc[:, 'Number of Discharges'] = clean_hospital_read_df['Number of Discharges'].astype(int)\n",
    "clean_hospital_read_df = clean_hospital_read_df.sort_values('Number of Discharges')"
   ]
  },
  {
   "cell_type": "code",
   "execution_count": 21,
   "metadata": {},
   "outputs": [
    {
     "data": {
      "text/html": [
       "<div>\n",
       "<style>\n",
       "    .dataframe thead tr:only-child th {\n",
       "        text-align: right;\n",
       "    }\n",
       "\n",
       "    .dataframe thead th {\n",
       "        text-align: left;\n",
       "    }\n",
       "\n",
       "    .dataframe tbody tr th {\n",
       "        vertical-align: top;\n",
       "    }\n",
       "</style>\n",
       "<table border=\"1\" class=\"dataframe\">\n",
       "  <thead>\n",
       "    <tr style=\"text-align: right;\">\n",
       "      <th></th>\n",
       "      <th>Number of Discharges</th>\n",
       "      <th>Excess Readmission Ratio</th>\n",
       "    </tr>\n",
       "  </thead>\n",
       "  <tbody>\n",
       "    <tr>\n",
       "      <th>Number of Discharges</th>\n",
       "      <td>1.000000</td>\n",
       "      <td>-0.097398</td>\n",
       "    </tr>\n",
       "    <tr>\n",
       "      <th>Excess Readmission Ratio</th>\n",
       "      <td>-0.097398</td>\n",
       "      <td>1.000000</td>\n",
       "    </tr>\n",
       "  </tbody>\n",
       "</table>\n",
       "</div>"
      ],
      "text/plain": [
       "                          Number of Discharges  Excess Readmission Ratio\n",
       "Number of Discharges                  1.000000                 -0.097398\n",
       "Excess Readmission Ratio             -0.097398                  1.000000"
      ]
     },
     "execution_count": 21,
     "metadata": {},
     "output_type": "execute_result"
    }
   ],
   "source": [
    "clean_hospital_read_df[['Number of Discharges', 'Excess Readmission Ratio']].corr()"
   ]
  },
  {
   "cell_type": "markdown",
   "metadata": {},
   "source": [
    "B. Provide support for your arguments and your own recommendations with a statistically sound analysis:\n",
    "\n",
    "- Setup an appropriate hypothesis test.\n",
    "- Compute and report the observed significance value (or p-value).\n",
    "- Report statistical significance for  αα  = .01.\n",
    "- Discuss statistical significance and practical significance. Do they differ here? How does this change your recommendation to the client?\n",
    "- Look at the scatterplot above.\n",
    "- What are the advantages and disadvantages of using this plot to convey information?\n",
    "- Construct another plot that conveys the same information in a more direct manner."
   ]
  },
  {
   "cell_type": "markdown",
   "metadata": {},
   "source": [
    "Only include the data that has valid number of discharges, Excess Readmission Ratio and also starting date and ending date "
   ]
  },
  {
   "cell_type": "code",
   "execution_count": 29,
   "metadata": {},
   "outputs": [],
   "source": [
    "clean_hospital_read_df['Excess Readmission Ratio']=pd.to_numeric(clean_hospital_read_df['Excess Readmission Ratio'])"
   ]
  },
  {
   "cell_type": "code",
   "execution_count": 39,
   "metadata": {},
   "outputs": [],
   "source": [
    "clean_hospital_read_df1=clean_hospital_read_df.loc[clean_hospital_read_df['Number of Discharges']!=0]"
   ]
  },
  {
   "cell_type": "code",
   "execution_count": 40,
   "metadata": {},
   "outputs": [
    {
     "data": {
      "text/html": [
       "<div>\n",
       "<style>\n",
       "    .dataframe thead tr:only-child th {\n",
       "        text-align: right;\n",
       "    }\n",
       "\n",
       "    .dataframe thead th {\n",
       "        text-align: left;\n",
       "    }\n",
       "\n",
       "    .dataframe tbody tr th {\n",
       "        vertical-align: top;\n",
       "    }\n",
       "</style>\n",
       "<table border=\"1\" class=\"dataframe\">\n",
       "  <thead>\n",
       "    <tr style=\"text-align: right;\">\n",
       "      <th></th>\n",
       "      <th>Hospital Name</th>\n",
       "      <th>Provider Number</th>\n",
       "      <th>State</th>\n",
       "      <th>Measure Name</th>\n",
       "      <th>Number of Discharges</th>\n",
       "      <th>Footnote</th>\n",
       "      <th>Excess Readmission Ratio</th>\n",
       "      <th>Predicted Readmission Rate</th>\n",
       "      <th>Expected Readmission Rate</th>\n",
       "      <th>Number of Readmissions</th>\n",
       "      <th>Start Date</th>\n",
       "      <th>End Date</th>\n",
       "    </tr>\n",
       "  </thead>\n",
       "  <tbody>\n",
       "    <tr>\n",
       "      <th>1832</th>\n",
       "      <td>UNIVERSITY OF MD CHARLES REGIONAL  MEDICAL CENTER</td>\n",
       "      <td>210035</td>\n",
       "      <td>MD</td>\n",
       "      <td>READM-30-AMI-HRRP</td>\n",
       "      <td>25</td>\n",
       "      <td>NaN</td>\n",
       "      <td>1.0914</td>\n",
       "      <td>26.8</td>\n",
       "      <td>24.6</td>\n",
       "      <td>12.0</td>\n",
       "      <td>07/01/2010</td>\n",
       "      <td>06/30/2013</td>\n",
       "    </tr>\n",
       "    <tr>\n",
       "      <th>1699</th>\n",
       "      <td>ATLANTIC GENERAL HOSPITAL</td>\n",
       "      <td>210061</td>\n",
       "      <td>MD</td>\n",
       "      <td>READM-30-AMI-HRRP</td>\n",
       "      <td>27</td>\n",
       "      <td>NaN</td>\n",
       "      <td>1.0961</td>\n",
       "      <td>24.8</td>\n",
       "      <td>22.6</td>\n",
       "      <td>12.0</td>\n",
       "      <td>07/01/2010</td>\n",
       "      <td>06/30/2013</td>\n",
       "    </tr>\n",
       "    <tr>\n",
       "      <th>1774</th>\n",
       "      <td>MERCY MEDICAL CENTER INC</td>\n",
       "      <td>210008</td>\n",
       "      <td>MD</td>\n",
       "      <td>READM-30-AMI-HRRP</td>\n",
       "      <td>28</td>\n",
       "      <td>NaN</td>\n",
       "      <td>1.0934</td>\n",
       "      <td>24.4</td>\n",
       "      <td>22.3</td>\n",
       "      <td>12.0</td>\n",
       "      <td>07/01/2010</td>\n",
       "      <td>06/30/2013</td>\n",
       "    </tr>\n",
       "    <tr>\n",
       "      <th>1853</th>\n",
       "      <td>KAISER FOUNDATION HOSPITAL-SANTA CLARA</td>\n",
       "      <td>50071</td>\n",
       "      <td>CA</td>\n",
       "      <td>READM-30-HF-HRRP</td>\n",
       "      <td>29</td>\n",
       "      <td>NaN</td>\n",
       "      <td>1.0908</td>\n",
       "      <td>21.0</td>\n",
       "      <td>19.3</td>\n",
       "      <td>11.0</td>\n",
       "      <td>07/01/2010</td>\n",
       "      <td>06/30/2013</td>\n",
       "    </tr>\n",
       "    <tr>\n",
       "      <th>1290</th>\n",
       "      <td>PALMERTON HOSPITAL</td>\n",
       "      <td>390019</td>\n",
       "      <td>PA</td>\n",
       "      <td>READM-30-AMI-HRRP</td>\n",
       "      <td>30</td>\n",
       "      <td>NaN</td>\n",
       "      <td>1.1123</td>\n",
       "      <td>23.2</td>\n",
       "      <td>20.9</td>\n",
       "      <td>13.0</td>\n",
       "      <td>07/01/2010</td>\n",
       "      <td>06/30/2013</td>\n",
       "    </tr>\n",
       "  </tbody>\n",
       "</table>\n",
       "</div>"
      ],
      "text/plain": [
       "                                          Hospital Name  Provider Number  \\\n",
       "1832  UNIVERSITY OF MD CHARLES REGIONAL  MEDICAL CENTER           210035   \n",
       "1699                          ATLANTIC GENERAL HOSPITAL           210061   \n",
       "1774                           MERCY MEDICAL CENTER INC           210008   \n",
       "1853             KAISER FOUNDATION HOSPITAL-SANTA CLARA            50071   \n",
       "1290                                 PALMERTON HOSPITAL           390019   \n",
       "\n",
       "     State       Measure Name  Number of Discharges  Footnote  \\\n",
       "1832    MD  READM-30-AMI-HRRP                    25       NaN   \n",
       "1699    MD  READM-30-AMI-HRRP                    27       NaN   \n",
       "1774    MD  READM-30-AMI-HRRP                    28       NaN   \n",
       "1853    CA   READM-30-HF-HRRP                    29       NaN   \n",
       "1290    PA  READM-30-AMI-HRRP                    30       NaN   \n",
       "\n",
       "      Excess Readmission Ratio  Predicted Readmission Rate  \\\n",
       "1832                    1.0914                        26.8   \n",
       "1699                    1.0961                        24.8   \n",
       "1774                    1.0934                        24.4   \n",
       "1853                    1.0908                        21.0   \n",
       "1290                    1.1123                        23.2   \n",
       "\n",
       "      Expected Readmission Rate  Number of Readmissions  Start Date  \\\n",
       "1832                       24.6                    12.0  07/01/2010   \n",
       "1699                       22.6                    12.0  07/01/2010   \n",
       "1774                       22.3                    12.0  07/01/2010   \n",
       "1853                       19.3                    11.0  07/01/2010   \n",
       "1290                       20.9                    13.0  07/01/2010   \n",
       "\n",
       "        End Date  \n",
       "1832  06/30/2013  \n",
       "1699  06/30/2013  \n",
       "1774  06/30/2013  \n",
       "1853  06/30/2013  \n",
       "1290  06/30/2013  "
      ]
     },
     "execution_count": 40,
     "metadata": {},
     "output_type": "execute_result"
    }
   ],
   "source": [
    "clean_hospital_read_df1.head()"
   ]
  },
  {
   "cell_type": "markdown",
   "metadata": {},
   "source": [
    "Make sure we are comparing all the hospitals within same time frame:"
   ]
  },
  {
   "cell_type": "code",
   "execution_count": 41,
   "metadata": {},
   "outputs": [
    {
     "name": "stderr",
     "output_type": "stream",
     "text": [
      "/Applications/anaconda3/lib/python3.6/site-packages/ipykernel_launcher.py:1: SettingWithCopyWarning: \n",
      "A value is trying to be set on a copy of a slice from a DataFrame.\n",
      "Try using .loc[row_indexer,col_indexer] = value instead\n",
      "\n",
      "See the caveats in the documentation: http://pandas.pydata.org/pandas-docs/stable/indexing.html#indexing-view-versus-copy\n",
      "  \"\"\"Entry point for launching an IPython kernel.\n",
      "/Applications/anaconda3/lib/python3.6/site-packages/ipykernel_launcher.py:2: SettingWithCopyWarning: \n",
      "A value is trying to be set on a copy of a slice from a DataFrame.\n",
      "Try using .loc[row_indexer,col_indexer] = value instead\n",
      "\n",
      "See the caveats in the documentation: http://pandas.pydata.org/pandas-docs/stable/indexing.html#indexing-view-versus-copy\n",
      "  \n"
     ]
    }
   ],
   "source": [
    "clean_hospital_read_df1['Start Date']=pd.to_datetime(clean_hospital_read_df1['Start Date'])\n",
    "clean_hospital_read_df1['End Date']=pd.to_datetime(clean_hospital_read_df1['End Date'])"
   ]
  },
  {
   "cell_type": "code",
   "execution_count": 44,
   "metadata": {},
   "outputs": [
    {
     "name": "stderr",
     "output_type": "stream",
     "text": [
      "/Applications/anaconda3/lib/python3.6/site-packages/ipykernel_launcher.py:1: SettingWithCopyWarning: \n",
      "A value is trying to be set on a copy of a slice from a DataFrame.\n",
      "Try using .loc[row_indexer,col_indexer] = value instead\n",
      "\n",
      "See the caveats in the documentation: http://pandas.pydata.org/pandas-docs/stable/indexing.html#indexing-view-versus-copy\n",
      "  \"\"\"Entry point for launching an IPython kernel.\n"
     ]
    }
   ],
   "source": [
    "clean_hospital_read_df1['start_date_end_date_day_diff']=clean_hospital_read_df1['End Date']-clean_hospital_read_df1['Start Date']"
   ]
  },
  {
   "cell_type": "code",
   "execution_count": 52,
   "metadata": {},
   "outputs": [
    {
     "data": {
      "text/html": [
       "<div>\n",
       "<style>\n",
       "    .dataframe thead tr:only-child th {\n",
       "        text-align: right;\n",
       "    }\n",
       "\n",
       "    .dataframe thead th {\n",
       "        text-align: left;\n",
       "    }\n",
       "\n",
       "    .dataframe tbody tr th {\n",
       "        vertical-align: top;\n",
       "    }\n",
       "</style>\n",
       "<table border=\"1\" class=\"dataframe\">\n",
       "  <thead>\n",
       "    <tr style=\"text-align: right;\">\n",
       "      <th></th>\n",
       "      <th>Hospital Name</th>\n",
       "      <th>Provider Number</th>\n",
       "      <th>State</th>\n",
       "      <th>Measure Name</th>\n",
       "      <th>Number of Discharges</th>\n",
       "      <th>Footnote</th>\n",
       "      <th>Excess Readmission Ratio</th>\n",
       "      <th>Predicted Readmission Rate</th>\n",
       "      <th>Expected Readmission Rate</th>\n",
       "      <th>Number of Readmissions</th>\n",
       "      <th>Start Date</th>\n",
       "      <th>End Date</th>\n",
       "      <th>start_date_end_date_day_diff</th>\n",
       "    </tr>\n",
       "  </thead>\n",
       "  <tbody>\n",
       "  </tbody>\n",
       "</table>\n",
       "</div>"
      ],
      "text/plain": [
       "Empty DataFrame\n",
       "Columns: [Hospital Name, Provider Number, State, Measure Name, Number of Discharges, Footnote, Excess Readmission Ratio, Predicted Readmission Rate, Expected Readmission Rate, Number of Readmissions, Start Date, End Date, start_date_end_date_day_diff]\n",
       "Index: []"
      ]
     },
     "execution_count": 52,
     "metadata": {},
     "output_type": "execute_result"
    }
   ],
   "source": [
    "clean_hospital_read_df1.loc[clean_hospital_read_df1['start_date_end_date_day_diff']!='1095 days']"
   ]
  },
  {
   "cell_type": "markdown",
   "metadata": {},
   "source": [
    "Hypothesis test:\n",
    "\n",
    "- Ho: There's no significant difference between hospital with 1000 discharges and hospitals with less than 100 discharges on the lower excess readmission rate.\n",
    "- H1: Hospitals with over 1000 discharges have lower excess readmission rate than the hospital with less than 100 discharges."
   ]
  },
  {
   "cell_type": "code",
   "execution_count": 55,
   "metadata": {
    "collapsed": true
   },
   "outputs": [],
   "source": [
    "# Create two df for comparison: df_discharge_less_than_100, df_discharge_more_than_1000\n",
    "\n",
    "df_discharge_less_than_100=clean_hospital_read_df1.loc[clean_hospital_read_df1['Number of Discharges']<100]\n",
    "df_discharge_more_than_1000=clean_hospital_read_df1.loc[clean_hospital_read_df1['Number of Discharges']>1000]"
   ]
  },
  {
   "cell_type": "code",
   "execution_count": 56,
   "metadata": {},
   "outputs": [
    {
     "data": {
      "text/html": [
       "<div>\n",
       "<style>\n",
       "    .dataframe thead tr:only-child th {\n",
       "        text-align: right;\n",
       "    }\n",
       "\n",
       "    .dataframe thead th {\n",
       "        text-align: left;\n",
       "    }\n",
       "\n",
       "    .dataframe tbody tr th {\n",
       "        vertical-align: top;\n",
       "    }\n",
       "</style>\n",
       "<table border=\"1\" class=\"dataframe\">\n",
       "  <thead>\n",
       "    <tr style=\"text-align: right;\">\n",
       "      <th></th>\n",
       "      <th>Hospital Name</th>\n",
       "      <th>Provider Number</th>\n",
       "      <th>State</th>\n",
       "      <th>Measure Name</th>\n",
       "      <th>Number of Discharges</th>\n",
       "      <th>Footnote</th>\n",
       "      <th>Excess Readmission Ratio</th>\n",
       "      <th>Predicted Readmission Rate</th>\n",
       "      <th>Expected Readmission Rate</th>\n",
       "      <th>Number of Readmissions</th>\n",
       "      <th>Start Date</th>\n",
       "      <th>End Date</th>\n",
       "      <th>start_date_end_date_day_diff</th>\n",
       "    </tr>\n",
       "  </thead>\n",
       "  <tbody>\n",
       "    <tr>\n",
       "      <th>1832</th>\n",
       "      <td>UNIVERSITY OF MD CHARLES REGIONAL  MEDICAL CENTER</td>\n",
       "      <td>210035</td>\n",
       "      <td>MD</td>\n",
       "      <td>READM-30-AMI-HRRP</td>\n",
       "      <td>25</td>\n",
       "      <td>NaN</td>\n",
       "      <td>1.0914</td>\n",
       "      <td>26.8</td>\n",
       "      <td>24.6</td>\n",
       "      <td>12.0</td>\n",
       "      <td>2010-07-01</td>\n",
       "      <td>2013-06-30</td>\n",
       "      <td>1095 days</td>\n",
       "    </tr>\n",
       "    <tr>\n",
       "      <th>1699</th>\n",
       "      <td>ATLANTIC GENERAL HOSPITAL</td>\n",
       "      <td>210061</td>\n",
       "      <td>MD</td>\n",
       "      <td>READM-30-AMI-HRRP</td>\n",
       "      <td>27</td>\n",
       "      <td>NaN</td>\n",
       "      <td>1.0961</td>\n",
       "      <td>24.8</td>\n",
       "      <td>22.6</td>\n",
       "      <td>12.0</td>\n",
       "      <td>2010-07-01</td>\n",
       "      <td>2013-06-30</td>\n",
       "      <td>1095 days</td>\n",
       "    </tr>\n",
       "    <tr>\n",
       "      <th>1774</th>\n",
       "      <td>MERCY MEDICAL CENTER INC</td>\n",
       "      <td>210008</td>\n",
       "      <td>MD</td>\n",
       "      <td>READM-30-AMI-HRRP</td>\n",
       "      <td>28</td>\n",
       "      <td>NaN</td>\n",
       "      <td>1.0934</td>\n",
       "      <td>24.4</td>\n",
       "      <td>22.3</td>\n",
       "      <td>12.0</td>\n",
       "      <td>2010-07-01</td>\n",
       "      <td>2013-06-30</td>\n",
       "      <td>1095 days</td>\n",
       "    </tr>\n",
       "    <tr>\n",
       "      <th>1853</th>\n",
       "      <td>KAISER FOUNDATION HOSPITAL-SANTA CLARA</td>\n",
       "      <td>50071</td>\n",
       "      <td>CA</td>\n",
       "      <td>READM-30-HF-HRRP</td>\n",
       "      <td>29</td>\n",
       "      <td>NaN</td>\n",
       "      <td>1.0908</td>\n",
       "      <td>21.0</td>\n",
       "      <td>19.3</td>\n",
       "      <td>11.0</td>\n",
       "      <td>2010-07-01</td>\n",
       "      <td>2013-06-30</td>\n",
       "      <td>1095 days</td>\n",
       "    </tr>\n",
       "    <tr>\n",
       "      <th>1290</th>\n",
       "      <td>PALMERTON HOSPITAL</td>\n",
       "      <td>390019</td>\n",
       "      <td>PA</td>\n",
       "      <td>READM-30-AMI-HRRP</td>\n",
       "      <td>30</td>\n",
       "      <td>NaN</td>\n",
       "      <td>1.1123</td>\n",
       "      <td>23.2</td>\n",
       "      <td>20.9</td>\n",
       "      <td>13.0</td>\n",
       "      <td>2010-07-01</td>\n",
       "      <td>2013-06-30</td>\n",
       "      <td>1095 days</td>\n",
       "    </tr>\n",
       "  </tbody>\n",
       "</table>\n",
       "</div>"
      ],
      "text/plain": [
       "                                          Hospital Name  Provider Number  \\\n",
       "1832  UNIVERSITY OF MD CHARLES REGIONAL  MEDICAL CENTER           210035   \n",
       "1699                          ATLANTIC GENERAL HOSPITAL           210061   \n",
       "1774                           MERCY MEDICAL CENTER INC           210008   \n",
       "1853             KAISER FOUNDATION HOSPITAL-SANTA CLARA            50071   \n",
       "1290                                 PALMERTON HOSPITAL           390019   \n",
       "\n",
       "     State       Measure Name  Number of Discharges  Footnote  \\\n",
       "1832    MD  READM-30-AMI-HRRP                    25       NaN   \n",
       "1699    MD  READM-30-AMI-HRRP                    27       NaN   \n",
       "1774    MD  READM-30-AMI-HRRP                    28       NaN   \n",
       "1853    CA   READM-30-HF-HRRP                    29       NaN   \n",
       "1290    PA  READM-30-AMI-HRRP                    30       NaN   \n",
       "\n",
       "      Excess Readmission Ratio  Predicted Readmission Rate  \\\n",
       "1832                    1.0914                        26.8   \n",
       "1699                    1.0961                        24.8   \n",
       "1774                    1.0934                        24.4   \n",
       "1853                    1.0908                        21.0   \n",
       "1290                    1.1123                        23.2   \n",
       "\n",
       "      Expected Readmission Rate  Number of Readmissions Start Date   End Date  \\\n",
       "1832                       24.6                    12.0 2010-07-01 2013-06-30   \n",
       "1699                       22.6                    12.0 2010-07-01 2013-06-30   \n",
       "1774                       22.3                    12.0 2010-07-01 2013-06-30   \n",
       "1853                       19.3                    11.0 2010-07-01 2013-06-30   \n",
       "1290                       20.9                    13.0 2010-07-01 2013-06-30   \n",
       "\n",
       "     start_date_end_date_day_diff  \n",
       "1832                    1095 days  \n",
       "1699                    1095 days  \n",
       "1774                    1095 days  \n",
       "1853                    1095 days  \n",
       "1290                    1095 days  "
      ]
     },
     "execution_count": 56,
     "metadata": {},
     "output_type": "execute_result"
    }
   ],
   "source": [
    "df_discharge_less_than_100.head()"
   ]
  },
  {
   "cell_type": "markdown",
   "metadata": {},
   "source": [
    "Distribution of the Excess Readmission Ratio for both sample groups:"
   ]
  },
  {
   "cell_type": "code",
   "execution_count": 57,
   "metadata": {
    "collapsed": true
   },
   "outputs": [],
   "source": [
    "import seaborn as sns"
   ]
  },
  {
   "cell_type": "code",
   "execution_count": 60,
   "metadata": {
    "collapsed": true
   },
   "outputs": [],
   "source": [
    "df_discharge_less_than_100_mean=df_discharge_less_than_100['Excess Readmission Ratio'].mean()\n",
    "df_discharge_less_than_100_std=df_discharge_less_than_100['Excess Readmission Ratio'].std()\n",
    "df_discharge_less_than_100_count=len(df_discharge_less_than_100['Excess Readmission Ratio'])"
   ]
  },
  {
   "cell_type": "code",
   "execution_count": 61,
   "metadata": {},
   "outputs": [
    {
     "name": "stdout",
     "output_type": "stream",
     "text": [
      "1.0226183501683506\n",
      "0.05797860323426279\n",
      "1188\n"
     ]
    }
   ],
   "source": [
    "print(df_discharge_less_than_100_mean)\n",
    "print(df_discharge_less_than_100_std)\n",
    "print(df_discharge_less_than_100_count)"
   ]
  },
  {
   "cell_type": "code",
   "execution_count": 58,
   "metadata": {},
   "outputs": [
    {
     "data": {
      "text/plain": [
       "<matplotlib.axes._subplots.AxesSubplot at 0x1a22b713c8>"
      ]
     },
     "execution_count": 58,
     "metadata": {},
     "output_type": "execute_result"
    },
    {
     "data": {
      "image/png": "[encoded data removed]",
      "text/plain": [
       "<matplotlib.figure.Figure at 0x1a22ae9c88>"
      ]
     },
     "metadata": {},
     "output_type": "display_data"
    }
   ],
   "source": [
    "sns.distplot(df_discharge_less_than_100['Excess Readmission Ratio'])"
   ]
  },
  {
   "cell_type": "code",
   "execution_count": 63,
   "metadata": {
    "collapsed": true
   },
   "outputs": [],
   "source": [
    "df_discharge_more_than_1000_mean=df_discharge_more_than_1000['Excess Readmission Ratio'].mean()\n",
    "df_discharge_more_than_1000_std=df_discharge_more_than_1000['Excess Readmission Ratio'].std()\n",
    "df_discharge_more_than_1000_count=len(df_discharge_more_than_1000['Excess Readmission Ratio'])"
   ]
  },
  {
   "cell_type": "code",
   "execution_count": 64,
   "metadata": {},
   "outputs": [
    {
     "name": "stdout",
     "output_type": "stream",
     "text": [
      "0.9783354211663071\n",
      "0.12000735348224047\n",
      "463\n"
     ]
    }
   ],
   "source": [
    "print(df_discharge_more_than_1000_mean)\n",
    "print(df_discharge_more_than_1000_std)\n",
    "print(df_discharge_more_than_1000_count)"
   ]
  },
  {
   "cell_type": "code",
   "execution_count": 65,
   "metadata": {},
   "outputs": [
    {
     "data": {
      "text/plain": [
       "<matplotlib.axes._subplots.AxesSubplot at 0x1a22bcd400>"
      ]
     },
     "execution_count": 65,
     "metadata": {},
     "output_type": "execute_result"
    },
    {
     "data": {
      "image/png": "[encoded data removed]",
      "text/plain": [
       "<matplotlib.figure.Figure at 0x1a22bb9b00>"
      ]
     },
     "metadata": {},
     "output_type": "display_data"
    }
   ],
   "source": [
    "sns.distplot(df_discharge_more_than_1000['Excess Readmission Ratio'])"
   ]
  },
  {
   "cell_type": "code",
   "execution_count": 66,
   "metadata": {
    "collapsed": true
   },
   "outputs": [],
   "source": [
    "mean_diff=df_discharge_less_than_100_mean-df_discharge_more_than_1000_mean"
   ]
  },
  {
   "cell_type": "code",
   "execution_count": 68,
   "metadata": {
    "collapsed": true
   },
   "outputs": [],
   "source": [
    "SE=np.sqrt(df_discharge_more_than_1000_std**2/df_discharge_more_than_1000_count+df_discharge_less_than_100_std**2/df_discharge_less_than_100_count)"
   ]
  },
  {
   "cell_type": "code",
   "execution_count": 70,
   "metadata": {},
   "outputs": [
    {
     "name": "stdout",
     "output_type": "stream",
     "text": [
      "7.6017424185\n"
     ]
    }
   ],
   "source": [
    "z_test_statistics=mean_diff/SE\n",
    "print(z_test_statistics)"
   ]
  },
  {
   "cell_type": "markdown",
   "metadata": {},
   "source": [
    "The Z score for 0.01 stats sig is around 2.58. In this case the z test statistics is higher than the z critical. So we should reject the null hypothesis and conclude than the hospital with more than 1000 discharge is significantly lower than the hospitals with lower than 100 discharges. But from the pratical signifcance standpoint, a diffence of 0.04 might not be significant enough for upgrading small hospital readmission system or merging hospitals."
   ]
  },
  {
   "cell_type": "code",
   "execution_count": 72,
   "metadata": {},
   "outputs": [
    {
     "data": {
      "text/plain": [
       "0.04428292900204345"
      ]
     },
     "execution_count": 72,
     "metadata": {},
     "output_type": "execute_result"
    }
   ],
   "source": [
    "mean_diff"
   ]
  },
  {
   "cell_type": "code",
   "execution_count": 83,
   "metadata": {
    "collapsed": true
   },
   "outputs": [],
   "source": [
    "avg_readmission_ratio_by_state=clean_hospital_read_df1.groupby('State')['Excess Readmission Ratio'].agg(['mean', 'count']).sort_values(by='mean')"
   ]
  },
  {
   "cell_type": "code",
   "execution_count": 86,
   "metadata": {},
   "outputs": [],
   "source": [
    "avg_readmission_ratio_by_state.reset_index(inplace=True)"
   ]
  },
  {
   "cell_type": "code",
   "execution_count": 90,
   "metadata": {
    "collapsed": true
   },
   "outputs": [],
   "source": [
    "avg_readmission_ratio_by_state.set_index('State', inplace=True)"
   ]
  },
  {
   "cell_type": "code",
   "execution_count": 140,
   "metadata": {},
   "outputs": [
    {
     "data": {
      "image/png": "[encoded data removed]",
      "text/plain": [
       "<matplotlib.figure.Figure at 0x1a2373eb38>"
      ]
     },
     "metadata": {},
     "output_type": "display_data"
    }
   ],
   "source": [
    "plt.figure(figsize=(10,5))\n",
    "avg_readmission_ratio_by_state['mean'].plot(kind='bar')\n",
    "plt.title(\"Average Excess Readmission Rate By State\")\n",
    "plt.ylabel(\"Average Excess Readmission Rate\")\n",
    "plt.xlabel(\"State\")\n",
    "plt.show()"
   ]
  },
  {
   "cell_type": "code",
   "execution_count": 97,
   "metadata": {},
   "outputs": [
    {
     "data": {
      "text/plain": [
       "1.0075037835957146"
      ]
     },
     "execution_count": 97,
     "metadata": {},
     "output_type": "execute_result"
    }
   ],
   "source": [
    "clean_hospital_read_df1['Excess Readmission Ratio'].mean()"
   ]
  },
  {
   "cell_type": "code",
   "execution_count": 106,
   "metadata": {
    "collapsed": true
   },
   "outputs": [],
   "source": [
    "total_hospital_count_by_state=clean_hospital_read_df1.groupby('State')['State'].count()"
   ]
  },
  {
   "cell_type": "markdown",
   "metadata": {},
   "source": [
    "Get the count of the hospital that has over average excess readmission rate:"
   ]
  },
  {
   "cell_type": "code",
   "execution_count": 102,
   "metadata": {},
   "outputs": [],
   "source": [
    "excessive_readmission_hospital_count_by_state=clean_hospital_read_df1.loc[clean_hospital_read_df1['Excess Readmission Ratio']>clean_hospital_read_df1['Excess Readmission Ratio'].mean()].groupby('State')['State'].count()"
   ]
  },
  {
   "cell_type": "code",
   "execution_count": 128,
   "metadata": {},
   "outputs": [],
   "source": [
    "redmission_proportion_by_state=pd.merge(pd.DataFrame(total_hospital_count_by_state),pd.DataFrame(excessive_readmission_hospital_count_by_state), left_index=True, right_index=True)"
   ]
  },
  {
   "cell_type": "code",
   "execution_count": 129,
   "metadata": {},
   "outputs": [
    {
     "data": {
      "text/plain": [
       "Index(['State_x', 'State_y'], dtype='object')"
      ]
     },
     "execution_count": 129,
     "metadata": {},
     "output_type": "execute_result"
    }
   ],
   "source": [
    "redmission_proportion_by_state.columns"
   ]
  },
  {
   "cell_type": "markdown",
   "metadata": {},
   "source": [
    "Get the proportion of the hospitals with higher than average excess readmission rate by state:"
   ]
  },
  {
   "cell_type": "code",
   "execution_count": 132,
   "metadata": {},
   "outputs": [],
   "source": [
    "redmission_proportion_by_state=redmission_proportion_by_state.rename(columns={'State_x': 'Total Hospital Count', 'State_y': 'Excess Hospital Count'})"
   ]
  },
  {
   "cell_type": "code",
   "execution_count": 135,
   "metadata": {},
   "outputs": [
    {
     "data": {
      "text/html": [
       "<div>\n",
       "<style>\n",
       "    .dataframe thead tr:only-child th {\n",
       "        text-align: right;\n",
       "    }\n",
       "\n",
       "    .dataframe thead th {\n",
       "        text-align: left;\n",
       "    }\n",
       "\n",
       "    .dataframe tbody tr th {\n",
       "        vertical-align: top;\n",
       "    }\n",
       "</style>\n",
       "<table border=\"1\" class=\"dataframe\">\n",
       "  <thead>\n",
       "    <tr style=\"text-align: right;\">\n",
       "      <th></th>\n",
       "      <th>Total Hospital Count</th>\n",
       "      <th>Excess Hospital Count</th>\n",
       "      <th>readmission hospital proportion</th>\n",
       "    </tr>\n",
       "    <tr>\n",
       "      <th>State</th>\n",
       "      <th></th>\n",
       "      <th></th>\n",
       "      <th></th>\n",
       "    </tr>\n",
       "  </thead>\n",
       "  <tbody>\n",
       "    <tr>\n",
       "      <th>AK</th>\n",
       "      <td>22</td>\n",
       "      <td>6</td>\n",
       "      <td>0.272727</td>\n",
       "    </tr>\n",
       "    <tr>\n",
       "      <th>AL</th>\n",
       "      <td>271</td>\n",
       "      <td>145</td>\n",
       "      <td>0.535055</td>\n",
       "    </tr>\n",
       "    <tr>\n",
       "      <th>AR</th>\n",
       "      <td>170</td>\n",
       "      <td>98</td>\n",
       "      <td>0.576471</td>\n",
       "    </tr>\n",
       "    <tr>\n",
       "      <th>AZ</th>\n",
       "      <td>206</td>\n",
       "      <td>86</td>\n",
       "      <td>0.417476</td>\n",
       "    </tr>\n",
       "    <tr>\n",
       "      <th>CA</th>\n",
       "      <td>933</td>\n",
       "      <td>411</td>\n",
       "      <td>0.440514</td>\n",
       "    </tr>\n",
       "  </tbody>\n",
       "</table>\n",
       "</div>"
      ],
      "text/plain": [
       "       Total Hospital Count  Excess Hospital Count  \\\n",
       "State                                                \n",
       "AK                       22                      6   \n",
       "AL                      271                    145   \n",
       "AR                      170                     98   \n",
       "AZ                      206                     86   \n",
       "CA                      933                    411   \n",
       "\n",
       "       readmission hospital proportion  \n",
       "State                                   \n",
       "AK                            0.272727  \n",
       "AL                            0.535055  \n",
       "AR                            0.576471  \n",
       "AZ                            0.417476  \n",
       "CA                            0.440514  "
      ]
     },
     "execution_count": 135,
     "metadata": {},
     "output_type": "execute_result"
    }
   ],
   "source": [
    "redmission_proportion_by_state.head()"
   ]
  },
  {
   "cell_type": "code",
   "execution_count": 134,
   "metadata": {},
   "outputs": [],
   "source": [
    "≈['readmission hospital proportion']=redmission_proportion_by_state['Excess Hospital Count']/redmission_proportion_by_state['Total Hospital Count']"
   ]
  },
  {
   "cell_type": "code",
   "execution_count": 141,
   "metadata": {},
   "outputs": [
    {
     "data": {
      "image/png": "[encoded data removed]",
      "text/plain": [
       "<matplotlib.figure.Figure at 0x1a22d73400>"
      ]
     },
     "metadata": {},
     "output_type": "display_data"
    }
   ],
   "source": [
    "plt.figure(figsize=(10,5))\n",
    "redmission_proportion_by_state['readmission hospital proportion'].plot(kind='bar')\n",
    "plt.title(\"Excess Readmission Hospital Proportion By State\")\n",
    "plt.ylabel(\"Excess Readmission Hospital Proportion\")\n",
    "plt.show()"
   ]
  },
  {
   "cell_type": "markdown",
   "metadata": {},
   "source": [
    "By looking at the chart above, DC and WV is more likely to have hospitals with high excess readmission rate. So state is also an important factor here."
   ]
  },
  {
   "cell_type": "markdown",
   "metadata": {},
   "source": [
    "Look at the scatterplot above.\n",
    "- What are the advantages and disadvantages of using this plot to convey information?\n",
    "- Construct another plot that conveys the same information in a more direct manner."
   ]
  },
  {
   "cell_type": "markdown",
   "metadata": {},
   "source": [
    "- Disdvantage of the plot is plot is very scattered. It's hard to detect the readmission rate patterns for most of the hospitals with median discharge size. \n",
    "- The advantage of the plot is that scatter plot can help sometimes to discover some trend when we are doing some exploratory analysis. Here we do see that the hospitals with more than 1000 discharges tend to have a lower excess readmission rate."
   ]
  },
  {
   "cell_type": "markdown",
   "metadata": {},
   "source": [
    "Here I will choose to use classifiy the hospitals into four groups based on the distribution of the number of discharges they have and then construct a scatter plot to see if there's any correlation between the number of discharges and excess readmission rate within the group. Also I will construct a bar plot on the average excess readmission rate across the groups for comparison."
   ]
  },
  {
   "cell_type": "code",
   "execution_count": 146,
   "metadata": {},
   "outputs": [
    {
     "data": {
      "text/plain": [
       "count    11497.000000\n",
       "mean       365.466209\n",
       "std        308.754590\n",
       "min         25.000000\n",
       "25%        160.000000\n",
       "50%        282.000000\n",
       "75%        474.000000\n",
       "max       6793.000000\n",
       "Name: Number of Discharges, dtype: float64"
      ]
     },
     "execution_count": 146,
     "metadata": {},
     "output_type": "execute_result"
    }
   ],
   "source": [
    "clean_hospital_read_df1['Number of Discharges'].describe()"
   ]
  },
  {
   "cell_type": "code",
   "execution_count": 160,
   "metadata": {},
   "outputs": [
    {
     "name": "stderr",
     "output_type": "stream",
     "text": [
      "/Applications/anaconda3/lib/python3.6/site-packages/pandas/core/indexing.py:517: SettingWithCopyWarning: \n",
      "A value is trying to be set on a copy of a slice from a DataFrame.\n",
      "Try using .loc[row_indexer,col_indexer] = value instead\n",
      "\n",
      "See the caveats in the documentation: http://pandas.pydata.org/pandas-docs/stable/indexing.html#indexing-view-versus-copy\n",
      "  self.obj[item] = s\n"
     ]
    }
   ],
   "source": [
    "clean_hospital_read_df1.loc[clean_hospital_read_df1['Number of Discharges']<160, 'Number of Discharges Class']='Number of Discharges less than 160'\n",
    "clean_hospital_read_df1.loc[(clean_hospital_read_df1['Number of Discharges']>=282)&(clean_hospital_read_df1['Number of Discharges']<475), 'Number of Discharges Class']='Number of Discharges greater than 282 less than 475'\n",
    "clean_hospital_read_df1.loc[(clean_hospital_read_df1['Number of Discharges']>=475)&(clean_hospital_read_df1['Number of Discharges']<1000), 'Number of Discharges Class']='Number of Discharges greater than 475 less than 1000'\n",
    "clean_hospital_read_df1.loc[clean_hospital_read_df1['Number of Discharges']>=1000, 'Number of Discharges Class']='Number of Discharges more than 1000'\n",
    "clean_hospital_read_df1.loc[(clean_hospital_read_df1['Number of Discharges']>=160)&(clean_hospital_read_df1['Number of Discharges']<282), 'Number of Discharges Class']='Number of Discharges greater than 160 less than 282'"
   ]
  },
  {
   "cell_type": "code",
   "execution_count": 161,
   "metadata": {},
   "outputs": [
    {
     "data": {
      "text/plain": [
       "array(['Number of Discharges less than 160',\n",
       "       'Number of Discharges greater than 160 less than 282',\n",
       "       'Number of Discharges greater than 282 less than 475',\n",
       "       'Number of Discharges greater than 475 less than 1000',\n",
       "       'Number of Discharges more than 1000'], dtype=object)"
      ]
     },
     "execution_count": 161,
     "metadata": {},
     "output_type": "execute_result"
    }
   ],
   "source": [
    "clean_hospital_read_df1['Number of Discharges Class'].unique()"
   ]
  },
  {
   "cell_type": "markdown",
   "metadata": {},
   "source": [
    "By looking at the plots below, I'm not seeing a strong correlation between # discharges and excess readmission rate here within each group."
   ]
  },
  {
   "cell_type": "code",
   "execution_count": 194,
   "metadata": {},
   "outputs": [
    {
     "data": {
      "image/png": "[encoded data removed]",
      "text/plain": [
       "<matplotlib.figure.Figure at 0x1a2371c160>"
      ]
     },
     "metadata": {},
     "output_type": "display_data"
    }
   ],
   "source": [
    "color_list=['g', 'b', 'r', 'y']\n",
    "plt.figure(figsize=(10,10))\n",
    "for i in range(4):\n",
    "    \n",
    "    subplot(2,2,i+1)\n",
    "    class_discharge=list(clean_hospital_read_df1['Number of Discharges Class'].unique())[i]\n",
    "    data=clean_hospital_read_df1.loc[clean_hospital_read_df1['Number of Discharges Class']==class_discharge]\n",
    "    plt.scatter(data[\"Number of Discharges\"], data[\"Excess Readmission Ratio\"], c=color_list[i], label=class_discharge)\n",
    "    plt.legend()\n",
    "    plt.plot()"
   ]
  },
  {
   "cell_type": "markdown",
   "metadata": {},
   "source": [
    "Construct a bar plot on the average excess readmission rate:"
   ]
  },
  {
   "cell_type": "markdown",
   "metadata": {},
   "source": [
    "As you can see the hospitals with dischages less than 160 has a higher average excess readmission rate than the hospitals with over 1000 discharges."
   ]
  },
  {
   "cell_type": "code",
   "execution_count": 202,
   "metadata": {},
   "outputs": [
    {
     "data": {
      "text/plain": [
       "<matplotlib.axes._subplots.AxesSubplot at 0x1a24f78ba8>"
      ]
     },
     "execution_count": 202,
     "metadata": {},
     "output_type": "execute_result"
    },
    {
     "data": {
      "image/png": "[encoded data removed]",
      "text/plain": [
       "<matplotlib.figure.Figure at 0x1a24df7588>"
      ]
     },
     "metadata": {},
     "output_type": "display_data"
    }
   ],
   "source": [
    "clean_hospital_read_df1.groupby('Number of Discharges Class')['Excess Readmission Ratio'].mean().plot(kind='barh')"
   ]
  },
  {
   "cell_type": "code",
   "execution_count": null,
   "metadata": {
    "collapsed": true
   },
   "outputs": [],
   "source": []
  }
 ],
 "metadata": {
  "anaconda-cloud": {},
  "kernelspec": {
   "display_name": "Python 3",
   "language": "python",
   "name": "python3"
  },
  "language_info": {
   "codemirror_mode": {
    "name": "ipython",
    "version": 3
   },
   "file_extension": ".py",
   "mimetype": "text/x-python",
   "name": "python",
   "nbconvert_exporter": "python",
   "pygments_lexer": "ipython3",
   "version": "3.6.3"
  }
 },
 "nbformat": 4,
 "nbformat_minor": 1
}
