{
 "cells": [
  {
   "cell_type": "markdown",
   "metadata": {},
   "source": [
    "# Import all the packages"
   ]
  },
  {
   "cell_type": "code",
   "execution_count": 4,
   "metadata": {},
   "outputs": [],
   "source": [
    "import pandas as pd\n",
    "import numpy as np\n",
    "import matplotlib.pyplot as plt\n",
    "%matplotlib inline\n",
    "import seaborn as sns\n",
    "#from termcolor import colored\n",
    "import MySQLdb\n",
    "import pandas as pd\n",
    "import numpy as np\n",
    "import matplotlib.pyplot as plt\n",
    "from scipy import stats\n",
    "from sklearn import linear_model\n",
    "import matplotlib.pylab as plb\n",
    "from sklearn import linear_model\n",
    "import seaborn as sns\n",
    "import statsmodels.api as sm"
   ]
  },
  {
   "cell_type": "markdown",
   "metadata": {},
   "source": [
    "You can download the user_training_dataset_update.csv from the link below:\n",
    "\n",
    "https://drive.google.com/open?id=1tQGlNvkmGVPGcmQID2NNd5p8bkLBxofM"
   ]
  },
  {
   "cell_type": "code",
   "execution_count": 5,
   "metadata": {},
   "outputs": [
    {
     "name": "stderr",
     "output_type": "stream",
     "text": [
      "C:\\Users\\yuka.abe\\AppData\\Local\\Continuum\\anaconda3\\lib\\site-packages\\IPython\\core\\interactiveshell.py:3020: DtypeWarning: Columns (23,25) have mixed types. Specify dtype option on import or set low_memory=False.\n",
      "  interactivity=interactivity, compiler=compiler, result=result)\n"
     ]
    }
   ],
   "source": [
    "user_training_dataset=pd.read_csv(\"C:/Users/yuka.abe/Desktop/project_user_final_training_dataset.csv\")"
   ]
  },
  {
   "cell_type": "markdown",
   "metadata": {},
   "source": [
    "# Understand the distribution and compute basic statistics on all the fields in the data set:"
   ]
  },
  {
   "cell_type": "markdown",
   "metadata": {},
   "source": [
    "Below are all the columns in the user_training dataset:"
   ]
  },
  {
   "cell_type": "code",
   "execution_count": 3,
   "metadata": {},
   "outputs": [
    {
     "data": {
      "text/plain": [
       "Index(['id', 'date_account_created', 'timestamp_first_active',\n",
       "       'date_first_booking', 'gender', 'age', 'signup_method', 'signup_flow',\n",
       "       'language', 'affiliate_channel', 'affiliate_provider',\n",
       "       'first_affiliate_tracked', 'signup_app', 'first_device_type',\n",
       "       'first_browser', 'country_destination',\n",
       "       'timestamp_first_active_cleaned', 'number_of_days_account_creation',\n",
       "       'number_of_active_days', 'age_computed',\n",
       "       'number_of_days_account_creation_numeric_value',\n",
       "       'number_of_active_days_numeric_value',\n",
       "       'Account_creation_before_booking_flag', 'user_id_x', 'session count',\n",
       "       'user_id_y', 'Total time spent (in seconds)'],\n",
       "      dtype='object')"
      ]
     },
     "execution_count": 3,
     "metadata": {},
     "output_type": "execute_result"
    }
   ],
   "source": [
    "user_training_dataset.columns"
   ]
  },
  {
   "cell_type": "markdown",
   "metadata": {},
   "source": [
    "# Create a function for showing the descriptive statistics and visualization for continuous and categorical variables:"
   ]
  },
  {
   "cell_type": "code",
   "execution_count": 9,
   "metadata": {},
   "outputs": [],
   "source": [
    "def func_variable_exploratory_analysis(dataset, variable_name, variable_type):\n",
    "    # Make sure variable type is input correctly. If the variable_type input does not fall in the three categories below, an error will be raised.\n",
    "    if variable_type not in ['Categorical', \"Continuous\", \"Datetime\"]:\n",
    "        raise ValueError(\"The variable type should be Categorical, Continuous or Datetime\")\n",
    "    else:\n",
    "        if variable_type=='Categorical':\n",
    "            print('\\033[1m' +\"Distribution of the categorical variables:\" + variable_name )\n",
    "            print('\\033[0m')\n",
    "            print(dataset[variable_name].value_counts())\n",
    "\n",
    "            d=dataset[variable_name].value_counts()/dataset['id'].count()\n",
    "\n",
    "            print('\\033[1m' +\"Distribution of the categorical variables (In Percentage):\" + variable_name)\n",
    "            print('\\033[0m')\n",
    "            print(d.apply(lambda x: \"{0:.0%}\".format(x)))\n",
    "\n",
    "            print('\\033[1m' +\"Below is the distribution the of the categorical variable:\" + variable_name)\n",
    "            print('\\033[0m')\n",
    "            \n",
    "            dataset[variable_name].hist()\n",
    "            plt.show()\n",
    "            \n",
    "        if variable_type=='Continuous':\n",
    "            number_of_data_points=dataset[variable_name].count()\n",
    "            estimate_of_number_bins=int(np.sqrt(number_of_data_points))\n",
    "            print('\\033[1m' +\"Descriptive Statistics:\" + variable_name)\n",
    "            print('\\033[0m')\n",
    "\n",
    "            print(dataset[variable_name].describe())\n",
    "\n",
    "\n",
    "            print('\\033[1m' +\"Number of observations with missing value for the continuous variable:\" + variable_name)\n",
    "            print('\\033[0m')\n",
    "\n",
    "            print( dataset['id'].count()-dataset[variable_name].describe()['count'])\n",
    "\n",
    "\n",
    "            print('\\033[1m' +\"PDF and CDF of the variable:\" + variable_name)\n",
    "            print('\\033[0m')\n",
    "\n",
    "\n",
    "            fig=plt.figure()\n",
    "\n",
    "            ax1=plt.subplot(2,1,1)\n",
    "            ax1=dataset[variable_name].hist(bins=estimate_of_number_bins)\n",
    "            plt.title('PDF of the continuous variable')\n",
    "\n",
    "            ax2=plt.subplot(2,1,2)\n",
    "            ax2=dataset[variable_name].hist(bins=estimate_of_number_bins, cumulative=True, normed=True)\n",
    "            plt.title('CDF of the continuous variable')\n",
    "\n",
    "            ax1.get_shared_x_axes().join(ax1, ax2)\n",
    "            ax1.set_xticklabels([])\n",
    "            plt.show()\n",
    "        if variable_type=='Datetime':\n",
    "            date_variable=pd.to_datetime(dataset[variable_name])\n",
    "\n",
    "            print('\\033[1m' +\"Number of observations with missing value for the continuous variable:\" + variable_name)\n",
    "            print('\\033[0m')\n",
    "\n",
    "            print(\"Number of observations with missing value for the continuous variable:\"+ variable_name, dataset['id'].count()-dataset[variable_name].describe()['count'])\n",
    "            \n",
    "            print(\"date range of \" + variable_name + \" : From \" ,date_variable.min(), \" To \", date_variable.max() )\n",
    "\n",
    "\n",
    "\n",
    "\n",
    "\n"
   ]
  },
  {
   "cell_type": "markdown",
   "metadata": {},
   "source": [
    "Create three different lists of column names for categorical variables, continuous variables and datetime variables"
   ]
  },
  {
   "cell_type": "code",
   "execution_count": 7,
   "metadata": {},
   "outputs": [],
   "source": [
    "categorical_variables=['signup_flow', 'gender', 'signup_method','language', 'affiliate_channel','affiliate_provider',  'first_affiliate_tracked','signup_app', 'first_device_type', 'first_browser', 'country_destination', 'Account_creation_before_booking_flag'  ]\n",
    "continuous_variables=['age_computed', 'number_of_days_account_creation', 'number_of_active_days_numeric_value', 'number_of_days_account_creation_numeric_value' , 'session count', 'Total time spent (in seconds)']\n",
    "timestamp_variables=['timestamp_first_active_cleaned', 'date_account_created','date_first_booking' ]"
   ]
  },
  {
   "cell_type": "markdown",
   "metadata": {},
   "source": [
    "# Distribution of all categorical variables on the dataset:"
   ]
  },
  {
   "cell_type": "markdown",
   "metadata": {},
   "source": [
    "# Highlight from the categorical variables:"
   ]
  },
  {
   "cell_type": "markdown",
   "metadata": {},
   "source": [
    "\n",
    "- Around 50% of the users' first booking country is NDF (Not Defined). Based on the info on Kaggle, NDF means there was no booking yet.\n",
    "- 45% of the gender is unknown.\n",
    "- most of users have basic sign-up method.\n",
    "- 97% of the users have 'English' as their browser language (since the users are all from United States)\n",
    "- 65% of the users come directly to the site.\n",
    "- 86% of the users sign up to the website through computers\n",
    "- 42% of the users use Mac desktop while 34% of the users use windows\n",
    "- We are missing the first booking time for more than 50% of the users since these users have not made a booking yet online. Besides the users who have not booked their trip, 10% of users create an account and made the first booking on the same day and 32% of users have created account at least a day before their first booking.\n",
    "- 77% of the users signed up at page 0.\n",
    "\n",
    "\n",
    "\n",
    "Note: \n",
    "\n",
    "Below is the definition of the account creation before booking flag:\n",
    "- 0: Account creation after first booking\n",
    "- 1: Account creation and first booking happened on the same day\n",
    "- 2: Account creation before first booking\n",
    "\n"
   ]
  },
  {
   "cell_type": "code",
   "execution_count": 7,
   "metadata": {
    "scrolled": false
   },
   "outputs": [
    {
     "name": "stdout",
     "output_type": "stream",
     "text": [
      "\u001b[1mDistribution of the categorical variables:signup_flow\n",
      "\u001b[0m\n",
      "0     164739\n",
      "25     14659\n",
      "12      9329\n",
      "3       8822\n",
      "2       6881\n",
      "24      4328\n",
      "23      2835\n",
      "1       1047\n",
      "6        301\n",
      "8        240\n",
      "21       196\n",
      "5         36\n",
      "20        14\n",
      "16        11\n",
      "15        10\n",
      "10         2\n",
      "4          1\n",
      "Name: signup_flow, dtype: int64\n",
      "\u001b[1mDistribution of the categorical variables (In Percentage):signup_flow\n",
      "\u001b[0m\n",
      "0     77%\n",
      "25     7%\n",
      "12     4%\n",
      "3      4%\n",
      "2      3%\n",
      "24     2%\n",
      "23     1%\n",
      "1      0%\n",
      "6      0%\n",
      "8      0%\n",
      "21     0%\n",
      "5      0%\n",
      "20     0%\n",
      "16     0%\n",
      "15     0%\n",
      "10     0%\n",
      "4      0%\n",
      "Name: signup_flow, dtype: object\n",
      "\u001b[1mBelow is the distribution the of the categorical variable:signup_flow\n",
      "\u001b[0m\n"
     ]
    },
    {
     "data": {
      "image/png": "[encoded data removed]",
      "text/plain": [
       "<matplotlib.figure.Figure at 0x22bd240>"
      ]
     },
     "metadata": {
      "needs_background": "light"
     },
     "output_type": "display_data"
    },
    {
     "name": "stdout",
     "output_type": "stream",
     "text": [
      "\u001b[1mDistribution of the categorical variables:gender\n",
      "\u001b[0m\n",
      "-unknown-    95688\n",
      "FEMALE       63041\n",
      "MALE         54440\n",
      "OTHER          282\n",
      "Name: gender, dtype: int64\n",
      "\u001b[1mDistribution of the categorical variables (In Percentage):gender\n",
      "\u001b[0m\n",
      "-unknown-    45%\n",
      "FEMALE       30%\n",
      "MALE         26%\n",
      "OTHER         0%\n",
      "Name: gender, dtype: object\n",
      "\u001b[1mBelow is the distribution the of the categorical variable:gender\n",
      "\u001b[0m\n"
     ]
    },
    {
     "data": {
      "image/png": "[encoded data removed]",
      "text/plain": [
       "<matplotlib.figure.Figure at 0x4066c18>"
      ]
     },
     "metadata": {
      "needs_background": "light"
     },
     "output_type": "display_data"
    },
    {
     "name": "stdout",
     "output_type": "stream",
     "text": [
      "\u001b[1mDistribution of the categorical variables:signup_method\n",
      "\u001b[0m\n",
      "basic       152897\n",
      "facebook     60008\n",
      "google         546\n",
      "Name: signup_method, dtype: int64\n",
      "\u001b[1mDistribution of the categorical variables (In Percentage):signup_method\n",
      "\u001b[0m\n",
      "basic       72%\n",
      "facebook    28%\n",
      "google       0%\n",
      "Name: signup_method, dtype: object\n",
      "\u001b[1mBelow is the distribution the of the categorical variable:signup_method\n",
      "\u001b[0m\n"
     ]
    },
    {
     "data": {
      "image/png": "[encoded data removed]",
      "text/plain": [
       "<matplotlib.figure.Figure at 0x6135550>"
      ]
     },
     "metadata": {
      "needs_background": "light"
     },
     "output_type": "display_data"
    },
    {
     "name": "stdout",
     "output_type": "stream",
     "text": [
      "\u001b[1mDistribution of the categorical variables:language\n",
      "\u001b[0m\n",
      "en    206314\n",
      "zh      1632\n",
      "fr      1172\n",
      "es       915\n",
      "ko       747\n",
      "de       732\n",
      "it       514\n",
      "ru       389\n",
      "pt       240\n",
      "ja       225\n",
      "sv       122\n",
      "nl        97\n",
      "tr        64\n",
      "da        58\n",
      "pl        54\n",
      "cs        32\n",
      "no        30\n",
      "th        24\n",
      "el        24\n",
      "id        22\n",
      "hu        18\n",
      "fi        14\n",
      "is         5\n",
      "ca         5\n",
      "hr         2\n",
      "Name: language, dtype: int64\n",
      "\u001b[1mDistribution of the categorical variables (In Percentage):language\n",
      "\u001b[0m\n",
      "en    97%\n",
      "zh     1%\n",
      "fr     1%\n",
      "es     0%\n",
      "ko     0%\n",
      "de     0%\n",
      "it     0%\n",
      "ru     0%\n",
      "pt     0%\n",
      "ja     0%\n",
      "sv     0%\n",
      "nl     0%\n",
      "tr     0%\n",
      "da     0%\n",
      "pl     0%\n",
      "cs     0%\n",
      "no     0%\n",
      "th     0%\n",
      "el     0%\n",
      "id     0%\n",
      "hu     0%\n",
      "fi     0%\n",
      "is     0%\n",
      "ca     0%\n",
      "hr     0%\n",
      "Name: language, dtype: object\n",
      "\u001b[1mBelow is the distribution the of the categorical variable:language\n",
      "\u001b[0m\n"
     ]
    },
    {
     "data": {
      "image/png": "[encoded data removed]",
      "text/plain": [
       "<matplotlib.figure.Figure at 0x6135588>"
      ]
     },
     "metadata": {
      "needs_background": "light"
     },
     "output_type": "display_data"
    },
    {
     "name": "stdout",
     "output_type": "stream",
     "text": [
      "\u001b[1mDistribution of the categorical variables:affiliate_channel\n",
      "\u001b[0m\n",
      "direct           137727\n",
      "sem-brand         26045\n",
      "sem-non-brand     18844\n",
      "other              8961\n",
      "seo                8663\n",
      "api                8167\n",
      "content            3948\n",
      "remarketing        1096\n",
      "Name: affiliate_channel, dtype: int64\n",
      "\u001b[1mDistribution of the categorical variables (In Percentage):affiliate_channel\n",
      "\u001b[0m\n",
      "direct           65%\n",
      "sem-brand        12%\n",
      "sem-non-brand     9%\n",
      "other             4%\n",
      "seo               4%\n",
      "api               4%\n",
      "content           2%\n",
      "remarketing       1%\n",
      "Name: affiliate_channel, dtype: object\n",
      "\u001b[1mBelow is the distribution the of the categorical variable:affiliate_channel\n",
      "\u001b[0m\n"
     ]
    },
    {
     "data": {
      "image/png": "[encoded data removed]",
      "text/plain": [
       "<matplotlib.figure.Figure at 0x616f8d0>"
      ]
     },
     "metadata": {
      "needs_background": "light"
     },
     "output_type": "display_data"
    },
    {
     "name": "stdout",
     "output_type": "stream",
     "text": [
      "\u001b[1mDistribution of the categorical variables:affiliate_provider\n",
      "\u001b[0m\n",
      "direct                 137426\n",
      "google                  51693\n",
      "other                   12549\n",
      "craigslist               3471\n",
      "bing                     2328\n",
      "facebook                 2273\n",
      "vast                      829\n",
      "padmapper                 768\n",
      "facebook-open-graph       545\n",
      "yahoo                     496\n",
      "gsp                       453\n",
      "meetup                    347\n",
      "email-marketing           166\n",
      "naver                      52\n",
      "baidu                      29\n",
      "yandex                     17\n",
      "wayn                        8\n",
      "daum                        1\n",
      "Name: affiliate_provider, dtype: int64\n",
      "\u001b[1mDistribution of the categorical variables (In Percentage):affiliate_provider\n",
      "\u001b[0m\n",
      "direct                 64%\n",
      "google                 24%\n",
      "other                   6%\n",
      "craigslist              2%\n",
      "bing                    1%\n",
      "facebook                1%\n",
      "vast                    0%\n",
      "padmapper               0%\n",
      "facebook-open-graph     0%\n",
      "yahoo                   0%\n",
      "gsp                     0%\n",
      "meetup                  0%\n",
      "email-marketing         0%\n",
      "naver                   0%\n",
      "baidu                   0%\n",
      "yandex                  0%\n",
      "wayn                    0%\n",
      "daum                    0%\n",
      "Name: affiliate_provider, dtype: object\n",
      "\u001b[1mBelow is the distribution the of the categorical variable:affiliate_provider\n",
      "\u001b[0m\n"
     ]
    },
    {
     "data": {
      "image/png": "[encoded data removed]",
      "text/plain": [
       "<matplotlib.figure.Figure at 0xc762588>"
      ]
     },
     "metadata": {
      "needs_background": "light"
     },
     "output_type": "display_data"
    },
    {
     "name": "stdout",
     "output_type": "stream",
     "text": [
      "\u001b[1mDistribution of the categorical variables:first_affiliate_tracked\n",
      "\u001b[0m\n",
      "untracked        109232\n",
      "linked            46287\n",
      "omg               43982\n",
      "tracked-other      6156\n",
      "product            1556\n",
      "marketing           139\n",
      "local ops            34\n",
      "Name: first_affiliate_tracked, dtype: int64\n",
      "\u001b[1mDistribution of the categorical variables (In Percentage):first_affiliate_tracked\n",
      "\u001b[0m\n",
      "untracked        51%\n",
      "linked           22%\n",
      "omg              21%\n",
      "tracked-other     3%\n",
      "product           1%\n",
      "marketing         0%\n",
      "local ops         0%\n",
      "Name: first_affiliate_tracked, dtype: object\n",
      "\u001b[1mBelow is the distribution the of the categorical variable:first_affiliate_tracked\n",
      "\u001b[0m\n"
     ]
    },
    {
     "data": {
      "image/png": "[encoded data removed]",
      "text/plain": [
       "<matplotlib.figure.Figure at 0xc781ba8>"
      ]
     },
     "metadata": {
      "needs_background": "light"
     },
     "output_type": "display_data"
    },
    {
     "name": "stdout",
     "output_type": "stream",
     "text": [
      "\u001b[1mDistribution of the categorical variables:signup_app\n",
      "\u001b[0m\n",
      "Web        182717\n",
      "iOS         19019\n",
      "Moweb        6261\n",
      "Android      5454\n",
      "Name: signup_app, dtype: int64\n",
      "\u001b[1mDistribution of the categorical variables (In Percentage):signup_app\n",
      "\u001b[0m\n",
      "Web        86%\n",
      "iOS         9%\n",
      "Moweb       3%\n",
      "Android     3%\n",
      "Name: signup_app, dtype: object\n",
      "\u001b[1mBelow is the distribution the of the categorical variable:signup_app\n",
      "\u001b[0m\n"
     ]
    },
    {
     "data": {
      "image/png": "[encoded data removed]",
      "text/plain": [
       "<matplotlib.figure.Figure at 0xca40b00>"
      ]
     },
     "metadata": {
      "needs_background": "light"
     },
     "output_type": "display_data"
    },
    {
     "name": "stdout",
     "output_type": "stream",
     "text": [
      "\u001b[1mDistribution of the categorical variables:first_device_type\n",
      "\u001b[0m\n",
      "Mac Desktop           89600\n",
      "Windows Desktop       72716\n",
      "iPhone                20759\n",
      "iPad                  14339\n",
      "Other/Unknown         10667\n",
      "Android Phone          2803\n",
      "Android Tablet         1292\n",
      "Desktop (Other)        1199\n",
      "SmartPhone (Other)       76\n",
      "Name: first_device_type, dtype: int64\n",
      "\u001b[1mDistribution of the categorical variables (In Percentage):first_device_type\n",
      "\u001b[0m\n",
      "Mac Desktop           42%\n",
      "Windows Desktop       34%\n",
      "iPhone                10%\n",
      "iPad                   7%\n",
      "Other/Unknown          5%\n",
      "Android Phone          1%\n",
      "Android Tablet         1%\n",
      "Desktop (Other)        1%\n",
      "SmartPhone (Other)     0%\n",
      "Name: first_device_type, dtype: object\n",
      "\u001b[1mBelow is the distribution the of the categorical variable:first_device_type\n",
      "\u001b[0m\n"
     ]
    },
    {
     "data": {
      "image/png": "[encoded data removed]",
      "text/plain": [
       "<matplotlib.figure.Figure at 0xca36940>"
      ]
     },
     "metadata": {
      "needs_background": "light"
     },
     "output_type": "display_data"
    },
    {
     "name": "stdout",
     "output_type": "stream",
     "text": [
      "\u001b[1mDistribution of the categorical variables:first_browser\n",
      "\u001b[0m\n",
      "Chrome                  63845\n",
      "Safari                  45169\n",
      "Firefox                 33655\n",
      "-unknown-               27266\n",
      "IE                      21068\n",
      "Mobile Safari           19274\n",
      "Chrome Mobile            1270\n",
      "Android Browser           851\n",
      "AOL Explorer              245\n",
      "Opera                     188\n",
      "Silk                      124\n",
      "Chromium                   73\n",
      "BlackBerry Browser         53\n",
      "Maxthon                    46\n",
      "IE Mobile                  36\n",
      "Apple Mail                 36\n",
      "Sogou Explorer             33\n",
      "Mobile Firefox             30\n",
      "RockMelt                   24\n",
      "SiteKiosk                  24\n",
      "Iron                       17\n",
      "IceWeasel                  13\n",
      "Pale Moon                  12\n",
      "SeaMonkey                  11\n",
      "Yandex.Browser             11\n",
      "CometBird                  11\n",
      "Camino                      9\n",
      "TenFourFox                  8\n",
      "wOSBrowser                  6\n",
      "CoolNovo                    6\n",
      "Avant Browser               4\n",
      "Opera Mini                  4\n",
      "Mozilla                     3\n",
      "SlimBrowser                 2\n",
      "Crazy Browser               2\n",
      "Flock                       2\n",
      "Opera Mobile                2\n",
      "Comodo Dragon               2\n",
      "TheWorld Browser            2\n",
      "OmniWeb                     2\n",
      "Googlebot                   1\n",
      "Arora                       1\n",
      "IceDragon                   1\n",
      "PS Vita browser             1\n",
      "Palm Pre web browser        1\n",
      "Outlook 2007                1\n",
      "NetNewsWire                 1\n",
      "Epic                        1\n",
      "Stainless                   1\n",
      "Conkeror                    1\n",
      "Google Earth                1\n",
      "Kindle Browser              1\n",
      "Name: first_browser, dtype: int64\n",
      "\u001b[1mDistribution of the categorical variables (In Percentage):first_browser\n",
      "\u001b[0m\n",
      "Chrome                  30%\n",
      "Safari                  21%\n",
      "Firefox                 16%\n",
      "-unknown-               13%\n",
      "IE                      10%\n",
      "Mobile Safari            9%\n",
      "Chrome Mobile            1%\n",
      "Android Browser          0%\n",
      "AOL Explorer             0%\n",
      "Opera                    0%\n",
      "Silk                     0%\n",
      "Chromium                 0%\n",
      "BlackBerry Browser       0%\n",
      "Maxthon                  0%\n",
      "IE Mobile                0%\n",
      "Apple Mail               0%\n",
      "Sogou Explorer           0%\n",
      "Mobile Firefox           0%\n",
      "RockMelt                 0%\n",
      "SiteKiosk                0%\n",
      "Iron                     0%\n",
      "IceWeasel                0%\n",
      "Pale Moon                0%\n",
      "SeaMonkey                0%\n",
      "Yandex.Browser           0%\n",
      "CometBird                0%\n",
      "Camino                   0%\n",
      "TenFourFox               0%\n",
      "wOSBrowser               0%\n",
      "CoolNovo                 0%\n",
      "Avant Browser            0%\n",
      "Opera Mini               0%\n",
      "Mozilla                  0%\n",
      "SlimBrowser              0%\n",
      "Crazy Browser            0%\n",
      "Flock                    0%\n",
      "Opera Mobile             0%\n",
      "Comodo Dragon            0%\n",
      "TheWorld Browser         0%\n",
      "OmniWeb                  0%\n",
      "Googlebot                0%\n",
      "Arora                    0%\n",
      "IceDragon                0%\n",
      "PS Vita browser          0%\n",
      "Palm Pre web browser     0%\n",
      "Outlook 2007             0%\n",
      "NetNewsWire              0%\n",
      "Epic                     0%\n",
      "Stainless                0%\n",
      "Conkeror                 0%\n",
      "Google Earth             0%\n",
      "Kindle Browser           0%\n",
      "Name: first_browser, dtype: object\n",
      "\u001b[1mBelow is the distribution the of the categorical variable:first_browser\n",
      "\u001b[0m\n"
     ]
    },
    {
     "data": {
      "image/png": "[encoded data removed]",
      "text/plain": [
       "<matplotlib.figure.Figure at 0xc9b8ef0>"
      ]
     },
     "metadata": {
      "needs_background": "light"
     },
     "output_type": "display_data"
    },
    {
     "name": "stdout",
     "output_type": "stream",
     "text": [
      "\u001b[1mDistribution of the categorical variables:country_destination\n",
      "\u001b[0m\n",
      "NDF      124543\n",
      "US        62376\n",
      "other     10094\n",
      "FR         5023\n",
      "IT         2835\n",
      "GB         2324\n",
      "ES         2249\n",
      "CA         1428\n",
      "DE         1061\n",
      "NL          762\n",
      "AU          539\n",
      "PT          217\n",
      "Name: country_destination, dtype: int64\n",
      "\u001b[1mDistribution of the categorical variables (In Percentage):country_destination\n",
      "\u001b[0m\n",
      "NDF      58%\n",
      "US       29%\n",
      "other     5%\n",
      "FR        2%\n",
      "IT        1%\n",
      "GB        1%\n",
      "ES        1%\n",
      "CA        1%\n",
      "DE        0%\n",
      "NL        0%\n",
      "AU        0%\n",
      "PT        0%\n",
      "Name: country_destination, dtype: object\n",
      "\u001b[1mBelow is the distribution the of the categorical variable:country_destination\n",
      "\u001b[0m\n"
     ]
    },
    {
     "data": {
      "image/png": "[encoded data removed]",
      "text/plain": [
       "<matplotlib.figure.Figure at 0xca60f28>"
      ]
     },
     "metadata": {
      "needs_background": "light"
     },
     "output_type": "display_data"
    },
    {
     "name": "stdout",
     "output_type": "stream",
     "text": [
      "\u001b[1mDistribution of the categorical variables:Account_creation_before_booking_flag\n",
      "\u001b[0m\n",
      "2.0    67475\n",
      "1.0    21404\n",
      "0.0       29\n",
      "Name: Account_creation_before_booking_flag, dtype: int64\n",
      "\u001b[1mDistribution of the categorical variables (In Percentage):Account_creation_before_booking_flag\n",
      "\u001b[0m\n",
      "2.0    32%\n",
      "1.0    10%\n",
      "0.0     0%\n",
      "Name: Account_creation_before_booking_flag, dtype: object\n",
      "\u001b[1mBelow is the distribution the of the categorical variable:Account_creation_before_booking_flag\n",
      "\u001b[0m\n"
     ]
    },
    {
     "data": {
      "image/png": "[encoded data removed]",
      "text/plain": [
       "<matplotlib.figure.Figure at 0x617e828>"
      ]
     },
     "metadata": {
      "needs_background": "light"
     },
     "output_type": "display_data"
    }
   ],
   "source": [
    "dataset= user_training_dataset\n",
    "variable_type='Categorical'\n",
    "for variable_name in categorical_variables:\n",
    "    func_variable_exploratory_analysis(dataset, variable_name, variable_type)\n",
    "    \n",
    "\n",
    "    \n",
    "    \n",
    "    "
   ]
  },
  {
   "cell_type": "markdown",
   "metadata": {},
   "source": [
    "# Distribution of all the continuous variables in the dataset:"
   ]
  },
  {
   "cell_type": "markdown",
   "metadata": {},
   "source": [
    "# Highlight from the continuous variables:"
   ]
  },
  {
   "cell_type": "markdown",
   "metadata": {},
   "source": [
    "\n",
    "- Among the users who have made their books, up to 75% of them have made their booking within 30 days since they were active on the website.\n",
    "- On average users have 75 activity counts on the website. \n",
    "- On average, users have spent around 414 hours, which doesn't make sense to me. However we do not have access to the information like how session duration was tracked.\n",
    "- There's a lot of missing session data. Based on the Kaggle website,the training set dates back to 2010 while session dataset only dates back to 1/1/2014. That's why we do not have enough session data for a lot of the users who were active before that. So the users with no session probably means it does not have any session data after 2014.\n",
    "\n"
   ]
  },
  {
   "cell_type": "code",
   "execution_count": 8,
   "metadata": {
    "scrolled": false
   },
   "outputs": [
    {
     "name": "stdout",
     "output_type": "stream",
     "text": [
      "\u001b[1mDescriptive Statistics:age_computed\n",
      "\u001b[0m\n",
      "count    125461.000000\n",
      "mean         37.945736\n",
      "std          15.405991\n",
      "min          18.000000\n",
      "25%          28.000000\n",
      "50%          34.000000\n",
      "75%          43.000000\n",
      "max         122.000000\n",
      "Name: age_computed, dtype: float64\n",
      "\u001b[1mNumber of observations with missing value for the continuous variable:age_computed\n",
      "\u001b[0m\n",
      "87990.0\n",
      "\u001b[1mPDF and CDF of the variable:age_computed\n",
      "\u001b[0m\n"
     ]
    },
    {
     "data": {
      "image/png": "[encoded data removed]",
      "text/plain": [
       "<matplotlib.figure.Figure at 0xc4837b8>"
      ]
     },
     "metadata": {
      "needs_background": "light"
     },
     "output_type": "display_data"
    },
    {
     "name": "stdout",
     "output_type": "stream",
     "text": [
      "\u001b[1mDescriptive Statistics:number_of_days_account_creation\n",
      "\u001b[0m\n",
      "count                         88908\n",
      "unique                          391\n",
      "top       0 days 00:00:00.000000000\n",
      "freq                          21404\n",
      "Name: number_of_days_account_creation, dtype: object\n",
      "\u001b[1mNumber of observations with missing value for the continuous variable:number_of_days_account_creation\n",
      "\u001b[0m\n",
      "124543\n",
      "\u001b[1mPDF and CDF of the variable:number_of_days_account_creation\n",
      "\u001b[0m\n"
     ]
    },
    {
     "data": {
      "image/png": "[encoded data removed]",
      "text/plain": [
       "<matplotlib.figure.Figure at 0xcaf65f8>"
      ]
     },
     "metadata": {
      "needs_background": "light"
     },
     "output_type": "display_data"
    },
    {
     "name": "stdout",
     "output_type": "stream",
     "text": [
      "\u001b[1mDescriptive Statistics:number_of_active_days_numeric_value\n",
      "\u001b[0m\n",
      "count    88908.000000\n",
      "mean        44.692176\n",
      "std         88.482784\n",
      "min          0.000000\n",
      "25%          1.000000\n",
      "50%          3.000000\n",
      "75%         29.000000\n",
      "max       1369.000000\n",
      "Name: number_of_active_days_numeric_value, dtype: float64\n",
      "\u001b[1mNumber of observations with missing value for the continuous variable:number_of_active_days_numeric_value\n",
      "\u001b[0m\n",
      "124543.0\n",
      "\u001b[1mPDF and CDF of the variable:number_of_active_days_numeric_value\n",
      "\u001b[0m\n"
     ]
    },
    {
     "data": {
      "image/png": "[encoded data removed]",
      "text/plain": [
       "<matplotlib.figure.Figure at 0xe65e5c0>"
      ]
     },
     "metadata": {
      "needs_background": "light"
     },
     "output_type": "display_data"
    },
    {
     "name": "stdout",
     "output_type": "stream",
     "text": [
      "\u001b[1mDescriptive Statistics:number_of_days_account_creation_numeric_value\n",
      "\u001b[0m\n",
      "count    88908.000000\n",
      "mean        44.362498\n",
      "std         87.499561\n",
      "min       -349.000000\n",
      "25%          1.000000\n",
      "50%          3.000000\n",
      "75%         29.000000\n",
      "max        365.000000\n",
      "Name: number_of_days_account_creation_numeric_value, dtype: float64\n",
      "\u001b[1mNumber of observations with missing value for the continuous variable:number_of_days_account_creation_numeric_value\n",
      "\u001b[0m\n",
      "124543.0\n",
      "\u001b[1mPDF and CDF of the variable:number_of_days_account_creation_numeric_value\n",
      "\u001b[0m\n"
     ]
    },
    {
     "data": {
      "image/png": "[encoded data removed]",
      "text/plain": [
       "<matplotlib.figure.Figure at 0xe827198>"
      ]
     },
     "metadata": {
      "needs_background": "light"
     },
     "output_type": "display_data"
    },
    {
     "name": "stdout",
     "output_type": "stream",
     "text": [
      "\u001b[1mDescriptive Statistics:session count\n",
      "\u001b[0m\n",
      "count    73815.000000\n",
      "mean        75.024819\n",
      "std        112.543174\n",
      "min          1.000000\n",
      "25%         13.000000\n",
      "50%         38.000000\n",
      "75%         91.000000\n",
      "max       2644.000000\n",
      "Name: session count, dtype: float64\n",
      "\u001b[1mNumber of observations with missing value for the continuous variable:session count\n",
      "\u001b[0m\n",
      "139636.0\n",
      "\u001b[1mPDF and CDF of the variable:session count\n",
      "\u001b[0m\n"
     ]
    },
    {
     "data": {
      "image/png": "[encoded data removed]",
      "text/plain": [
       "<matplotlib.figure.Figure at 0xdff5e48>"
      ]
     },
     "metadata": {
      "needs_background": "light"
     },
     "output_type": "display_data"
    },
    {
     "name": "stdout",
     "output_type": "stream",
     "text": [
      "\u001b[1mDescriptive Statistics:Total time spent (in seconds)\n",
      "\u001b[0m\n",
      "count    7.381500e+04\n",
      "mean     1.514235e+06\n",
      "std      1.913191e+06\n",
      "min      0.000000e+00\n",
      "25%      2.569205e+05\n",
      "50%      8.728620e+05\n",
      "75%      2.043488e+06\n",
      "max      3.822136e+07\n",
      "Name: Total time spent (in seconds), dtype: float64\n",
      "\u001b[1mNumber of observations with missing value for the continuous variable:Total time spent (in seconds)\n",
      "\u001b[0m\n",
      "139636.0\n",
      "\u001b[1mPDF and CDF of the variable:Total time spent (in seconds)\n",
      "\u001b[0m\n"
     ]
    },
    {
     "data": {
      "image/png": "[encoded data removed]",
      "text/plain": [
       "<matplotlib.figure.Figure at 0xe3979b0>"
      ]
     },
     "metadata": {
      "needs_background": "light"
     },
     "output_type": "display_data"
    }
   ],
   "source": [
    "dataset= user_training_dataset\n",
    "variable_type='Continuous'\n",
    "for variable_name in continuous_variables:\n",
    "    func_variable_exploratory_analysis(dataset, variable_name, variable_type)"
   ]
  },
  {
   "cell_type": "markdown",
   "metadata": {},
   "source": [
    "# Exploratory analysis on timestamp fields:"
   ]
  },
  {
   "cell_type": "markdown",
   "metadata": {},
   "source": [
    "# Highlight from the Timestamp variables:"
   ]
  },
  {
   "cell_type": "markdown",
   "metadata": {},
   "source": [
    "\n",
    "- The first active time stamp field and the account creation timestamp for the users ranges from 2009-03 to 2014-06.\n",
    "- The first booking date field ranges from 2010-01 to 2015-01.\n",
    "- Between 2013 and 2014, number of users on airbnb has grown dramatically.\n",
    "- Take 2013 as an example to take a look at the new user acquisition trend, you will see there's seasonality when it comes to the user acquisition. October is peak month for user acquisition while the beginning of the year is the off-peak season for user acquisition for Airbnb.\n",
    "- A lot of first bookings happened  in 2013 and 2014. The first bookings in 2015 is going down since the users started to be active before mid 2014."
   ]
  },
  {
   "cell_type": "code",
   "execution_count": 10,
   "metadata": {},
   "outputs": [
    {
     "name": "stdout",
     "output_type": "stream",
     "text": [
      "\u001b[1mNumber of observations with missing value for the continuous variable:timestamp_first_active_cleaned\n",
      "\u001b[0m\n",
      "Number of observations with missing value for the continuous variable:timestamp_first_active_cleaned 0\n",
      "date range of timestamp_first_active_cleaned : From  2009-03-19 00:00:00  To  2014-06-30 00:00:00\n",
      "\u001b[1mNumber of observations with missing value for the continuous variable:date_account_created\n",
      "\u001b[0m\n",
      "Number of observations with missing value for the continuous variable:date_account_created 0\n",
      "date range of date_account_created : From  2010-01-01 00:00:00  To  2014-06-30 00:00:00\n",
      "\u001b[1mNumber of observations with missing value for the continuous variable:date_first_booking\n",
      "\u001b[0m\n",
      "Number of observations with missing value for the continuous variable:date_first_booking 124543\n",
      "date range of date_first_booking : From  2010-01-02 00:00:00  To  2015-06-29 00:00:00\n"
     ]
    }
   ],
   "source": [
    "dataset= user_training_dataset\n",
    "variable_type='Datetime'\n",
    "for variable_name in timestamp_variables:\n",
    "    func_variable_exploratory_analysis(dataset, variable_name, variable_type)"
   ]
  },
  {
   "cell_type": "markdown",
   "metadata": {},
   "source": [
    "# Create Trip booking flag field for binary classification:"
   ]
  },
  {
   "cell_type": "markdown",
   "metadata": {},
   "source": [
    "Based on the country_destination field, create a field called Trip_booking_flag to understand the factors that could impact a user to book a trip on Airbnb. 58% of the users have not booked any Airbnb trip yet."
   ]
  },
  {
   "cell_type": "code",
   "execution_count": 10,
   "metadata": {},
   "outputs": [
    {
     "data": {
      "text/plain": [
       "array(['NDF', 'US', 'other', 'FR', 'CA', 'GB', 'ES', 'IT', 'PT', 'NL',\n",
       "       'DE', 'AU'], dtype=object)"
      ]
     },
     "execution_count": 10,
     "metadata": {},
     "output_type": "execute_result"
    }
   ],
   "source": [
    "user_training_dataset['country_destination'].unique()"
   ]
  },
  {
   "cell_type": "code",
   "execution_count": 11,
   "metadata": {},
   "outputs": [],
   "source": [
    "user_training_dataset[\"trip_booking_flag\"]=user_training_dataset['country_destination']!='NDF'"
   ]
  },
  {
   "cell_type": "code",
   "execution_count": 12,
   "metadata": {},
   "outputs": [
    {
     "data": {
      "text/plain": [
       "False    124543\n",
       "True      88908\n",
       "Name: trip_booking_flag, dtype: int64"
      ]
     },
     "execution_count": 12,
     "metadata": {},
     "output_type": "execute_result"
    }
   ],
   "source": [
    "user_training_dataset[\"trip_booking_flag\"].value_counts()"
   ]
  },
  {
   "cell_type": "code",
   "execution_count": 13,
   "metadata": {},
   "outputs": [
    {
     "data": {
      "text/plain": [
       "False    0.583473\n",
       "True     0.416527\n",
       "Name: trip_booking_flag, dtype: float64"
      ]
     },
     "execution_count": 13,
     "metadata": {},
     "output_type": "execute_result"
    }
   ],
   "source": [
    "user_training_dataset[\"trip_booking_flag\"].value_counts()/user_training_dataset[\"trip_booking_flag\"].count()"
   ]
  },
  {
   "cell_type": "code",
   "execution_count": 15,
   "metadata": {},
   "outputs": [],
   "source": [
    "user_training_dataset.date_account_created=pd.to_datetime(user_training_dataset.date_account_created)\n",
    "user_training_dataset.timestamp_first_active_cleaned=pd.to_datetime(user_training_dataset.timestamp_first_active_cleaned)\n",
    "user_training_dataset.date_first_booking=pd.to_datetime(user_training_dataset.date_first_booking)"
   ]
  },
  {
   "cell_type": "code",
   "execution_count": 16,
   "metadata": {},
   "outputs": [
    {
     "data": {
      "text/plain": [
       "Timestamp('2014-06-30 00:00:00')"
      ]
     },
     "execution_count": 16,
     "metadata": {},
     "output_type": "execute_result"
    }
   ],
   "source": [
    "user_training_dataset.date_first_booking.max() #Timestamp('2015-06-29 00:00:00')\n",
    "user_training_dataset.timestamp_first_active_cleaned.max() #Timestamp('2014-06-30 00:00:00')\n",
    "user_training_dataset.date_account_created.max() #Timestamp('2014-06-30 00:00:00')"
   ]
  },
  {
   "cell_type": "markdown",
   "metadata": {},
   "source": [
    "As you can see below, between 2013 and 2014, number of users on airbnb has grown dramatically."
   ]
  },
  {
   "cell_type": "code",
   "execution_count": 64,
   "metadata": {},
   "outputs": [
    {
     "data": {
      "text/plain": [
       "Text(0.5,1,'User Acquisition (based on first active date)')"
      ]
     },
     "execution_count": 64,
     "metadata": {},
     "output_type": "execute_result"
    },
    {
     "data": {
      "image/png": "[encoded data removed]",
      "text/plain": [
       "<matplotlib.figure.Figure at 0xdb41ac8>"
      ]
     },
     "metadata": {
      "needs_background": "light"
     },
     "output_type": "display_data"
    }
   ],
   "source": [
    "user_training_dataset.timestamp_first_active_cleaned.value_counts().plot(kind='line', linewidth=2)\n",
    "plt.xlabel('Date')\n",
    "plt.ylabel('Number of Users')\n",
    "plt.title(\"User Acquisition (based on first active date)\")\n"
   ]
  },
  {
   "cell_type": "code",
   "execution_count": 66,
   "metadata": {},
   "outputs": [
    {
     "data": {
      "text/plain": [
       "Text(0.5,1,'User Acquisition (based on account creation date)')"
      ]
     },
     "execution_count": 66,
     "metadata": {},
     "output_type": "execute_result"
    },
    {
     "data": {
      "image/png": "[encoded data removed]",
      "text/plain": [
       "<matplotlib.figure.Figure at 0x16b03588>"
      ]
     },
     "metadata": {
      "needs_background": "light"
     },
     "output_type": "display_data"
    }
   ],
   "source": [
    "user_training_dataset.date_account_created.value_counts().plot(kind='line', linewidth=2)\n",
    "plt.xlabel('Date')\n",
    "plt.ylabel('Number of Users')\n",
    "plt.title(\"User Acquisition (based on account creation date)\")\n"
   ]
  },
  {
   "cell_type": "markdown",
   "metadata": {},
   "source": [
    "Take 2013 as an example to take a look at the new user acquisition trend, you will see there's seasonality when it comes to the user acquisition. October is peak month for user acquisition while the beginning of the year is the off-peak season for user acquisition for Airbnb."
   ]
  },
  {
   "cell_type": "code",
   "execution_count": 70,
   "metadata": {},
   "outputs": [
    {
     "data": {
      "text/plain": [
       "<matplotlib.axes._subplots.AxesSubplot at 0x15f563c8>"
      ]
     },
     "execution_count": 70,
     "metadata": {},
     "output_type": "execute_result"
    },
    {
     "data": {
      "image/png": "[encoded data removed]",
      "text/plain": [
       "<matplotlib.figure.Figure at 0x1a4d1ba8>"
      ]
     },
     "metadata": {
      "needs_background": "light"
     },
     "output_type": "display_data"
    }
   ],
   "source": [
    "user_training_dataset.loc[(user_training_dataset.timestamp_first_active_cleaned>='2013-1-1') & (user_training_dataset.timestamp_first_active_cleaned<='2013-12-31'),'timestamp_first_active_cleaned' ].value_counts().plot(kind='line', linewidth=2)"
   ]
  },
  {
   "cell_type": "code",
   "execution_count": 85,
   "metadata": {},
   "outputs": [
    {
     "data": {
      "image/png": "[encoded data removed]",
      "text/plain": [
       "<matplotlib.figure.Figure at 0x1b0d86d8>"
      ]
     },
     "metadata": {
      "needs_background": "light"
     },
     "output_type": "display_data"
    }
   ],
   "source": [
    "user_training_dataset.loc[pd.isnull(user_training_dataset.date_first_booking)==False, 'date_first_booking'].value_counts().plot(kind='line', linewidth=2)\n",
    "plt.xlabel(\"Date\")\n",
    "plt.ylabel(\"Number of First Bookers\")\n",
    "plt.title(\"Number of First Bookers based on first booking date\")\n",
    "plt.show()"
   ]
  },
  {
   "cell_type": "markdown",
   "metadata": {},
   "source": [
    "Take 2013 as example, within the year, more first bookings happened  between June and October."
   ]
  },
  {
   "cell_type": "code",
   "execution_count": 83,
   "metadata": {},
   "outputs": [
    {
     "data": {
      "image/png": "[encoded data removed]",
      "text/plain": [
       "<matplotlib.figure.Figure at 0x11bb52e8>"
      ]
     },
     "metadata": {
      "needs_background": "light"
     },
     "output_type": "display_data"
    }
   ],
   "source": [
    "\n",
    "user_training_dataset.loc[(user_training_dataset.date_first_booking>='2013-1-1') & (user_training_dataset.date_first_booking<='2013-12-31'),'date_first_booking' ].value_counts().plot(kind='line', linewidth=2)\n",
    "plt.xlabel(\"Date\")\n",
    "plt.ylabel(\"Number of First Bookers\")\n",
    "plt.title(\"Number of First Bookers based on first booking date in 2013\")\n",
    "plt.show()"
   ]
  },
  {
   "cell_type": "markdown",
   "metadata": {},
   "source": [
    "# Feature Engineering based on the datetime fields: Add number of active days as of the latest date and number days since account creation based on the timestamp fields"
   ]
  },
  {
   "cell_type": "markdown",
   "metadata": {},
   "source": [
    "Create two more variables: \n",
    "- number of active days as of July 2015\n",
    "- number of days since account created as of July 2015"
   ]
  },
  {
   "cell_type": "code",
   "execution_count": 17,
   "metadata": {},
   "outputs": [],
   "source": [
    "Latest_date=pd.to_datetime('2015-7-1')"
   ]
  },
  {
   "cell_type": "code",
   "execution_count": 18,
   "metadata": {},
   "outputs": [],
   "source": [
    "user_training_dataset['number_of_active_day_as_of_latest_date']=(Latest_date-user_training_dataset['timestamp_first_active_cleaned']).dt.days\n",
    "user_training_dataset['number_of_days_since_account_creation_as_of_latest_date']=(Latest_date-user_training_dataset['date_account_created']).dt.days"
   ]
  },
  {
   "cell_type": "markdown",
   "metadata": {},
   "source": [
    "Below is the distribution for both variables:"
   ]
  },
  {
   "cell_type": "markdown",
   "metadata": {},
   "source": [
    "Here are the highlights:\n",
    "- Users in the dataset have used Airbnb for at least a year (based on their first active days with the site). 50% of them have been on the site for fewer than 658 days.\n",
    "- The distribution of number of days since account creation is very similar to number of active days as of latest day since the tracking of the users gets enabled once they created their account."
   ]
  },
  {
   "cell_type": "code",
   "execution_count": 19,
   "metadata": {},
   "outputs": [
    {
     "name": "stdout",
     "output_type": "stream",
     "text": [
      "\u001b[1mDescriptive Statistics:number_of_active_day_as_of_latest_date\n",
      "\u001b[0m\n",
      "count    213451.000000\n",
      "mean        735.853334\n",
      "std         312.842021\n",
      "min         366.000000\n",
      "25%         482.000000\n",
      "50%         658.000000\n",
      "75%         918.000000\n",
      "max        2295.000000\n",
      "Name: number_of_active_day_as_of_latest_date, dtype: float64\n",
      "\u001b[1mNumber of observations with missing value for the continuous variable:number_of_active_day_as_of_latest_date\n",
      "\u001b[0m\n",
      "0.0\n",
      "\u001b[1mPDF and CDF of the variable:number_of_active_day_as_of_latest_date\n",
      "\u001b[0m\n"
     ]
    },
    {
     "data": {
      "image/png": "[encoded data removed]",
      "text/plain": [
       "<matplotlib.figure.Figure at 0xe1e3ba8>"
      ]
     },
     "metadata": {
      "needs_background": "light"
     },
     "output_type": "display_data"
    },
    {
     "name": "stdout",
     "output_type": "stream",
     "text": [
      "\u001b[1mDescriptive Statistics:number_of_days_since_account_creation_as_of_latest_date\n",
      "\u001b[0m\n",
      "count    213451.000000\n",
      "mean        735.621515\n",
      "std         312.603661\n",
      "min         366.000000\n",
      "25%         482.000000\n",
      "50%         658.000000\n",
      "75%         917.000000\n",
      "max        2007.000000\n",
      "Name: number_of_days_since_account_creation_as_of_latest_date, dtype: float64\n",
      "\u001b[1mNumber of observations with missing value for the continuous variable:number_of_days_since_account_creation_as_of_latest_date\n",
      "\u001b[0m\n",
      "0.0\n",
      "\u001b[1mPDF and CDF of the variable:number_of_days_since_account_creation_as_of_latest_date\n",
      "\u001b[0m\n"
     ]
    },
    {
     "data": {
      "image/png": "[encoded data removed]",
      "text/plain": [
       "<matplotlib.figure.Figure at 0x116cc208>"
      ]
     },
     "metadata": {
      "needs_background": "light"
     },
     "output_type": "display_data"
    }
   ],
   "source": [
    "dataset=user_training_dataset\n",
    "for variable_name in ['number_of_active_day_as_of_latest_date', 'number_of_days_since_account_creation_as_of_latest_date']:\n",
    "    func_variable_exploratory_analysis(dataset, variable_name, variable_type='Continuous')"
   ]
  },
  {
   "cell_type": "markdown",
   "metadata": {},
   "source": [
    "# Feature engineering on the datetime fields: adding day of the week, month of the year, date of the year derived from all the datetime fields"
   ]
  },
  {
   "cell_type": "markdown",
   "metadata": {},
   "source": [
    "Create a new dataframe user_training_dataset_update to only include the variables that will be included in the model:"
   ]
  },
  {
   "cell_type": "code",
   "execution_count": 22,
   "metadata": {},
   "outputs": [],
   "source": [
    "user_training_dataset['date_account_created']=pd.to_datetime(user_training_dataset['date_account_created'])\n",
    "user_training_dataset['timestamp_first_active_cleaned']=pd.to_datetime(user_training_dataset['timestamp_first_active_cleaned'])"
   ]
  },
  {
   "cell_type": "code",
   "execution_count": 23,
   "metadata": {},
   "outputs": [],
   "source": [
    "user_training_dataset_update=user_training_dataset[['id', 'date_account_created', 'timestamp_first_active_cleaned', 'gender', 'signup_method', 'signup_flow', 'language', 'affiliate_channel', 'affiliate_provider', 'first_affiliate_tracked','signup_app', 'first_device_type', 'first_browser', 'country_destination','age_computed',   'Account_creation_before_booking_flag', 'Total time spent (in seconds)', 'number_of_active_day_as_of_latest_date','number_of_days_since_account_creation_as_of_latest_date', 'session count', 'trip_booking_flag']]"
   ]
  },
  {
   "cell_type": "code",
   "execution_count": 90,
   "metadata": {},
   "outputs": [],
   "source": [
    "user_training_dataset_update['first_browser']=user_training_dataset_update['first_browser'].astype(\"str\")\n",
    "user_training_dataset_update['gender']=user_training_dataset_update['gender'].astype(\"str\")\n",
    "\n",
    "user_training_dataset_update.loc[user_training_dataset_update['first_browser']=='-unknown-', 'first_browser']='Unknown'\n",
    "user_training_dataset_update.loc[user_training_dataset_update['gender']=='-unknown-', 'gender']='Unknown'\n",
    "\n"
   ]
  },
  {
   "cell_type": "markdown",
   "metadata": {},
   "source": [
    "Create variables including day of week, day of month, month and year for both account creation date and first active time stamp"
   ]
  },
  {
   "cell_type": "code",
   "execution_count": 24,
   "metadata": {},
   "outputs": [
    {
     "name": "stderr",
     "output_type": "stream",
     "text": [
      "C:\\Users\\yuka.abe\\AppData\\Local\\Continuum\\anaconda3\\lib\\site-packages\\ipykernel_launcher.py:1: SettingWithCopyWarning: \n",
      "A value is trying to be set on a copy of a slice from a DataFrame.\n",
      "Try using .loc[row_indexer,col_indexer] = value instead\n",
      "\n",
      "See the caveats in the documentation: http://pandas.pydata.org/pandas-docs/stable/indexing.html#indexing-view-versus-copy\n",
      "  \"\"\"Entry point for launching an IPython kernel.\n",
      "C:\\Users\\yuka.abe\\AppData\\Local\\Continuum\\anaconda3\\lib\\site-packages\\ipykernel_launcher.py:2: SettingWithCopyWarning: \n",
      "A value is trying to be set on a copy of a slice from a DataFrame.\n",
      "Try using .loc[row_indexer,col_indexer] = value instead\n",
      "\n",
      "See the caveats in the documentation: http://pandas.pydata.org/pandas-docs/stable/indexing.html#indexing-view-versus-copy\n",
      "  \n",
      "C:\\Users\\yuka.abe\\AppData\\Local\\Continuum\\anaconda3\\lib\\site-packages\\ipykernel_launcher.py:3: SettingWithCopyWarning: \n",
      "A value is trying to be set on a copy of a slice from a DataFrame.\n",
      "Try using .loc[row_indexer,col_indexer] = value instead\n",
      "\n",
      "See the caveats in the documentation: http://pandas.pydata.org/pandas-docs/stable/indexing.html#indexing-view-versus-copy\n",
      "  This is separate from the ipykernel package so we can avoid doing imports until\n",
      "C:\\Users\\yuka.abe\\AppData\\Local\\Continuum\\anaconda3\\lib\\site-packages\\ipykernel_launcher.py:4: SettingWithCopyWarning: \n",
      "A value is trying to be set on a copy of a slice from a DataFrame.\n",
      "Try using .loc[row_indexer,col_indexer] = value instead\n",
      "\n",
      "See the caveats in the documentation: http://pandas.pydata.org/pandas-docs/stable/indexing.html#indexing-view-versus-copy\n",
      "  after removing the cwd from sys.path.\n"
     ]
    }
   ],
   "source": [
    "user_training_dataset_update['Account_creation_date_month'] = user_training_dataset_update['date_account_created'].dt.month\n",
    "user_training_dataset_update['Account_creation_date_year'] = user_training_dataset_update['date_account_created'].dt.year\n",
    "user_training_dataset_update['Account_creation_date_day']=user_training_dataset_update['date_account_created'].dt.day\n",
    "user_training_dataset_update['Account_creation_date_day_of_week']=user_training_dataset_update['date_account_created'].dt.dayofweek"
   ]
  },
  {
   "cell_type": "code",
   "execution_count": 25,
   "metadata": {},
   "outputs": [
    {
     "name": "stderr",
     "output_type": "stream",
     "text": [
      "C:\\Users\\yuka.abe\\AppData\\Local\\Continuum\\anaconda3\\lib\\site-packages\\ipykernel_launcher.py:1: SettingWithCopyWarning: \n",
      "A value is trying to be set on a copy of a slice from a DataFrame.\n",
      "Try using .loc[row_indexer,col_indexer] = value instead\n",
      "\n",
      "See the caveats in the documentation: http://pandas.pydata.org/pandas-docs/stable/indexing.html#indexing-view-versus-copy\n",
      "  \"\"\"Entry point for launching an IPython kernel.\n",
      "C:\\Users\\yuka.abe\\AppData\\Local\\Continuum\\anaconda3\\lib\\site-packages\\ipykernel_launcher.py:2: SettingWithCopyWarning: \n",
      "A value is trying to be set on a copy of a slice from a DataFrame.\n",
      "Try using .loc[row_indexer,col_indexer] = value instead\n",
      "\n",
      "See the caveats in the documentation: http://pandas.pydata.org/pandas-docs/stable/indexing.html#indexing-view-versus-copy\n",
      "  \n",
      "C:\\Users\\yuka.abe\\AppData\\Local\\Continuum\\anaconda3\\lib\\site-packages\\ipykernel_launcher.py:3: SettingWithCopyWarning: \n",
      "A value is trying to be set on a copy of a slice from a DataFrame.\n",
      "Try using .loc[row_indexer,col_indexer] = value instead\n",
      "\n",
      "See the caveats in the documentation: http://pandas.pydata.org/pandas-docs/stable/indexing.html#indexing-view-versus-copy\n",
      "  This is separate from the ipykernel package so we can avoid doing imports until\n",
      "C:\\Users\\yuka.abe\\AppData\\Local\\Continuum\\anaconda3\\lib\\site-packages\\ipykernel_launcher.py:4: SettingWithCopyWarning: \n",
      "A value is trying to be set on a copy of a slice from a DataFrame.\n",
      "Try using .loc[row_indexer,col_indexer] = value instead\n",
      "\n",
      "See the caveats in the documentation: http://pandas.pydata.org/pandas-docs/stable/indexing.html#indexing-view-versus-copy\n",
      "  after removing the cwd from sys.path.\n"
     ]
    }
   ],
   "source": [
    "user_training_dataset_update['first_active_date_month']=user_training_dataset_update['timestamp_first_active_cleaned'].dt.month\n",
    "user_training_dataset_update['first_active_date_day']=user_training_dataset_update['timestamp_first_active_cleaned'].dt.day\n",
    "user_training_dataset_update['first_active_date_year']=user_training_dataset_update['timestamp_first_active_cleaned'].dt.year\n",
    "user_training_dataset_update['first_active_date_dayofweek']=user_training_dataset_update['timestamp_first_active_cleaned'].dt.dayofweek"
   ]
  },
  {
   "cell_type": "markdown",
   "metadata": {},
   "source": [
    "Convert the following variables into categorical variables:\n",
    "\n",
    "gender, signup_method, signup_flow, language, affiliate_channel, affiliate_provider,first_affiliate_tracked, signup_app, first_device_type, first_browser, country_destination, Account_creation_before_booking_flag\n"
   ]
  },
  {
   "cell_type": "code",
   "execution_count": 26,
   "metadata": {},
   "outputs": [
    {
     "name": "stderr",
     "output_type": "stream",
     "text": [
      "C:\\Users\\yuka.abe\\AppData\\Local\\Continuum\\anaconda3\\lib\\site-packages\\ipykernel_launcher.py:3: SettingWithCopyWarning: \n",
      "A value is trying to be set on a copy of a slice from a DataFrame.\n",
      "Try using .loc[row_indexer,col_indexer] = value instead\n",
      "\n",
      "See the caveats in the documentation: http://pandas.pydata.org/pandas-docs/stable/indexing.html#indexing-view-versus-copy\n",
      "  This is separate from the ipykernel package so we can avoid doing imports until\n"
     ]
    }
   ],
   "source": [
    "dataset=user_training_dataset_update\n",
    "for variable_name in ['gender', 'signup_method', 'signup_flow', 'language','affiliate_channel', 'affiliate_provider', 'first_affiliate_tracked','signup_app', 'first_device_type', 'first_browser','country_destination', 'Account_creation_before_booking_flag']:\n",
    "    dataset[variable_name]=pd.Categorical(dataset[variable_name])"
   ]
  },
  {
   "cell_type": "markdown",
   "metadata": {},
   "source": [
    "# Exploratory Analysis: Discover the correlation between all the fields in the training dataset"
   ]
  },
  {
   "cell_type": "code",
   "execution_count": 28,
   "metadata": {},
   "outputs": [
    {
     "data": {
      "text/html": [
       "<div>\n",
       "<style scoped>\n",
       "    .dataframe tbody tr th:only-of-type {\n",
       "        vertical-align: middle;\n",
       "    }\n",
       "\n",
       "    .dataframe tbody tr th {\n",
       "        vertical-align: top;\n",
       "    }\n",
       "\n",
       "    .dataframe thead th {\n",
       "        text-align: right;\n",
       "    }\n",
       "</style>\n",
       "<table border=\"1\" class=\"dataframe\">\n",
       "  <thead>\n",
       "    <tr style=\"text-align: right;\">\n",
       "      <th></th>\n",
       "      <th>age_computed</th>\n",
       "      <th>Total time spent (in seconds)</th>\n",
       "      <th>number_of_active_day_as_of_latest_date</th>\n",
       "      <th>number_of_days_since_account_creation_as_of_latest_date</th>\n",
       "      <th>session count</th>\n",
       "      <th>trip_booking_flag</th>\n",
       "      <th>Account_creation_date_month</th>\n",
       "      <th>Account_creation_date_year</th>\n",
       "      <th>Account_creation_date_day</th>\n",
       "      <th>Account_creation_date_day_of_week</th>\n",
       "      <th>first_active_date_month</th>\n",
       "      <th>first_active_date_day</th>\n",
       "      <th>first_active_date_year</th>\n",
       "      <th>first_active_date_dayofweek</th>\n",
       "    </tr>\n",
       "  </thead>\n",
       "  <tbody>\n",
       "    <tr>\n",
       "      <th>age_computed</th>\n",
       "      <td>1.000000</td>\n",
       "      <td>0.029429</td>\n",
       "      <td>0.071820</td>\n",
       "      <td>0.071704</td>\n",
       "      <td>-0.020102</td>\n",
       "      <td>-0.026865</td>\n",
       "      <td>0.010205</td>\n",
       "      <td>-0.068236</td>\n",
       "      <td>-0.004312</td>\n",
       "      <td>0.024239</td>\n",
       "      <td>0.010137</td>\n",
       "      <td>-0.004388</td>\n",
       "      <td>-0.068333</td>\n",
       "      <td>0.024094</td>\n",
       "    </tr>\n",
       "    <tr>\n",
       "      <th>Total time spent (in seconds)</th>\n",
       "      <td>0.029429</td>\n",
       "      <td>1.000000</td>\n",
       "      <td>-0.036257</td>\n",
       "      <td>-0.036257</td>\n",
       "      <td>0.729524</td>\n",
       "      <td>0.150841</td>\n",
       "      <td>0.036852</td>\n",
       "      <td>NaN</td>\n",
       "      <td>-0.000703</td>\n",
       "      <td>0.007575</td>\n",
       "      <td>0.036852</td>\n",
       "      <td>-0.000703</td>\n",
       "      <td>NaN</td>\n",
       "      <td>0.007575</td>\n",
       "    </tr>\n",
       "    <tr>\n",
       "      <th>number_of_active_day_as_of_latest_date</th>\n",
       "      <td>0.071820</td>\n",
       "      <td>-0.036257</td>\n",
       "      <td>1.000000</td>\n",
       "      <td>0.999270</td>\n",
       "      <td>-0.065437</td>\n",
       "      <td>0.094796</td>\n",
       "      <td>0.164078</td>\n",
       "      <td>-0.957974</td>\n",
       "      <td>-0.027128</td>\n",
       "      <td>-0.009710</td>\n",
       "      <td>0.163942</td>\n",
       "      <td>-0.027279</td>\n",
       "      <td>-0.958727</td>\n",
       "      <td>-0.009685</td>\n",
       "    </tr>\n",
       "    <tr>\n",
       "      <th>number_of_days_since_account_creation_as_of_latest_date</th>\n",
       "      <td>0.071704</td>\n",
       "      <td>-0.036257</td>\n",
       "      <td>0.999270</td>\n",
       "      <td>1.000000</td>\n",
       "      <td>-0.065437</td>\n",
       "      <td>0.094604</td>\n",
       "      <td>0.164220</td>\n",
       "      <td>-0.958676</td>\n",
       "      <td>-0.027284</td>\n",
       "      <td>-0.009656</td>\n",
       "      <td>0.164045</td>\n",
       "      <td>-0.027315</td>\n",
       "      <td>-0.958090</td>\n",
       "      <td>-0.009617</td>\n",
       "    </tr>\n",
       "    <tr>\n",
       "      <th>session count</th>\n",
       "      <td>-0.020102</td>\n",
       "      <td>0.729524</td>\n",
       "      <td>-0.065437</td>\n",
       "      <td>-0.065437</td>\n",
       "      <td>1.000000</td>\n",
       "      <td>0.079348</td>\n",
       "      <td>0.067039</td>\n",
       "      <td>NaN</td>\n",
       "      <td>-0.005695</td>\n",
       "      <td>0.017083</td>\n",
       "      <td>0.067039</td>\n",
       "      <td>-0.005695</td>\n",
       "      <td>NaN</td>\n",
       "      <td>0.017083</td>\n",
       "    </tr>\n",
       "    <tr>\n",
       "      <th>trip_booking_flag</th>\n",
       "      <td>-0.026865</td>\n",
       "      <td>0.150841</td>\n",
       "      <td>0.094796</td>\n",
       "      <td>0.094604</td>\n",
       "      <td>0.079348</td>\n",
       "      <td>1.000000</td>\n",
       "      <td>-0.006703</td>\n",
       "      <td>-0.084098</td>\n",
       "      <td>-0.008724</td>\n",
       "      <td>-0.002617</td>\n",
       "      <td>-0.006833</td>\n",
       "      <td>-0.008697</td>\n",
       "      <td>-0.084253</td>\n",
       "      <td>-0.002689</td>\n",
       "    </tr>\n",
       "    <tr>\n",
       "      <th>Account_creation_date_month</th>\n",
       "      <td>0.010205</td>\n",
       "      <td>0.036852</td>\n",
       "      <td>0.164078</td>\n",
       "      <td>0.164220</td>\n",
       "      <td>0.067039</td>\n",
       "      <td>-0.006703</td>\n",
       "      <td>1.000000</td>\n",
       "      <td>-0.436939</td>\n",
       "      <td>-0.013049</td>\n",
       "      <td>-0.008083</td>\n",
       "      <td>0.999264</td>\n",
       "      <td>-0.012982</td>\n",
       "      <td>-0.436441</td>\n",
       "      <td>-0.008040</td>\n",
       "    </tr>\n",
       "    <tr>\n",
       "      <th>Account_creation_date_year</th>\n",
       "      <td>-0.068236</td>\n",
       "      <td>NaN</td>\n",
       "      <td>-0.957974</td>\n",
       "      <td>-0.958676</td>\n",
       "      <td>NaN</td>\n",
       "      <td>-0.084098</td>\n",
       "      <td>-0.436939</td>\n",
       "      <td>1.000000</td>\n",
       "      <td>0.003183</td>\n",
       "      <td>0.011230</td>\n",
       "      <td>-0.436567</td>\n",
       "      <td>0.003211</td>\n",
       "      <td>0.999325</td>\n",
       "      <td>0.011180</td>\n",
       "    </tr>\n",
       "    <tr>\n",
       "      <th>Account_creation_date_day</th>\n",
       "      <td>-0.004312</td>\n",
       "      <td>-0.000703</td>\n",
       "      <td>-0.027128</td>\n",
       "      <td>-0.027284</td>\n",
       "      <td>-0.005695</td>\n",
       "      <td>-0.008724</td>\n",
       "      <td>-0.013049</td>\n",
       "      <td>0.003183</td>\n",
       "      <td>1.000000</td>\n",
       "      <td>-0.003880</td>\n",
       "      <td>-0.013058</td>\n",
       "      <td>0.999268</td>\n",
       "      <td>0.003080</td>\n",
       "      <td>-0.003791</td>\n",
       "    </tr>\n",
       "    <tr>\n",
       "      <th>Account_creation_date_day_of_week</th>\n",
       "      <td>0.024239</td>\n",
       "      <td>0.007575</td>\n",
       "      <td>-0.009710</td>\n",
       "      <td>-0.009656</td>\n",
       "      <td>0.017083</td>\n",
       "      <td>-0.002617</td>\n",
       "      <td>-0.008083</td>\n",
       "      <td>0.011230</td>\n",
       "      <td>-0.003880</td>\n",
       "      <td>1.000000</td>\n",
       "      <td>-0.008058</td>\n",
       "      <td>-0.003824</td>\n",
       "      <td>0.011271</td>\n",
       "      <td>0.999284</td>\n",
       "    </tr>\n",
       "    <tr>\n",
       "      <th>first_active_date_month</th>\n",
       "      <td>0.010137</td>\n",
       "      <td>0.036852</td>\n",
       "      <td>0.163942</td>\n",
       "      <td>0.164045</td>\n",
       "      <td>0.067039</td>\n",
       "      <td>-0.006833</td>\n",
       "      <td>0.999264</td>\n",
       "      <td>-0.436567</td>\n",
       "      <td>-0.013058</td>\n",
       "      <td>-0.008058</td>\n",
       "      <td>1.000000</td>\n",
       "      <td>-0.013080</td>\n",
       "      <td>-0.436526</td>\n",
       "      <td>-0.008228</td>\n",
       "    </tr>\n",
       "    <tr>\n",
       "      <th>first_active_date_day</th>\n",
       "      <td>-0.004388</td>\n",
       "      <td>-0.000703</td>\n",
       "      <td>-0.027279</td>\n",
       "      <td>-0.027315</td>\n",
       "      <td>-0.005695</td>\n",
       "      <td>-0.008697</td>\n",
       "      <td>-0.012982</td>\n",
       "      <td>0.003211</td>\n",
       "      <td>0.999268</td>\n",
       "      <td>-0.003824</td>\n",
       "      <td>-0.013080</td>\n",
       "      <td>1.000000</td>\n",
       "      <td>0.003206</td>\n",
       "      <td>-0.003740</td>\n",
       "    </tr>\n",
       "    <tr>\n",
       "      <th>first_active_date_year</th>\n",
       "      <td>-0.068333</td>\n",
       "      <td>NaN</td>\n",
       "      <td>-0.958727</td>\n",
       "      <td>-0.958090</td>\n",
       "      <td>NaN</td>\n",
       "      <td>-0.084253</td>\n",
       "      <td>-0.436441</td>\n",
       "      <td>0.999325</td>\n",
       "      <td>0.003080</td>\n",
       "      <td>0.011271</td>\n",
       "      <td>-0.436526</td>\n",
       "      <td>0.003206</td>\n",
       "      <td>1.000000</td>\n",
       "      <td>0.011295</td>\n",
       "    </tr>\n",
       "    <tr>\n",
       "      <th>first_active_date_dayofweek</th>\n",
       "      <td>0.024094</td>\n",
       "      <td>0.007575</td>\n",
       "      <td>-0.009685</td>\n",
       "      <td>-0.009617</td>\n",
       "      <td>0.017083</td>\n",
       "      <td>-0.002689</td>\n",
       "      <td>-0.008040</td>\n",
       "      <td>0.011180</td>\n",
       "      <td>-0.003791</td>\n",
       "      <td>0.999284</td>\n",
       "      <td>-0.008228</td>\n",
       "      <td>-0.003740</td>\n",
       "      <td>0.011295</td>\n",
       "      <td>1.000000</td>\n",
       "    </tr>\n",
       "  </tbody>\n",
       "</table>\n",
       "</div>"
      ],
      "text/plain": [
       "                                                    age_computed  \\\n",
       "age_computed                                            1.000000   \n",
       "Total time spent (in seconds)                           0.029429   \n",
       "number_of_active_day_as_of_latest_date                  0.071820   \n",
       "number_of_days_since_account_creation_as_of_lat...      0.071704   \n",
       "session count                                          -0.020102   \n",
       "trip_booking_flag                                      -0.026865   \n",
       "Account_creation_date_month                             0.010205   \n",
       "Account_creation_date_year                             -0.068236   \n",
       "Account_creation_date_day                              -0.004312   \n",
       "Account_creation_date_day_of_week                       0.024239   \n",
       "first_active_date_month                                 0.010137   \n",
       "first_active_date_day                                  -0.004388   \n",
       "first_active_date_year                                 -0.068333   \n",
       "first_active_date_dayofweek                             0.024094   \n",
       "\n",
       "                                                    Total time spent (in seconds)  \\\n",
       "age_computed                                                             0.029429   \n",
       "Total time spent (in seconds)                                            1.000000   \n",
       "number_of_active_day_as_of_latest_date                                  -0.036257   \n",
       "number_of_days_since_account_creation_as_of_lat...                      -0.036257   \n",
       "session count                                                            0.729524   \n",
       "trip_booking_flag                                                        0.150841   \n",
       "Account_creation_date_month                                              0.036852   \n",
       "Account_creation_date_year                                                    NaN   \n",
       "Account_creation_date_day                                               -0.000703   \n",
       "Account_creation_date_day_of_week                                        0.007575   \n",
       "first_active_date_month                                                  0.036852   \n",
       "first_active_date_day                                                   -0.000703   \n",
       "first_active_date_year                                                        NaN   \n",
       "first_active_date_dayofweek                                              0.007575   \n",
       "\n",
       "                                                    number_of_active_day_as_of_latest_date  \\\n",
       "age_computed                                                                      0.071820   \n",
       "Total time spent (in seconds)                                                    -0.036257   \n",
       "number_of_active_day_as_of_latest_date                                            1.000000   \n",
       "number_of_days_since_account_creation_as_of_lat...                                0.999270   \n",
       "session count                                                                    -0.065437   \n",
       "trip_booking_flag                                                                 0.094796   \n",
       "Account_creation_date_month                                                       0.164078   \n",
       "Account_creation_date_year                                                       -0.957974   \n",
       "Account_creation_date_day                                                        -0.027128   \n",
       "Account_creation_date_day_of_week                                                -0.009710   \n",
       "first_active_date_month                                                           0.163942   \n",
       "first_active_date_day                                                            -0.027279   \n",
       "first_active_date_year                                                           -0.958727   \n",
       "first_active_date_dayofweek                                                      -0.009685   \n",
       "\n",
       "                                                    number_of_days_since_account_creation_as_of_latest_date  \\\n",
       "age_computed                                                                                 0.071704         \n",
       "Total time spent (in seconds)                                                               -0.036257         \n",
       "number_of_active_day_as_of_latest_date                                                       0.999270         \n",
       "number_of_days_since_account_creation_as_of_lat...                                           1.000000         \n",
       "session count                                                                               -0.065437         \n",
       "trip_booking_flag                                                                            0.094604         \n",
       "Account_creation_date_month                                                                  0.164220         \n",
       "Account_creation_date_year                                                                  -0.958676         \n",
       "Account_creation_date_day                                                                   -0.027284         \n",
       "Account_creation_date_day_of_week                                                           -0.009656         \n",
       "first_active_date_month                                                                      0.164045         \n",
       "first_active_date_day                                                                       -0.027315         \n",
       "first_active_date_year                                                                      -0.958090         \n",
       "first_active_date_dayofweek                                                                 -0.009617         \n",
       "\n",
       "                                                    session count  \\\n",
       "age_computed                                            -0.020102   \n",
       "Total time spent (in seconds)                            0.729524   \n",
       "number_of_active_day_as_of_latest_date                  -0.065437   \n",
       "number_of_days_since_account_creation_as_of_lat...      -0.065437   \n",
       "session count                                            1.000000   \n",
       "trip_booking_flag                                        0.079348   \n",
       "Account_creation_date_month                              0.067039   \n",
       "Account_creation_date_year                                    NaN   \n",
       "Account_creation_date_day                               -0.005695   \n",
       "Account_creation_date_day_of_week                        0.017083   \n",
       "first_active_date_month                                  0.067039   \n",
       "first_active_date_day                                   -0.005695   \n",
       "first_active_date_year                                        NaN   \n",
       "first_active_date_dayofweek                              0.017083   \n",
       "\n",
       "                                                    trip_booking_flag  \\\n",
       "age_computed                                                -0.026865   \n",
       "Total time spent (in seconds)                                0.150841   \n",
       "number_of_active_day_as_of_latest_date                       0.094796   \n",
       "number_of_days_since_account_creation_as_of_lat...           0.094604   \n",
       "session count                                                0.079348   \n",
       "trip_booking_flag                                            1.000000   \n",
       "Account_creation_date_month                                 -0.006703   \n",
       "Account_creation_date_year                                  -0.084098   \n",
       "Account_creation_date_day                                   -0.008724   \n",
       "Account_creation_date_day_of_week                           -0.002617   \n",
       "first_active_date_month                                     -0.006833   \n",
       "first_active_date_day                                       -0.008697   \n",
       "first_active_date_year                                      -0.084253   \n",
       "first_active_date_dayofweek                                 -0.002689   \n",
       "\n",
       "                                                    Account_creation_date_month  \\\n",
       "age_computed                                                           0.010205   \n",
       "Total time spent (in seconds)                                          0.036852   \n",
       "number_of_active_day_as_of_latest_date                                 0.164078   \n",
       "number_of_days_since_account_creation_as_of_lat...                     0.164220   \n",
       "session count                                                          0.067039   \n",
       "trip_booking_flag                                                     -0.006703   \n",
       "Account_creation_date_month                                            1.000000   \n",
       "Account_creation_date_year                                            -0.436939   \n",
       "Account_creation_date_day                                             -0.013049   \n",
       "Account_creation_date_day_of_week                                     -0.008083   \n",
       "first_active_date_month                                                0.999264   \n",
       "first_active_date_day                                                 -0.012982   \n",
       "first_active_date_year                                                -0.436441   \n",
       "first_active_date_dayofweek                                           -0.008040   \n",
       "\n",
       "                                                    Account_creation_date_year  \\\n",
       "age_computed                                                         -0.068236   \n",
       "Total time spent (in seconds)                                              NaN   \n",
       "number_of_active_day_as_of_latest_date                               -0.957974   \n",
       "number_of_days_since_account_creation_as_of_lat...                   -0.958676   \n",
       "session count                                                              NaN   \n",
       "trip_booking_flag                                                    -0.084098   \n",
       "Account_creation_date_month                                          -0.436939   \n",
       "Account_creation_date_year                                            1.000000   \n",
       "Account_creation_date_day                                             0.003183   \n",
       "Account_creation_date_day_of_week                                     0.011230   \n",
       "first_active_date_month                                              -0.436567   \n",
       "first_active_date_day                                                 0.003211   \n",
       "first_active_date_year                                                0.999325   \n",
       "first_active_date_dayofweek                                           0.011180   \n",
       "\n",
       "                                                    Account_creation_date_day  \\\n",
       "age_computed                                                        -0.004312   \n",
       "Total time spent (in seconds)                                       -0.000703   \n",
       "number_of_active_day_as_of_latest_date                              -0.027128   \n",
       "number_of_days_since_account_creation_as_of_lat...                  -0.027284   \n",
       "session count                                                       -0.005695   \n",
       "trip_booking_flag                                                   -0.008724   \n",
       "Account_creation_date_month                                         -0.013049   \n",
       "Account_creation_date_year                                           0.003183   \n",
       "Account_creation_date_day                                            1.000000   \n",
       "Account_creation_date_day_of_week                                   -0.003880   \n",
       "first_active_date_month                                             -0.013058   \n",
       "first_active_date_day                                                0.999268   \n",
       "first_active_date_year                                               0.003080   \n",
       "first_active_date_dayofweek                                         -0.003791   \n",
       "\n",
       "                                                    Account_creation_date_day_of_week  \\\n",
       "age_computed                                                                 0.024239   \n",
       "Total time spent (in seconds)                                                0.007575   \n",
       "number_of_active_day_as_of_latest_date                                      -0.009710   \n",
       "number_of_days_since_account_creation_as_of_lat...                          -0.009656   \n",
       "session count                                                                0.017083   \n",
       "trip_booking_flag                                                           -0.002617   \n",
       "Account_creation_date_month                                                 -0.008083   \n",
       "Account_creation_date_year                                                   0.011230   \n",
       "Account_creation_date_day                                                   -0.003880   \n",
       "Account_creation_date_day_of_week                                            1.000000   \n",
       "first_active_date_month                                                     -0.008058   \n",
       "first_active_date_day                                                       -0.003824   \n",
       "first_active_date_year                                                       0.011271   \n",
       "first_active_date_dayofweek                                                  0.999284   \n",
       "\n",
       "                                                    first_active_date_month  \\\n",
       "age_computed                                                       0.010137   \n",
       "Total time spent (in seconds)                                      0.036852   \n",
       "number_of_active_day_as_of_latest_date                             0.163942   \n",
       "number_of_days_since_account_creation_as_of_lat...                 0.164045   \n",
       "session count                                                      0.067039   \n",
       "trip_booking_flag                                                 -0.006833   \n",
       "Account_creation_date_month                                        0.999264   \n",
       "Account_creation_date_year                                        -0.436567   \n",
       "Account_creation_date_day                                         -0.013058   \n",
       "Account_creation_date_day_of_week                                 -0.008058   \n",
       "first_active_date_month                                            1.000000   \n",
       "first_active_date_day                                             -0.013080   \n",
       "first_active_date_year                                            -0.436526   \n",
       "first_active_date_dayofweek                                       -0.008228   \n",
       "\n",
       "                                                    first_active_date_day  \\\n",
       "age_computed                                                    -0.004388   \n",
       "Total time spent (in seconds)                                   -0.000703   \n",
       "number_of_active_day_as_of_latest_date                          -0.027279   \n",
       "number_of_days_since_account_creation_as_of_lat...              -0.027315   \n",
       "session count                                                   -0.005695   \n",
       "trip_booking_flag                                               -0.008697   \n",
       "Account_creation_date_month                                     -0.012982   \n",
       "Account_creation_date_year                                       0.003211   \n",
       "Account_creation_date_day                                        0.999268   \n",
       "Account_creation_date_day_of_week                               -0.003824   \n",
       "first_active_date_month                                         -0.013080   \n",
       "first_active_date_day                                            1.000000   \n",
       "first_active_date_year                                           0.003206   \n",
       "first_active_date_dayofweek                                     -0.003740   \n",
       "\n",
       "                                                    first_active_date_year  \\\n",
       "age_computed                                                     -0.068333   \n",
       "Total time spent (in seconds)                                          NaN   \n",
       "number_of_active_day_as_of_latest_date                           -0.958727   \n",
       "number_of_days_since_account_creation_as_of_lat...               -0.958090   \n",
       "session count                                                          NaN   \n",
       "trip_booking_flag                                                -0.084253   \n",
       "Account_creation_date_month                                      -0.436441   \n",
       "Account_creation_date_year                                        0.999325   \n",
       "Account_creation_date_day                                         0.003080   \n",
       "Account_creation_date_day_of_week                                 0.011271   \n",
       "first_active_date_month                                          -0.436526   \n",
       "first_active_date_day                                             0.003206   \n",
       "first_active_date_year                                            1.000000   \n",
       "first_active_date_dayofweek                                       0.011295   \n",
       "\n",
       "                                                    first_active_date_dayofweek  \n",
       "age_computed                                                           0.024094  \n",
       "Total time spent (in seconds)                                          0.007575  \n",
       "number_of_active_day_as_of_latest_date                                -0.009685  \n",
       "number_of_days_since_account_creation_as_of_lat...                    -0.009617  \n",
       "session count                                                          0.017083  \n",
       "trip_booking_flag                                                     -0.002689  \n",
       "Account_creation_date_month                                           -0.008040  \n",
       "Account_creation_date_year                                             0.011180  \n",
       "Account_creation_date_day                                             -0.003791  \n",
       "Account_creation_date_day_of_week                                      0.999284  \n",
       "first_active_date_month                                               -0.008228  \n",
       "first_active_date_day                                                 -0.003740  \n",
       "first_active_date_year                                                 0.011295  \n",
       "first_active_date_dayofweek                                            1.000000  "
      ]
     },
     "execution_count": 28,
     "metadata": {},
     "output_type": "execute_result"
    }
   ],
   "source": [
    "user_training_dataset_update.corr()"
   ]
  },
  {
   "cell_type": "code",
   "execution_count": 29,
   "metadata": {},
   "outputs": [],
   "source": [
    "correlation_user_training_dataset=user_training_dataset_update.corr()"
   ]
  },
  {
   "cell_type": "code",
   "execution_count": 92,
   "metadata": {},
   "outputs": [
    {
     "data": {
      "text/plain": [
       "<matplotlib.axes._subplots.AxesSubplot at 0x147217f0>"
      ]
     },
     "execution_count": 92,
     "metadata": {},
     "output_type": "execute_result"
    },
    {
     "data": {
      "image/png": "[encoded data removed]",
      "text/plain": [
       "<matplotlib.figure.Figure at 0x1b0cea90>"
      ]
     },
     "metadata": {
      "needs_background": "light"
     },
     "output_type": "display_data"
    }
   ],
   "source": [
    "sns.heatmap(correlation_user_training_dataset, cmap=\"coolwarm\")"
   ]
  },
  {
   "cell_type": "markdown",
   "metadata": {},
   "source": [
    "Based on the heatmap, the variable that is most correlated to the trip_booking_flag is the total time spent (in seconds)"
   ]
  },
  {
   "cell_type": "markdown",
   "metadata": {},
   "source": [
    "# Further Feature engineering on the data set:\n",
    "# Compute missing values and create bucket for continuous variable"
   ]
  },
  {
   "cell_type": "code",
   "execution_count": 42,
   "metadata": {},
   "outputs": [
    {
     "name": "stdout",
     "output_type": "stream",
     "text": [
      "<class 'pandas.core.frame.DataFrame'>\n",
      "RangeIndex: 213451 entries, 0 to 213450\n",
      "Data columns (total 29 columns):\n",
      "id                                                         213451 non-null object\n",
      "date_account_created                                       213451 non-null datetime64[ns]\n",
      "timestamp_first_active_cleaned                             213451 non-null datetime64[ns]\n",
      "gender                                                     213451 non-null object\n",
      "signup_method                                              213451 non-null category\n",
      "signup_flow                                                213451 non-null category\n",
      "language                                                   213451 non-null category\n",
      "affiliate_channel                                          213451 non-null category\n",
      "affiliate_provider                                         213451 non-null category\n",
      "first_affiliate_tracked                                    207386 non-null category\n",
      "signup_app                                                 213451 non-null category\n",
      "first_device_type                                          213451 non-null category\n",
      "first_browser                                              213451 non-null object\n",
      "country_destination                                        213451 non-null category\n",
      "age_computed                                               125461 non-null float64\n",
      "Account_creation_before_booking_flag                       88908 non-null category\n",
      "Total time spent (in seconds)                              73815 non-null float64\n",
      "number_of_active_day_as_of_latest_date                     213451 non-null int64\n",
      "number_of_days_since_account_creation_as_of_latest_date    213451 non-null int64\n",
      "session count                                              73815 non-null float64\n",
      "trip_booking_flag                                          213451 non-null bool\n",
      "Account_creation_date_month                                213451 non-null int64\n",
      "Account_creation_date_year                                 213451 non-null int64\n",
      "Account_creation_date_day                                  213451 non-null int64\n",
      "Account_creation_date_day_of_week                          213451 non-null int64\n",
      "first_active_date_month                                    213451 non-null int64\n",
      "first_active_date_day                                      213451 non-null int64\n",
      "first_active_date_year                                     213451 non-null int64\n",
      "first_active_date_dayofweek                                213451 non-null int64\n",
      "dtypes: bool(1), category(10), datetime64[ns](2), float64(3), int64(10), object(3)\n",
      "memory usage: 31.6+ MB\n"
     ]
    }
   ],
   "source": [
    "user_training_dataset_update.info()"
   ]
  },
  {
   "cell_type": "markdown",
   "metadata": {},
   "source": [
    "Fill the missing values for first_affiliate_tracked as \"Unknown\"                                "
   ]
  },
  {
   "cell_type": "code",
   "execution_count": 43,
   "metadata": {},
   "outputs": [
    {
     "data": {
      "text/plain": [
       "[untracked, omg, NaN, linked, tracked-other, product, marketing, local ops]\n",
       "Categories (7, object): [untracked, omg, linked, tracked-other, product, marketing, local ops]"
      ]
     },
     "execution_count": 43,
     "metadata": {},
     "output_type": "execute_result"
    }
   ],
   "source": [
    "user_training_dataset_update['first_affiliate_tracked'].unique()"
   ]
  },
  {
   "cell_type": "code",
   "execution_count": 44,
   "metadata": {},
   "outputs": [
    {
     "name": "stderr",
     "output_type": "stream",
     "text": [
      "C:\\Users\\yuka.abe\\AppData\\Local\\Continuum\\anaconda3\\lib\\site-packages\\ipykernel_launcher.py:1: SettingWithCopyWarning: \n",
      "A value is trying to be set on a copy of a slice from a DataFrame.\n",
      "Try using .loc[row_indexer,col_indexer] = value instead\n",
      "\n",
      "See the caveats in the documentation: http://pandas.pydata.org/pandas-docs/stable/indexing.html#indexing-view-versus-copy\n",
      "  \"\"\"Entry point for launching an IPython kernel.\n",
      "C:\\Users\\yuka.abe\\AppData\\Local\\Continuum\\anaconda3\\lib\\site-packages\\pandas\\core\\generic.py:4355: SettingWithCopyWarning: \n",
      "A value is trying to be set on a copy of a slice from a DataFrame\n",
      "\n",
      "See the caveats in the documentation: http://pandas.pydata.org/pandas-docs/stable/indexing.html#indexing-view-versus-copy\n",
      "  self._update_inplace(new_data)\n"
     ]
    }
   ],
   "source": [
    "user_training_dataset_update['first_affiliate_tracked']=user_training_dataset_update['first_affiliate_tracked'].astype('str')\n",
    "user_training_dataset_update['first_affiliate_tracked'].fillna(\"Unknown\", inplace=True)"
   ]
  },
  {
   "cell_type": "markdown",
   "metadata": {},
   "source": [
    "Fill the missing values for the age_computed by creating age buckets for the users:                                               "
   ]
  },
  {
   "cell_type": "code",
   "execution_count": 45,
   "metadata": {},
   "outputs": [
    {
     "data": {
      "text/plain": [
       "<matplotlib.axes._subplots.AxesSubplot at 0x171df358>"
      ]
     },
     "execution_count": 45,
     "metadata": {},
     "output_type": "execute_result"
    },
    {
     "data": {
      "image/png": "[encoded data removed]",
      "text/plain": [
       "<matplotlib.figure.Figure at 0x171df198>"
      ]
     },
     "metadata": {
      "needs_background": "light"
     },
     "output_type": "display_data"
    }
   ],
   "source": [
    "user_training_dataset_update['age_computed'].hist()"
   ]
  },
  {
   "cell_type": "markdown",
   "metadata": {},
   "source": [
    "Create Age_bucket variable for age:"
   ]
  },
  {
   "cell_type": "code",
   "execution_count": 46,
   "metadata": {},
   "outputs": [],
   "source": [
    "user_training_dataset_update['age_bucket']=pd.qcut(user_training_dataset_update['age_computed'], 5)\n",
    "user_training_dataset_update['age_bucket']=user_training_dataset_update['age_bucket'].astype('str')\n",
    "user_training_dataset_update.loc[user_training_dataset_update['age_bucket']=='nan','age_bucket']='Unknown'\n",
    "user_training_dataset_update['age_bucket']=pd.Categorical(user_training_dataset_update['age_bucket'])"
   ]
  },
  {
   "cell_type": "markdown",
   "metadata": {},
   "source": [
    "The age_bucket ends up with 5 buckets:"
   ]
  },
  {
   "cell_type": "code",
   "execution_count": 47,
   "metadata": {},
   "outputs": [
    {
     "data": {
      "text/plain": [
       "[Unknown, (36.0, 46.0], (46.0, 122.0], (32.0, 36.0], (27.0, 32.0], (17.999, 27.0]]\n",
       "Categories (6, object): [Unknown, (36.0, 46.0], (46.0, 122.0], (32.0, 36.0], (27.0, 32.0], (17.999, 27.0]]"
      ]
     },
     "execution_count": 47,
     "metadata": {},
     "output_type": "execute_result"
    }
   ],
   "source": [
    "user_training_dataset_update['age_bucket'].unique()"
   ]
  },
  {
   "cell_type": "code",
   "execution_count": 48,
   "metadata": {},
   "outputs": [
    {
     "data": {
      "text/plain": [
       "(17.999, 27.0]    26076\n",
       "(27.0, 32.0]      29897\n",
       "(32.0, 36.0]      19499\n",
       "(36.0, 46.0]      25840\n",
       "(46.0, 122.0]     24149\n",
       "Unknown           87990\n",
       "Name: age_bucket, dtype: int64"
      ]
     },
     "execution_count": 48,
     "metadata": {},
     "output_type": "execute_result"
    }
   ],
   "source": [
    "user_training_dataset_update['age_bucket'].value_counts().sort_index()"
   ]
  },
  {
   "cell_type": "markdown",
   "metadata": {},
   "source": [
    "For the total time spent in seconds and total session count variables, fill out the null values with 0."
   ]
  },
  {
   "cell_type": "code",
   "execution_count": 49,
   "metadata": {},
   "outputs": [],
   "source": [
    "user_training_dataset_update['Total time spent (in seconds)_fill_null_zero']=user_training_dataset_update['Total time spent (in seconds)'].fillna(0 )\n",
    "user_training_dataset_update['session count_fill_null_zero']=user_training_dataset_update['session count'].fillna(0)"
   ]
  },
  {
   "cell_type": "code",
   "execution_count": 50,
   "metadata": {
    "scrolled": true
   },
   "outputs": [
    {
     "data": {
      "text/plain": [
       "<matplotlib.axes._subplots.AxesSubplot at 0xe3089e8>"
      ]
     },
     "execution_count": 50,
     "metadata": {},
     "output_type": "execute_result"
    },
    {
     "data": {
      "image/png": "[encoded data removed]",
      "text/plain": [
       "<matplotlib.figure.Figure at 0x6081358>"
      ]
     },
     "metadata": {
      "needs_background": "light"
     },
     "output_type": "display_data"
    }
   ],
   "source": [
    "user_training_dataset_update['Total time spent (in seconds)'].hist()\n"
   ]
  },
  {
   "cell_type": "code",
   "execution_count": 51,
   "metadata": {},
   "outputs": [],
   "source": [
    "user_training_dataset_update['Total time spent (in seconds)_bucket']=pd.qcut(user_training_dataset_update['Total time spent (in seconds)'], 5, duplicates='drop')"
   ]
  },
  {
   "cell_type": "code",
   "execution_count": 52,
   "metadata": {},
   "outputs": [],
   "source": [
    "user_training_dataset_update['Total time spent (in seconds)_bucket']=user_training_dataset_update['Total time spent (in seconds)_bucket'].astype('str')\n",
    "user_training_dataset_update.loc[user_training_dataset_update['Total time spent (in seconds)_bucket']=='nan','Total time spent (in seconds)_bucket']='Unknown'\n",
    "user_training_dataset_update['Total time spent (in seconds)_bucket']=pd.Categorical(user_training_dataset_update['Total time spent (in seconds)_bucket'])"
   ]
  },
  {
   "cell_type": "code",
   "execution_count": 53,
   "metadata": {},
   "outputs": [
    {
     "data": {
      "text/plain": [
       "[Unknown, (2444996.4, 38221363.0], (169857.6, 584557.4], (584557.4, 1248857.2], (-0.001, 169857.6], (1248857.2, 2444996.4]]\n",
       "Categories (6, object): [Unknown, (2444996.4, 38221363.0], (169857.6, 584557.4], (584557.4, 1248857.2], (-0.001, 169857.6], (1248857.2, 2444996.4]]"
      ]
     },
     "execution_count": 53,
     "metadata": {},
     "output_type": "execute_result"
    }
   ],
   "source": [
    "user_training_dataset_update['Total time spent (in seconds)_bucket'].unique()"
   ]
  },
  {
   "cell_type": "code",
   "execution_count": 54,
   "metadata": {},
   "outputs": [
    {
     "data": {
      "text/plain": [
       "(-0.001, 169857.6]          14763\n",
       "(1248857.2, 2444996.4]      14763\n",
       "(169857.6, 584557.4]        14763\n",
       "(2444996.4, 38221363.0]     14763\n",
       "(584557.4, 1248857.2]       14763\n",
       "Unknown                    139636\n",
       "Name: Total time spent (in seconds)_bucket, dtype: int64"
      ]
     },
     "execution_count": 54,
     "metadata": {},
     "output_type": "execute_result"
    }
   ],
   "source": [
    "user_training_dataset_update['Total time spent (in seconds)_bucket'].value_counts().sort_index()"
   ]
  },
  {
   "cell_type": "code",
   "execution_count": 55,
   "metadata": {},
   "outputs": [],
   "source": [
    "user_training_dataset_update['session count_bucket']=pd.qcut(user_training_dataset_update['session count'], 5, duplicates='drop')"
   ]
  },
  {
   "cell_type": "code",
   "execution_count": 56,
   "metadata": {},
   "outputs": [],
   "source": [
    "user_training_dataset_update['session count_bucket']=user_training_dataset_update['session count_bucket'].astype('str')\n",
    "user_training_dataset_update.loc[user_training_dataset_update['session count_bucket']=='nan','session count_bucket']='Unknown'\n",
    "user_training_dataset_update['session count_bucket']=pd.Categorical(user_training_dataset_update['session count_bucket'])"
   ]
  },
  {
   "cell_type": "code",
   "execution_count": 57,
   "metadata": {},
   "outputs": [
    {
     "data": {
      "text/plain": [
       "(0.999, 10.0]       14934\n",
       "(10.0, 26.0]        14947\n",
       "(111.0, 2644.0]     14693\n",
       "(26.0, 53.0]        14474\n",
       "(53.0, 111.0]       14767\n",
       "Unknown            139636\n",
       "Name: session count_bucket, dtype: int64"
      ]
     },
     "execution_count": 57,
     "metadata": {},
     "output_type": "execute_result"
    }
   ],
   "source": [
    "user_training_dataset_update['session count_bucket'].value_counts().sort_index()"
   ]
  },
  {
   "cell_type": "code",
   "execution_count": 191,
   "metadata": {},
   "outputs": [],
   "source": [
    "user_training_dataset_update.to_csv(\"C:/Users/yuka.abe/Desktop/Airbnb Kaggle DataSet/user_training_dataset_update.csv\", index=False)"
   ]
  },
  {
   "cell_type": "markdown",
   "metadata": {},
   "source": [
    "# Inferential Statistics from the data:"
   ]
  },
  {
   "cell_type": "markdown",
   "metadata": {},
   "source": [
    "# Below are the hypotheses made from the dataset:"
   ]
  },
  {
   "cell_type": "markdown",
   "metadata": {},
   "source": [
    "\n",
    "- Bookers have stayed with the airbnb website longer than the non bookers (based on the first date active)\n",
    "- Bookers have more activities on the airbnb website than non bookers (based on the session count)\n",
    "- Age and gender could be important factors to determine which country users booked\n"
   ]
  },
  {
   "cell_type": "markdown",
   "metadata": {},
   "source": [
    "# Hypothesis 1: Bookers has stayed with the airbnb website longer than the non bookers (based on the first date active)"
   ]
  },
  {
   "cell_type": "markdown",
   "metadata": {},
   "source": [
    "- Ho: There's no difference between bookers and non-bookers on their number of days since they were active.\n",
    "- H1: Bookers stay longer with the website than non-bookers."
   ]
  },
  {
   "cell_type": "code",
   "execution_count": 127,
   "metadata": {},
   "outputs": [],
   "source": [
    "user_training_dataset_update_Hypothesis1=user_training_dataset_update"
   ]
  },
  {
   "cell_type": "code",
   "execution_count": 133,
   "metadata": {},
   "outputs": [],
   "source": [
    "user_training_dataset_update_Hypothesis1_bookers=user_training_dataset_update_Hypothesis1.loc[user_training_dataset_update_Hypothesis1['trip_booking_flag']==True, 'number_of_active_day_as_of_latest_date']\n",
    "user_training_dataset_update_Hypothesis1_non_bookers=user_training_dataset_update_Hypothesis1.loc[user_training_dataset_update_Hypothesis1['trip_booking_flag']==False, 'number_of_active_day_as_of_latest_date']\n",
    "\n"
   ]
  },
  {
   "cell_type": "code",
   "execution_count": 134,
   "metadata": {},
   "outputs": [],
   "source": [
    "booker_activedays_mean_h_1=user_training_dataset_update_Hypothesis1_bookers.mean()\n",
    "non_booker_activeday_meanh_1=user_training_dataset_update_Hypothesis1_non_bookers.mean()\n",
    "booker_activeday_stdh_1=user_training_dataset_update_Hypothesis1_bookers.std()\n",
    "non_booker_activeday_stdh_1=user_training_dataset_update_Hypothesis1_non_bookers.std()"
   ]
  },
  {
   "cell_type": "code",
   "execution_count": 315,
   "metadata": {},
   "outputs": [
    {
     "name": "stdout",
     "output_type": "stream",
     "text": [
      "Booker Average Active Days:  770.9529851082017\n",
      "Booker Active Days Standard Deviation:  333.7175503561046\n",
      "Non booker Average Active Days:  710.7966084003116\n",
      "Non booker Active Days Standard Deviation:  294.4966236898954\n"
     ]
    }
   ],
   "source": [
    "print(\"Booker Average Active Days: \",booker_activedays_mean_h_1 )\n",
    "print(\"Booker Active Days Standard Deviation: \",booker_activeday_stdh_1)\n",
    "print(\"Non booker Average Active Days: \" , non_booker_activeday_meanh_1)\n",
    "print(\"Non booker Active Days Standard Deviation: \" , non_booker_activeday_stdh_1)"
   ]
  },
  {
   "cell_type": "code",
   "execution_count": 138,
   "metadata": {},
   "outputs": [],
   "source": [
    "SE_h1=np.sqrt(user_training_dataset_update_Hypothesis1_bookers.var()/user_training_dataset_update_Hypothesis1_bookers.count()+user_training_dataset_update_Hypothesis1_non_bookers.var()/user_training_dataset_update_Hypothesis1_non_bookers.count())"
   ]
  },
  {
   "cell_type": "code",
   "execution_count": 141,
   "metadata": {},
   "outputs": [],
   "source": [
    "Z_test=(booker_activedays_mean_h_1-non_booker_activeday_meanh_1)/SE_h1"
   ]
  },
  {
   "cell_type": "markdown",
   "metadata": {},
   "source": [
    "Below is the t test between bookers and non bookers active days"
   ]
  },
  {
   "cell_type": "code",
   "execution_count": 277,
   "metadata": {},
   "outputs": [],
   "source": [
    "from scipy import stats"
   ]
  },
  {
   "cell_type": "code",
   "execution_count": 281,
   "metadata": {},
   "outputs": [
    {
     "data": {
      "text/plain": [
       "Ttest_indResult(statistic=-43.99433094614681, pvalue=0.0)"
      ]
     },
     "execution_count": 281,
     "metadata": {},
     "output_type": "execute_result"
    }
   ],
   "source": [
    "stats.ttest_ind(user_training_dataset_update_Hypothesis1_non_bookers, user_training_dataset_update_Hypothesis1_bookers)"
   ]
  },
  {
   "cell_type": "markdown",
   "metadata": {},
   "source": [
    "# Conclusion: The high z test statistic indicates that the p value is very low and there's signification difference between bookers and non-bookers in number of active days."
   ]
  },
  {
   "cell_type": "markdown",
   "metadata": {},
   "source": [
    "# Hypothesis 2: Bookers has more activities on the airbnb website than non bookers (based on the session count):\n"
   ]
  },
  {
   "cell_type": "markdown",
   "metadata": {},
   "source": [
    "- Ho: There's no difference between bookers and non-bookers on their web activities.\n",
    "- H1: Bookers have more activities on airbnb than non-bookers on average.\n",
    "\n",
    "\n",
    "Since the sample size of the data is large enough, I'm going to use z test for the make the comparison between the group means."
   ]
  },
  {
   "cell_type": "code",
   "execution_count": 104,
   "metadata": {},
   "outputs": [],
   "source": [
    "user_training_dataset_update_Hypothesis2=user_training_dataset_update.loc[pd.isnull(user_training_dataset_update['session count'])==False]"
   ]
  },
  {
   "cell_type": "code",
   "execution_count": 107,
   "metadata": {},
   "outputs": [],
   "source": [
    "user_training_dataset_update_Hypothesis2_bookers=user_training_dataset_update_Hypothesis2.loc[user_training_dataset_update_Hypothesis2['trip_booking_flag']==True, 'session count']\n",
    "user_training_dataset_update_Hypothesis2_non_bookers=user_training_dataset_update_Hypothesis2.loc[user_training_dataset_update_Hypothesis2['trip_booking_flag']==False, 'session count']\n"
   ]
  },
  {
   "cell_type": "code",
   "execution_count": 116,
   "metadata": {},
   "outputs": [
    {
     "data": {
      "text/plain": [
       "<matplotlib.axes._subplots.AxesSubplot at 0x1b3f4860>"
      ]
     },
     "execution_count": 116,
     "metadata": {},
     "output_type": "execute_result"
    },
    {
     "data": {
      "image/png": "[encoded data removed]",
      "text/plain": [
       "<matplotlib.figure.Figure at 0x1b398eb8>"
      ]
     },
     "metadata": {
      "needs_background": "light"
     },
     "output_type": "display_data"
    }
   ],
   "source": [
    "sns.distplot(user_training_dataset_update_Hypothesis2_non_bookers)"
   ]
  },
  {
   "cell_type": "code",
   "execution_count": 115,
   "metadata": {},
   "outputs": [
    {
     "data": {
      "text/plain": [
       "<matplotlib.axes._subplots.AxesSubplot at 0x1b36e6d8>"
      ]
     },
     "execution_count": 115,
     "metadata": {},
     "output_type": "execute_result"
    },
    {
     "data": {
      "image/png": "[encoded data removed]",
      "text/plain": [
       "<matplotlib.figure.Figure at 0x1b36ec50>"
      ]
     },
     "metadata": {
      "needs_background": "light"
     },
     "output_type": "display_data"
    }
   ],
   "source": [
    "sns.distplot(user_training_dataset_update_Hypothesis2_bookers)"
   ]
  },
  {
   "cell_type": "code",
   "execution_count": 109,
   "metadata": {},
   "outputs": [],
   "source": [
    "booker_session_mean=user_training_dataset_update_Hypothesis2_bookers.mean()\n",
    "non_booker_session_mean=user_training_dataset_update_Hypothesis2_non_bookers.mean()\n",
    "booker_session_std=user_training_dataset_update_Hypothesis2_bookers.std()\n",
    "non_booker_session_std=user_training_dataset_update_Hypothesis2_non_bookers.std()"
   ]
  },
  {
   "cell_type": "code",
   "execution_count": 111,
   "metadata": {},
   "outputs": [
    {
     "name": "stdout",
     "output_type": "stream",
     "text": [
      "Booker Average Session:  86.19750469173559\n",
      "Booker Session Standard Deviation:  125.22530747074708\n",
      "Non booker Average Session:  67.88725827579317\n",
      "Non booker Session Standard Deviation:  103.00102836851677\n"
     ]
    }
   ],
   "source": [
    "print(\"Booker Average Session: \",booker_session_mean )\n",
    "print(\"Booker Session Standard Deviation: \",booker_session_std )\n",
    "print(\"Non booker Average Session: \" , non_booker_session_mean)\n",
    "print(\"Non booker Session Standard Deviation: \" , non_booker_session_std)"
   ]
  },
  {
   "cell_type": "code",
   "execution_count": 139,
   "metadata": {},
   "outputs": [],
   "source": [
    "Booker_NonBooker_Avg_Session_diff=booker_session_mean-non_booker_session_mean\n",
    "SE=np.sqrt(user_training_dataset_update_Hypothesis2_bookers.var()/user_training_dataset_update_Hypothesis2_bookers.count()+user_training_dataset_update_Hypothesis2_non_bookers.var()/user_training_dataset_update_Hypothesis2_non_bookers.count())"
   ]
  },
  {
   "cell_type": "code",
   "execution_count": 123,
   "metadata": {},
   "outputs": [
    {
     "data": {
      "text/plain": [
       "0.8834760514656005"
      ]
     },
     "execution_count": 123,
     "metadata": {},
     "output_type": "execute_result"
    }
   ],
   "source": [
    "SE"
   ]
  },
  {
   "cell_type": "code",
   "execution_count": 124,
   "metadata": {},
   "outputs": [
    {
     "data": {
      "text/plain": [
       "20.72523232018288"
      ]
     },
     "execution_count": 124,
     "metadata": {},
     "output_type": "execute_result"
    }
   ],
   "source": [
    "Z_test=Booker_NonBooker_Avg_Session_diff/SE\n",
    "Z_test"
   ]
  },
  {
   "cell_type": "markdown",
   "metadata": {},
   "source": [
    "# Conclusion: Z test is 20.75. So the p value is very small. In this case we can conclude that bookers are on average more active than non-bookers on the airbnb website"
   ]
  },
  {
   "cell_type": "markdown",
   "metadata": {},
   "source": [
    "# Hypothesis 3: Age and gender could be important factors to determine which country users booked"
   ]
  },
  {
   "cell_type": "code",
   "execution_count": 147,
   "metadata": {},
   "outputs": [],
   "source": [
    "user_training_dataset_update_Hypothesis3=user_training_dataset_update"
   ]
  },
  {
   "cell_type": "code",
   "execution_count": 148,
   "metadata": {},
   "outputs": [],
   "source": [
    "user_training_dataset_update_Hypothesis3_gender=user_training_dataset_update_Hypothesis3.loc[(user_training_dataset_update_Hypothesis3['gender']!='Unknown')  ]"
   ]
  },
  {
   "cell_type": "code",
   "execution_count": 149,
   "metadata": {},
   "outputs": [
    {
     "data": {
      "text/plain": [
       "trip_booking_flag  gender\n",
       "False              FEMALE    31048\n",
       "                   MALE      26719\n",
       "                   OTHER       106\n",
       "True               FEMALE    31993\n",
       "                   MALE      27721\n",
       "                   OTHER       176\n",
       "Name: gender, dtype: int64"
      ]
     },
     "execution_count": 149,
     "metadata": {},
     "output_type": "execute_result"
    }
   ],
   "source": [
    "user_training_dataset_update_Hypothesis3_gender.groupby('trip_booking_flag')['gender'].value_counts()"
   ]
  },
  {
   "cell_type": "code",
   "execution_count": 146,
   "metadata": {},
   "outputs": [
    {
     "data": {
      "text/html": [
       "<div>\n",
       "<style scoped>\n",
       "    .dataframe tbody tr th:only-of-type {\n",
       "        vertical-align: middle;\n",
       "    }\n",
       "\n",
       "    .dataframe tbody tr th {\n",
       "        vertical-align: top;\n",
       "    }\n",
       "\n",
       "    .dataframe thead th {\n",
       "        text-align: right;\n",
       "    }\n",
       "</style>\n",
       "<table border=\"1\" class=\"dataframe\">\n",
       "  <thead>\n",
       "    <tr style=\"text-align: right;\">\n",
       "      <th></th>\n",
       "      <th>id</th>\n",
       "      <th>date_account_created</th>\n",
       "      <th>timestamp_first_active_cleaned</th>\n",
       "      <th>gender</th>\n",
       "      <th>signup_method</th>\n",
       "      <th>signup_flow</th>\n",
       "      <th>language</th>\n",
       "      <th>affiliate_channel</th>\n",
       "      <th>affiliate_provider</th>\n",
       "      <th>first_affiliate_tracked</th>\n",
       "      <th>...</th>\n",
       "      <th>Account_creation_date_day_of_week</th>\n",
       "      <th>first_active_date_month</th>\n",
       "      <th>first_active_date_day</th>\n",
       "      <th>first_active_date_year</th>\n",
       "      <th>first_active_date_dayofweek</th>\n",
       "      <th>age_bucket</th>\n",
       "      <th>Total time spent (in seconds)_fill_null_zero</th>\n",
       "      <th>session count_fill_null_zero</th>\n",
       "      <th>Total time spent (in seconds)_bucket</th>\n",
       "      <th>session count_bucket</th>\n",
       "    </tr>\n",
       "  </thead>\n",
       "  <tbody>\n",
       "    <tr>\n",
       "      <th>1</th>\n",
       "      <td>820tgsjxq7</td>\n",
       "      <td>2011-05-25</td>\n",
       "      <td>2009-05-23</td>\n",
       "      <td>MALE</td>\n",
       "      <td>facebook</td>\n",
       "      <td>0</td>\n",
       "      <td>en</td>\n",
       "      <td>seo</td>\n",
       "      <td>google</td>\n",
       "      <td>untracked</td>\n",
       "      <td>...</td>\n",
       "      <td>2</td>\n",
       "      <td>5</td>\n",
       "      <td>23</td>\n",
       "      <td>2009</td>\n",
       "      <td>5</td>\n",
       "      <td>(36.0, 46.0]</td>\n",
       "      <td>0.0</td>\n",
       "      <td>0.0</td>\n",
       "      <td>Unknown</td>\n",
       "      <td>Unknown</td>\n",
       "    </tr>\n",
       "    <tr>\n",
       "      <th>2</th>\n",
       "      <td>4ft3gnwmtx</td>\n",
       "      <td>2010-09-28</td>\n",
       "      <td>2009-06-09</td>\n",
       "      <td>FEMALE</td>\n",
       "      <td>basic</td>\n",
       "      <td>3</td>\n",
       "      <td>en</td>\n",
       "      <td>direct</td>\n",
       "      <td>direct</td>\n",
       "      <td>untracked</td>\n",
       "      <td>...</td>\n",
       "      <td>1</td>\n",
       "      <td>6</td>\n",
       "      <td>9</td>\n",
       "      <td>2009</td>\n",
       "      <td>1</td>\n",
       "      <td>(46.0, 122.0]</td>\n",
       "      <td>0.0</td>\n",
       "      <td>0.0</td>\n",
       "      <td>Unknown</td>\n",
       "      <td>Unknown</td>\n",
       "    </tr>\n",
       "    <tr>\n",
       "      <th>3</th>\n",
       "      <td>bjjt8pjhuk</td>\n",
       "      <td>2011-12-05</td>\n",
       "      <td>2009-10-31</td>\n",
       "      <td>FEMALE</td>\n",
       "      <td>facebook</td>\n",
       "      <td>0</td>\n",
       "      <td>en</td>\n",
       "      <td>direct</td>\n",
       "      <td>direct</td>\n",
       "      <td>untracked</td>\n",
       "      <td>...</td>\n",
       "      <td>0</td>\n",
       "      <td>10</td>\n",
       "      <td>31</td>\n",
       "      <td>2009</td>\n",
       "      <td>5</td>\n",
       "      <td>(36.0, 46.0]</td>\n",
       "      <td>0.0</td>\n",
       "      <td>0.0</td>\n",
       "      <td>Unknown</td>\n",
       "      <td>Unknown</td>\n",
       "    </tr>\n",
       "    <tr>\n",
       "      <th>6</th>\n",
       "      <td>lsw9q7uk0j</td>\n",
       "      <td>2010-01-02</td>\n",
       "      <td>2010-01-02</td>\n",
       "      <td>FEMALE</td>\n",
       "      <td>basic</td>\n",
       "      <td>0</td>\n",
       "      <td>en</td>\n",
       "      <td>other</td>\n",
       "      <td>craigslist</td>\n",
       "      <td>untracked</td>\n",
       "      <td>...</td>\n",
       "      <td>5</td>\n",
       "      <td>1</td>\n",
       "      <td>2</td>\n",
       "      <td>2010</td>\n",
       "      <td>5</td>\n",
       "      <td>(36.0, 46.0]</td>\n",
       "      <td>0.0</td>\n",
       "      <td>0.0</td>\n",
       "      <td>Unknown</td>\n",
       "      <td>Unknown</td>\n",
       "    </tr>\n",
       "    <tr>\n",
       "      <th>7</th>\n",
       "      <td>0d01nltbrs</td>\n",
       "      <td>2010-01-03</td>\n",
       "      <td>2010-01-03</td>\n",
       "      <td>FEMALE</td>\n",
       "      <td>basic</td>\n",
       "      <td>0</td>\n",
       "      <td>en</td>\n",
       "      <td>direct</td>\n",
       "      <td>direct</td>\n",
       "      <td>omg</td>\n",
       "      <td>...</td>\n",
       "      <td>6</td>\n",
       "      <td>1</td>\n",
       "      <td>3</td>\n",
       "      <td>2010</td>\n",
       "      <td>6</td>\n",
       "      <td>(46.0, 122.0]</td>\n",
       "      <td>0.0</td>\n",
       "      <td>0.0</td>\n",
       "      <td>Unknown</td>\n",
       "      <td>Unknown</td>\n",
       "    </tr>\n",
       "  </tbody>\n",
       "</table>\n",
       "<p>5 rows × 34 columns</p>\n",
       "</div>"
      ],
      "text/plain": [
       "           id date_account_created timestamp_first_active_cleaned  gender  \\\n",
       "1  820tgsjxq7           2011-05-25                     2009-05-23    MALE   \n",
       "2  4ft3gnwmtx           2010-09-28                     2009-06-09  FEMALE   \n",
       "3  bjjt8pjhuk           2011-12-05                     2009-10-31  FEMALE   \n",
       "6  lsw9q7uk0j           2010-01-02                     2010-01-02  FEMALE   \n",
       "7  0d01nltbrs           2010-01-03                     2010-01-03  FEMALE   \n",
       "\n",
       "  signup_method signup_flow language affiliate_channel affiliate_provider  \\\n",
       "1      facebook           0       en               seo             google   \n",
       "2         basic           3       en            direct             direct   \n",
       "3      facebook           0       en            direct             direct   \n",
       "6         basic           0       en             other         craigslist   \n",
       "7         basic           0       en            direct             direct   \n",
       "\n",
       "  first_affiliate_tracked          ...           \\\n",
       "1               untracked          ...            \n",
       "2               untracked          ...            \n",
       "3               untracked          ...            \n",
       "6               untracked          ...            \n",
       "7                     omg          ...            \n",
       "\n",
       "  Account_creation_date_day_of_week first_active_date_month  \\\n",
       "1                                 2                       5   \n",
       "2                                 1                       6   \n",
       "3                                 0                      10   \n",
       "6                                 5                       1   \n",
       "7                                 6                       1   \n",
       "\n",
       "  first_active_date_day first_active_date_year  first_active_date_dayofweek  \\\n",
       "1                    23                   2009                            5   \n",
       "2                     9                   2009                            1   \n",
       "3                    31                   2009                            5   \n",
       "6                     2                   2010                            5   \n",
       "7                     3                   2010                            6   \n",
       "\n",
       "      age_bucket  Total time spent (in seconds)_fill_null_zero  \\\n",
       "1   (36.0, 46.0]                                           0.0   \n",
       "2  (46.0, 122.0]                                           0.0   \n",
       "3   (36.0, 46.0]                                           0.0   \n",
       "6   (36.0, 46.0]                                           0.0   \n",
       "7  (46.0, 122.0]                                           0.0   \n",
       "\n",
       "   session count_fill_null_zero  Total time spent (in seconds)_bucket  \\\n",
       "1                           0.0                               Unknown   \n",
       "2                           0.0                               Unknown   \n",
       "3                           0.0                               Unknown   \n",
       "6                           0.0                               Unknown   \n",
       "7                           0.0                               Unknown   \n",
       "\n",
       "   session count_bucket  \n",
       "1               Unknown  \n",
       "2               Unknown  \n",
       "3               Unknown  \n",
       "6               Unknown  \n",
       "7               Unknown  \n",
       "\n",
       "[5 rows x 34 columns]"
      ]
     },
     "execution_count": 146,
     "metadata": {},
     "output_type": "execute_result"
    }
   ],
   "source": [
    "user_training_dataset_update_Hypothesis3_gender.head()"
   ]
  },
  {
   "cell_type": "code",
   "execution_count": 150,
   "metadata": {},
   "outputs": [],
   "source": [
    "import pandas as pd\n",
    "import researchpy as rp\n",
    "from scipy import stats"
   ]
  },
  {
   "cell_type": "markdown",
   "metadata": {},
   "source": [
    "# Explore the relationship between trip booking flag and gender"
   ]
  },
  {
   "cell_type": "markdown",
   "metadata": {},
   "source": [
    "Frequency table between gender and trip booking flag:"
   ]
  },
  {
   "cell_type": "code",
   "execution_count": 154,
   "metadata": {},
   "outputs": [
    {
     "data": {
      "text/html": [
       "<div>\n",
       "<style scoped>\n",
       "    .dataframe tbody tr th:only-of-type {\n",
       "        vertical-align: middle;\n",
       "    }\n",
       "\n",
       "    .dataframe tbody tr th {\n",
       "        vertical-align: top;\n",
       "    }\n",
       "\n",
       "    .dataframe thead th {\n",
       "        text-align: right;\n",
       "    }\n",
       "</style>\n",
       "<table border=\"1\" class=\"dataframe\">\n",
       "  <thead>\n",
       "    <tr style=\"text-align: right;\">\n",
       "      <th></th>\n",
       "      <th>Variable</th>\n",
       "      <th>Outcome</th>\n",
       "      <th>Count</th>\n",
       "      <th>Percent</th>\n",
       "    </tr>\n",
       "  </thead>\n",
       "  <tbody>\n",
       "    <tr>\n",
       "      <th>0</th>\n",
       "      <td>gender</td>\n",
       "      <td>FEMALE</td>\n",
       "      <td>63041</td>\n",
       "      <td>53.53</td>\n",
       "    </tr>\n",
       "    <tr>\n",
       "      <th>1</th>\n",
       "      <td></td>\n",
       "      <td>MALE</td>\n",
       "      <td>54440</td>\n",
       "      <td>46.23</td>\n",
       "    </tr>\n",
       "    <tr>\n",
       "      <th>2</th>\n",
       "      <td></td>\n",
       "      <td>OTHER</td>\n",
       "      <td>282</td>\n",
       "      <td>0.24</td>\n",
       "    </tr>\n",
       "    <tr>\n",
       "      <th>3</th>\n",
       "      <td>trip_booking_flag</td>\n",
       "      <td>True</td>\n",
       "      <td>59890</td>\n",
       "      <td>50.86</td>\n",
       "    </tr>\n",
       "    <tr>\n",
       "      <th>4</th>\n",
       "      <td></td>\n",
       "      <td>False</td>\n",
       "      <td>57873</td>\n",
       "      <td>49.14</td>\n",
       "    </tr>\n",
       "  </tbody>\n",
       "</table>\n",
       "</div>"
      ],
      "text/plain": [
       "            Variable Outcome  Count  Percent\n",
       "0             gender  FEMALE  63041    53.53\n",
       "1                       MALE  54440    46.23\n",
       "2                      OTHER    282     0.24\n",
       "3  trip_booking_flag    True  59890    50.86\n",
       "4                      False  57873    49.14"
      ]
     },
     "execution_count": 154,
     "metadata": {},
     "output_type": "execute_result"
    }
   ],
   "source": [
    "rp.summary_cat(user_training_dataset_update_Hypothesis3_gender[['gender', 'trip_booking_flag']])"
   ]
  },
  {
   "cell_type": "code",
   "execution_count": 158,
   "metadata": {},
   "outputs": [],
   "source": [
    "crosstab=pd.crosstab(user_training_dataset_update_Hypothesis3_gender['gender'], user_training_dataset_update_Hypothesis3_gender['trip_booking_flag'])\n"
   ]
  },
  {
   "cell_type": "code",
   "execution_count": 161,
   "metadata": {},
   "outputs": [
    {
     "name": "stdout",
     "output_type": "stream",
     "text": [
      "trip_booking_flag  False  True \n",
      "gender                         \n",
      "FEMALE             31048  31993\n",
      "MALE               26719  27721\n",
      "OTHER                106    176\n"
     ]
    }
   ],
   "source": [
    "print(crosstab)"
   ]
  },
  {
   "cell_type": "code",
   "execution_count": 159,
   "metadata": {},
   "outputs": [
    {
     "data": {
      "text/plain": [
       "(15.44218185742718,\n",
       " 0.0004433766476541261,\n",
       " 2,\n",
       " array([[30980.62883079, 32060.37116921],\n",
       "        [26753.78616374, 27686.21383626],\n",
       "        [  138.58500548,   143.41499452]]))"
      ]
     },
     "execution_count": 159,
     "metadata": {},
     "output_type": "execute_result"
    }
   ],
   "source": [
    "stats.chi2_contingency(crosstab)"
   ]
  },
  {
   "cell_type": "code",
   "execution_count": 164,
   "metadata": {},
   "outputs": [
    {
     "data": {
      "text/html": [
       "<div>\n",
       "<style scoped>\n",
       "    .dataframe tbody tr th:only-of-type {\n",
       "        vertical-align: middle;\n",
       "    }\n",
       "\n",
       "    .dataframe tbody tr th {\n",
       "        vertical-align: top;\n",
       "    }\n",
       "\n",
       "    .dataframe thead tr th {\n",
       "        text-align: left;\n",
       "    }\n",
       "\n",
       "    .dataframe thead tr:last-of-type th {\n",
       "        text-align: right;\n",
       "    }\n",
       "</style>\n",
       "<table border=\"1\" class=\"dataframe\">\n",
       "  <thead>\n",
       "    <tr>\n",
       "      <th></th>\n",
       "      <th colspan=\"3\" halign=\"left\">trip_booking_flag</th>\n",
       "    </tr>\n",
       "    <tr>\n",
       "      <th></th>\n",
       "      <th>False</th>\n",
       "      <th>True</th>\n",
       "      <th>All</th>\n",
       "    </tr>\n",
       "    <tr>\n",
       "      <th>gender</th>\n",
       "      <th></th>\n",
       "      <th></th>\n",
       "      <th></th>\n",
       "    </tr>\n",
       "  </thead>\n",
       "  <tbody>\n",
       "    <tr>\n",
       "      <th>FEMALE</th>\n",
       "      <td>53.65</td>\n",
       "      <td>53.42</td>\n",
       "      <td>53.53</td>\n",
       "    </tr>\n",
       "    <tr>\n",
       "      <th>MALE</th>\n",
       "      <td>46.17</td>\n",
       "      <td>46.29</td>\n",
       "      <td>46.23</td>\n",
       "    </tr>\n",
       "    <tr>\n",
       "      <th>OTHER</th>\n",
       "      <td>0.18</td>\n",
       "      <td>0.29</td>\n",
       "      <td>0.24</td>\n",
       "    </tr>\n",
       "    <tr>\n",
       "      <th>All</th>\n",
       "      <td>100.00</td>\n",
       "      <td>100.00</td>\n",
       "      <td>100.00</td>\n",
       "    </tr>\n",
       "  </tbody>\n",
       "</table>\n",
       "</div>"
      ],
      "text/plain": [
       "       trip_booking_flag                \n",
       "                   False    True     All\n",
       "gender                                  \n",
       "FEMALE             53.65   53.42   53.53\n",
       "MALE               46.17   46.29   46.23\n",
       "OTHER               0.18    0.29    0.24\n",
       "All               100.00  100.00  100.00"
      ]
     },
     "execution_count": 164,
     "metadata": {},
     "output_type": "execute_result"
    }
   ],
   "source": [
    "table, results = rp.crosstab(user_training_dataset_update_Hypothesis3_gender['gender'],  user_training_dataset_update_Hypothesis3_gender['trip_booking_flag'], prop= 'col', test= 'chi-square')\n",
    "table"
   ]
  },
  {
   "cell_type": "code",
   "execution_count": 163,
   "metadata": {},
   "outputs": [
    {
     "data": {
      "text/html": [
       "<div>\n",
       "<style scoped>\n",
       "    .dataframe tbody tr th:only-of-type {\n",
       "        vertical-align: middle;\n",
       "    }\n",
       "\n",
       "    .dataframe tbody tr th {\n",
       "        vertical-align: top;\n",
       "    }\n",
       "\n",
       "    .dataframe thead th {\n",
       "        text-align: right;\n",
       "    }\n",
       "</style>\n",
       "<table border=\"1\" class=\"dataframe\">\n",
       "  <thead>\n",
       "    <tr style=\"text-align: right;\">\n",
       "      <th></th>\n",
       "      <th>Chi-square test</th>\n",
       "      <th>results</th>\n",
       "    </tr>\n",
       "  </thead>\n",
       "  <tbody>\n",
       "    <tr>\n",
       "      <th>0</th>\n",
       "      <td>Pearson Chi-square ( 2.0) =</td>\n",
       "      <td>15.4422</td>\n",
       "    </tr>\n",
       "    <tr>\n",
       "      <th>1</th>\n",
       "      <td>p-value =</td>\n",
       "      <td>0.0004</td>\n",
       "    </tr>\n",
       "    <tr>\n",
       "      <th>2</th>\n",
       "      <td>Cramer's V =</td>\n",
       "      <td>0.0115</td>\n",
       "    </tr>\n",
       "  </tbody>\n",
       "</table>\n",
       "</div>"
      ],
      "text/plain": [
       "                Chi-square test  results\n",
       "0  Pearson Chi-square ( 2.0) =   15.4422\n",
       "1                    p-value =    0.0004\n",
       "2                 Cramer's V =    0.0115"
      ]
     },
     "execution_count": 163,
     "metadata": {},
     "output_type": "execute_result"
    }
   ],
   "source": [
    "results"
   ]
  },
  {
   "cell_type": "markdown",
   "metadata": {},
   "source": [
    "# Conclusion:  there's a significant relationship between gender and whether users booked the trip or not. But the relationship is not that strong given Cramer's V is only 0.0115."
   ]
  },
  {
   "cell_type": "markdown",
   "metadata": {},
   "source": [
    "# Explore relationship between gender and destination country"
   ]
  },
  {
   "cell_type": "code",
   "execution_count": 207,
   "metadata": {},
   "outputs": [],
   "source": [
    "gender_country_plot_df=user_training_dataset_update_Hypothesis3_gender.groupby('gender')['country_destination'].value_counts()"
   ]
  },
  {
   "cell_type": "code",
   "execution_count": 209,
   "metadata": {},
   "outputs": [],
   "source": [
    "gender_country_plot_df1=pd.DataFrame(gender_country_plot_df).rename(columns={'country_destination': 'destination country count'})"
   ]
  },
  {
   "cell_type": "code",
   "execution_count": 212,
   "metadata": {},
   "outputs": [],
   "source": [
    "gender_country_plot_df1.reset_index(inplace=True)"
   ]
  },
  {
   "cell_type": "code",
   "execution_count": 240,
   "metadata": {},
   "outputs": [
    {
     "data": {
      "text/plain": [
       "array(['FEMALE', 'MALE', 'OTHER'], dtype=object)"
      ]
     },
     "execution_count": 240,
     "metadata": {},
     "output_type": "execute_result"
    }
   ],
   "source": [
    "gender_country_plot_df1['gender'].unique()"
   ]
  },
  {
   "cell_type": "code",
   "execution_count": 254,
   "metadata": {},
   "outputs": [],
   "source": [
    "def func_return_destination_country_count_percentage(dataset, gender):\n",
    "    df=dataset.loc[dataset['gender']==gender, ['country_destination', 'destination country count']]\n",
    "    df['destination country count percentage']=df['destination country count']/df['destination country count'].sum()\n",
    "    df.rename(columns={'destination country count percentage': 'destination country count percentage '+gender}, inplace=True)\n",
    "    df.set_index('country_destination', inplace=True)\n",
    "    return pd.DataFrame(df['destination country count percentage '+gender])"
   ]
  },
  {
   "cell_type": "code",
   "execution_count": 255,
   "metadata": {},
   "outputs": [],
   "source": [
    "df_female=func_return_destination_country_count_percentage(gender_country_plot_df1, 'FEMALE')\n",
    "df_male=func_return_destination_country_count_percentage(gender_country_plot_df1, 'MALE')\n",
    "df_other=func_return_destination_country_count_percentage(gender_country_plot_df1, 'OTHER')"
   ]
  },
  {
   "cell_type": "code",
   "execution_count": 258,
   "metadata": {
    "scrolled": false
   },
   "outputs": [],
   "source": [
    "df_gender_final=pd.merge(pd.merge(df_female, df_male, left_index=True, right_index=True), df_other, left_index=True, right_index=True)"
   ]
  },
  {
   "cell_type": "markdown",
   "metadata": {},
   "source": [
    "# As you can see the bar plot below:\n",
    "- Other gender is more likely to book a trip in US, other destinations and France compared with users identified as Male and Female gender \n",
    "- users identified as male and female gender are less likely to book a trip."
   ]
  },
  {
   "cell_type": "code",
   "execution_count": 262,
   "metadata": {},
   "outputs": [
    {
     "data": {
      "text/plain": [
       "<matplotlib.figure.Figure at 0x2a93dcc0>"
      ]
     },
     "metadata": {},
     "output_type": "display_data"
    },
    {
     "data": {
      "image/png": "[encoded data removed]",
      "text/plain": [
       "<matplotlib.figure.Figure at 0x2a8b0080>"
      ]
     },
     "metadata": {
      "needs_background": "light"
     },
     "output_type": "display_data"
    }
   ],
   "source": [
    "plt.figure(figsize=(10,10))\n",
    "df_gender_final.plot(kind='bar')\n",
    "plt.ylabel(\"country destination count percentage per gender\")\n",
    "plt.show()"
   ]
  },
  {
   "cell_type": "markdown",
   "metadata": {},
   "source": [
    "# User chi squared test to see if there's any signification relationship between gender and country _destination"
   ]
  },
  {
   "cell_type": "code",
   "execution_count": 167,
   "metadata": {},
   "outputs": [
    {
     "data": {
      "text/html": [
       "<div>\n",
       "<style scoped>\n",
       "    .dataframe tbody tr th:only-of-type {\n",
       "        vertical-align: middle;\n",
       "    }\n",
       "\n",
       "    .dataframe tbody tr th {\n",
       "        vertical-align: top;\n",
       "    }\n",
       "\n",
       "    .dataframe thead th {\n",
       "        text-align: right;\n",
       "    }\n",
       "</style>\n",
       "<table border=\"1\" class=\"dataframe\">\n",
       "  <thead>\n",
       "    <tr style=\"text-align: right;\">\n",
       "      <th></th>\n",
       "      <th>Variable</th>\n",
       "      <th>Outcome</th>\n",
       "      <th>Count</th>\n",
       "      <th>Percent</th>\n",
       "    </tr>\n",
       "  </thead>\n",
       "  <tbody>\n",
       "    <tr>\n",
       "      <th>0</th>\n",
       "      <td>gender</td>\n",
       "      <td>FEMALE</td>\n",
       "      <td>63041</td>\n",
       "      <td>53.53</td>\n",
       "    </tr>\n",
       "    <tr>\n",
       "      <th>1</th>\n",
       "      <td></td>\n",
       "      <td>MALE</td>\n",
       "      <td>54440</td>\n",
       "      <td>46.23</td>\n",
       "    </tr>\n",
       "    <tr>\n",
       "      <th>2</th>\n",
       "      <td></td>\n",
       "      <td>OTHER</td>\n",
       "      <td>282</td>\n",
       "      <td>0.24</td>\n",
       "    </tr>\n",
       "    <tr>\n",
       "      <th>3</th>\n",
       "      <td>country_destination</td>\n",
       "      <td>NDF</td>\n",
       "      <td>57873</td>\n",
       "      <td>49.14</td>\n",
       "    </tr>\n",
       "    <tr>\n",
       "      <th>4</th>\n",
       "      <td></td>\n",
       "      <td>US</td>\n",
       "      <td>42267</td>\n",
       "      <td>35.89</td>\n",
       "    </tr>\n",
       "    <tr>\n",
       "      <th>5</th>\n",
       "      <td></td>\n",
       "      <td>other</td>\n",
       "      <td>6625</td>\n",
       "      <td>5.63</td>\n",
       "    </tr>\n",
       "    <tr>\n",
       "      <th>6</th>\n",
       "      <td></td>\n",
       "      <td>FR</td>\n",
       "      <td>3310</td>\n",
       "      <td>2.81</td>\n",
       "    </tr>\n",
       "    <tr>\n",
       "      <th>7</th>\n",
       "      <td></td>\n",
       "      <td>IT</td>\n",
       "      <td>1795</td>\n",
       "      <td>1.52</td>\n",
       "    </tr>\n",
       "    <tr>\n",
       "      <th>8</th>\n",
       "      <td></td>\n",
       "      <td>GB</td>\n",
       "      <td>1566</td>\n",
       "      <td>1.33</td>\n",
       "    </tr>\n",
       "    <tr>\n",
       "      <th>9</th>\n",
       "      <td></td>\n",
       "      <td>ES</td>\n",
       "      <td>1534</td>\n",
       "      <td>1.30</td>\n",
       "    </tr>\n",
       "    <tr>\n",
       "      <th>10</th>\n",
       "      <td></td>\n",
       "      <td>CA</td>\n",
       "      <td>937</td>\n",
       "      <td>0.80</td>\n",
       "    </tr>\n",
       "    <tr>\n",
       "      <th>11</th>\n",
       "      <td></td>\n",
       "      <td>DE</td>\n",
       "      <td>777</td>\n",
       "      <td>0.66</td>\n",
       "    </tr>\n",
       "    <tr>\n",
       "      <th>12</th>\n",
       "      <td></td>\n",
       "      <td>NL</td>\n",
       "      <td>535</td>\n",
       "      <td>0.45</td>\n",
       "    </tr>\n",
       "    <tr>\n",
       "      <th>13</th>\n",
       "      <td></td>\n",
       "      <td>AU</td>\n",
       "      <td>396</td>\n",
       "      <td>0.34</td>\n",
       "    </tr>\n",
       "    <tr>\n",
       "      <th>14</th>\n",
       "      <td></td>\n",
       "      <td>PT</td>\n",
       "      <td>148</td>\n",
       "      <td>0.13</td>\n",
       "    </tr>\n",
       "  </tbody>\n",
       "</table>\n",
       "</div>"
      ],
      "text/plain": [
       "               Variable Outcome  Count  Percent\n",
       "0                gender  FEMALE  63041    53.53\n",
       "1                          MALE  54440    46.23\n",
       "2                         OTHER    282     0.24\n",
       "3   country_destination     NDF  57873    49.14\n",
       "4                            US  42267    35.89\n",
       "5                         other   6625     5.63\n",
       "6                            FR   3310     2.81\n",
       "7                            IT   1795     1.52\n",
       "8                            GB   1566     1.33\n",
       "9                            ES   1534     1.30\n",
       "10                           CA    937     0.80\n",
       "11                           DE    777     0.66\n",
       "12                           NL    535     0.45\n",
       "13                           AU    396     0.34\n",
       "14                           PT    148     0.13"
      ]
     },
     "execution_count": 167,
     "metadata": {},
     "output_type": "execute_result"
    }
   ],
   "source": [
    "rp.summary_cat(user_training_dataset_update_Hypothesis3_gender[['gender', 'country_destination']])"
   ]
  },
  {
   "cell_type": "code",
   "execution_count": 169,
   "metadata": {},
   "outputs": [
    {
     "data": {
      "text/html": [
       "<div>\n",
       "<style scoped>\n",
       "    .dataframe tbody tr th:only-of-type {\n",
       "        vertical-align: middle;\n",
       "    }\n",
       "\n",
       "    .dataframe tbody tr th {\n",
       "        vertical-align: top;\n",
       "    }\n",
       "\n",
       "    .dataframe thead tr th {\n",
       "        text-align: left;\n",
       "    }\n",
       "\n",
       "    .dataframe thead tr:last-of-type th {\n",
       "        text-align: right;\n",
       "    }\n",
       "</style>\n",
       "<table border=\"1\" class=\"dataframe\">\n",
       "  <thead>\n",
       "    <tr>\n",
       "      <th></th>\n",
       "      <th colspan=\"13\" halign=\"left\">country_destination</th>\n",
       "    </tr>\n",
       "    <tr>\n",
       "      <th></th>\n",
       "      <th>AU</th>\n",
       "      <th>CA</th>\n",
       "      <th>DE</th>\n",
       "      <th>ES</th>\n",
       "      <th>FR</th>\n",
       "      <th>GB</th>\n",
       "      <th>IT</th>\n",
       "      <th>NDF</th>\n",
       "      <th>NL</th>\n",
       "      <th>PT</th>\n",
       "      <th>US</th>\n",
       "      <th>other</th>\n",
       "      <th>All</th>\n",
       "    </tr>\n",
       "    <tr>\n",
       "      <th>gender</th>\n",
       "      <th></th>\n",
       "      <th></th>\n",
       "      <th></th>\n",
       "      <th></th>\n",
       "      <th></th>\n",
       "      <th></th>\n",
       "      <th></th>\n",
       "      <th></th>\n",
       "      <th></th>\n",
       "      <th></th>\n",
       "      <th></th>\n",
       "      <th></th>\n",
       "      <th></th>\n",
       "    </tr>\n",
       "  </thead>\n",
       "  <tbody>\n",
       "    <tr>\n",
       "      <th>FEMALE</th>\n",
       "      <td>52.27</td>\n",
       "      <td>48.56</td>\n",
       "      <td>46.07</td>\n",
       "      <td>55.61</td>\n",
       "      <td>59.27</td>\n",
       "      <td>56.26</td>\n",
       "      <td>60.78</td>\n",
       "      <td>53.65</td>\n",
       "      <td>47.48</td>\n",
       "      <td>52.70</td>\n",
       "      <td>53.69</td>\n",
       "      <td>47.70</td>\n",
       "      <td>53.53</td>\n",
       "    </tr>\n",
       "    <tr>\n",
       "      <th>MALE</th>\n",
       "      <td>47.47</td>\n",
       "      <td>50.91</td>\n",
       "      <td>53.54</td>\n",
       "      <td>44.13</td>\n",
       "      <td>40.33</td>\n",
       "      <td>43.55</td>\n",
       "      <td>38.94</td>\n",
       "      <td>46.17</td>\n",
       "      <td>51.96</td>\n",
       "      <td>46.62</td>\n",
       "      <td>46.03</td>\n",
       "      <td>51.97</td>\n",
       "      <td>46.23</td>\n",
       "    </tr>\n",
       "    <tr>\n",
       "      <th>OTHER</th>\n",
       "      <td>0.25</td>\n",
       "      <td>0.53</td>\n",
       "      <td>0.39</td>\n",
       "      <td>0.26</td>\n",
       "      <td>0.39</td>\n",
       "      <td>0.19</td>\n",
       "      <td>0.28</td>\n",
       "      <td>0.18</td>\n",
       "      <td>0.56</td>\n",
       "      <td>0.68</td>\n",
       "      <td>0.27</td>\n",
       "      <td>0.33</td>\n",
       "      <td>0.24</td>\n",
       "    </tr>\n",
       "    <tr>\n",
       "      <th>All</th>\n",
       "      <td>100.00</td>\n",
       "      <td>100.00</td>\n",
       "      <td>100.00</td>\n",
       "      <td>100.00</td>\n",
       "      <td>100.00</td>\n",
       "      <td>100.00</td>\n",
       "      <td>100.00</td>\n",
       "      <td>100.00</td>\n",
       "      <td>100.00</td>\n",
       "      <td>100.00</td>\n",
       "      <td>100.00</td>\n",
       "      <td>100.00</td>\n",
       "      <td>100.00</td>\n",
       "    </tr>\n",
       "  </tbody>\n",
       "</table>\n",
       "</div>"
      ],
      "text/plain": [
       "       country_destination                                                  \\\n",
       "                        AU      CA      DE      ES      FR      GB      IT   \n",
       "gender                                                                       \n",
       "FEMALE               52.27   48.56   46.07   55.61   59.27   56.26   60.78   \n",
       "MALE                 47.47   50.91   53.54   44.13   40.33   43.55   38.94   \n",
       "OTHER                 0.25    0.53    0.39    0.26    0.39    0.19    0.28   \n",
       "All                 100.00  100.00  100.00  100.00  100.00  100.00  100.00   \n",
       "\n",
       "                                                        \n",
       "           NDF      NL      PT      US   other     All  \n",
       "gender                                                  \n",
       "FEMALE   53.65   47.48   52.70   53.69   47.70   53.53  \n",
       "MALE     46.17   51.96   46.62   46.03   51.97   46.23  \n",
       "OTHER     0.18    0.56    0.68    0.27    0.33    0.24  \n",
       "All     100.00  100.00  100.00  100.00  100.00  100.00  "
      ]
     },
     "execution_count": 169,
     "metadata": {},
     "output_type": "execute_result"
    }
   ],
   "source": [
    "table1, results1 = rp.crosstab(user_training_dataset_update_Hypothesis3_gender['gender'],  user_training_dataset_update_Hypothesis3_gender['country_destination'], prop= 'col', test= 'chi-square')\n",
    "table1"
   ]
  },
  {
   "cell_type": "code",
   "execution_count": 170,
   "metadata": {},
   "outputs": [
    {
     "data": {
      "text/html": [
       "<div>\n",
       "<style scoped>\n",
       "    .dataframe tbody tr th:only-of-type {\n",
       "        vertical-align: middle;\n",
       "    }\n",
       "\n",
       "    .dataframe tbody tr th {\n",
       "        vertical-align: top;\n",
       "    }\n",
       "\n",
       "    .dataframe thead th {\n",
       "        text-align: right;\n",
       "    }\n",
       "</style>\n",
       "<table border=\"1\" class=\"dataframe\">\n",
       "  <thead>\n",
       "    <tr style=\"text-align: right;\">\n",
       "      <th></th>\n",
       "      <th>Chi-square test</th>\n",
       "      <th>results</th>\n",
       "    </tr>\n",
       "  </thead>\n",
       "  <tbody>\n",
       "    <tr>\n",
       "      <th>0</th>\n",
       "      <td>Pearson Chi-square ( 22.0) =</td>\n",
       "      <td>237.7805</td>\n",
       "    </tr>\n",
       "    <tr>\n",
       "      <th>1</th>\n",
       "      <td>p-value =</td>\n",
       "      <td>0.0000</td>\n",
       "    </tr>\n",
       "    <tr>\n",
       "      <th>2</th>\n",
       "      <td>Cramer's V =</td>\n",
       "      <td>0.0635</td>\n",
       "    </tr>\n",
       "  </tbody>\n",
       "</table>\n",
       "</div>"
      ],
      "text/plain": [
       "                 Chi-square test   results\n",
       "0  Pearson Chi-square ( 22.0) =   237.7805\n",
       "1                     p-value =     0.0000\n",
       "2                  Cramer's V =     0.0635"
      ]
     },
     "execution_count": 170,
     "metadata": {},
     "output_type": "execute_result"
    }
   ],
   "source": [
    "results1"
   ]
  },
  {
   "cell_type": "markdown",
   "metadata": {},
   "source": [
    "# Conclusion:  there's a significant relationship between gender and booking destination. But the relationship is not that strong given Cramer's V is only 0.0635."
   ]
  },
  {
   "cell_type": "markdown",
   "metadata": {},
   "source": [
    "# Explore relationship between age and destination country"
   ]
  },
  {
   "cell_type": "code",
   "execution_count": 264,
   "metadata": {},
   "outputs": [],
   "source": [
    "user_training_dataset_update_Hypothesis3_age=user_training_dataset_update_Hypothesis3"
   ]
  },
  {
   "cell_type": "code",
   "execution_count": 270,
   "metadata": {},
   "outputs": [],
   "source": [
    "user_training_dataset_update_Hypothesis3_age=user_training_dataset_update_Hypothesis3_age.loc[(pd.isnull(user_training_dataset_update_Hypothesis3_age['age_computed'])==False),['country_destination', 'age_computed']]"
   ]
  },
  {
   "cell_type": "markdown",
   "metadata": {},
   "source": [
    "By looking at the age distribution by destination country, you will find people going to countries like Spain, Portugal and Netherland tend to be relatively younger and people going to UK tend to be relatively older."
   ]
  },
  {
   "cell_type": "code",
   "execution_count": 316,
   "metadata": {},
   "outputs": [
    {
     "data": {
      "text/plain": [
       "Text(0.5,1,'User Age Distribution By Destination Country')"
      ]
     },
     "execution_count": 316,
     "metadata": {},
     "output_type": "execute_result"
    },
    {
     "data": {
      "image/png": "[encoded data removed]",
      "text/plain": [
       "<matplotlib.figure.Figure at 0x263d88d0>"
      ]
     },
     "metadata": {
      "needs_background": "light"
     },
     "output_type": "display_data"
    }
   ],
   "source": [
    "plt.figure(figsize=(10,8))\n",
    "ax = sns.boxplot(x=\"country_destination\", y=\"age_computed\", data=user_training_dataset_update_Hypothesis3_age)\n",
    "plt.title(\"User Age Distribution By Destination Country\")\n",
    "plt.show()"
   ]
  },
  {
   "cell_type": "markdown",
   "metadata": {},
   "source": [
    "# Conduct one-way Anova test between ages of users going to different countries:"
   ]
  },
  {
   "cell_type": "code",
   "execution_count": 295,
   "metadata": {},
   "outputs": [],
   "source": [
    "def func_return_age_by_destination_country(dataset, dest_country):\n",
    "    df_by_country=dataset.loc[dataset['country_destination']==dest_country,'age_computed' ]\n",
    "    return df_by_country"
   ]
  },
  {
   "cell_type": "code",
   "execution_count": 296,
   "metadata": {},
   "outputs": [],
   "source": [
    "df_by_country_NDF=func_return_age_by_destination_country(user_training_dataset_update_Hypothesis3_age, 'NDF')\n",
    "df_by_country_US=func_return_age_by_destination_country(user_training_dataset_update_Hypothesis3_age, 'US')\n",
    "df_by_country_other=func_return_age_by_destination_country(user_training_dataset_update_Hypothesis3_age, 'other')\n",
    "df_by_country_CA=func_return_age_by_destination_country(user_training_dataset_update_Hypothesis3_age, 'CA')\n",
    "df_by_country_FR=func_return_age_by_destination_country(user_training_dataset_update_Hypothesis3_age, 'FR')\n",
    "df_by_country_IT=func_return_age_by_destination_country(user_training_dataset_update_Hypothesis3_age, 'IT')\n",
    "df_by_country_ES=func_return_age_by_destination_country(user_training_dataset_update_Hypothesis3_age, 'ES')\n",
    "df_by_country_GB=func_return_age_by_destination_country(user_training_dataset_update_Hypothesis3_age, 'GB')\n",
    "df_by_country_NL=func_return_age_by_destination_country(user_training_dataset_update_Hypothesis3_age, 'NL')\n",
    "df_by_country_DE=func_return_age_by_destination_country(user_training_dataset_update_Hypothesis3_age, 'DE')\n",
    "df_by_country_AU=func_return_age_by_destination_country(user_training_dataset_update_Hypothesis3_age, 'AU')\n",
    "df_by_country_PT=func_return_age_by_destination_country(user_training_dataset_update_Hypothesis3_age, 'PT')"
   ]
  },
  {
   "cell_type": "code",
   "execution_count": 297,
   "metadata": {},
   "outputs": [],
   "source": [
    "from scipy import stats\n",
    "F, p = stats.f_oneway(df_by_country_NDF,df_by_country_US, df_by_country_other, df_by_country_CA, df_by_country_FR, df_by_country_IT, df_by_country_ES, df_by_country_GB, df_by_country_NL,df_by_country_DE, df_by_country_AU, df_by_country_PT  )"
   ]
  },
  {
   "cell_type": "code",
   "execution_count": 298,
   "metadata": {},
   "outputs": [
    {
     "name": "stdout",
     "output_type": "stream",
     "text": [
      "F:  15.46235136604006\n",
      "p value:  1.1929124767684293e-30\n"
     ]
    }
   ],
   "source": [
    "print(\"F: \", F)\n",
    "print(\"p value: \", p)\n"
   ]
  },
  {
   "cell_type": "markdown",
   "metadata": {},
   "source": [
    "# By looking at the test result from the one-way Anova test, there's a signicant difference in age between users going to different destination countries."
   ]
  },
  {
   "cell_type": "markdown",
   "metadata": {},
   "source": [
    "# Explore the relationship between age and trip booking flag:"
   ]
  },
  {
   "cell_type": "markdown",
   "metadata": {},
   "source": [
    "# By looking at the box plot below, there's no much difference in age between the users who have booked and the users who have not booked the trip."
   ]
  },
  {
   "cell_type": "code",
   "execution_count": 301,
   "metadata": {},
   "outputs": [],
   "source": [
    "user_training_dataset_update_Hypothesis3_age1=user_training_dataset_update_Hypothesis3.loc[(pd.isnull(user_training_dataset_update_Hypothesis3['age_computed'])==False), ['trip_booking_flag', 'age_computed']]"
   ]
  },
  {
   "cell_type": "code",
   "execution_count": 304,
   "metadata": {},
   "outputs": [
    {
     "data": {
      "image/png": "[encoded data removed]",
      "text/plain": [
       "<matplotlib.figure.Figure at 0x2641bd68>"
      ]
     },
     "metadata": {
      "needs_background": "light"
     },
     "output_type": "display_data"
    }
   ],
   "source": [
    "sns.boxplot(x='trip_booking_flag', y='age_computed', data=user_training_dataset_update_Hypothesis3_age1)\n",
    "plt.title(\"User age by trip booking flag\")\n",
    "plt.show()"
   ]
  },
  {
   "cell_type": "code",
   "execution_count": 302,
   "metadata": {},
   "outputs": [
    {
     "data": {
      "text/plain": [
       "Index(['trip_booking_flag', 'age_computed'], dtype='object')"
      ]
     },
     "execution_count": 302,
     "metadata": {},
     "output_type": "execute_result"
    }
   ],
   "source": [
    "user_training_dataset_update_Hypothesis3_age1.columns"
   ]
  }
 ],
 "metadata": {
  "kernelspec": {
   "display_name": "Python 3",
   "language": "python",
   "name": "python3"
  },
  "language_info": {
   "codemirror_mode": {
    "name": "ipython",
    "version": 3
   },
   "file_extension": ".py",
   "mimetype": "text/x-python",
   "name": "python",
   "nbconvert_exporter": "python",
   "pygments_lexer": "ipython3",
   "version": "3.7.1"
  }
 },
 "nbformat": 4,
 "nbformat_minor": 2
}
