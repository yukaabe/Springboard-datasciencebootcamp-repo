{
 "cells": [
  {
   "cell_type": "markdown",
   "metadata": {},
   "source": [
    "# Import all the libraries"
   ]
  },
  {
   "cell_type": "code",
   "execution_count": 45,
   "metadata": {},
   "outputs": [],
   "source": [
    "import pandas as pd\n",
    "import numpy as np\n",
    "import matplotlib.pyplot as plt\n",
    "import time\n",
    "%matplotlib inline\n",
    "import seaborn as sns\n",
    "\n",
    "from sklearn import datasets, linear_model\n",
    "from sklearn.model_selection import train_test_split\n",
    "from sklearn.linear_model import LogisticRegression\n",
    "from sklearn.cross_validation import cross_val_score, train_test_split\n",
    "from sklearn.cross_validation import cross_val_predict\n",
    "from sklearn.metrics import precision_score, recall_score, roc_auc_score, roc_curve, f1_score, confusion_matrix\n",
    "from sklearn import metrics\n",
    "from sklearn.tree import DecisionTreeClassifier\n",
    "from sklearn.ensemble import AdaBoostClassifier, RandomForestClassifier\n",
    "import xgboost as xgb\n",
    "from sklearn.model_selection import GridSearchCV\n",
    "from pprint import pprint\n",
    "from sklearn.model_selection import RandomizedSearchCV\n"
   ]
  },
  {
   "cell_type": "markdown",
   "metadata": {},
   "source": [
    "# Loading the Airbnb dataset below:"
   ]
  },
  {
   "cell_type": "markdown",
   "metadata": {},
   "source": [
    "- Check confusion matrix \n",
    "- see the distribution/spread for the NDCG score for the model\n"
   ]
  },
  {
   "cell_type": "markdown",
   "metadata": {},
   "source": [
    "You can download the user_training_dataset_update.csv from the link below:\n",
    "\n",
    "https://drive.google.com/open?id=1tQGlNvkmGVPGcmQID2NNd5p8bkLBxofM"
   ]
  },
  {
   "cell_type": "code",
   "execution_count": 7,
   "metadata": {},
   "outputs": [],
   "source": [
    "user_training_dataset_update=pd.read_csv(\"C:/Users/yuka.abe/Desktop/Airbnb Kaggle DataSet/user_training_dataset_update.csv\")\n",
    "\n",
    "user_training_dataset_update_multinary_classfication=user_training_dataset_update.copy()\n",
    "user_training_dataset_update_multinary_classfication.loc[user_training_dataset_update_multinary_classfication['first_browser']=='-unknown-', 'first_browser']='Unknown'\n",
    "user_training_dataset_update_multinary_classfication.loc[user_training_dataset_update_multinary_classfication['gender']=='-unknown-', 'gender']='Unknown'\n",
    "\n"
   ]
  },
  {
   "cell_type": "code",
   "execution_count": 8,
   "metadata": {},
   "outputs": [
    {
     "data": {
      "text/plain": [
       "Index(['id', 'date_account_created', 'timestamp_first_active_cleaned',\n",
       "       'gender', 'signup_method', 'signup_flow', 'language',\n",
       "       'affiliate_channel', 'affiliate_provider', 'first_affiliate_tracked',\n",
       "       'signup_app', 'first_device_type', 'first_browser',\n",
       "       'country_destination', 'age_computed',\n",
       "       'Account_creation_before_booking_flag', 'Total time spent (in seconds)',\n",
       "       'number_of_active_day_as_of_latest_date',\n",
       "       'number_of_days_since_account_creation_as_of_latest_date',\n",
       "       'session count', 'trip_booking_flag', 'Account_creation_date_month',\n",
       "       'Account_creation_date_year', 'Account_creation_date_day',\n",
       "       'Account_creation_date_day_of_week', 'first_active_date_month',\n",
       "       'first_active_date_day', 'first_active_date_year',\n",
       "       'first_active_date_dayofweek', 'age_bucket',\n",
       "       'Total time spent (in seconds)_fill_null_zero',\n",
       "       'session count_fill_null_zero', 'Total time spent (in seconds)_bucket',\n",
       "       'session count_bucket'],\n",
       "      dtype='object')"
      ]
     },
     "execution_count": 8,
     "metadata": {},
     "output_type": "execute_result"
    }
   ],
   "source": [
    "user_training_dataset_update_multinary_classfication.columns"
   ]
  },
  {
   "cell_type": "code",
   "execution_count": 9,
   "metadata": {},
   "outputs": [],
   "source": [
    "del user_training_dataset_update_multinary_classfication['trip_booking_flag']                                          "
   ]
  },
  {
   "cell_type": "markdown",
   "metadata": {},
   "source": [
    "In the user_training_dataset_update_multinary_classfication dataset, the following fields have some missing values:\n",
    "- first_affiliate_tracked \n",
    "- age_computed\n",
    "- Total time spent (in seconds) \n",
    "- Account_creation_before_booking_flag \n",
    "- session count  "
   ]
  },
  {
   "cell_type": "code",
   "execution_count": 10,
   "metadata": {},
   "outputs": [
    {
     "name": "stdout",
     "output_type": "stream",
     "text": [
      "<class 'pandas.core.frame.DataFrame'>\n",
      "RangeIndex: 213451 entries, 0 to 213450\n",
      "Data columns (total 33 columns):\n",
      "id                                                         213451 non-null object\n",
      "date_account_created                                       213451 non-null object\n",
      "timestamp_first_active_cleaned                             213451 non-null object\n",
      "gender                                                     213451 non-null object\n",
      "signup_method                                              213451 non-null object\n",
      "signup_flow                                                213451 non-null int64\n",
      "language                                                   213451 non-null object\n",
      "affiliate_channel                                          213451 non-null object\n",
      "affiliate_provider                                         213451 non-null object\n",
      "first_affiliate_tracked                                    207386 non-null object\n",
      "signup_app                                                 213451 non-null object\n",
      "first_device_type                                          213451 non-null object\n",
      "first_browser                                              213451 non-null object\n",
      "country_destination                                        213451 non-null object\n",
      "age_computed                                               125461 non-null float64\n",
      "Account_creation_before_booking_flag                       88908 non-null float64\n",
      "Total time spent (in seconds)                              73815 non-null float64\n",
      "number_of_active_day_as_of_latest_date                     213451 non-null int64\n",
      "number_of_days_since_account_creation_as_of_latest_date    213451 non-null int64\n",
      "session count                                              73815 non-null float64\n",
      "Account_creation_date_month                                213451 non-null int64\n",
      "Account_creation_date_year                                 213451 non-null int64\n",
      "Account_creation_date_day                                  213451 non-null int64\n",
      "Account_creation_date_day_of_week                          213451 non-null int64\n",
      "first_active_date_month                                    213451 non-null int64\n",
      "first_active_date_day                                      213451 non-null int64\n",
      "first_active_date_year                                     213451 non-null int64\n",
      "first_active_date_dayofweek                                213451 non-null int64\n",
      "age_bucket                                                 213451 non-null object\n",
      "Total time spent (in seconds)_fill_null_zero               213451 non-null float64\n",
      "session count_fill_null_zero                               213451 non-null float64\n",
      "Total time spent (in seconds)_bucket                       213451 non-null object\n",
      "session count_bucket                                       213451 non-null object\n",
      "dtypes: float64(6), int64(11), object(16)\n",
      "memory usage: 53.7+ MB\n"
     ]
    }
   ],
   "source": [
    "user_training_dataset_update_multinary_classfication.info()"
   ]
  },
  {
   "cell_type": "markdown",
   "metadata": {},
   "source": [
    "Input the null value for first_affiliate_tracked field as \"unknown\""
   ]
  },
  {
   "cell_type": "code",
   "execution_count": 11,
   "metadata": {},
   "outputs": [
    {
     "data": {
      "text/plain": [
       "array(['untracked', 'omg', nan, 'linked', 'tracked-other', 'product',\n",
       "       'marketing', 'local ops'], dtype=object)"
      ]
     },
     "execution_count": 11,
     "metadata": {},
     "output_type": "execute_result"
    }
   ],
   "source": [
    "user_training_dataset_update_multinary_classfication['first_affiliate_tracked'].unique()"
   ]
  },
  {
   "cell_type": "code",
   "execution_count": 12,
   "metadata": {},
   "outputs": [
    {
     "data": {
      "text/plain": [
       "untracked        109232\n",
       "linked            46287\n",
       "omg               43982\n",
       "tracked-other      6156\n",
       "Unknown            6065\n",
       "product            1556\n",
       "marketing           139\n",
       "local ops            34\n",
       "Name: first_affiliate_tracked, dtype: int64"
      ]
     },
     "execution_count": 12,
     "metadata": {},
     "output_type": "execute_result"
    }
   ],
   "source": [
    "user_training_dataset_update_multinary_classfication.loc[pd.isnull(user_training_dataset_update_multinary_classfication['first_affiliate_tracked']), 'first_affiliate_tracked']='Unknown'\n",
    "\n",
    "user_training_dataset_update_multinary_classfication['first_affiliate_tracked'].value_counts()"
   ]
  },
  {
   "cell_type": "markdown",
   "metadata": {},
   "source": [
    "Input the null value for \"Account_creation_before_booking_flag\" as \"unknown\""
   ]
  },
  {
   "cell_type": "code",
   "execution_count": 13,
   "metadata": {},
   "outputs": [
    {
     "data": {
      "text/plain": [
       "Unknown    124543\n",
       "2.0         67475\n",
       "1.0         21404\n",
       "0.0            29\n",
       "Name: Account_creation_before_booking_flag, dtype: int64"
      ]
     },
     "execution_count": 13,
     "metadata": {},
     "output_type": "execute_result"
    }
   ],
   "source": [
    "user_training_dataset_update_multinary_classfication.loc[pd.isnull(user_training_dataset_update_multinary_classfication['Account_creation_before_booking_flag']), 'Account_creation_before_booking_flag']='Unknown'\n",
    "\n",
    "user_training_dataset_update_multinary_classfication['Account_creation_before_booking_flag'].value_counts()"
   ]
  },
  {
   "cell_type": "markdown",
   "metadata": {},
   "source": [
    "Define the NDCG score function:"
   ]
  },
  {
   "cell_type": "markdown",
   "metadata": {},
   "source": [
    "Define function to convert all the categorical variables into dummy variables:"
   ]
  },
  {
   "cell_type": "code",
   "execution_count": 14,
   "metadata": {},
   "outputs": [],
   "source": [
    "def func_get_dummy_variables_for_categorical_variables(dataset, variable_name):\n",
    "    \n",
    "    dummy_variables_series=pd.get_dummies(dataset[variable_name])\n",
    "    dummy_variables_series_df=pd.DataFrame(dummy_variables_series)\n",
    "    \n",
    "    for column in dummy_variables_series_df.columns:\n",
    "        new_column_name=variable_name+'_'+str(column)\n",
    "        if new_column_name in dataset.columns:\n",
    "            del dataset[new_column_name]\n",
    "        \n",
    "        dummy_variables_series_df=dummy_variables_series_df.rename(columns={column: new_column_name})\n",
    "        \n",
    "        \n",
    "    del dataset[variable_name]\n",
    "    #del dummy_variables_series_df[dummy_variables_series_df.columns[-1]]\n",
    "    return dummy_variables_series_df"
   ]
  },
  {
   "cell_type": "code",
   "execution_count": 15,
   "metadata": {},
   "outputs": [],
   "source": [
    "user_training_dataset_update_multinary_classfication1=user_training_dataset_update_multinary_classfication.copy()"
   ]
  },
  {
   "cell_type": "markdown",
   "metadata": {},
   "source": [
    "Include all the relevant fields into the dataset used for the multi class model:  user_training_dataset_update_multinary_classfication1"
   ]
  },
  {
   "cell_type": "code",
   "execution_count": 16,
   "metadata": {},
   "outputs": [],
   "source": [
    "user_training_dataset_update_multinary_classfication1=user_training_dataset_update_multinary_classfication1[[\n",
    "'id',\n",
    "    \n",
    "# Below are the category variables:\n",
    "'gender', \n",
    "'signup_method',   \n",
    "'signup_flow',  \n",
    "'language',  \n",
    "'affiliate_channel', \n",
    "'affiliate_provider',   \n",
    "'first_affiliate_tracked',   \n",
    "'signup_app',    \n",
    "'first_device_type', \n",
    "'first_browser',   \n",
    "'Account_creation_before_booking_flag',  \n",
    "'Account_creation_date_month',\n",
    "'Account_creation_date_year',\n",
    "'Account_creation_date_day', \n",
    "'Account_creation_date_day_of_week',  \n",
    "'first_active_date_month',\n",
    "'first_active_date_year',\n",
    "'first_active_date_day',\n",
    "'first_active_date_dayofweek',\n",
    "'age_bucket',\n",
    "'session count_bucket',  \n",
    "'Total time spent (in seconds)_bucket',                                          \n",
    "\n",
    "#Below are the continuous variables:\n",
    "\n",
    "'number_of_active_day_as_of_latest_date', \n",
    "'number_of_days_since_account_creation_as_of_latest_date',\n",
    "'Total time spent (in seconds)_fill_null_zero',   \n",
    "'session count_fill_null_zero', \n",
    "                                              \n",
    "#Below's the label variable:\n",
    "'country_destination' ]]                                                                                                 "
   ]
  },
  {
   "cell_type": "code",
   "execution_count": 17,
   "metadata": {},
   "outputs": [],
   "source": [
    "user_training_dataset_update_multinary_classfication1=user_training_dataset_update_multinary_classfication1.set_index('id')"
   ]
  },
  {
   "cell_type": "markdown",
   "metadata": {},
   "source": [
    "All the data in the user_training_dataset_update_multinary_classfication1 dataset does not have missing values:"
   ]
  },
  {
   "cell_type": "code",
   "execution_count": 18,
   "metadata": {},
   "outputs": [
    {
     "name": "stdout",
     "output_type": "stream",
     "text": [
      "<class 'pandas.core.frame.DataFrame'>\n",
      "Index: 213451 entries, gxn3p5htnn to nw9fwlyb5f\n",
      "Data columns (total 27 columns):\n",
      "gender                                                     213451 non-null object\n",
      "signup_method                                              213451 non-null object\n",
      "signup_flow                                                213451 non-null int64\n",
      "language                                                   213451 non-null object\n",
      "affiliate_channel                                          213451 non-null object\n",
      "affiliate_provider                                         213451 non-null object\n",
      "first_affiliate_tracked                                    213451 non-null object\n",
      "signup_app                                                 213451 non-null object\n",
      "first_device_type                                          213451 non-null object\n",
      "first_browser                                              213451 non-null object\n",
      "Account_creation_before_booking_flag                       213451 non-null object\n",
      "Account_creation_date_month                                213451 non-null int64\n",
      "Account_creation_date_year                                 213451 non-null int64\n",
      "Account_creation_date_day                                  213451 non-null int64\n",
      "Account_creation_date_day_of_week                          213451 non-null int64\n",
      "first_active_date_month                                    213451 non-null int64\n",
      "first_active_date_year                                     213451 non-null int64\n",
      "first_active_date_day                                      213451 non-null int64\n",
      "first_active_date_dayofweek                                213451 non-null int64\n",
      "age_bucket                                                 213451 non-null object\n",
      "session count_bucket                                       213451 non-null object\n",
      "Total time spent (in seconds)_bucket                       213451 non-null object\n",
      "number_of_active_day_as_of_latest_date                     213451 non-null int64\n",
      "number_of_days_since_account_creation_as_of_latest_date    213451 non-null int64\n",
      "Total time spent (in seconds)_fill_null_zero               213451 non-null float64\n",
      "session count_fill_null_zero                               213451 non-null float64\n",
      "country_destination                                        213451 non-null object\n",
      "dtypes: float64(2), int64(11), object(14)\n",
      "memory usage: 45.6+ MB\n"
     ]
    }
   ],
   "source": [
    "user_training_dataset_update_multinary_classfication1.info()"
   ]
  },
  {
   "cell_type": "markdown",
   "metadata": {},
   "source": [
    "Encode the category variables into dummy variables:"
   ]
  },
  {
   "cell_type": "markdown",
   "metadata": {},
   "source": [
    "List out all the categorical variables name into the Categorical_variable_list:"
   ]
  },
  {
   "cell_type": "code",
   "execution_count": 19,
   "metadata": {},
   "outputs": [],
   "source": [
    "Categorical_variable_list=['gender', \n",
    "'signup_method',   \n",
    "'signup_flow',  \n",
    "'language',  \n",
    "'affiliate_channel', \n",
    "'affiliate_provider',   \n",
    "'first_affiliate_tracked',   \n",
    "'signup_app',    \n",
    "'first_device_type', \n",
    "'first_browser',   \n",
    "'Account_creation_before_booking_flag',  \n",
    "'Account_creation_date_month',\n",
    "'Account_creation_date_year',\n",
    "'Account_creation_date_day', \n",
    "'Account_creation_date_day_of_week',  \n",
    "'first_active_date_month',\n",
    "'first_active_date_year',\n",
    "'first_active_date_day',\n",
    "'first_active_date_dayofweek',\n",
    "'age_bucket',\n",
    "'session count_bucket',  \n",
    "'Total time spent (in seconds)_bucket']"
   ]
  },
  {
   "cell_type": "code",
   "execution_count": 20,
   "metadata": {},
   "outputs": [],
   "source": [
    "def func_get_dummy_variables_for_categorical_variables(dataset, variable_name):\n",
    "    \n",
    "    dummy_variables_series=pd.get_dummies(dataset[variable_name])\n",
    "    dummy_variables_series_df=pd.DataFrame(dummy_variables_series)\n",
    "    \n",
    "    for column in dummy_variables_series_df.columns:\n",
    "        new_column_name=variable_name+'_'+str(column)\n",
    "        if new_column_name in dataset.columns:\n",
    "            del dataset[new_column_name]\n",
    "        \n",
    "        dummy_variables_series_df=dummy_variables_series_df.rename(columns={column: new_column_name})\n",
    "        \n",
    "        \n",
    "    del dataset[variable_name]\n",
    "    #del dummy_variables_series_df[dummy_variables_series_df.columns[-1]]\n",
    "    return dummy_variables_series_df"
   ]
  },
  {
   "cell_type": "code",
   "execution_count": 21,
   "metadata": {},
   "outputs": [],
   "source": [
    "for variable_name in Categorical_variable_list:\n",
    "    df_dummy=func_get_dummy_variables_for_categorical_variables(user_training_dataset_update_multinary_classfication1, variable_name)\n",
    "    user_training_dataset_update_multinary_classfication1=user_training_dataset_update_multinary_classfication1.merge(df_dummy, on=None, left_index=True, right_index=True)"
   ]
  },
  {
   "cell_type": "code",
   "execution_count": 22,
   "metadata": {},
   "outputs": [
    {
     "data": {
      "text/plain": [
       "Index(['number_of_active_day_as_of_latest_date',\n",
       "       'number_of_days_since_account_creation_as_of_latest_date',\n",
       "       'Total time spent (in seconds)_fill_null_zero',\n",
       "       'session count_fill_null_zero', 'country_destination', 'gender_FEMALE',\n",
       "       'gender_MALE', 'gender_OTHER', 'gender_Unknown', 'signup_method_basic',\n",
       "       ...\n",
       "       'session count_bucket_(111.0, 2644.0]',\n",
       "       'session count_bucket_(26.0, 53.0]',\n",
       "       'session count_bucket_(53.0, 111.0]', 'session count_bucket_Unknown',\n",
       "       'Total time spent (in seconds)_bucket_(-0.001, 169857.6]',\n",
       "       'Total time spent (in seconds)_bucket_(1248857.2, 2444996.4]',\n",
       "       'Total time spent (in seconds)_bucket_(169857.6, 584557.4]',\n",
       "       'Total time spent (in seconds)_bucket_(2444996.4, 38221363.0]',\n",
       "       'Total time spent (in seconds)_bucket_(584557.4, 1248857.2]',\n",
       "       'Total time spent (in seconds)_bucket_Unknown'],\n",
       "      dtype='object', length=286)"
      ]
     },
     "execution_count": 22,
     "metadata": {},
     "output_type": "execute_result"
    }
   ],
   "source": [
    "user_training_dataset_update_multinary_classfication1.columns"
   ]
  },
  {
   "cell_type": "markdown",
   "metadata": {},
   "source": [
    "Check if there's any null value in the user_training_dataset_update_binary_classfication1 dataset:"
   ]
  },
  {
   "cell_type": "code",
   "execution_count": 23,
   "metadata": {},
   "outputs": [],
   "source": [
    "for column in user_training_dataset_update_multinary_classfication1.columns:\n",
    "    row_count=user_training_dataset_update_multinary_classfication1[column].count()\n",
    "    if row_count<213451:\n",
    "        print(column)"
   ]
  },
  {
   "cell_type": "markdown",
   "metadata": {},
   "source": [
    "There's no column with null value after having preprocessed the data."
   ]
  },
  {
   "cell_type": "markdown",
   "metadata": {},
   "source": [
    "Define the feature list:"
   ]
  },
  {
   "cell_type": "code",
   "execution_count": 24,
   "metadata": {},
   "outputs": [],
   "source": [
    "feature_list1=list(user_training_dataset_update_multinary_classfication1.columns)"
   ]
  },
  {
   "cell_type": "code",
   "execution_count": 25,
   "metadata": {},
   "outputs": [],
   "source": [
    "feature_list1.remove('Total time spent (in seconds)_fill_null_zero')\n",
    "feature_list1.remove('session count_fill_null_zero')"
   ]
  },
  {
   "cell_type": "code",
   "execution_count": 26,
   "metadata": {},
   "outputs": [],
   "source": [
    "feature_list2=list(user_training_dataset_update_multinary_classfication1.columns)"
   ]
  },
  {
   "cell_type": "code",
   "execution_count": 27,
   "metadata": {},
   "outputs": [],
   "source": [
    "feature_list2.remove('Total time spent (in seconds)_bucket_(-0.001, 169857.6]')\n",
    "feature_list2.remove('Total time spent (in seconds)_bucket_(1248857.2, 2444996.4]')\n",
    "feature_list2.remove('Total time spent (in seconds)_bucket_(169857.6, 584557.4]')\n",
    "feature_list2.remove('Total time spent (in seconds)_bucket_(2444996.4, 38221363.0]')\n",
    "feature_list2.remove('Total time spent (in seconds)_bucket_(584557.4, 1248857.2]')\n",
    "feature_list2.remove('Total time spent (in seconds)_bucket_Unknown')\n",
    "\n",
    "feature_list2.remove('session count_bucket_(0.999, 10.0]')\n",
    "feature_list2.remove('session count_bucket_(10.0, 26.0]')\n",
    "feature_list2.remove('session count_bucket_(111.0, 2644.0]')\n",
    "feature_list2.remove('session count_bucket_(26.0, 53.0]')\n",
    "feature_list2.remove('session count_bucket_(53.0, 111.0]')\n",
    "feature_list2.remove('session count_bucket_Unknown')"
   ]
  },
  {
   "cell_type": "markdown",
   "metadata": {},
   "source": [
    "Remove the trip_booking_flag variable  (label):"
   ]
  },
  {
   "cell_type": "code",
   "execution_count": 28,
   "metadata": {},
   "outputs": [],
   "source": [
    "feature_list2.remove('country_destination')       \n",
    "feature_list1.remove('country_destination')   "
   ]
  },
  {
   "cell_type": "markdown",
   "metadata": {},
   "source": [
    "#  Develop multi class classification model. Use Country Destination as the label and rest of the variables as features\n"
   ]
  },
  {
   "cell_type": "markdown",
   "metadata": {},
   "source": [
    "# Use Logistic Regression to fit the model: "
   ]
  },
  {
   "cell_type": "markdown",
   "metadata": {},
   "source": [
    "Define the label and feature:"
   ]
  },
  {
   "cell_type": "code",
   "execution_count": 29,
   "metadata": {},
   "outputs": [],
   "source": [
    "y, X =user_training_dataset_update_multinary_classfication1['country_destination'], user_training_dataset_update_multinary_classfication1[feature_list1]"
   ]
  },
  {
   "cell_type": "markdown",
   "metadata": {},
   "source": [
    "Create the training and testing vars:"
   ]
  },
  {
   "cell_type": "markdown",
   "metadata": {},
   "source": [
    "Split the training dataset and testing set into two parts: \n",
    "- Training dataset (80%)\n",
    "- Testing dataset(20%"
   ]
  },
  {
   "cell_type": "code",
   "execution_count": 45,
   "metadata": {},
   "outputs": [],
   "source": [
    "X_train, X_test, y_train, y_test = train_test_split(X, y, test_size=0.2, random_state=123)"
   ]
  },
  {
   "cell_type": "code",
   "execution_count": 219,
   "metadata": {},
   "outputs": [
    {
     "name": "stdout",
     "output_type": "stream",
     "text": [
      "Shape of traing feature set: (170760, 273)\n",
      "Shape of testing feature set: (42691, 273)\n",
      "Shape of training label set: (170760,)\n",
      "Shape of testing label set: (42691,)\n"
     ]
    }
   ],
   "source": [
    "print(\"Shape of traing feature set:\", X_train.shape)\n",
    "print(\"Shape of testing feature set:\", X_test.shape)\n",
    "print(\"Shape of training label set:\", y_train.shape)\n",
    "print(\"Shape of testing label set:\", y_test.shape)"
   ]
  },
  {
   "cell_type": "code",
   "execution_count": 49,
   "metadata": {},
   "outputs": [],
   "source": [
    "Multinary_Logistic_Regression=LogisticRegression(multi_class='multinomial', solver='lbfgs')"
   ]
  },
  {
   "cell_type": "code",
   "execution_count": 50,
   "metadata": {},
   "outputs": [
    {
     "data": {
      "text/plain": [
       "LogisticRegression(C=1.0, class_weight=None, dual=False, fit_intercept=True,\n",
       "          intercept_scaling=1, max_iter=100, multi_class='multinomial',\n",
       "          n_jobs=1, penalty='l2', random_state=None, solver='lbfgs',\n",
       "          tol=0.0001, verbose=0, warm_start=False)"
      ]
     },
     "execution_count": 50,
     "metadata": {},
     "output_type": "execute_result"
    }
   ],
   "source": [
    "Multinary_Logistic_Regression.fit(X_train, y_train)"
   ]
  },
  {
   "cell_type": "markdown",
   "metadata": {},
   "source": [
    "Model Performance on the testing set:"
   ]
  },
  {
   "cell_type": "code",
   "execution_count": 191,
   "metadata": {},
   "outputs": [
    {
     "name": "stdout",
     "output_type": "stream",
     "text": [
      "Accuracy Score:  0.752763399127302\n"
     ]
    }
   ],
   "source": [
    "print(\"Accuracy Score: \", cross_val_score(Multinary_Logistic_Regression, X_train,y_train, cv=5).mean())"
   ]
  },
  {
   "cell_type": "markdown",
   "metadata": {},
   "source": [
    "# Below is detail NDCG (Normalized discounted cumulative gain) evaluation provided by Kaggle competition:"
   ]
  },
  {
   "attachments": {
    "image.png": {
     "image/png": "[encoded data removed]"
    }
   },
   "cell_type": "markdown",
   "metadata": {},
   "source": [
    "![image.png](attachment:image.png)"
   ]
  },
  {
   "cell_type": "markdown",
   "metadata": {},
   "source": [
    "# Define a function to get the predict probability by user:"
   ]
  },
  {
   "cell_type": "markdown",
   "metadata": {},
   "source": [
    "Define a function to output model prediction probability by class:"
   ]
  },
  {
   "cell_type": "code",
   "execution_count": 52,
   "metadata": {},
   "outputs": [],
   "source": [
    "multinary_classification_model=Multinary_Logistic_Regression\n",
    "training_data_features=X_train"
   ]
  },
  {
   "cell_type": "code",
   "execution_count": 53,
   "metadata": {},
   "outputs": [
    {
     "data": {
      "text/plain": [
       "array(['AU', 'CA', 'DE', 'ES', 'FR', 'GB', 'IT', 'NDF', 'NL', 'PT', 'US',\n",
       "       'other'], dtype=object)"
      ]
     },
     "execution_count": 53,
     "metadata": {},
     "output_type": "execute_result"
    }
   ],
   "source": [
    "multinary_classification_model.classes_"
   ]
  },
  {
   "cell_type": "markdown",
   "metadata": {},
   "source": [
    "# Define a function which takes in classification model and the training features and output the top five destination countries by user id based on the probability of the classes:"
   ]
  },
  {
   "cell_type": "code",
   "execution_count": 60,
   "metadata": {},
   "outputs": [],
   "source": [
    "def multinary_classification_model_predict_probability_by_class(multinary_classification_model, training_data_features):\n",
    "    \n",
    "    ordered_label=multinary_classification_model.classes_\n",
    "    #Create a dictionary of label classes:\n",
    "    \n",
    "    i=0\n",
    "    label_order_dict=dict()\n",
    "    \n",
    "    for label in ordered_label:\n",
    "        label_order_dict[i]=label\n",
    "        i=i+1\n",
    "    \n",
    "    #Create a dataframe for classification probability\n",
    "    \n",
    "    df_prob=pd.DataFrame()\n",
    "    #Create a dataframe to include thte probability of each class by user id\n",
    "    for probability_order in range(0,ordered_label.shape[0]):\n",
    "        df_prob[label_order_dict[probability_order]]=list(zip(*multinary_classification_model.predict_proba(training_data_features)))[probability_order]\n",
    "    \n",
    "    #Use the training data features index (user id) as the index for the classification probability data frame\n",
    "    \n",
    "    df_prob.set_index(training_data_features.index, inplace=True) \n",
    "    \n",
    "    df_prob=df_prob.reset_index()\n",
    "    \n",
    "    df_prob=df_prob.rename(columns={'index':'id'})\n",
    "    \n",
    "    \n",
    "    df_prob_melt=pd.melt(df_prob, id_vars='id',value_vars=['AU', 'CA', 'DE', 'ES', 'FR', 'GB', 'IT', 'NDF', 'NL', 'PT', 'US','other'])\n",
    "\n",
    "    df_prob_melt=df_prob_melt.rename(columns={'value': 'Probability'})\n",
    "\n",
    "    df_prob_melt.sort_values(by=['id', 'Probability'], ascending=[True, False], inplace=True)\n",
    "    \n",
    "\n",
    "\n",
    "    df_prob_melt_top5_countries=df_prob_melt.groupby('id').head(5)\n",
    "\n",
    "    return df_prob_melt_top5_countries"
   ]
  },
  {
   "cell_type": "code",
   "execution_count": 109,
   "metadata": {},
   "outputs": [],
   "source": [
    "def multinary_classification_model_predict_class(multinary_classification_model, training_data_features):\n",
    "    ordered_label=multinary_classification_model.classes_\n",
    "    \n",
    "    multinary_classification_prediction_label=multinary_classification_model.predict(training_data_features)\n",
    "    \n",
    "    multinary_classification_prediction_label_df=pd.DataFrame(multinary_classification_prediction_label)\n",
    "    multinary_classification_prediction_label_df.set_index(training_data_features.index, inplace=True)\n",
    "    \n",
    "    multinary_classification_prediction_label_df=multinary_classification_prediction_label_df.rename(columns={0:'label'})\n",
    "    \n",
    "    return multinary_classification_prediction_label_df\n",
    "    \n",
    "    \n",
    "    "
   ]
  },
  {
   "cell_type": "markdown",
   "metadata": {},
   "source": []
  },
  {
   "cell_type": "markdown",
   "metadata": {},
   "source": [
    "# Define a function to output the NDCG score based on the model, feature dataset and label dataset:"
   ]
  },
  {
   "cell_type": "code",
   "execution_count": 141,
   "metadata": {},
   "outputs": [],
   "source": [
    "def funct_NDCG_score_output(logistic_classification_model_input, training_data_features, training_data_labels):\n",
    "    \n",
    "    #Create NDCG function here for computing the NDCG Score:\n",
    "    def func_NDCG(ranking_number):\n",
    "        if ranking_number<=5:\n",
    "            score=(2**1-1)/np.log2(ranking_number+1)\n",
    "        else:\n",
    "            score=0\n",
    "        return score\n",
    "    \n",
    "    # Output the classification probability for the top 5 destination countries per user:\n",
    "    \n",
    "    ordered_label=logistic_classification_model_input.classes_\n",
    "    #Create a dictionary of label classes:\n",
    "\n",
    "    i=0\n",
    "    label_order_dict=dict()\n",
    "\n",
    "    for label in ordered_label:\n",
    "        label_order_dict[i]=label\n",
    "        i=i+1\n",
    "\n",
    "    #Create a dataframe for classification probability\n",
    "\n",
    "    df_prob=pd.DataFrame()\n",
    "\n",
    "    for probability_order in range(0,ordered_label.shape[0]):\n",
    "        df_prob[label_order_dict[probability_order]]=list(zip(*logistic_classification_model_input.predict_proba(training_data_features)))[probability_order]\n",
    "\n",
    "    df_prob.set_index(training_data_features.index, inplace=True) \n",
    "\n",
    "    df_prob=df_prob.rename(columns={'index':'id'})\n",
    "\n",
    "    df_prob=df_prob.reset_index()\n",
    "\n",
    "    df_prob_melt=pd.melt(df_prob, id_vars='id',value_vars=['AU', 'CA', 'DE', 'ES', 'FR', 'GB', 'IT', 'NDF', 'NL', 'PT', 'US','other'])\n",
    "\n",
    "    df_prob_melt=df_prob_melt.rename(columns={'value': 'Probability'})\n",
    "\n",
    "    df_prob_melt.sort_values(by=['id', 'Probability'], ascending=[True, False], inplace=True)\n",
    "\n",
    "\n",
    "\n",
    "    df_prob_melt_top5_countries=df_prob_melt.groupby('id').head(5)\n",
    "\n",
    "    # Output the classification model prediction class\n",
    "    \n",
    "    \n",
    "    ordered_label1=logistic_classification_model_input.classes_\n",
    "    \n",
    "    multinary_classification_prediction_label=logistic_classification_model_input.predict(training_data_features)\n",
    "    \n",
    "    multinary_classification_prediction_label_df=pd.DataFrame(multinary_classification_prediction_label)\n",
    "    multinary_classification_prediction_label_df.set_index(training_data_features.index, inplace=True)\n",
    "    \n",
    "    multinary_classification_prediction_label_df=multinary_classification_prediction_label_df.rename(columns={0:'label'})\n",
    "    \n",
    "    \n",
    "    # Merge the country prediction rank along with the actual label into the final data frame for computing the NDCG score based on the country ranking:\n",
    "    \n",
    "    Multinary_Logistic_Regression_prediction_probability_df_rank_by_probability=df_prob_melt_top5_countries.groupby('id')['Probability'].rank(ascending=False)\n",
    "    \n",
    "    Multinary_Logistic_Regression_prediction_probability_df_rank_by_probability_df=pd.DataFrame(Multinary_Logistic_Regression_prediction_probability_df_rank_by_probability)\n",
    "    \n",
    "    Multinary_Logistic_Regression_prediction_probability_df_rank_by_probability_df.rename(columns={'Probability': 'Rank'}, inplace=True)\n",
    "    \n",
    "    Multinary_Logistic_Regression_prediction_probability_df_with_ranking=pd.merge(df_prob_melt_top5_countries, Multinary_Logistic_Regression_prediction_probability_df_rank_by_probability_df, left_index=True, right_index=True)\n",
    "    \n",
    "    Multinary_Logistic_Regression_prediction_probability_df_with_ranking=Multinary_Logistic_Regression_prediction_probability_df_with_ranking.rename(columns={'variable':'country'})\n",
    "    \n",
    "    Multinary_Logistic_Regression_prediction_actual_label_df1=training_data_labels.reset_index()\n",
    "    \n",
    "    Multinary_Logistic_Regression_prediction_actual_label_df1=Multinary_Logistic_Regression_prediction_actual_label_df1.rename(columns={'label':'country'})\n",
    "    \n",
    "    Multinary_Logistic_Regression_prediction_actual_label_df1=Multinary_Logistic_Regression_prediction_actual_label_df1.rename(columns={'country_destination':'country'})\n",
    "    \n",
    "    Multinary_Logistic_Regression_prediction_evaludation_df=pd.merge(Multinary_Logistic_Regression_prediction_actual_label_df1, Multinary_Logistic_Regression_prediction_probability_df_with_ranking, how='left', right_on=['id', 'country'],left_on=['id', 'country'])\n",
    "    \n",
    "    #Compute the score:\n",
    "    Multinary_Logistic_Regression_prediction_evaludation_df['Score']=Multinary_Logistic_Regression_prediction_evaludation_df['Rank'].apply(func_NDCG)\n",
    "    \n",
    "    \n",
    "    return Multinary_Logistic_Regression_prediction_evaludation_df"
   ]
  },
  {
   "cell_type": "code",
   "execution_count": 229,
   "metadata": {},
   "outputs": [],
   "source": [
    "def func_NDCG_average_score(logistic_classification_model_input, training_data_features, training_data_labels):\n",
    "    #Create NDCG function here for computing the NDCG Score:\n",
    "    def func_NDCG(ranking_number):\n",
    "        if ranking_number<=5:\n",
    "            score=(2**1-1)/np.log2(ranking_number+1)\n",
    "        else:\n",
    "            score=0\n",
    "        return score\n",
    "    \n",
    "    # Output the classification probability for the top 5 destination countries per user:\n",
    "    \n",
    "    ordered_label=logistic_classification_model_input.classes_\n",
    "    #Create a dictionary of label classes:\n",
    "\n",
    "    i=0\n",
    "    label_order_dict=dict()\n",
    "\n",
    "    for label in ordered_label:\n",
    "        label_order_dict[i]=label\n",
    "        i=i+1\n",
    "\n",
    "    #Create a dataframe for classification probability\n",
    "\n",
    "    df_prob=pd.DataFrame()\n",
    "\n",
    "    for probability_order in range(0,ordered_label.shape[0]):\n",
    "        df_prob[label_order_dict[probability_order]]=list(zip(*logistic_classification_model_input.predict_proba(training_data_features)))[probability_order]\n",
    "\n",
    "    df_prob.set_index(training_data_features.index, inplace=True) \n",
    "\n",
    "    df_prob=df_prob.rename(columns={'index':'id'})\n",
    "\n",
    "    df_prob=df_prob.reset_index()\n",
    "\n",
    "    df_prob_melt=pd.melt(df_prob, id_vars='id',value_vars=['AU', 'CA', 'DE', 'ES', 'FR', 'GB', 'IT', 'NDF', 'NL', 'PT', 'US','other'])\n",
    "\n",
    "    df_prob_melt=df_prob_melt.rename(columns={'value': 'Probability'})\n",
    "\n",
    "    df_prob_melt.sort_values(by=['id', 'Probability'], ascending=[True, False], inplace=True)\n",
    "\n",
    "\n",
    "\n",
    "    df_prob_melt_top5_countries=df_prob_melt.groupby('id').head(5)\n",
    "\n",
    "    # Output the classification model prediction class\n",
    "    \n",
    "    \n",
    "    ordered_label1=logistic_classification_model_input.classes_\n",
    "    \n",
    "    multinary_classification_prediction_label=logistic_classification_model_input.predict(training_data_features)\n",
    "    \n",
    "    multinary_classification_prediction_label_df=pd.DataFrame(multinary_classification_prediction_label)\n",
    "    multinary_classification_prediction_label_df.set_index(training_data_features.index, inplace=True)\n",
    "    \n",
    "    multinary_classification_prediction_label_df=multinary_classification_prediction_label_df.rename(columns={0:'label'})\n",
    "    \n",
    "    \n",
    "    # Merge the country prediction rank along with the actual label into the final data frame for computing the NDCG score based on the country ranking:\n",
    "    \n",
    "    Multinary_Logistic_Regression_prediction_probability_df_rank_by_probability=df_prob_melt_top5_countries.groupby('id')['Probability'].rank(ascending=False)\n",
    "    \n",
    "    Multinary_Logistic_Regression_prediction_probability_df_rank_by_probability_df=pd.DataFrame(Multinary_Logistic_Regression_prediction_probability_df_rank_by_probability)\n",
    "    \n",
    "    Multinary_Logistic_Regression_prediction_probability_df_rank_by_probability_df.rename(columns={'Probability': 'Rank'}, inplace=True)\n",
    "    \n",
    "    Multinary_Logistic_Regression_prediction_probability_df_with_ranking=pd.merge(df_prob_melt_top5_countries, Multinary_Logistic_Regression_prediction_probability_df_rank_by_probability_df, left_index=True, right_index=True)\n",
    "    \n",
    "    Multinary_Logistic_Regression_prediction_probability_df_with_ranking=Multinary_Logistic_Regression_prediction_probability_df_with_ranking.rename(columns={'variable':'country'})\n",
    "    \n",
    "    Multinary_Logistic_Regression_prediction_actual_label_df1=training_data_labels.reset_index()\n",
    "    \n",
    "    Multinary_Logistic_Regression_prediction_actual_label_df1=Multinary_Logistic_Regression_prediction_actual_label_df1.rename(columns={'label':'country'})\n",
    "    \n",
    "    Multinary_Logistic_Regression_prediction_actual_label_df1=Multinary_Logistic_Regression_prediction_actual_label_df1.rename(columns={'country_destination':'country'})\n",
    "    \n",
    "    Multinary_Logistic_Regression_prediction_evaludation_df=pd.merge(Multinary_Logistic_Regression_prediction_actual_label_df1, Multinary_Logistic_Regression_prediction_probability_df_with_ranking, how='left', right_on=['id', 'country'],left_on=['id', 'country'])\n",
    "    \n",
    "    #Compute the score:\n",
    "    Multinary_Logistic_Regression_prediction_evaludation_df['Score']=Multinary_Logistic_Regression_prediction_evaludation_df['Rank'].apply(func_NDCG)\n",
    "    \n",
    "    \n",
    "    return Multinary_Logistic_Regression_prediction_evaludation_df['Score'].mean()"
   ]
  },
  {
   "cell_type": "markdown",
   "metadata": {},
   "source": [
    "# Error Analysis using confusion matrix:"
   ]
  },
  {
   "cell_type": "markdown",
   "metadata": {},
   "source": [
    "Confusion Matrix:"
   ]
  },
  {
   "cell_type": "markdown",
   "metadata": {},
   "source": [
    "Below is how confusion matrix is computed in the multi class classification problem:"
   ]
  },
  {
   "attachments": {
    "image.png": {
     "image/png": "[encoded data removed]"
    }
   },
   "cell_type": "markdown",
   "metadata": {},
   "source": [
    "![image.png](attachment:image.png)"
   ]
  },
  {
   "cell_type": "markdown",
   "metadata": {},
   "source": [
    "In the training dataset, the logistic regression model here classifies all the data into \"US\" or \"NDF\". "
   ]
  },
  {
   "cell_type": "code",
   "execution_count": 164,
   "metadata": {},
   "outputs": [
    {
     "data": {
      "text/plain": [
       "array(['AU', 'CA', 'DE', 'ES', 'FR', 'GB', 'IT', 'NDF', 'NL', 'PT', 'US',\n",
       "       'other'], dtype=object)"
      ]
     },
     "execution_count": 164,
     "metadata": {},
     "output_type": "execute_result"
    }
   ],
   "source": [
    "Multinary_Logistic_Regression.classes_"
   ]
  },
  {
   "cell_type": "code",
   "execution_count": 157,
   "metadata": {},
   "outputs": [],
   "source": [
    "from sklearn.cross_validation import cross_val_predict"
   ]
  },
  {
   "cell_type": "code",
   "execution_count": 158,
   "metadata": {},
   "outputs": [],
   "source": [
    "y_train_pred=cross_val_predict(Multinary_Logistic_Regression, X_train, y_train, cv=5)"
   ]
  },
  {
   "cell_type": "code",
   "execution_count": 161,
   "metadata": {},
   "outputs": [],
   "source": [
    "from sklearn.metrics import confusion_matrix"
   ]
  },
  {
   "cell_type": "code",
   "execution_count": 162,
   "metadata": {},
   "outputs": [],
   "source": [
    "conf_mx=confusion_matrix(y_train, y_train_pred)"
   ]
  },
  {
   "cell_type": "code",
   "execution_count": 171,
   "metadata": {},
   "outputs": [
    {
     "data": {
      "text/plain": [
       "{'NDF', 'US'}"
      ]
     },
     "execution_count": 171,
     "metadata": {},
     "output_type": "execute_result"
    }
   ],
   "source": [
    "set(y_train_pred)"
   ]
  },
  {
   "cell_type": "code",
   "execution_count": 163,
   "metadata": {},
   "outputs": [
    {
     "data": {
      "image/png": "[encoded data removed]",
      "text/plain": [
       "<matplotlib.figure.Figure at 0x6e1279b0>"
      ]
     },
     "metadata": {
      "needs_background": "light"
     },
     "output_type": "display_data"
    }
   ],
   "source": [
    "plt.matshow(conf_mx, cmap=plt.cm.gray)\n",
    "plt.show()"
   ]
  },
  {
   "cell_type": "markdown",
   "metadata": {},
   "source": [
    "Use the confusion matrix to plot on the errors:"
   ]
  },
  {
   "cell_type": "markdown",
   "metadata": {},
   "source": [
    "Divide each value in the confusion matrix by the number of users in each predicted class."
   ]
  },
  {
   "cell_type": "code",
   "execution_count": 179,
   "metadata": {},
   "outputs": [],
   "source": [
    "row_sums=conf_mx.sum(axis=1, keepdims=True)"
   ]
  },
  {
   "cell_type": "code",
   "execution_count": 180,
   "metadata": {},
   "outputs": [],
   "source": [
    "normed_conf_mx=conf_mx/row_sums"
   ]
  },
  {
   "cell_type": "markdown",
   "metadata": {},
   "source": [
    "Fill the diagnol with zeros to keep only the errors and plot the results:"
   ]
  },
  {
   "cell_type": "code",
   "execution_count": 183,
   "metadata": {},
   "outputs": [],
   "source": [
    "np.fill_diagonal(normed_conf_mx,0)"
   ]
  },
  {
   "cell_type": "code",
   "execution_count": 187,
   "metadata": {},
   "outputs": [
    {
     "data": {
      "image/png": "[encoded data removed]",
      "text/plain": [
       "<matplotlib.figure.Figure at 0x674b1550>"
      ]
     },
     "metadata": {
      "needs_background": "light"
     },
     "output_type": "display_data"
    }
   ],
   "source": [
    "plt.matshow(normed_conf_mx, cmap=plt.cm.gray)\n",
    "plt.colorbar()\n",
    "plt.show()"
   ]
  },
  {
   "cell_type": "markdown",
   "metadata": {},
   "source": [
    "Validation the prediction on the test dataset:"
   ]
  },
  {
   "cell_type": "code",
   "execution_count": 188,
   "metadata": {},
   "outputs": [
    {
     "name": "stdout",
     "output_type": "stream",
     "text": [
      "Accuracy Score:  0.7388222870261943\n"
     ]
    }
   ],
   "source": [
    "print(\"Accuracy Score: \", cross_val_score(Multinary_Logistic_Regression, X_test,y_test, cv=5).mean())"
   ]
  },
  {
   "cell_type": "markdown",
   "metadata": {},
   "source": [
    "# Leverage the function to evaluate the performance on the testing set:"
   ]
  },
  {
   "cell_type": "markdown",
   "metadata": {},
   "source": [
    "The prediction model is doing very poorly for countries like AU, CA, PT, NT, DE, ES and GB. The prediction is very powerful to predict the user that has not done any booking and the users that have booked US as their first destination country in the testing dataset. This is because most of the users in the data have not booked their trips or have booked US as their first destination country."
   ]
  },
  {
   "cell_type": "code",
   "execution_count": 192,
   "metadata": {},
   "outputs": [
    {
     "data": {
      "text/html": [
       "<div>\n",
       "<style scoped>\n",
       "    .dataframe tbody tr th:only-of-type {\n",
       "        vertical-align: middle;\n",
       "    }\n",
       "\n",
       "    .dataframe tbody tr th {\n",
       "        vertical-align: top;\n",
       "    }\n",
       "\n",
       "    .dataframe thead th {\n",
       "        text-align: right;\n",
       "    }\n",
       "</style>\n",
       "<table border=\"1\" class=\"dataframe\">\n",
       "  <thead>\n",
       "    <tr style=\"text-align: right;\">\n",
       "      <th></th>\n",
       "      <th>id</th>\n",
       "      <th>country</th>\n",
       "      <th>Probability</th>\n",
       "      <th>Rank</th>\n",
       "      <th>Score</th>\n",
       "    </tr>\n",
       "  </thead>\n",
       "  <tbody>\n",
       "    <tr>\n",
       "      <th>0</th>\n",
       "      <td>kgdq6y9tit</td>\n",
       "      <td>NDF</td>\n",
       "      <td>0.969776</td>\n",
       "      <td>1.0</td>\n",
       "      <td>1.0</td>\n",
       "    </tr>\n",
       "    <tr>\n",
       "      <th>1</th>\n",
       "      <td>1mi71d5rbz</td>\n",
       "      <td>NDF</td>\n",
       "      <td>0.729796</td>\n",
       "      <td>1.0</td>\n",
       "      <td>1.0</td>\n",
       "    </tr>\n",
       "    <tr>\n",
       "      <th>2</th>\n",
       "      <td>kbrhe2kjpc</td>\n",
       "      <td>GB</td>\n",
       "      <td>NaN</td>\n",
       "      <td>NaN</td>\n",
       "      <td>0.0</td>\n",
       "    </tr>\n",
       "    <tr>\n",
       "      <th>3</th>\n",
       "      <td>mn6igynfia</td>\n",
       "      <td>NDF</td>\n",
       "      <td>0.632432</td>\n",
       "      <td>1.0</td>\n",
       "      <td>1.0</td>\n",
       "    </tr>\n",
       "    <tr>\n",
       "      <th>4</th>\n",
       "      <td>2dg0i1vggn</td>\n",
       "      <td>NDF</td>\n",
       "      <td>0.961464</td>\n",
       "      <td>1.0</td>\n",
       "      <td>1.0</td>\n",
       "    </tr>\n",
       "  </tbody>\n",
       "</table>\n",
       "</div>"
      ],
      "text/plain": [
       "           id country  Probability  Rank  Score\n",
       "0  kgdq6y9tit     NDF     0.969776   1.0    1.0\n",
       "1  1mi71d5rbz     NDF     0.729796   1.0    1.0\n",
       "2  kbrhe2kjpc      GB          NaN   NaN    0.0\n",
       "3  mn6igynfia     NDF     0.632432   1.0    1.0\n",
       "4  2dg0i1vggn     NDF     0.961464   1.0    1.0"
      ]
     },
     "execution_count": 192,
     "metadata": {},
     "output_type": "execute_result"
    }
   ],
   "source": [
    "logistic_regression_evaluation_final_df_test_set=funct_NDCG_score_output(Multinary_Logistic_Regression, X_test, y_test)\n",
    "logistic_regression_evaluation_final_df_test_set.head()"
   ]
  },
  {
   "cell_type": "markdown",
   "metadata": {},
   "source": [
    "The average score here for the model is 87%."
   ]
  },
  {
   "cell_type": "code",
   "execution_count": 196,
   "metadata": {},
   "outputs": [
    {
     "data": {
      "text/plain": [
       "0.8732669579923871"
      ]
     },
     "execution_count": 196,
     "metadata": {},
     "output_type": "execute_result"
    }
   ],
   "source": [
    "logistic_regression_evaluation_final_df_test_set.Score.mean()"
   ]
  },
  {
   "cell_type": "markdown",
   "metadata": {},
   "source": [
    "The average score by country looks similar to the result from the training set."
   ]
  },
  {
   "cell_type": "code",
   "execution_count": 195,
   "metadata": {},
   "outputs": [
    {
     "data": {
      "text/plain": [
       "<matplotlib.axes._subplots.AxesSubplot at 0x674b1358>"
      ]
     },
     "execution_count": 195,
     "metadata": {},
     "output_type": "execute_result"
    },
    {
     "data": {
      "image/png": "[encoded data removed]",
      "text/plain": [
       "<matplotlib.figure.Figure at 0x674b1278>"
      ]
     },
     "metadata": {
      "needs_background": "light"
     },
     "output_type": "display_data"
    }
   ],
   "source": [
    "logistic_regression_evaluation_final_df_test_set.groupby('country')['Score'].mean().plot(kind='barh')"
   ]
  },
  {
   "cell_type": "markdown",
   "metadata": {},
   "source": [
    "Below is the distribution of the score"
   ]
  },
  {
   "cell_type": "code",
   "execution_count": 214,
   "metadata": {},
   "outputs": [
    {
     "data": {
      "text/plain": [
       "1.000000    32584\n",
       "0.630930     5050\n",
       "0.000000     1776\n",
       "0.500000     1764\n",
       "0.430677      949\n",
       "0.386853      568\n",
       "Name: Score, dtype: int64"
      ]
     },
     "execution_count": 214,
     "metadata": {},
     "output_type": "execute_result"
    }
   ],
   "source": [
    "logistic_regression_evaluation_final_df_test_set.Score.value_counts()"
   ]
  },
  {
   "cell_type": "code",
   "execution_count": 213,
   "metadata": {},
   "outputs": [
    {
     "data": {
      "text/plain": [
       "<matplotlib.axes._subplots.AxesSubplot at 0x5aa15278>"
      ]
     },
     "execution_count": 213,
     "metadata": {},
     "output_type": "execute_result"
    },
    {
     "data": {
      "image/png": "[encoded data removed]",
      "text/plain": [
       "<matplotlib.figure.Figure at 0x5a9f6550>"
      ]
     },
     "metadata": {
      "needs_background": "light"
     },
     "output_type": "display_data"
    }
   ],
   "source": [
    "sns.distplot(logistic_regression_evaluation_final_df_test_set.Score)"
   ]
  },
  {
   "cell_type": "code",
   "execution_count": 197,
   "metadata": {},
   "outputs": [],
   "source": [
    "y_test_pred=cross_val_predict(Multinary_Logistic_Regression, X_test, y_test, cv=5)"
   ]
  },
  {
   "cell_type": "code",
   "execution_count": 198,
   "metadata": {},
   "outputs": [],
   "source": [
    "conf_mx_test=confusion_matrix(y_test, y_test_pred)"
   ]
  },
  {
   "cell_type": "code",
   "execution_count": 200,
   "metadata": {
    "scrolled": true
   },
   "outputs": [
    {
     "data": {
      "image/png": "[encoded data removed]",
      "text/plain": [
       "<matplotlib.figure.Figure at 0x674be0b8>"
      ]
     },
     "metadata": {
      "needs_background": "light"
     },
     "output_type": "display_data"
    }
   ],
   "source": [
    "plt.matshow(conf_mx_test, cmap=plt.cm.gray)\n",
    "plt.colorbar()\n",
    "plt.show()"
   ]
  },
  {
   "cell_type": "markdown",
   "metadata": {},
   "source": [
    "Use the confusion matrix to plot on the errors:"
   ]
  },
  {
   "cell_type": "code",
   "execution_count": 207,
   "metadata": {},
   "outputs": [],
   "source": [
    "row_sums_test=conf_mx_test.sum(axis=1, keepdims=True)"
   ]
  },
  {
   "cell_type": "markdown",
   "metadata": {},
   "source": [
    "conf_mx_test_normalized=conf_mx_test/row_sums_test"
   ]
  },
  {
   "cell_type": "code",
   "execution_count": 209,
   "metadata": {},
   "outputs": [],
   "source": [
    "np.fill_diagonal(conf_mx_test_normalized,0)"
   ]
  },
  {
   "cell_type": "markdown",
   "metadata": {},
   "source": [
    "By looking at the error plot, we can see that since the model can only predict the \"US\" and \"NDF\" these two classes as the first destination country, the prediction is not accuracte and generates a lot of errors."
   ]
  },
  {
   "cell_type": "code",
   "execution_count": 211,
   "metadata": {},
   "outputs": [
    {
     "data": {
      "image/png": "[encoded data removed]",
      "text/plain": [
       "<matplotlib.figure.Figure at 0x61ee1fd0>"
      ]
     },
     "metadata": {
      "needs_background": "light"
     },
     "output_type": "display_data"
    }
   ],
   "source": [
    "plt.matshow(conf_mx_test_normalized, cmap=plt.cm.gray)\n",
    "plt.colorbar()\n",
    "plt.show()"
   ]
  },
  {
   "cell_type": "markdown",
   "metadata": {},
   "source": [
    "# Use Random Forest to train the model: "
   ]
  },
  {
   "cell_type": "code",
   "execution_count": 263,
   "metadata": {},
   "outputs": [],
   "source": [
    "y, X =user_training_dataset_update_multinary_classfication1['country_destination'], user_training_dataset_update_multinary_classfication1[feature_list2]"
   ]
  },
  {
   "cell_type": "code",
   "execution_count": 268,
   "metadata": {},
   "outputs": [],
   "source": [
    "X_train, X_test, y_train, y_test = train_test_split(X, y, test_size=0.2, random_state=42)"
   ]
  },
  {
   "cell_type": "code",
   "execution_count": 265,
   "metadata": {},
   "outputs": [
    {
     "name": "stdout",
     "output_type": "stream",
     "text": [
      "Shape of features of training dataset:  (170760, 273)\n",
      "Shape of features of testing dataset:  (42691, 273)\n",
      "Shape of labels of training dataset : (170760,)\n",
      "Shape of labels of testing dataset:  (42691,)\n"
     ]
    }
   ],
   "source": [
    "print(\"Shape of features of training dataset: \", X_train.shape)\n",
    "print(\"Shape of features of testing dataset: \", X_test.shape)\n",
    "print(\"Shape of labels of training dataset :\", y_train.shape)\n",
    "print(\"Shape of labels of testing dataset: \", y_test.shape)"
   ]
  },
  {
   "cell_type": "markdown",
   "metadata": {},
   "source": [
    "# Try Random Search with Cross Validation to get the best hyper parameter tuning:"
   ]
  },
  {
   "cell_type": "code",
   "execution_count": 224,
   "metadata": {},
   "outputs": [
    {
     "name": "stdout",
     "output_type": "stream",
     "text": [
      "{'bootstrap': [True, False],\n",
      " 'max_depth': [10, 20, 30, 40, 50, 60, 70, 80, 90, 100, 110, None],\n",
      " 'min_samples_leaf': [1, 2, 4],\n",
      " 'min_samples_split': [2, 5, 10],\n",
      " 'n_estimators': [150,\n",
      "                  157,\n",
      "                  164,\n",
      "                  171,\n",
      "                  178,\n",
      "                  185,\n",
      "                  192,\n",
      "                  200,\n",
      "                  207,\n",
      "                  214,\n",
      "                  221,\n",
      "                  228,\n",
      "                  235,\n",
      "                  242,\n",
      "                  250,\n",
      "                  257,\n",
      "                  264,\n",
      "                  271,\n",
      "                  278,\n",
      "                  285,\n",
      "                  292,\n",
      "                  300,\n",
      "                  307,\n",
      "                  314,\n",
      "                  321,\n",
      "                  328,\n",
      "                  335,\n",
      "                  342,\n",
      "                  350,\n",
      "                  357,\n",
      "                  364,\n",
      "                  371,\n",
      "                  378,\n",
      "                  385,\n",
      "                  392,\n",
      "                  400,\n",
      "                  407,\n",
      "                  414,\n",
      "                  421,\n",
      "                  428,\n",
      "                  435,\n",
      "                  442,\n",
      "                  450,\n",
      "                  457,\n",
      "                  464,\n",
      "                  471,\n",
      "                  478,\n",
      "                  485,\n",
      "                  492,\n",
      "                  500]}\n"
     ]
    }
   ],
   "source": [
    "\n",
    "\n",
    "# Number of trees in random forest\n",
    "n_estimators = [int(x) for x in np.linspace(start = 150, stop = 500, num = 50)]\n",
    "# Number of features to consider at every split\n",
    "#max_features = ['auto', 'sqrt']\n",
    "\n",
    "# Maximum number of levels in tree\n",
    "max_depth = [int(x) for x in np.linspace(10, 110, num = 11)]\n",
    "max_depth.append(None)\n",
    "\n",
    "# Minimum number of samples required to split a node\n",
    "min_samples_split = [2, 5, 10]\n",
    "# Minimum number of samples required at each leaf node\n",
    "min_samples_leaf = [1, 2, 4]\n",
    "# Method of selecting samples for training each tree\n",
    "bootstrap = [True, False]\n",
    "\n",
    "# Create the random grid\n",
    "random_grid = {'n_estimators': n_estimators,\n",
    "               #'max_features': max_features,\n",
    "               'max_depth': max_depth,\n",
    "               'min_samples_split': min_samples_split,\n",
    "               'min_samples_leaf': min_samples_leaf,\n",
    "               'bootstrap': bootstrap}\n",
    "\n",
    "pprint(random_grid)"
   ]
  },
  {
   "cell_type": "markdown",
   "metadata": {},
   "source": [
    "Use the Randomized Search CV to get the optimal hyperparameter:"
   ]
  },
  {
   "cell_type": "code",
   "execution_count": 241,
   "metadata": {},
   "outputs": [
    {
     "name": "stdout",
     "output_type": "stream",
     "text": [
      "Fitting 3 folds for each of 50 candidates, totalling 150 fits\n"
     ]
    },
    {
     "name": "stderr",
     "output_type": "stream",
     "text": [
      "[Parallel(n_jobs=-1)]: Done  33 tasks      | elapsed: 41.6min\n",
      "[Parallel(n_jobs=-1)]: Done 150 out of 150 | elapsed: 202.7min finished\n"
     ]
    }
   ],
   "source": [
    "# Use the random grid to search for best hyperparameters\n",
    "# First create the base model to tune\n",
    "rf = RandomForestClassifier(random_state = 42)\n",
    "# Random search of parameters, using 3 fold cross validation, \n",
    "# search across 100 different combinations, and use all available cores\n",
    "rf_random = RandomizedSearchCV(estimator=rf, param_distributions=random_grid,\n",
    "                              n_iter = 50,\n",
    "                              #scoring=\"roc_auc\", \n",
    "                              cv = 3, verbose=2, random_state=42, n_jobs=-1,\n",
    "                              return_train_score=True)\n",
    "\n",
    "# Fit the random search model\n",
    "rf_random.fit(X_train, y_train);"
   ]
  },
  {
   "cell_type": "markdown",
   "metadata": {},
   "source": [
    "Get the best parameters from the randomized search:"
   ]
  },
  {
   "cell_type": "code",
   "execution_count": 242,
   "metadata": {},
   "outputs": [
    {
     "data": {
      "text/plain": [
       "{'bootstrap': True,\n",
       " 'max_depth': 20,\n",
       " 'min_samples_leaf': 4,\n",
       " 'min_samples_split': 10,\n",
       " 'n_estimators': 221}"
      ]
     },
     "execution_count": 242,
     "metadata": {},
     "output_type": "execute_result"
    }
   ],
   "source": [
    "rf_random.best_params_"
   ]
  },
  {
   "cell_type": "markdown",
   "metadata": {},
   "source": [
    "Given the best hyperparameter recommeneded by the randomized search, narrow down the range for finalize the final hyperparameters to use for the model.\n",
    "\n",
    "- Below are the hyperpatamers recommended by the randomized search:\n",
    "\n",
    "bootstrap: True,\n",
    "\n",
    "max_depth: 20,\n",
    "\n",
    "min_samples_leaf: 4,\n",
    "\n",
    "min_samples_split: 5,\n",
    "\n",
    "n_estimators: 221"
   ]
  },
  {
   "cell_type": "markdown",
   "metadata": {},
   "source": [
    "Create the parameter grid based on the results of the random search:"
   ]
  },
  {
   "cell_type": "code",
   "execution_count": 246,
   "metadata": {},
   "outputs": [],
   "source": [
    "# Create the parameter grid based on the results of random search \n",
    "param_grid = {\n",
    "    'max_depth': [20, 22,24, 26, 28],\n",
    "    'bootstrap':[True],\n",
    "    'n_estimators': [221, 223, 225, 227],\n",
    "    'min_samples_split': [10],\n",
    "    'min_samples_leaf':[4]\n",
    "}\n",
    "\n",
    "# Create a base model\n",
    "random_forest_clf = RandomForestClassifier(random_state = 22)\n",
    "\n",
    "# Instantiate the grid search model\n",
    "grid_search_random_forest = GridSearchCV(estimator = random_forest_clf, param_grid = param_grid, \n",
    "                          cv = 3, n_jobs = -1, verbose = 2, return_train_score=True)"
   ]
  },
  {
   "cell_type": "code",
   "execution_count": 248,
   "metadata": {},
   "outputs": [
    {
     "name": "stdout",
     "output_type": "stream",
     "text": [
      "Fitting 3 folds for each of 20 candidates, totalling 60 fits\n"
     ]
    },
    {
     "name": "stderr",
     "output_type": "stream",
     "text": [
      "[Parallel(n_jobs=-1)]: Done  33 tasks      | elapsed: 22.5min\n",
      "[Parallel(n_jobs=-1)]: Done  60 out of  60 | elapsed: 40.8min finished\n"
     ]
    }
   ],
   "source": [
    "# Fit the grid search to the data\n",
    "grid_search_random_forest.fit(X_train, y_train);"
   ]
  },
  {
   "cell_type": "markdown",
   "metadata": {},
   "source": [
    "# Below are the best parameters out of the randomized search:"
   ]
  },
  {
   "cell_type": "code",
   "execution_count": 249,
   "metadata": {},
   "outputs": [
    {
     "data": {
      "text/plain": [
       "{'bootstrap': True,\n",
       " 'max_depth': 20,\n",
       " 'min_samples_leaf': 4,\n",
       " 'min_samples_split': 10,\n",
       " 'n_estimators': 221}"
      ]
     },
     "execution_count": 249,
     "metadata": {},
     "output_type": "execute_result"
    }
   ],
   "source": [
    "grid_search_random_forest.best_params_\n"
   ]
  },
  {
   "cell_type": "code",
   "execution_count": 251,
   "metadata": {},
   "outputs": [],
   "source": [
    "best_grid_random_forest = grid_search_random_forest.best_estimator_\n"
   ]
  },
  {
   "cell_type": "markdown",
   "metadata": {},
   "source": [
    "# Evaluate the performance of the random forest model"
   ]
  },
  {
   "cell_type": "markdown",
   "metadata": {},
   "source": [
    "The average accuracy score for cross validation is 87%."
   ]
  },
  {
   "cell_type": "code",
   "execution_count": 252,
   "metadata": {},
   "outputs": [
    {
     "data": {
      "text/plain": [
       "array([0.87497073, 0.87517564, 0.87538065, 0.8754686 , 0.87557118])"
      ]
     },
     "execution_count": 252,
     "metadata": {},
     "output_type": "execute_result"
    }
   ],
   "source": [
    "cross_val_score(best_grid_random_forest, X_test, y_test, cv=5)"
   ]
  },
  {
   "cell_type": "code",
   "execution_count": 259,
   "metadata": {},
   "outputs": [
    {
     "data": {
      "text/plain": [
       "{'NDF', 'US'}"
      ]
     },
     "execution_count": 259,
     "metadata": {},
     "output_type": "execute_result"
    }
   ],
   "source": [
    "set(best_grid_random_forest.predict(X_test))"
   ]
  },
  {
   "cell_type": "markdown",
   "metadata": {},
   "source": [
    "random_forest_evaluation_final_df_test_set=funct_NDCG_score_output(best_grid_random_forest, X_test, y_test)\n",
    "random_forest_evaluation_final_df_test_set.head()"
   ]
  },
  {
   "cell_type": "code",
   "execution_count": 256,
   "metadata": {},
   "outputs": [
    {
     "data": {
      "text/plain": [
       "<matplotlib.axes._subplots.AxesSubplot at 0xdcc8198>"
      ]
     },
     "execution_count": 256,
     "metadata": {},
     "output_type": "execute_result"
    },
    {
     "data": {
      "image/png": "[encoded data removed]",
      "text/plain": [
       "<matplotlib.figure.Figure at 0x5e465eb8>"
      ]
     },
     "metadata": {
      "needs_background": "light"
     },
     "output_type": "display_data"
    }
   ],
   "source": [
    "random_forest_evaluation_final_df_test_set.groupby('country')['Score'].mean().plot(kind='barh')"
   ]
  },
  {
   "cell_type": "markdown",
   "metadata": {},
   "source": [
    "The average score for the finalized random forest classifier here is 92%."
   ]
  },
  {
   "cell_type": "code",
   "execution_count": 260,
   "metadata": {},
   "outputs": [
    {
     "data": {
      "text/plain": [
       "0.9212873052098688"
      ]
     },
     "execution_count": 260,
     "metadata": {},
     "output_type": "execute_result"
    }
   ],
   "source": [
    "random_forest_evaluation_final_df_test_set['Score'].mean()"
   ]
  },
  {
   "cell_type": "markdown",
   "metadata": {},
   "source": [
    "Below is the distribution of the score from the random forest model:"
   ]
  },
  {
   "cell_type": "code",
   "execution_count": 267,
   "metadata": {},
   "outputs": [
    {
     "data": {
      "text/plain": [
       "<matplotlib.axes._subplots.AxesSubplot at 0x85fad898>"
      ]
     },
     "execution_count": 267,
     "metadata": {},
     "output_type": "execute_result"
    },
    {
     "data": {
      "image/png": "[encoded data removed]",
      "text/plain": [
       "<matplotlib.figure.Figure at 0x85f83a90>"
      ]
     },
     "metadata": {
      "needs_background": "light"
     },
     "output_type": "display_data"
    }
   ],
   "source": [
    "sns.distplot(random_forest_evaluation_final_df_test_set['Score'])"
   ]
  },
  {
   "cell_type": "code",
   "execution_count": 269,
   "metadata": {},
   "outputs": [],
   "source": [
    "y_test_pred=cross_val_predict(best_grid_random_forest, X_test, y_test, cv=5)"
   ]
  },
  {
   "cell_type": "markdown",
   "metadata": {},
   "source": [
    "Plot the confusion matrix:"
   ]
  },
  {
   "cell_type": "code",
   "execution_count": 270,
   "metadata": {},
   "outputs": [
    {
     "data": {
      "image/png": "[encoded data removed]",
      "text/plain": [
       "<matplotlib.figure.Figure at 0x54ce7898>"
      ]
     },
     "metadata": {
      "needs_background": "light"
     },
     "output_type": "display_data"
    }
   ],
   "source": [
    "conf_mx_test=confusion_matrix(y_test, y_test_pred)\n",
    "plt.matshow(conf_mx_test, cmap=plt.cm.gray)\n",
    "plt.colorbar()\n",
    "plt.show()"
   ]
  },
  {
   "cell_type": "code",
   "execution_count": 278,
   "metadata": {},
   "outputs": [
    {
     "data": {
      "text/plain": [
       "NDF      24843\n",
       "US       12525\n",
       "other     2006\n",
       "FR        1010\n",
       "IT         562\n",
       "GB         497\n",
       "ES         451\n",
       "CA         275\n",
       "DE         208\n",
       "NL         155\n",
       "AU         114\n",
       "PT          45\n",
       "Name: country_destination, dtype: int64"
      ]
     },
     "execution_count": 278,
     "metadata": {},
     "output_type": "execute_result"
    }
   ],
   "source": [
    "y_test.value_counts()"
   ]
  },
  {
   "cell_type": "code",
   "execution_count": 281,
   "metadata": {},
   "outputs": [],
   "source": [
    "row_sums_test=conf_mx_test.sum(axis=1, keepdims=True)"
   ]
  },
  {
   "cell_type": "code",
   "execution_count": 282,
   "metadata": {},
   "outputs": [
    {
     "data": {
      "text/plain": [
       "array([[  114],\n",
       "       [  275],\n",
       "       [  208],\n",
       "       [  451],\n",
       "       [ 1010],\n",
       "       [  497],\n",
       "       [  562],\n",
       "       [24843],\n",
       "       [  155],\n",
       "       [   45],\n",
       "       [12525],\n",
       "       [ 2006]], dtype=int64)"
      ]
     },
     "execution_count": 282,
     "metadata": {},
     "output_type": "execute_result"
    }
   ],
   "source": [
    "row_sums_test"
   ]
  },
  {
   "cell_type": "markdown",
   "metadata": {},
   "source": [
    "By looking at the error plot, a lot predictions toward \"US\" has generated many errors.\n"
   ]
  },
  {
   "cell_type": "code",
   "execution_count": 271,
   "metadata": {},
   "outputs": [
    {
     "data": {
      "image/png": "[encoded data removed]",
      "text/plain": [
       "<matplotlib.figure.Figure at 0x52019a90>"
      ]
     },
     "metadata": {
      "needs_background": "light"
     },
     "output_type": "display_data"
    }
   ],
   "source": [
    "row_sums_test=conf_mx_test.sum(axis=1, keepdims=True)\n",
    "conf_mx_test_normalized=conf_mx_test/row_sums_test\n",
    "np.fill_diagonal(conf_mx_test_normalized,0)\n",
    "plt.matshow(conf_mx_test_normalized, cmap=plt.cm.gray)\n",
    "plt.colorbar()\n",
    "plt.show()\n",
    "\n",
    "\n"
   ]
  },
  {
   "cell_type": "markdown",
   "metadata": {},
   "source": [
    "# Use XG boost to train the model"
   ]
  },
  {
   "cell_type": "code",
   "execution_count": 30,
   "metadata": {},
   "outputs": [],
   "source": [
    "import xgboost as xgb\n",
    "from sklearn.preprocessing import LabelEncoder"
   ]
  },
  {
   "cell_type": "code",
   "execution_count": 31,
   "metadata": {},
   "outputs": [],
   "source": [
    "y, X =user_training_dataset_update_multinary_classfication1['country_destination'], user_training_dataset_update_multinary_classfication1[feature_list2]"
   ]
  },
  {
   "cell_type": "code",
   "execution_count": 32,
   "metadata": {},
   "outputs": [],
   "source": [
    "X_train, X_test, y_train, y_test=train_test_split(X,y, test_size=0.2, random_state=22)"
   ]
  },
  {
   "cell_type": "code",
   "execution_count": 33,
   "metadata": {},
   "outputs": [],
   "source": [
    "import re\n",
    "regex = re.compile(r\"\\[|\\]|<\", re.IGNORECASE)\n",
    "X_train.columns = [regex.sub(\"_\", col) if any(x in str(col) for x in set(('[', ']', '<'))) else col for col in X_train.columns.values]\n",
    "X_test.columns = [regex.sub(\"_\", col) if any(x in str(col) for x in set(('[', ']', '<'))) else col for col in X_test.columns.values]\n"
   ]
  },
  {
   "cell_type": "code",
   "execution_count": 34,
   "metadata": {},
   "outputs": [],
   "source": [
    "label_encoder = LabelEncoder()\n",
    "encoded_y_train = label_encoder.fit_transform(y_train)"
   ]
  },
  {
   "cell_type": "code",
   "execution_count": 35,
   "metadata": {},
   "outputs": [],
   "source": [
    "xgtrain = xgb.DMatrix(X_train, label=encoded_y_train)"
   ]
  },
  {
   "cell_type": "markdown",
   "metadata": {},
   "source": [
    "# Try randomized search for hyper parameter tuning on xgboost"
   ]
  },
  {
   "cell_type": "code",
   "execution_count": 36,
   "metadata": {},
   "outputs": [],
   "source": [
    "colsample_bytree=[x for x in np.linspace(start=0.2, stop=0.8, num=4)]\n",
    "n_estimators=[int(x) for x in np.linspace(start=20, stop=500, num=50)]"
   ]
  },
  {
   "cell_type": "code",
   "execution_count": 40,
   "metadata": {},
   "outputs": [],
   "source": [
    "def ndcg_score(preds, dtrain):\n",
    "    labels = dtrain.get_label()\n",
    "    top = []\n",
    "\n",
    "    for i in range(preds.shape[0]):\n",
    "        top.append(np.argsort(preds[i])[::-1][:5])\n",
    "\n",
    "    mat = np.reshape(np.repeat(labels,np.shape(top)[1]) == np.array(top).ravel(),np.array(top).shape).astype(int)\n",
    "    score = np.mean(np.sum(mat/np.log2(np.arange(2, mat.shape[1] + 2)),axis = 1))\n",
    "    return 'ndcg', score"
   ]
  },
  {
   "cell_type": "code",
   "execution_count": 41,
   "metadata": {},
   "outputs": [
    {
     "name": "stderr",
     "output_type": "stream",
     "text": [
      "C:\\Users\\yuka.abe\\AppData\\Local\\Continuum\\anaconda3\\lib\\site-packages\\sklearn\\grid_search.py:42: DeprecationWarning: This module was deprecated in version 0.18 in favor of the model_selection module into which all the refactored classes and functions are moved. This module will be removed in 0.20.\n",
      "  DeprecationWarning)\n"
     ]
    }
   ],
   "source": [
    "from sklearn.grid_search import GridSearchCV\n",
    "from sklearn.metrics.scorer import make_scorer\n",
    "\n",
    "my_scorer = make_scorer(ndcg_score, greater_is_better=True)"
   ]
  },
  {
   "cell_type": "code",
   "execution_count": 43,
   "metadata": {},
   "outputs": [
    {
     "name": "stdout",
     "output_type": "stream",
     "text": [
      "{'max_depth': [10], 'learning_rate': [0.2, 0.4, 0.6, 0.8, 1], 'n_estimators': [20, 29, 39, 49, 59, 68, 78, 88, 98, 108, 117, 127, 137, 147, 157, 166, 176, 186, 196, 206, 215, 225, 235, 245, 255, 264, 274, 284, 294, 304, 313, 323, 333, 343, 353, 362, 372, 382, 392, 402, 411, 421, 431, 441, 451, 460, 470, 480, 490, 500], 'objective': 'multi:softprob', 'num_class': [12], 'gamma': [0], 'min_child_weight': [1], 'max_delta_step': [0], 'subsample': [1], 'colsample_bytree': [0.2, 0.4, 0.6000000000000001, 0.8], 'colsample_bylevel': [1], 'reg_alpha': [0], 'reg_lambda': [1], 'scale_pos_weight': [1], 'base_score': [0.5], 'missing': [None], 'silent': [True], 'nthread': [4], 'seed': [22]}\n"
     ]
    }
   ],
   "source": [
    "param = {\n",
    "    'max_depth': [10],\n",
    "    'learning_rate': [0.2,0.4, 0.6, 0.8,1],\n",
    "    'n_estimators': n_estimators,\n",
    "    'objective': 'multi:softprob',\n",
    "    'num_class': [12],\n",
    "    'gamma': [0],\n",
    "    'min_child_weight': [1],\n",
    "    'max_delta_step': [0],\n",
    "    'subsample': [1],\n",
    "    'colsample_bytree': colsample_bytree,\n",
    "    'colsample_bylevel': [1],\n",
    "    'reg_alpha': [0],\n",
    "    'reg_lambda': [1],\n",
    "    'scale_pos_weight': [1],\n",
    "    'base_score': [0.5],\n",
    "    'missing': [None],\n",
    "    'silent': [True],\n",
    "    'nthread': [4],\n",
    "    'seed': [22]\n",
    "}\n",
    "\n",
    "print(param)"
   ]
  },
  {
   "cell_type": "code",
   "execution_count": null,
   "metadata": {},
   "outputs": [
    {
     "name": "stdout",
     "output_type": "stream",
     "text": [
      "Fitting 3 folds for each of 50 candidates, totalling 150 fits\n"
     ]
    }
   ],
   "source": [
    "# Use the random grid to search for best hyperparameters\n",
    "# First create the base model to tune\n",
    "xgboost_clf = xgb.XGBClassifier(random_state = 22)\n",
    "\n",
    "# Random search of parameters, using 3 fold cross validation, \n",
    "# search across 50 different combinations, and use all available cores\n",
    "\n",
    "xgboost_random=RandomizedSearchCV(estimator=xgboost_clf, \n",
    "                                  param_distributions=param, \n",
    "                                  n_iter=50, \n",
    "                                  scoring=my_scorer, \n",
    "                                  cv=3, verbose=2, \n",
    "                                  random_state=22, \n",
    "                                  n_jobs=-1, \n",
    "                                  return_train_score=True)\n",
    "\n",
    "# Fit the random search model\n",
    "xgboost_random.fit(X_train, y_train);\n",
    "\n",
    "\n",
    " \n",
    "\n"
   ]
  },
  {
   "cell_type": "code",
   "execution_count": null,
   "metadata": {},
   "outputs": [],
   "source": [
    "xgboost_random.best_params_"
   ]
  }
 ],
 "metadata": {
  "kernelspec": {
   "display_name": "Python 3",
   "language": "python",
   "name": "python3"
  },
  "language_info": {
   "codemirror_mode": {
    "name": "ipython",
    "version": 3
   },
   "file_extension": ".py",
   "mimetype": "text/x-python",
   "name": "python",
   "nbconvert_exporter": "python",
   "pygments_lexer": "ipython3",
   "version": "3.6.4"
  }
 },
 "nbformat": 4,
 "nbformat_minor": 2
}
