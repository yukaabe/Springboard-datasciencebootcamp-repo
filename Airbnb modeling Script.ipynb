{
 "cells": [
  {
   "cell_type": "markdown",
   "metadata": {},
   "source": [
    "Loading the Airbnb dataset below:"
   ]
  },
  {
   "cell_type": "markdown",
   "metadata": {},
   "source": [
    "You can download the user_training_dataset_update.csv from the link below:\n",
    "\n",
    "https://drive.google.com/open?id=1tQGlNvkmGVPGcmQID2NNd5p8bkLBxofM"
   ]
  },
  {
   "cell_type": "code",
   "execution_count": 299,
   "metadata": {},
   "outputs": [],
   "source": [
    "user_training_dataset_update=pd.read_csv(\"C:/Users/yuka.abe/Desktop/Airbnb Kaggle DataSet/user_training_dataset_update.csv\")"
   ]
  },
  {
   "cell_type": "code",
   "execution_count": 300,
   "metadata": {},
   "outputs": [],
   "source": [
    "user_training_dataset_update_binary_classfication=user_training_dataset_update.copy()\n",
    "user_training_dataset_update_binary_classfication.loc[user_training_dataset_update_binary_classfication['first_browser']=='-unknown-', 'first_browser']='Unknown'\n",
    "user_training_dataset_update_binary_classfication.loc[user_training_dataset_update_binary_classfication['gender']=='-unknown-', 'gender']='Unknown'\n",
    "\n"
   ]
  },
  {
   "cell_type": "code",
   "execution_count": 301,
   "metadata": {},
   "outputs": [],
   "source": [
    "del user_training_dataset_update_binary_classfication['country_destination']\n",
    "del user_training_dataset_update_binary_classfication['Account_creation_before_booking_flag']"
   ]
  },
  {
   "cell_type": "code",
   "execution_count": 226,
   "metadata": {},
   "outputs": [
    {
     "data": {
      "text/plain": [
       "Index(['id', 'gender', 'signup_method', 'signup_flow', 'language',\n",
       "       'affiliate_channel', 'affiliate_provider', 'first_affiliate_tracked',\n",
       "       'signup_app', 'first_device_type', 'first_browser', 'age_computed',\n",
       "       'Total time spent (in seconds)',\n",
       "       'number_of_active_day_as_of_latest_date',\n",
       "       'number_of_days_since_account_creation_as_of_latest_date',\n",
       "       'session count', 'trip_booking_flag'],\n",
       "      dtype='object')"
      ]
     },
     "execution_count": 226,
     "metadata": {},
     "output_type": "execute_result"
    }
   ],
   "source": [
    "user_training_dataset_update_binary_classfication.columns"
   ]
  },
  {
   "cell_type": "code",
   "execution_count": 228,
   "metadata": {},
   "outputs": [],
   "source": [
    "Categorical_variable_list=['signup_flow','signup_method', 'gender','language', 'affiliate_channel' , 'affiliate_provider', 'first_affiliate_tracked', 'signup_app', 'first_device_type', 'first_browser']"
   ]
  },
  {
   "cell_type": "code",
   "execution_count": 310,
   "metadata": {},
   "outputs": [
    {
     "name": "stdout",
     "output_type": "stream",
     "text": [
      "<class 'pandas.core.frame.DataFrame'>\n",
      "RangeIndex: 213451 entries, 0 to 213450\n",
      "Data columns (total 17 columns):\n",
      "id                                                         213451 non-null object\n",
      "gender                                                     213451 non-null object\n",
      "signup_method                                              213451 non-null object\n",
      "signup_flow                                                213451 non-null int64\n",
      "language                                                   213451 non-null object\n",
      "affiliate_channel                                          213451 non-null object\n",
      "affiliate_provider                                         213451 non-null object\n",
      "first_affiliate_tracked                                    207386 non-null object\n",
      "signup_app                                                 213451 non-null object\n",
      "first_device_type                                          213451 non-null object\n",
      "first_browser                                              213451 non-null object\n",
      "age_computed                                               125461 non-null float64\n",
      "Total time spent (in seconds)                              73815 non-null float64\n",
      "number_of_active_day_as_of_latest_date                     213451 non-null int64\n",
      "number_of_days_since_account_creation_as_of_latest_date    213451 non-null int64\n",
      "session count                                              73815 non-null float64\n",
      "trip_booking_flag                                          213451 non-null bool\n",
      "dtypes: bool(1), float64(3), int64(3), object(10)\n",
      "memory usage: 26.3+ MB\n"
     ]
    }
   ],
   "source": [
    "user_training_dataset_update_binary_classfication.info()"
   ]
  },
  {
   "cell_type": "markdown",
   "metadata": {},
   "source": [
    "Define function to get dummy variables from all the categorical variables:"
   ]
  },
  {
   "cell_type": "code",
   "execution_count": 303,
   "metadata": {},
   "outputs": [],
   "source": [
    "def func_get_dummy_variables_for_categorical_variables(dataset, variable_name):\n",
    "    \n",
    "    dummy_variables_series=pd.get_dummies(dataset[variable_name])\n",
    "    dummy_variables_series_df=pd.DataFrame(dummy_variables_series)\n",
    "    \n",
    "    for column in dummy_variables_series_df.columns:\n",
    "        new_column_name=variable_name+'_'+str(column)\n",
    "        if new_column_name in dataset.columns:\n",
    "            del dataset[new_column_name]\n",
    "        \n",
    "        dummy_variables_series_df=dummy_variables_series_df.rename(columns={column: new_column_name})\n",
    "        \n",
    "        \n",
    "    del dataset[variable_name]\n",
    "    #del dummy_variables_series_df[dummy_variables_series_df.columns[-1]]\n",
    "    return dummy_variables_series_df"
   ]
  },
  {
   "cell_type": "markdown",
   "metadata": {},
   "source": [
    "Create all the dummy variables from the categorical variables:"
   ]
  },
  {
   "cell_type": "code",
   "execution_count": 304,
   "metadata": {},
   "outputs": [],
   "source": [
    "user_training_dataset_update_binary_classfication1=user_training_dataset_update_binary_classfication.copy()\n",
    "for variable_name in Categorical_variable_list:\n",
    "    df_dummy=func_get_dummy_variables_for_categorical_variables(user_training_dataset_update_binary_classfication1, variable_name)\n",
    "    user_training_dataset_update_binary_classfication1=user_training_dataset_update_binary_classfication1.merge(df_dummy, on=None, left_index=True, right_index=True)"
   ]
  },
  {
   "cell_type": "markdown",
   "metadata": {},
   "source": [
    "Drop all the rows with na value for for now:"
   ]
  },
  {
   "cell_type": "code",
   "execution_count": 375,
   "metadata": {},
   "outputs": [],
   "source": [
    "user_training_dataset_update_binary_classfication_dropna=user_training_dataset_update_binary_classfication1.dropna(how='any')"
   ]
  },
  {
   "cell_type": "markdown",
   "metadata": {},
   "source": [
    "Define the feature list:"
   ]
  },
  {
   "cell_type": "code",
   "execution_count": 373,
   "metadata": {},
   "outputs": [],
   "source": [
    "feature_list=list(user_training_dataset_update_binary_classfication1.columns)\n",
    "feature_list.remove('id')\n",
    "feature_list.remove('trip_booking_flag')"
   ]
  },
  {
   "cell_type": "markdown",
   "metadata": {},
   "source": [
    "Define the label and feature:"
   ]
  },
  {
   "cell_type": "code",
   "execution_count": 374,
   "metadata": {},
   "outputs": [],
   "source": [
    "y,X=user_training_dataset_update_binary_classfication_dropna.trip_booking_flag, user_training_dataset_update_binary_classfication_dropna[feature_list]"
   ]
  },
  {
   "cell_type": "markdown",
   "metadata": {},
   "source": [
    "Frist model: Develop binary classification model. Use trip_booking_flag as the label and rest of the variables as features\n"
   ]
  },
  {
   "cell_type": "markdown",
   "metadata": {},
   "source": [
    "Use Logistic Regression to fit the model:"
   ]
  },
  {
   "cell_type": "code",
   "execution_count": 312,
   "metadata": {},
   "outputs": [],
   "source": [
    "from sklearn.linear_model import LogisticRegression\n",
    "from sklearn.cross_validation import cross_val_score, train_test_split\n",
    "from sklearn.metrics import precision_score, recall_score, roc_auc_score, roc_curve\n",
    "import seaborn as sns"
   ]
  },
  {
   "cell_type": "code",
   "execution_count": 323,
   "metadata": {},
   "outputs": [
    {
     "data": {
      "text/plain": [
       "0.5461062881330374"
      ]
     },
     "execution_count": 323,
     "metadata": {},
     "output_type": "execute_result"
    }
   ],
   "source": [
    "model_logistic_regression_binary_clf=LogisticRegression().fit(X,y)\n",
    "cross_val_score(model_logistic_regression_binary_clf, X,y, cv=5).mean()"
   ]
  },
  {
   "cell_type": "markdown",
   "metadata": {},
   "source": [
    "Model Performance:"
   ]
  },
  {
   "cell_type": "code",
   "execution_count": 324,
   "metadata": {},
   "outputs": [
    {
     "data": {
      "text/plain": [
       "0.5461062881330374"
      ]
     },
     "execution_count": 324,
     "metadata": {},
     "output_type": "execute_result"
    }
   ],
   "source": [
    "cross_val_score(model_logistic_regression_binary_clf, X,y, cv=5, scoring='precision').mean()"
   ]
  },
  {
   "cell_type": "code",
   "execution_count": 325,
   "metadata": {},
   "outputs": [
    {
     "data": {
      "text/plain": [
       "1.0"
      ]
     },
     "execution_count": 325,
     "metadata": {},
     "output_type": "execute_result"
    }
   ],
   "source": [
    "cross_val_score(model_logistic_regression_binary_clf, X,y, cv=5, scoring='recall').mean()"
   ]
  },
  {
   "cell_type": "code",
   "execution_count": 326,
   "metadata": {},
   "outputs": [
    {
     "data": {
      "text/plain": [
       "0.7064278722509444"
      ]
     },
     "execution_count": 326,
     "metadata": {},
     "output_type": "execute_result"
    }
   ],
   "source": [
    "cross_val_score(model_logistic_regression_binary_clf, X,y, cv=5, scoring='f1').mean()"
   ]
  },
  {
   "cell_type": "code",
   "execution_count": 356,
   "metadata": {},
   "outputs": [
    {
     "data": {
      "text/plain": [
       "0.5946564948593601"
      ]
     },
     "execution_count": 356,
     "metadata": {},
     "output_type": "execute_result"
    }
   ],
   "source": [
    "cross_val_score(model_logistic_regression_binary_clf, X, y, cv=5, scoring='roc_auc').mean()"
   ]
  },
  {
   "cell_type": "markdown",
   "metadata": {},
   "source": [
    "Model Prediction:"
   ]
  },
  {
   "cell_type": "code",
   "execution_count": 331,
   "metadata": {},
   "outputs": [
    {
     "data": {
      "text/plain": [
       "array([ True,  True,  True, ...,  True,  True,  True])"
      ]
     },
     "execution_count": 331,
     "metadata": {},
     "output_type": "execute_result"
    }
   ],
   "source": [
    "model_logistic_regression_binary_clf.predict(X)"
   ]
  },
  {
   "cell_type": "code",
   "execution_count": 339,
   "metadata": {},
   "outputs": [],
   "source": [
    "prediction_logistic_regression=pd.Series(model_logistic_regression_binary_clf.predict(X))"
   ]
  },
  {
   "cell_type": "markdown",
   "metadata": {},
   "source": [
    "The model prediction outcome only has one single result: True:"
   ]
  },
  {
   "cell_type": "code",
   "execution_count": 340,
   "metadata": {},
   "outputs": [
    {
     "data": {
      "text/plain": [
       "array([ True])"
      ]
     },
     "execution_count": 340,
     "metadata": {},
     "output_type": "execute_result"
    }
   ],
   "source": [
    "prediction_logistic_regression.unique()"
   ]
  },
  {
   "cell_type": "code",
   "execution_count": 348,
   "metadata": {},
   "outputs": [],
   "source": [
    "prediction_probability_logistic_regression=list(zip(*model_logistic_regression_binary_clf.predict_proba(X)))[1]"
   ]
  },
  {
   "cell_type": "markdown",
   "metadata": {},
   "source": [
    "Below is the distribution of the prediction probability:"
   ]
  },
  {
   "cell_type": "code",
   "execution_count": 355,
   "metadata": {
    "scrolled": true
   },
   "outputs": [
    {
     "data": {
      "text/plain": [
       "<matplotlib.axes._subplots.AxesSubplot at 0x438dc390>"
      ]
     },
     "execution_count": 355,
     "metadata": {},
     "output_type": "execute_result"
    },
    {
     "data": {
      "image/png": "[encoded data removed]",
      "text/plain": [
       "<matplotlib.figure.Figure at 0x12463278>"
      ]
     },
     "metadata": {},
     "output_type": "display_data"
    }
   ],
   "source": [
    "pd.Series(list(prediction_probability_logistic_regression)).hist()"
   ]
  },
  {
   "cell_type": "markdown",
   "metadata": {},
   "source": [
    "Logistic Regression Coefficient:"
   ]
  },
  {
   "cell_type": "code",
   "execution_count": 368,
   "metadata": {},
   "outputs": [],
   "source": [
    "logistic_regression_coefficient_df=pd.DataFrame(list(zip(feature_list, model_logistic_regression_binary_clf.coef_[0])), columns=['feature_name', 'beta'])"
   ]
  },
  {
   "cell_type": "code",
   "execution_count": 367,
   "metadata": {},
   "outputs": [
    {
     "data": {
      "text/html": [
       "<div>\n",
       "<style scoped>\n",
       "    .dataframe tbody tr th:only-of-type {\n",
       "        vertical-align: middle;\n",
       "    }\n",
       "\n",
       "    .dataframe tbody tr th {\n",
       "        vertical-align: top;\n",
       "    }\n",
       "\n",
       "    .dataframe thead th {\n",
       "        text-align: right;\n",
       "    }\n",
       "</style>\n",
       "<table border=\"1\" class=\"dataframe\">\n",
       "  <thead>\n",
       "    <tr style=\"text-align: right;\">\n",
       "      <th></th>\n",
       "      <th>feature_name</th>\n",
       "      <th>beta</th>\n",
       "    </tr>\n",
       "  </thead>\n",
       "  <tbody>\n",
       "    <tr>\n",
       "      <th>0</th>\n",
       "      <td>age_computed</td>\n",
       "      <td>7.732413e-13</td>\n",
       "    </tr>\n",
       "    <tr>\n",
       "      <th>1</th>\n",
       "      <td>Total time spent (in seconds)</td>\n",
       "      <td>1.191455e-07</td>\n",
       "    </tr>\n",
       "    <tr>\n",
       "      <th>2</th>\n",
       "      <td>number_of_active_day_as_of_latest_date</td>\n",
       "      <td>1.056409e-11</td>\n",
       "    </tr>\n",
       "    <tr>\n",
       "      <th>3</th>\n",
       "      <td>number_of_days_since_account_creation_as_of_la...</td>\n",
       "      <td>1.056409e-11</td>\n",
       "    </tr>\n",
       "    <tr>\n",
       "      <th>4</th>\n",
       "      <td>session count</td>\n",
       "      <td>3.842446e-12</td>\n",
       "    </tr>\n",
       "  </tbody>\n",
       "</table>\n",
       "</div>"
      ],
      "text/plain": [
       "                                        feature_name          beta\n",
       "0                                       age_computed  7.732413e-13\n",
       "1                      Total time spent (in seconds)  1.191455e-07\n",
       "2             number_of_active_day_as_of_latest_date  1.056409e-11\n",
       "3  number_of_days_since_account_creation_as_of_la...  1.056409e-11\n",
       "4                                      session count  3.842446e-12"
      ]
     },
     "execution_count": 367,
     "metadata": {},
     "output_type": "execute_result"
    }
   ],
   "source": [
    "logistic_regression_coefficient_df.head()"
   ]
  },
  {
   "cell_type": "markdown",
   "metadata": {},
   "source": [
    "Sort beta to get important coefficients:"
   ]
  },
  {
   "cell_type": "code",
   "execution_count": 371,
   "metadata": {},
   "outputs": [
    {
     "data": {
      "text/html": [
       "<div>\n",
       "<style scoped>\n",
       "    .dataframe tbody tr th:only-of-type {\n",
       "        vertical-align: middle;\n",
       "    }\n",
       "\n",
       "    .dataframe tbody tr th {\n",
       "        vertical-align: top;\n",
       "    }\n",
       "\n",
       "    .dataframe thead th {\n",
       "        text-align: right;\n",
       "    }\n",
       "</style>\n",
       "<table border=\"1\" class=\"dataframe\">\n",
       "  <thead>\n",
       "    <tr style=\"text-align: right;\">\n",
       "      <th></th>\n",
       "      <th>feature_name</th>\n",
       "      <th>beta</th>\n",
       "    </tr>\n",
       "  </thead>\n",
       "  <tbody>\n",
       "    <tr>\n",
       "      <th>1</th>\n",
       "      <td>Total time spent (in seconds)</td>\n",
       "      <td>1.191455e-07</td>\n",
       "    </tr>\n",
       "    <tr>\n",
       "      <th>2</th>\n",
       "      <td>number_of_active_day_as_of_latest_date</td>\n",
       "      <td>1.056409e-11</td>\n",
       "    </tr>\n",
       "    <tr>\n",
       "      <th>3</th>\n",
       "      <td>number_of_days_since_account_creation_as_of_la...</td>\n",
       "      <td>1.056409e-11</td>\n",
       "    </tr>\n",
       "    <tr>\n",
       "      <th>4</th>\n",
       "      <td>session count</td>\n",
       "      <td>3.842446e-12</td>\n",
       "    </tr>\n",
       "    <tr>\n",
       "      <th>0</th>\n",
       "      <td>age_computed</td>\n",
       "      <td>7.732413e-13</td>\n",
       "    </tr>\n",
       "    <tr>\n",
       "      <th>22</th>\n",
       "      <td>signup_method_basic</td>\n",
       "      <td>1.347683e-13</td>\n",
       "    </tr>\n",
       "    <tr>\n",
       "      <th>89</th>\n",
       "      <td>signup_app_Web</td>\n",
       "      <td>5.781160e-14</td>\n",
       "    </tr>\n",
       "    <tr>\n",
       "      <th>5</th>\n",
       "      <td>signup_flow_0</td>\n",
       "      <td>5.432626e-14</td>\n",
       "    </tr>\n",
       "    <tr>\n",
       "      <th>28</th>\n",
       "      <td>gender_Unknown</td>\n",
       "      <td>4.670967e-14</td>\n",
       "    </tr>\n",
       "    <tr>\n",
       "      <th>94</th>\n",
       "      <td>first_device_type_Mac Desktop</td>\n",
       "      <td>4.202747e-14</td>\n",
       "    </tr>\n",
       "  </tbody>\n",
       "</table>\n",
       "</div>"
      ],
      "text/plain": [
       "                                         feature_name          beta\n",
       "1                       Total time spent (in seconds)  1.191455e-07\n",
       "2              number_of_active_day_as_of_latest_date  1.056409e-11\n",
       "3   number_of_days_since_account_creation_as_of_la...  1.056409e-11\n",
       "4                                       session count  3.842446e-12\n",
       "0                                        age_computed  7.732413e-13\n",
       "22                                signup_method_basic  1.347683e-13\n",
       "89                                     signup_app_Web  5.781160e-14\n",
       "5                                       signup_flow_0  5.432626e-14\n",
       "28                                     gender_Unknown  4.670967e-14\n",
       "94                      first_device_type_Mac Desktop  4.202747e-14"
      ]
     },
     "execution_count": 371,
     "metadata": {},
     "output_type": "execute_result"
    }
   ],
   "source": [
    "logistic_regression_coefficient_df.sort_values(by='beta', ascending=False).head(10)"
   ]
  },
  {
   "cell_type": "markdown",
   "metadata": {},
   "source": [
    "Use Decision Tree to fit the model:"
   ]
  },
  {
   "cell_type": "code",
   "execution_count": 372,
   "metadata": {},
   "outputs": [],
   "source": [
    "import numpy as np\n",
    "import pandas as pd\n",
    "from sklearn.tree import DecisionTreeClassifier\n",
    "from sklearn.ensemble import AdaBoostClassifier, RandomForestClassifier\n",
    "from sklearn.cross_validation import cross_val_score, train_test_split\n",
    "from sklearn.metrics import precision_score, recall_score, f1_score, roc_curve, roc_auc_score\n",
    "from matplotlib import pyplot as plt\n",
    "import seaborn as sns\n",
    "%matplotlib inline"
   ]
  },
  {
   "cell_type": "code",
   "execution_count": 376,
   "metadata": {},
   "outputs": [
    {
     "data": {
      "text/plain": [
       "0.5476929124431907"
      ]
     },
     "execution_count": 376,
     "metadata": {},
     "output_type": "execute_result"
    }
   ],
   "source": [
    "model_decision_tree_binary_clf=DecisionTreeClassifier().fit(X,y)\n",
    "cross_val_score(model_decision_tree_binary_clf, X, y, cv=5).mean()"
   ]
  },
  {
   "cell_type": "code",
   "execution_count": 377,
   "metadata": {},
   "outputs": [
    {
     "data": {
      "text/plain": [
       "0.5461062881330374"
      ]
     },
     "execution_count": 377,
     "metadata": {},
     "output_type": "execute_result"
    }
   ],
   "source": [
    "cross_val_score(model_logistic_regression_binary_clf, X,y, cv=5, scoring='precision').mean()"
   ]
  },
  {
   "cell_type": "code",
   "execution_count": 378,
   "metadata": {},
   "outputs": [
    {
     "data": {
      "text/plain": [
       "0.5946564948593601"
      ]
     },
     "execution_count": 378,
     "metadata": {},
     "output_type": "execute_result"
    }
   ],
   "source": [
    "cross_val_score(model_logistic_regression_binary_clf, X, y, cv=5, scoring='roc_auc').mean()"
   ]
  },
  {
   "cell_type": "code",
   "execution_count": null,
   "metadata": {},
   "outputs": [],
   "source": []
  }
 ],
 "metadata": {
  "kernelspec": {
   "display_name": "Python 3",
   "language": "python",
   "name": "python3"
  },
  "language_info": {
   "codemirror_mode": {
    "name": "ipython",
    "version": 3
   },
   "file_extension": ".py",
   "mimetype": "text/x-python",
   "name": "python",
   "nbconvert_exporter": "python",
   "pygments_lexer": "ipython3",
   "version": "3.6.4"
  }
 },
 "nbformat": 4,
 "nbformat_minor": 2
}
