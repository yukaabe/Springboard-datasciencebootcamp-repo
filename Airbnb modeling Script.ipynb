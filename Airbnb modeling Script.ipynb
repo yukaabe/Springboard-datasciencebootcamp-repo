{
 "cells": [
  {
   "cell_type": "code",
   "execution_count": 155,
   "metadata": {},
   "outputs": [],
   "source": [
    "import pandas as pd\n",
    "import numpy as np\n",
    "import matplotlib.pyplot as plt\n",
    "%matplotlib inline"
   ]
  },
  {
   "cell_type": "markdown",
   "metadata": {},
   "source": [
    "Loading the Airbnb dataset below:"
   ]
  },
  {
   "cell_type": "markdown",
   "metadata": {},
   "source": [
    "You can download the user_training_dataset_update.csv from the link below:\n",
    "\n",
    "https://drive.google.com/open?id=1tQGlNvkmGVPGcmQID2NNd5p8bkLBxofM"
   ]
  },
  {
   "cell_type": "code",
   "execution_count": 182,
   "metadata": {},
   "outputs": [],
   "source": [
    "user_training_dataset_update=pd.read_csv(\"C:/Users/yuka.abe/Desktop/Airbnb Kaggle DataSet/user_training_dataset_update.csv\")"
   ]
  },
  {
   "cell_type": "code",
   "execution_count": 183,
   "metadata": {},
   "outputs": [],
   "source": [
    "user_training_dataset_update_binary_classfication=user_training_dataset_update.copy()\n",
    "user_training_dataset_update_binary_classfication.loc[user_training_dataset_update_binary_classfication['first_browser']=='-unknown-', 'first_browser']='Unknown'\n",
    "user_training_dataset_update_binary_classfication.loc[user_training_dataset_update_binary_classfication['gender']=='-unknown-', 'gender']='Unknown'\n",
    "\n"
   ]
  },
  {
   "cell_type": "code",
   "execution_count": 184,
   "metadata": {},
   "outputs": [],
   "source": [
    "del user_training_dataset_update_binary_classfication['country_destination']\n",
    "del user_training_dataset_update_binary_classfication['Account_creation_before_booking_flag']"
   ]
  },
  {
   "cell_type": "code",
   "execution_count": 185,
   "metadata": {},
   "outputs": [
    {
     "data": {
      "text/plain": [
       "Index(['id', 'date_account_created', 'timestamp_first_active_cleaned',\n",
       "       'gender', 'signup_method', 'signup_flow', 'language',\n",
       "       'affiliate_channel', 'affiliate_provider', 'first_affiliate_tracked',\n",
       "       'signup_app', 'first_device_type', 'first_browser', 'age_computed',\n",
       "       'Total time spent (in seconds)',\n",
       "       'number_of_active_day_as_of_latest_date',\n",
       "       'number_of_days_since_account_creation_as_of_latest_date',\n",
       "       'session count', 'trip_booking_flag', 'Account_creation_date_month',\n",
       "       'Account_creation_date_year', 'Account_creation_date_day',\n",
       "       'Account_creation_date_day_of_week', 'first_active_date_month',\n",
       "       'first_active_date_day', 'first_active_date_year',\n",
       "       'first_active_date_dayofweek', 'age_bucket',\n",
       "       'Total time spent (in seconds)_fill_null_zero',\n",
       "       'session count_fill_null_zero', 'Total time spent (in seconds)_bucket',\n",
       "       'session count_bucket'],\n",
       "      dtype='object')"
      ]
     },
     "execution_count": 185,
     "metadata": {},
     "output_type": "execute_result"
    }
   ],
   "source": [
    "user_training_dataset_update_binary_classfication.columns"
   ]
  },
  {
   "cell_type": "code",
   "execution_count": 186,
   "metadata": {
    "scrolled": true
   },
   "outputs": [
    {
     "name": "stdout",
     "output_type": "stream",
     "text": [
      "<class 'pandas.core.frame.DataFrame'>\n",
      "RangeIndex: 213451 entries, 0 to 213450\n",
      "Data columns (total 32 columns):\n",
      "id                                                         213451 non-null object\n",
      "date_account_created                                       213451 non-null object\n",
      "timestamp_first_active_cleaned                             213451 non-null object\n",
      "gender                                                     213451 non-null object\n",
      "signup_method                                              213451 non-null object\n",
      "signup_flow                                                213451 non-null int64\n",
      "language                                                   213451 non-null object\n",
      "affiliate_channel                                          213451 non-null object\n",
      "affiliate_provider                                         213451 non-null object\n",
      "first_affiliate_tracked                                    207386 non-null object\n",
      "signup_app                                                 213451 non-null object\n",
      "first_device_type                                          213451 non-null object\n",
      "first_browser                                              213451 non-null object\n",
      "age_computed                                               125461 non-null float64\n",
      "Total time spent (in seconds)                              73815 non-null float64\n",
      "number_of_active_day_as_of_latest_date                     213451 non-null int64\n",
      "number_of_days_since_account_creation_as_of_latest_date    213451 non-null int64\n",
      "session count                                              73815 non-null float64\n",
      "trip_booking_flag                                          213451 non-null bool\n",
      "Account_creation_date_month                                213451 non-null int64\n",
      "Account_creation_date_year                                 213451 non-null int64\n",
      "Account_creation_date_day                                  213451 non-null int64\n",
      "Account_creation_date_day_of_week                          213451 non-null int64\n",
      "first_active_date_month                                    213451 non-null int64\n",
      "first_active_date_day                                      213451 non-null int64\n",
      "first_active_date_year                                     213451 non-null int64\n",
      "first_active_date_dayofweek                                213451 non-null int64\n",
      "age_bucket                                                 213451 non-null object\n",
      "Total time spent (in seconds)_fill_null_zero               213451 non-null float64\n",
      "session count_fill_null_zero                               213451 non-null float64\n",
      "Total time spent (in seconds)_bucket                       213451 non-null object\n",
      "session count_bucket                                       213451 non-null object\n",
      "dtypes: bool(1), float64(5), int64(11), object(15)\n",
      "memory usage: 50.7+ MB\n"
     ]
    }
   ],
   "source": [
    "user_training_dataset_update_binary_classfication.info()"
   ]
  },
  {
   "cell_type": "markdown",
   "metadata": {},
   "source": [
    "Define function to get dummy variables from all the categorical variables:"
   ]
  },
  {
   "cell_type": "code",
   "execution_count": 161,
   "metadata": {},
   "outputs": [],
   "source": [
    "def func_get_dummy_variables_for_categorical_variables(dataset, variable_name):\n",
    "    \n",
    "    dummy_variables_series=pd.get_dummies(dataset[variable_name])\n",
    "    dummy_variables_series_df=pd.DataFrame(dummy_variables_series)\n",
    "    \n",
    "    for column in dummy_variables_series_df.columns:\n",
    "        new_column_name=variable_name+'_'+str(column)\n",
    "        if new_column_name in dataset.columns:\n",
    "            del dataset[new_column_name]\n",
    "        \n",
    "        dummy_variables_series_df=dummy_variables_series_df.rename(columns={column: new_column_name})\n",
    "        \n",
    "        \n",
    "    del dataset[variable_name]\n",
    "    #del dummy_variables_series_df[dummy_variables_series_df.columns[-1]]\n",
    "    return dummy_variables_series_df"
   ]
  },
  {
   "cell_type": "markdown",
   "metadata": {},
   "source": [
    "Only include the columns that would be used for the model"
   ]
  },
  {
   "cell_type": "code",
   "execution_count": 194,
   "metadata": {},
   "outputs": [],
   "source": [
    "user_training_dataset_update_binary_classfication1=user_training_dataset_update_binary_classfication.copy()"
   ]
  },
  {
   "cell_type": "code",
   "execution_count": 195,
   "metadata": {},
   "outputs": [],
   "source": [
    "user_training_dataset_update_binary_classfication1=user_training_dataset_update_binary_classfication1[['gender',\n",
    "'signup_method',\n",
    "'signup_flow',\n",
    "'language',\n",
    "'affiliate_channel',\n",
    "'affiliate_provider',\n",
    "'first_affiliate_tracked',\n",
    "'signup_app',\n",
    "'first_device_type',\n",
    "'first_browser',\n",
    "'number_of_active_day_as_of_latest_date',\n",
    "'number_of_days_since_account_creation_as_of_latest_date',\n",
    "'trip_booking_flag',\n",
    "\n",
    "'age_bucket',\n",
    "'Total time spent (in seconds)_bucket',                    \n",
    "'session count_bucket',\n",
    "\n",
    "'Total time spent (in seconds)_fill_null_zero',  \n",
    "'session count_fill_null_zero',\n",
    "'Account_creation_date_year',\n",
    "'Account_creation_date_month',\n",
    "'Account_creation_date_day',\n",
    "'Account_creation_date_day_of_week',\n",
    "\n",
    "'first_active_date_year',\n",
    "'first_active_date_month',\n",
    "'first_active_date_day',\n",
    "'first_active_date_dayofweek' ]]                                                                                                   "
   ]
  },
  {
   "cell_type": "code",
   "execution_count": 196,
   "metadata": {},
   "outputs": [
    {
     "data": {
      "text/plain": [
       "Index(['gender', 'signup_method', 'signup_flow', 'language',\n",
       "       'affiliate_channel', 'affiliate_provider', 'first_affiliate_tracked',\n",
       "       'signup_app', 'first_device_type', 'first_browser',\n",
       "       'number_of_active_day_as_of_latest_date',\n",
       "       'number_of_days_since_account_creation_as_of_latest_date',\n",
       "       'trip_booking_flag', 'age_bucket',\n",
       "       'Total time spent (in seconds)_bucket', 'session count_bucket',\n",
       "       'Total time spent (in seconds)_fill_null_zero',\n",
       "       'session count_fill_null_zero', 'Account_creation_date_year',\n",
       "       'Account_creation_date_month', 'Account_creation_date_day',\n",
       "       'Account_creation_date_day_of_week', 'first_active_date_year',\n",
       "       'first_active_date_month', 'first_active_date_day',\n",
       "       'first_active_date_dayofweek'],\n",
       "      dtype='object')"
      ]
     },
     "execution_count": 196,
     "metadata": {},
     "output_type": "execute_result"
    }
   ],
   "source": [
    "user_training_dataset_update_binary_classfication1.columns"
   ]
  },
  {
   "cell_type": "code",
   "execution_count": 197,
   "metadata": {},
   "outputs": [],
   "source": [
    "Categorical_variable_list=['gender',\n",
    "'signup_method',\n",
    "'signup_flow',\n",
    "'language',\n",
    "'affiliate_channel',\n",
    "'affiliate_provider',\n",
    "'first_affiliate_tracked',\n",
    "'signup_app',\n",
    "'first_device_type',\n",
    "'first_browser',\n",
    "'age_bucket',\n",
    "'Total time spent (in seconds)_bucket',                   \n",
    "'session count_bucket',\n",
    "'Account_creation_date_year',\n",
    "'Account_creation_date_month', 'Account_creation_date_day',\n",
    "'Account_creation_date_day_of_week', 'first_active_date_year',\n",
    "'first_active_date_month', 'first_active_date_day',\n",
    "'first_active_date_dayofweek']"
   ]
  },
  {
   "cell_type": "markdown",
   "metadata": {},
   "source": [
    "Create dummy variables for the categorical variables:"
   ]
  },
  {
   "cell_type": "code",
   "execution_count": 198,
   "metadata": {},
   "outputs": [],
   "source": [
    "for variable_name in Categorical_variable_list:\n",
    "    df_dummy=func_get_dummy_variables_for_categorical_variables(user_training_dataset_update_binary_classfication1, variable_name)\n",
    "    user_training_dataset_update_binary_classfication1=user_training_dataset_update_binary_classfication1.merge(df_dummy, on=None, left_index=True, right_index=True)"
   ]
  },
  {
   "cell_type": "code",
   "execution_count": 199,
   "metadata": {},
   "outputs": [
    {
     "data": {
      "text/plain": [
       "Index(['number_of_active_day_as_of_latest_date',\n",
       "       'number_of_days_since_account_creation_as_of_latest_date',\n",
       "       'trip_booking_flag', 'Total time spent (in seconds)_fill_null_zero',\n",
       "       'session count_fill_null_zero', 'gender_FEMALE', 'gender_MALE',\n",
       "       'gender_OTHER', 'gender_Unknown', 'signup_method_basic',\n",
       "       ...\n",
       "       'first_active_date_day_29', 'first_active_date_day_30',\n",
       "       'first_active_date_day_31', 'first_active_date_dayofweek_0',\n",
       "       'first_active_date_dayofweek_1', 'first_active_date_dayofweek_2',\n",
       "       'first_active_date_dayofweek_3', 'first_active_date_dayofweek_4',\n",
       "       'first_active_date_dayofweek_5', 'first_active_date_dayofweek_6'],\n",
       "      dtype='object', length=281)"
      ]
     },
     "execution_count": 199,
     "metadata": {},
     "output_type": "execute_result"
    }
   ],
   "source": [
    "user_training_dataset_update_binary_classfication1.columns"
   ]
  },
  {
   "cell_type": "markdown",
   "metadata": {},
   "source": [
    "Check if there's any null value in the user_training_dataset_update_binary_classfication1 dataset:"
   ]
  },
  {
   "cell_type": "code",
   "execution_count": 200,
   "metadata": {},
   "outputs": [],
   "source": [
    "for column in user_training_dataset_update_binary_classfication1.columns:\n",
    "    row_count=user_training_dataset_update_binary_classfication1[column].count()\n",
    "    if row_count<213451:\n",
    "        print(column)\n",
    "    "
   ]
  },
  {
   "cell_type": "markdown",
   "metadata": {},
   "source": [
    "There's no column with null value after having preprocessed the data."
   ]
  },
  {
   "cell_type": "markdown",
   "metadata": {},
   "source": [
    "Define the feature list:"
   ]
  },
  {
   "cell_type": "code",
   "execution_count": 201,
   "metadata": {},
   "outputs": [],
   "source": [
    "feature_list=list(user_training_dataset_update_binary_classfication1.columns)"
   ]
  },
  {
   "cell_type": "markdown",
   "metadata": {},
   "source": [
    "For the total time spend and session count, use the bucket variables instead of the continuous variables in this case.\n",
    "\n",
    "So need to delete the following variables from the feature list:\n",
    "- Total time spent (in seconds)_fill_null_zero  \n",
    "- session count_fill_null_zero  "
   ]
  },
  {
   "cell_type": "code",
   "execution_count": 202,
   "metadata": {},
   "outputs": [],
   "source": [
    "feature_list.remove('Total time spent (in seconds)_fill_null_zero')\n",
    "feature_list.remove('session count_fill_null_zero')"
   ]
  },
  {
   "cell_type": "markdown",
   "metadata": {},
   "source": [
    "remove the trip_booking_flag variable  (dependent variable)"
   ]
  },
  {
   "cell_type": "code",
   "execution_count": 205,
   "metadata": {},
   "outputs": [
    {
     "ename": "ValueError",
     "evalue": "list.remove(x): x not in list",
     "output_type": "error",
     "traceback": [
      "\u001b[1;31m---------------------------------------------------------------------------\u001b[0m",
      "\u001b[1;31mValueError\u001b[0m                                Traceback (most recent call last)",
      "\u001b[1;32m<ipython-input-205-496b31908f00>\u001b[0m in \u001b[0;36m<module>\u001b[1;34m()\u001b[0m\n\u001b[1;32m----> 1\u001b[1;33m \u001b[0mfeature_list\u001b[0m\u001b[1;33m.\u001b[0m\u001b[0mremove\u001b[0m\u001b[1;33m(\u001b[0m\u001b[1;34m'trip_booking_flag'\u001b[0m\u001b[1;33m)\u001b[0m\u001b[1;33m\u001b[0m\u001b[0m\n\u001b[0m",
      "\u001b[1;31mValueError\u001b[0m: list.remove(x): x not in list"
     ]
    }
   ],
   "source": [
    "feature_list.remove('trip_booking_flag')"
   ]
  },
  {
   "cell_type": "markdown",
   "metadata": {},
   "source": [
    "Define the label and feature:"
   ]
  },
  {
   "cell_type": "code",
   "execution_count": 206,
   "metadata": {},
   "outputs": [],
   "source": [
    "y,X=user_training_dataset_update_binary_classfication1.trip_booking_flag, user_training_dataset_update_binary_classfication1[feature_list]"
   ]
  },
  {
   "cell_type": "markdown",
   "metadata": {},
   "source": [
    "Frist model: Develop binary classification model. Use trip_booking_flag as the label and rest of the variables as features\n"
   ]
  },
  {
   "cell_type": "markdown",
   "metadata": {},
   "source": [
    "Use Logistic Regression to fit the model:"
   ]
  },
  {
   "cell_type": "code",
   "execution_count": 207,
   "metadata": {},
   "outputs": [],
   "source": [
    "from sklearn.linear_model import LogisticRegression\n",
    "from sklearn.cross_validation import cross_val_score, train_test_split\n",
    "from sklearn.metrics import precision_score, recall_score, roc_auc_score, roc_curve\n",
    "import seaborn as sns"
   ]
  },
  {
   "cell_type": "code",
   "execution_count": 209,
   "metadata": {},
   "outputs": [
    {
     "data": {
      "text/plain": [
       "0.592558856682305"
      ]
     },
     "execution_count": 209,
     "metadata": {},
     "output_type": "execute_result"
    }
   ],
   "source": [
    "model_logistic_regression_binary_clf=LogisticRegression().fit(X,y)\n",
    "cross_val_score(model_logistic_regression_binary_clf, X,y, cv=5).mean()"
   ]
  },
  {
   "cell_type": "markdown",
   "metadata": {},
   "source": [
    "Model Performance:"
   ]
  },
  {
   "cell_type": "code",
   "execution_count": 62,
   "metadata": {},
   "outputs": [
    {
     "data": {
      "text/plain": [
       "0.6356825904296702"
      ]
     },
     "execution_count": 62,
     "metadata": {},
     "output_type": "execute_result"
    }
   ],
   "source": [
    "cross_val_score(model_logistic_regression_binary_clf, X,y, cv=5, scoring='precision').mean()"
   ]
  },
  {
   "cell_type": "code",
   "execution_count": 210,
   "metadata": {},
   "outputs": [
    {
     "data": {
      "text/plain": [
       "0.5360011622682501"
      ]
     },
     "execution_count": 210,
     "metadata": {},
     "output_type": "execute_result"
    }
   ],
   "source": [
    "cross_val_score(model_logistic_regression_binary_clf, X,y, cv=5, scoring='recall').mean()"
   ]
  },
  {
   "cell_type": "code",
   "execution_count": 211,
   "metadata": {},
   "outputs": [
    {
     "data": {
      "text/plain": [
       "0.5150068402849117"
      ]
     },
     "execution_count": 211,
     "metadata": {},
     "output_type": "execute_result"
    }
   ],
   "source": [
    "cross_val_score(model_logistic_regression_binary_clf, X,y, cv=5, scoring='f1').mean()"
   ]
  },
  {
   "cell_type": "code",
   "execution_count": 212,
   "metadata": {},
   "outputs": [
    {
     "data": {
      "text/plain": [
       "0.6554983173458672"
      ]
     },
     "execution_count": 212,
     "metadata": {},
     "output_type": "execute_result"
    }
   ],
   "source": [
    "cross_val_score(model_logistic_regression_binary_clf, X, y, cv=5, scoring='roc_auc').mean()"
   ]
  },
  {
   "cell_type": "markdown",
   "metadata": {},
   "source": [
    "Create the ROC AUC Curve"
   ]
  },
  {
   "cell_type": "code",
   "execution_count": 213,
   "metadata": {},
   "outputs": [],
   "source": [
    "y_pred_proba = np.array(list(zip(*model_logistic_regression_binary_clf.predict_proba(X))))[1]"
   ]
  },
  {
   "cell_type": "code",
   "execution_count": 214,
   "metadata": {},
   "outputs": [
    {
     "data": {
      "image/png": "[encoded data removed]",
      "text/plain": [
       "<matplotlib.figure.Figure at 0x14c1ccc0>"
      ]
     },
     "metadata": {},
     "output_type": "display_data"
    }
   ],
   "source": [
    "y_pred_proba\n",
    "eps = .02\n",
    "fpr, tpr, thresholds = roc_curve(y, y_pred_proba)\n",
    "f = plt.plot(fpr, tpr)  # plot ROC curve\n",
    "f = plt.fill_between(fpr, tpr, 0, alpha=.2)  # fill AUC\n",
    "f = plt.xlim(-eps, 1+eps), plt.ylim(-eps, 1+eps)\n",
    "f = plt.xlabel('False positive rate'), plt.ylabel('True positive rate')\n"
   ]
  },
  {
   "cell_type": "markdown",
   "metadata": {},
   "source": [
    "Model Prediction:"
   ]
  },
  {
   "cell_type": "code",
   "execution_count": 215,
   "metadata": {},
   "outputs": [
    {
     "data": {
      "text/plain": [
       "array([False,  True,  True, ...,  True, False, False])"
      ]
     },
     "execution_count": 215,
     "metadata": {},
     "output_type": "execute_result"
    }
   ],
   "source": [
    "model_logistic_regression_binary_clf.predict(X)"
   ]
  },
  {
   "cell_type": "code",
   "execution_count": 216,
   "metadata": {},
   "outputs": [],
   "source": [
    "prediction_logistic_regression=pd.Series(model_logistic_regression_binary_clf.predict(X))"
   ]
  },
  {
   "cell_type": "markdown",
   "metadata": {},
   "source": [
    "The model prediction outcome only has one single result: True:"
   ]
  },
  {
   "cell_type": "code",
   "execution_count": 217,
   "metadata": {},
   "outputs": [
    {
     "data": {
      "text/plain": [
       "array([False,  True])"
      ]
     },
     "execution_count": 217,
     "metadata": {},
     "output_type": "execute_result"
    }
   ],
   "source": [
    "prediction_logistic_regression.unique()"
   ]
  },
  {
   "cell_type": "code",
   "execution_count": 218,
   "metadata": {},
   "outputs": [],
   "source": [
    "prediction_probability_logistic_regression=list(zip(*model_logistic_regression_binary_clf.predict_proba(X)))[1]"
   ]
  },
  {
   "cell_type": "markdown",
   "metadata": {},
   "source": [
    "Below is the distribution of the prediction probability:"
   ]
  },
  {
   "cell_type": "code",
   "execution_count": 219,
   "metadata": {
    "scrolled": true
   },
   "outputs": [
    {
     "data": {
      "text/plain": [
       "<matplotlib.axes._subplots.AxesSubplot at 0x114f8d68>"
      ]
     },
     "execution_count": 219,
     "metadata": {},
     "output_type": "execute_result"
    },
    {
     "data": {
      "image/png": "[encoded data removed]",
      "text/plain": [
       "<matplotlib.figure.Figure at 0xb04e828>"
      ]
     },
     "metadata": {},
     "output_type": "display_data"
    }
   ],
   "source": [
    "pd.Series(list(prediction_probability_logistic_regression)).hist()"
   ]
  },
  {
   "cell_type": "markdown",
   "metadata": {},
   "source": [
    "Logistic Regression Coefficient:"
   ]
  },
  {
   "cell_type": "code",
   "execution_count": 220,
   "metadata": {},
   "outputs": [],
   "source": [
    "logistic_regression_coefficient_df=pd.DataFrame(list(zip(feature_list, model_logistic_regression_binary_clf.coef_[0])), columns=['feature_name', 'beta'])"
   ]
  },
  {
   "cell_type": "code",
   "execution_count": 221,
   "metadata": {},
   "outputs": [
    {
     "data": {
      "text/html": [
       "<div>\n",
       "<style scoped>\n",
       "    .dataframe tbody tr th:only-of-type {\n",
       "        vertical-align: middle;\n",
       "    }\n",
       "\n",
       "    .dataframe tbody tr th {\n",
       "        vertical-align: top;\n",
       "    }\n",
       "\n",
       "    .dataframe thead th {\n",
       "        text-align: right;\n",
       "    }\n",
       "</style>\n",
       "<table border=\"1\" class=\"dataframe\">\n",
       "  <thead>\n",
       "    <tr style=\"text-align: right;\">\n",
       "      <th></th>\n",
       "      <th>feature_name</th>\n",
       "      <th>beta</th>\n",
       "    </tr>\n",
       "  </thead>\n",
       "  <tbody>\n",
       "    <tr>\n",
       "      <th>0</th>\n",
       "      <td>number_of_active_day_as_of_latest_date</td>\n",
       "      <td>0.000376</td>\n",
       "    </tr>\n",
       "    <tr>\n",
       "      <th>1</th>\n",
       "      <td>number_of_days_since_account_creation_as_of_la...</td>\n",
       "      <td>0.000107</td>\n",
       "    </tr>\n",
       "    <tr>\n",
       "      <th>2</th>\n",
       "      <td>gender_FEMALE</td>\n",
       "      <td>-0.155200</td>\n",
       "    </tr>\n",
       "    <tr>\n",
       "      <th>3</th>\n",
       "      <td>gender_MALE</td>\n",
       "      <td>-0.138785</td>\n",
       "    </tr>\n",
       "    <tr>\n",
       "      <th>4</th>\n",
       "      <td>gender_OTHER</td>\n",
       "      <td>0.161793</td>\n",
       "    </tr>\n",
       "  </tbody>\n",
       "</table>\n",
       "</div>"
      ],
      "text/plain": [
       "                                        feature_name      beta\n",
       "0             number_of_active_day_as_of_latest_date  0.000376\n",
       "1  number_of_days_since_account_creation_as_of_la...  0.000107\n",
       "2                                      gender_FEMALE -0.155200\n",
       "3                                        gender_MALE -0.138785\n",
       "4                                       gender_OTHER  0.161793"
      ]
     },
     "execution_count": 221,
     "metadata": {},
     "output_type": "execute_result"
    }
   ],
   "source": [
    "logistic_regression_coefficient_df.head()"
   ]
  },
  {
   "cell_type": "markdown",
   "metadata": {},
   "source": [
    "Sort beta to get important coefficients:"
   ]
  },
  {
   "cell_type": "code",
   "execution_count": 222,
   "metadata": {},
   "outputs": [
    {
     "data": {
      "text/html": [
       "<div>\n",
       "<style scoped>\n",
       "    .dataframe tbody tr th:only-of-type {\n",
       "        vertical-align: middle;\n",
       "    }\n",
       "\n",
       "    .dataframe tbody tr th {\n",
       "        vertical-align: top;\n",
       "    }\n",
       "\n",
       "    .dataframe thead th {\n",
       "        text-align: right;\n",
       "    }\n",
       "</style>\n",
       "<table border=\"1\" class=\"dataframe\">\n",
       "  <thead>\n",
       "    <tr style=\"text-align: right;\">\n",
       "      <th></th>\n",
       "      <th>feature_name</th>\n",
       "      <th>beta</th>\n",
       "    </tr>\n",
       "  </thead>\n",
       "  <tbody>\n",
       "    <tr>\n",
       "      <th>12</th>\n",
       "      <td>signup_flow_3</td>\n",
       "      <td>0.823703</td>\n",
       "    </tr>\n",
       "    <tr>\n",
       "      <th>158</th>\n",
       "      <td>Total time spent (in seconds)_bucket_(2444996....</td>\n",
       "      <td>0.455111</td>\n",
       "    </tr>\n",
       "    <tr>\n",
       "      <th>150</th>\n",
       "      <td>age_bucket_(27.0, 32.0]</td>\n",
       "      <td>0.429616</td>\n",
       "    </tr>\n",
       "    <tr>\n",
       "      <th>31</th>\n",
       "      <td>language_en</td>\n",
       "      <td>0.382286</td>\n",
       "    </tr>\n",
       "    <tr>\n",
       "      <th>151</th>\n",
       "      <td>age_bucket_(32.0, 36.0]</td>\n",
       "      <td>0.364041</td>\n",
       "    </tr>\n",
       "    <tr>\n",
       "      <th>41</th>\n",
       "      <td>language_ko</td>\n",
       "      <td>0.358504</td>\n",
       "    </tr>\n",
       "    <tr>\n",
       "      <th>23</th>\n",
       "      <td>signup_flow_23</td>\n",
       "      <td>0.350366</td>\n",
       "    </tr>\n",
       "    <tr>\n",
       "      <th>71</th>\n",
       "      <td>affiliate_provider_other</td>\n",
       "      <td>0.340773</td>\n",
       "    </tr>\n",
       "    <tr>\n",
       "      <th>6</th>\n",
       "      <td>signup_method_basic</td>\n",
       "      <td>0.335292</td>\n",
       "    </tr>\n",
       "    <tr>\n",
       "      <th>18</th>\n",
       "      <td>signup_flow_12</td>\n",
       "      <td>0.288311</td>\n",
       "    </tr>\n",
       "  </tbody>\n",
       "</table>\n",
       "</div>"
      ],
      "text/plain": [
       "                                          feature_name      beta\n",
       "12                                       signup_flow_3  0.823703\n",
       "158  Total time spent (in seconds)_bucket_(2444996....  0.455111\n",
       "150                            age_bucket_(27.0, 32.0]  0.429616\n",
       "31                                         language_en  0.382286\n",
       "151                            age_bucket_(32.0, 36.0]  0.364041\n",
       "41                                         language_ko  0.358504\n",
       "23                                      signup_flow_23  0.350366\n",
       "71                            affiliate_provider_other  0.340773\n",
       "6                                  signup_method_basic  0.335292\n",
       "18                                      signup_flow_12  0.288311"
      ]
     },
     "execution_count": 222,
     "metadata": {},
     "output_type": "execute_result"
    }
   ],
   "source": [
    "logistic_regression_coefficient_df.sort_values(by='beta', ascending=False).head(10)"
   ]
  },
  {
   "cell_type": "markdown",
   "metadata": {},
   "source": [
    "Add a column called coefficient direction with two value: \"Positive\" and \"Negative\""
   ]
  },
  {
   "cell_type": "code",
   "execution_count": 223,
   "metadata": {},
   "outputs": [],
   "source": [
    "logistic_regression_coefficient_df['coefficient_direction']=''\n",
    "logistic_regression_coefficient_df.loc[logistic_regression_coefficient_df['beta']<=0 ,'coefficient_direction']='Negative'\n",
    "logistic_regression_coefficient_df.loc[logistic_regression_coefficient_df['beta']>0 ,'coefficient_direction']='Positive'"
   ]
  },
  {
   "cell_type": "code",
   "execution_count": 224,
   "metadata": {},
   "outputs": [
    {
     "data": {
      "text/plain": [
       "array(['Positive', 'Negative'], dtype=object)"
      ]
     },
     "execution_count": 224,
     "metadata": {},
     "output_type": "execute_result"
    }
   ],
   "source": [
    "logistic_regression_coefficient_df['coefficient_direction'].unique()"
   ]
  },
  {
   "cell_type": "code",
   "execution_count": 225,
   "metadata": {},
   "outputs": [],
   "source": [
    "logistic_regression_coefficient_df['odd_coefficient']=np.exp(logistic_regression_coefficient_df['beta'])"
   ]
  },
  {
   "cell_type": "code",
   "execution_count": 226,
   "metadata": {},
   "outputs": [],
   "source": [
    "logistic_regression_coefficient_df.sort_values(by='odd_coefficient', ascending=False, inplace=True)"
   ]
  },
  {
   "cell_type": "code",
   "execution_count": 227,
   "metadata": {},
   "outputs": [],
   "source": [
    "logistic_regression_coefficient_df.set_index('feature_name', inplace=True)"
   ]
  },
  {
   "cell_type": "markdown",
   "metadata": {},
   "source": [
    "Display the top 15 most important features to classify the users into booking versus not booking:"
   ]
  },
  {
   "cell_type": "code",
   "execution_count": 228,
   "metadata": {},
   "outputs": [
    {
     "data": {
      "image/png": "[encoded data removed]",
      "text/plain": [
       "<matplotlib.figure.Figure at 0xa491908>"
      ]
     },
     "metadata": {},
     "output_type": "display_data"
    }
   ],
   "source": [
    "f1=logistic_regression_coefficient_df[:15][['odd_coefficient']].sort_values(by='odd_coefficient',ascending=True).plot(kind='barh', title=\"Most Important features classying users into booking versus not booking\")"
   ]
  },
  {
   "cell_type": "markdown",
   "metadata": {},
   "source": [
    "Display the top 15 most important positive features to classify the users into booking versus not booking:"
   ]
  },
  {
   "cell_type": "code",
   "execution_count": 229,
   "metadata": {},
   "outputs": [
    {
     "name": "stderr",
     "output_type": "stream",
     "text": [
      "C:\\Users\\yuka.abe\\AppData\\Local\\Continuum\\anaconda3\\lib\\site-packages\\ipykernel_launcher.py:2: SettingWithCopyWarning: \n",
      "A value is trying to be set on a copy of a slice from a DataFrame\n",
      "\n",
      "See the caveats in the documentation: http://pandas.pydata.org/pandas-docs/stable/indexing.html#indexing-view-versus-copy\n",
      "  \n"
     ]
    }
   ],
   "source": [
    "logistic_regression_coefficient_df_positive=logistic_regression_coefficient_df.loc[logistic_regression_coefficient_df['coefficient_direction']=='Positive']\n",
    "logistic_regression_coefficient_df_positive.sort_values(by='odd_coefficient', ascending=False, inplace=True)"
   ]
  },
  {
   "cell_type": "code",
   "execution_count": 230,
   "metadata": {},
   "outputs": [
    {
     "data": {
      "image/png": "[encoded data removed]",
      "text/plain": [
       "<matplotlib.figure.Figure at 0x1577f2b0>"
      ]
     },
     "metadata": {},
     "output_type": "display_data"
    }
   ],
   "source": [
    "f2=logistic_regression_coefficient_df_positive[:15][['odd_coefficient']].sort_values(by='odd_coefficient',ascending=True).plot(kind='barh', title=\"Most Important Positive features classying users into booking versus not booking\")"
   ]
  },
  {
   "cell_type": "markdown",
   "metadata": {},
   "source": [
    "Display the top 15 most important negative features to classify the users into booking versus not booking:"
   ]
  },
  {
   "cell_type": "code",
   "execution_count": 231,
   "metadata": {},
   "outputs": [
    {
     "name": "stderr",
     "output_type": "stream",
     "text": [
      "C:\\Users\\yuka.abe\\AppData\\Local\\Continuum\\anaconda3\\lib\\site-packages\\ipykernel_launcher.py:2: SettingWithCopyWarning: \n",
      "A value is trying to be set on a copy of a slice from a DataFrame\n",
      "\n",
      "See the caveats in the documentation: http://pandas.pydata.org/pandas-docs/stable/indexing.html#indexing-view-versus-copy\n",
      "  \n"
     ]
    }
   ],
   "source": [
    "logistic_regression_coefficient_df_negative=logistic_regression_coefficient_df.loc[logistic_regression_coefficient_df['coefficient_direction']=='Negative']\n",
    "logistic_regression_coefficient_df_negative.sort_values(by='odd_coefficient', ascending=False, inplace=True)"
   ]
  },
  {
   "cell_type": "code",
   "execution_count": 232,
   "metadata": {},
   "outputs": [
    {
     "data": {
      "image/png": "[encoded data removed]",
      "text/plain": [
       "<matplotlib.figure.Figure at 0xc5cc4e0>"
      ]
     },
     "metadata": {},
     "output_type": "display_data"
    }
   ],
   "source": [
    "f3=logistic_regression_coefficient_df_negative[:15][['odd_coefficient']].sort_values(by='odd_coefficient',ascending=True).plot(kind='barh', title=\"Most Important Negative features classying users into booking versus not booking\")"
   ]
  },
  {
   "cell_type": "markdown",
   "metadata": {},
   "source": [
    "Use Decision Tree to fit the model:"
   ]
  },
  {
   "cell_type": "code",
   "execution_count": 234,
   "metadata": {},
   "outputs": [],
   "source": [
    "import numpy as np\n",
    "import pandas as pd\n",
    "from sklearn.tree import DecisionTreeClassifier\n",
    "from sklearn.ensemble import AdaBoostClassifier, RandomForestClassifier\n",
    "from sklearn.cross_validation import cross_val_score, train_test_split\n",
    "from sklearn.metrics import precision_score, recall_score, f1_score, roc_curve, roc_auc_score\n",
    "from matplotlib import pyplot as plt\n",
    "import seaborn as sns\n",
    "%matplotlib inline"
   ]
  },
  {
   "cell_type": "markdown",
   "metadata": {},
   "source": [
    "Define the features for the model:"
   ]
  },
  {
   "cell_type": "code",
   "execution_count": 235,
   "metadata": {},
   "outputs": [],
   "source": [
    "feature_list=list(user_training_dataset_update_binary_classfication1.columns)"
   ]
  },
  {
   "cell_type": "markdown",
   "metadata": {},
   "source": [
    "For the tree-based model, I'm going to remove the fields that contain \"_bucket\" for total time spend and session count"
   ]
  },
  {
   "cell_type": "code",
   "execution_count": 244,
   "metadata": {},
   "outputs": [],
   "source": [
    "feature_list1=[i for i in feature_list if \"Total time spent (in seconds)_bucket\" not in i]"
   ]
  },
  {
   "cell_type": "code",
   "execution_count": 245,
   "metadata": {},
   "outputs": [],
   "source": [
    "feature_list1=[i for i in feature_list1 if \"session count_bucket_\" not in i]"
   ]
  },
  {
   "cell_type": "markdown",
   "metadata": {},
   "source": [
    "Define the label and the features:"
   ]
  },
  {
   "cell_type": "code",
   "execution_count": 246,
   "metadata": {},
   "outputs": [],
   "source": [
    "y,X=user_training_dataset_update_binary_classfication1.trip_booking_flag, user_training_dataset_update_binary_classfication1[feature_list1]"
   ]
  },
  {
   "cell_type": "code",
   "execution_count": 247,
   "metadata": {},
   "outputs": [
    {
     "data": {
      "text/plain": [
       "1.0"
      ]
     },
     "execution_count": 247,
     "metadata": {},
     "output_type": "execute_result"
    }
   ],
   "source": [
    "model_decision_tree_binary_clf=DecisionTreeClassifier().fit(X,y)\n",
    "cross_val_score(model_decision_tree_binary_clf, X, y, cv=5).mean()"
   ]
  },
  {
   "cell_type": "code",
   "execution_count": 248,
   "metadata": {},
   "outputs": [
    {
     "data": {
      "text/plain": [
       "1.0"
      ]
     },
     "execution_count": 248,
     "metadata": {},
     "output_type": "execute_result"
    }
   ],
   "source": [
    "cross_val_score(model_decision_tree_binary_clf, X,y, cv=5, scoring='precision').mean()"
   ]
  },
  {
   "cell_type": "code",
   "execution_count": 249,
   "metadata": {},
   "outputs": [
    {
     "data": {
      "text/plain": [
       "1.0"
      ]
     },
     "execution_count": 249,
     "metadata": {},
     "output_type": "execute_result"
    }
   ],
   "source": [
    "cross_val_score(model_decision_tree_binary_clf, X,y, cv=5, scoring='recall').mean()"
   ]
  },
  {
   "cell_type": "code",
   "execution_count": 250,
   "metadata": {},
   "outputs": [
    {
     "data": {
      "text/plain": [
       "1.0"
      ]
     },
     "execution_count": 250,
     "metadata": {},
     "output_type": "execute_result"
    }
   ],
   "source": [
    "cross_val_score(model_decision_tree_binary_clf, X, y, cv=5, scoring='roc_auc').mean()"
   ]
  },
  {
   "cell_type": "code",
   "execution_count": 251,
   "metadata": {},
   "outputs": [
    {
     "data": {
      "text/plain": [
       "1.0"
      ]
     },
     "execution_count": 251,
     "metadata": {},
     "output_type": "execute_result"
    }
   ],
   "source": [
    "cross_val_score(model_decision_tree_binary_clf, X, y, cv=5, scoring='f1').mean()"
   ]
  },
  {
   "cell_type": "code",
   "execution_count": 252,
   "metadata": {},
   "outputs": [
    {
     "data": {
      "image/png": "[encoded data removed]",
      "text/plain": [
       "<matplotlib.figure.Figure at 0xa81fe48>"
      ]
     },
     "metadata": {},
     "output_type": "display_data"
    }
   ],
   "source": [
    "y_pred_proba = np.array(list(zip(*model_decision_tree_binary_clf.predict_proba(X))))[1]\n",
    "y_pred_proba\n",
    "eps = .02\n",
    "fpr, tpr, thresholds = roc_curve(y, y_pred_proba)\n",
    "f = plt.plot(fpr, tpr)  # plot ROC curve\n",
    "f = plt.fill_between(fpr, tpr, 0, alpha=.2)  # fill AUC\n",
    "f = plt.xlim(-eps, 1+eps), plt.ylim(-eps, 1+eps)\n",
    "f = plt.xlabel('False positive rate'), plt.ylabel('True positive rate')\n"
   ]
  },
  {
   "cell_type": "markdown",
   "metadata": {},
   "source": [
    "Try Random Forest with a number of trees:"
   ]
  },
  {
   "cell_type": "markdown",
   "metadata": {},
   "source": [
    "Define the features and label:"
   ]
  },
  {
   "cell_type": "code",
   "execution_count": 253,
   "metadata": {},
   "outputs": [],
   "source": [
    "y,X=user_training_dataset_update_binary_classfication1.trip_booking_flag, user_training_dataset_update_binary_classfication1[feature_list1]"
   ]
  },
  {
   "cell_type": "code",
   "execution_count": 254,
   "metadata": {},
   "outputs": [],
   "source": [
    "model_random_forest_binary_clf=RandomForestClassifier(n_estimators=50, n_jobs=-1).fit(X,y)"
   ]
  },
  {
   "cell_type": "code",
   "execution_count": 255,
   "metadata": {},
   "outputs": [
    {
     "data": {
      "text/plain": [
       "0.8509744613533039"
      ]
     },
     "execution_count": 255,
     "metadata": {},
     "output_type": "execute_result"
    }
   ],
   "source": [
    "cross_val_score(model_random_forest_binary_clf, X, y, cv=10).mean()"
   ]
  },
  {
   "cell_type": "code",
   "execution_count": 256,
   "metadata": {},
   "outputs": [
    {
     "data": {
      "text/plain": [
       "0.7741592796991524"
      ]
     },
     "execution_count": 256,
     "metadata": {},
     "output_type": "execute_result"
    }
   ],
   "source": [
    "cross_val_score(model_random_forest_binary_clf, X, y, cv=10, scoring='precision').mean()"
   ]
  },
  {
   "cell_type": "code",
   "execution_count": 257,
   "metadata": {},
   "outputs": [
    {
     "data": {
      "text/plain": [
       "0.8960180255839407"
      ]
     },
     "execution_count": 257,
     "metadata": {},
     "output_type": "execute_result"
    }
   ],
   "source": [
    "cross_val_score(model_random_forest_binary_clf, X, y, cv=10, scoring='recall').mean()"
   ]
  },
  {
   "cell_type": "code",
   "execution_count": 258,
   "metadata": {},
   "outputs": [
    {
     "data": {
      "text/plain": [
       "0.8188709617714383"
      ]
     },
     "execution_count": 258,
     "metadata": {},
     "output_type": "execute_result"
    }
   ],
   "source": [
    "cross_val_score(model_random_forest_binary_clf, X, y, cv=10, scoring='f1').mean()"
   ]
  },
  {
   "cell_type": "code",
   "execution_count": 259,
   "metadata": {},
   "outputs": [
    {
     "data": {
      "text/plain": [
       "0.9645580587178939"
      ]
     },
     "execution_count": 259,
     "metadata": {},
     "output_type": "execute_result"
    }
   ],
   "source": [
    "cross_val_score(model_random_forest_binary_clf, X, y, cv=10, scoring='roc_auc').mean()"
   ]
  },
  {
   "cell_type": "markdown",
   "metadata": {},
   "source": [
    "Generate ROC AUC Curve:"
   ]
  },
  {
   "cell_type": "code",
   "execution_count": 263,
   "metadata": {},
   "outputs": [],
   "source": [
    "y_pred_proba = np.array(list(zip(*model_random_forest_binary_clf.predict_proba(X))))[1]"
   ]
  },
  {
   "cell_type": "code",
   "execution_count": 264,
   "metadata": {},
   "outputs": [
    {
     "data": {
      "image/png": "[encoded data removed]",
      "text/plain": [
       "<matplotlib.figure.Figure at 0xa771e48>"
      ]
     },
     "metadata": {},
     "output_type": "display_data"
    }
   ],
   "source": [
    "y_pred_proba\n",
    "eps = .02\n",
    "fpr, tpr, thresholds = roc_curve(y, y_pred_proba)\n",
    "f = plt.plot(fpr, tpr)  # plot ROC curve\n",
    "f = plt.fill_between(fpr, tpr, 0, alpha=.2)  # fill AUC\n",
    "f = plt.xlim(-eps, 1+eps), plt.ylim(-eps, 1+eps)\n",
    "f = plt.xlabel('False positive rate'), plt.ylabel('True positive rate')\n"
   ]
  },
  {
   "cell_type": "markdown",
   "metadata": {},
   "source": [
    "Try a boosting forest:"
   ]
  },
  {
   "cell_type": "code",
   "execution_count": 138,
   "metadata": {},
   "outputs": [],
   "source": [
    "from sklearn.ensemble import AdaBoostClassifier"
   ]
  },
  {
   "cell_type": "code",
   "execution_count": null,
   "metadata": {},
   "outputs": [],
   "source": []
  }
 ],
 "metadata": {
  "kernelspec": {
   "display_name": "Python 3",
   "language": "python",
   "name": "python3"
  },
  "language_info": {
   "codemirror_mode": {
    "name": "ipython",
    "version": 3
   },
   "file_extension": ".py",
   "mimetype": "text/x-python",
   "name": "python",
   "nbconvert_exporter": "python",
   "pygments_lexer": "ipython3",
   "version": "3.6.4"
  }
 },
 "nbformat": 4,
 "nbformat_minor": 2
}
