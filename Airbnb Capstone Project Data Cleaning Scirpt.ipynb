{
 "cells": [
  {
   "cell_type": "code",
   "execution_count": 6,
   "metadata": {},
   "outputs": [],
   "source": [
    "import pandas as pd\n",
    "import numpy as np\n",
    "import seaborn as sns\n",
    "import matplotlib.pyplot as plt"
   ]
  },
  {
   "cell_type": "markdown",
   "metadata": {},
   "source": [
    "You can download the user_training_dataset_update.csv from the link below:\n",
    "\n",
    "https://drive.google.com/open?id=1tQGlNvkmGVPGcmQID2NNd5p8bkLBxofM"
   ]
  },
  {
   "cell_type": "markdown",
   "metadata": {},
   "source": [
    "Import all the raw data files into python:"
   ]
  },
  {
   "cell_type": "code",
   "execution_count": 88,
   "metadata": {},
   "outputs": [],
   "source": [
    "sessions_raw=pd.read_csv(\"C:/Users/yuka.abe/Desktop/Airbnb Kaggle DataSet/sessions.csv\")\n",
    "train_users_2_raw=pd.read_csv(\"C:/Users/yuka.abe/Desktop/Airbnb Kaggle DataSet/train_users_2.csv\")\n",
    "test_users_raw=pd.read_csv(\"C:/Users/yuka.abe/Desktop/Airbnb Kaggle DataSet/test_users.csv\")\n",
    "countries_raw=pd.read_csv(\"C:/Users/yuka.abe/Desktop/Airbnb Kaggle DataSet/countries.csv\")\n",
    "age_gender_bkts_raw=pd.read_csv(\"C:/Users/yuka.abe/Desktop/Airbnb Kaggle DataSet/age_gender_bkts.csv\")"
   ]
  },
  {
   "cell_type": "markdown",
   "metadata": {},
   "source": [
    "Exploratory Analysis on the sessions_raw dataset:"
   ]
  },
  {
   "cell_type": "markdown",
   "metadata": {},
   "source": [
    "Description of the session_raw (session log data) data frame:\n",
    "\n",
    "- 135,483 unique users in total in dataset\n",
    "- 10 types of actions taken\n",
    "- 359 unique actions taken\n",
    "- 14 unique device types\n",
    "- Average sessions duration (secs_elapsed) ranges from 0 to 1.799977e+06 with mean of 1.940581e+04 and standard deviatio of 8.888424e+04\n"
   ]
  },
  {
   "cell_type": "code",
   "execution_count": 33,
   "metadata": {},
   "outputs": [
    {
     "data": {
      "text/html": [
       "<div>\n",
       "<style scoped>\n",
       "    .dataframe tbody tr th:only-of-type {\n",
       "        vertical-align: middle;\n",
       "    }\n",
       "\n",
       "    .dataframe tbody tr th {\n",
       "        vertical-align: top;\n",
       "    }\n",
       "\n",
       "    .dataframe thead th {\n",
       "        text-align: right;\n",
       "    }\n",
       "</style>\n",
       "<table border=\"1\" class=\"dataframe\">\n",
       "  <thead>\n",
       "    <tr style=\"text-align: right;\">\n",
       "      <th></th>\n",
       "      <th>user_id</th>\n",
       "      <th>action</th>\n",
       "      <th>action_type</th>\n",
       "      <th>action_detail</th>\n",
       "      <th>device_type</th>\n",
       "      <th>secs_elapsed</th>\n",
       "    </tr>\n",
       "  </thead>\n",
       "  <tbody>\n",
       "    <tr>\n",
       "      <th>count</th>\n",
       "      <td>10533241</td>\n",
       "      <td>10488111</td>\n",
       "      <td>9441533</td>\n",
       "      <td>9441533</td>\n",
       "      <td>10567737</td>\n",
       "      <td>1.043171e+07</td>\n",
       "    </tr>\n",
       "    <tr>\n",
       "      <th>unique</th>\n",
       "      <td>135483</td>\n",
       "      <td>359</td>\n",
       "      <td>10</td>\n",
       "      <td>155</td>\n",
       "      <td>14</td>\n",
       "      <td>NaN</td>\n",
       "    </tr>\n",
       "    <tr>\n",
       "      <th>top</th>\n",
       "      <td>mxqbh3ykxl</td>\n",
       "      <td>show</td>\n",
       "      <td>view</td>\n",
       "      <td>view_search_results</td>\n",
       "      <td>Mac Desktop</td>\n",
       "      <td>NaN</td>\n",
       "    </tr>\n",
       "    <tr>\n",
       "      <th>freq</th>\n",
       "      <td>2722</td>\n",
       "      <td>2768278</td>\n",
       "      <td>3560902</td>\n",
       "      <td>1776885</td>\n",
       "      <td>3594286</td>\n",
       "      <td>NaN</td>\n",
       "    </tr>\n",
       "    <tr>\n",
       "      <th>mean</th>\n",
       "      <td>NaN</td>\n",
       "      <td>NaN</td>\n",
       "      <td>NaN</td>\n",
       "      <td>NaN</td>\n",
       "      <td>NaN</td>\n",
       "      <td>1.940581e+04</td>\n",
       "    </tr>\n",
       "    <tr>\n",
       "      <th>std</th>\n",
       "      <td>NaN</td>\n",
       "      <td>NaN</td>\n",
       "      <td>NaN</td>\n",
       "      <td>NaN</td>\n",
       "      <td>NaN</td>\n",
       "      <td>8.888424e+04</td>\n",
       "    </tr>\n",
       "    <tr>\n",
       "      <th>min</th>\n",
       "      <td>NaN</td>\n",
       "      <td>NaN</td>\n",
       "      <td>NaN</td>\n",
       "      <td>NaN</td>\n",
       "      <td>NaN</td>\n",
       "      <td>0.000000e+00</td>\n",
       "    </tr>\n",
       "    <tr>\n",
       "      <th>25%</th>\n",
       "      <td>NaN</td>\n",
       "      <td>NaN</td>\n",
       "      <td>NaN</td>\n",
       "      <td>NaN</td>\n",
       "      <td>NaN</td>\n",
       "      <td>2.290000e+02</td>\n",
       "    </tr>\n",
       "    <tr>\n",
       "      <th>50%</th>\n",
       "      <td>NaN</td>\n",
       "      <td>NaN</td>\n",
       "      <td>NaN</td>\n",
       "      <td>NaN</td>\n",
       "      <td>NaN</td>\n",
       "      <td>1.147000e+03</td>\n",
       "    </tr>\n",
       "    <tr>\n",
       "      <th>75%</th>\n",
       "      <td>NaN</td>\n",
       "      <td>NaN</td>\n",
       "      <td>NaN</td>\n",
       "      <td>NaN</td>\n",
       "      <td>NaN</td>\n",
       "      <td>8.444000e+03</td>\n",
       "    </tr>\n",
       "    <tr>\n",
       "      <th>max</th>\n",
       "      <td>NaN</td>\n",
       "      <td>NaN</td>\n",
       "      <td>NaN</td>\n",
       "      <td>NaN</td>\n",
       "      <td>NaN</td>\n",
       "      <td>1.799977e+06</td>\n",
       "    </tr>\n",
       "  </tbody>\n",
       "</table>\n",
       "</div>"
      ],
      "text/plain": [
       "           user_id    action action_type        action_detail  device_type  \\\n",
       "count     10533241  10488111     9441533              9441533     10567737   \n",
       "unique      135483       359          10                  155           14   \n",
       "top     mxqbh3ykxl      show        view  view_search_results  Mac Desktop   \n",
       "freq          2722   2768278     3560902              1776885      3594286   \n",
       "mean           NaN       NaN         NaN                  NaN          NaN   \n",
       "std            NaN       NaN         NaN                  NaN          NaN   \n",
       "min            NaN       NaN         NaN                  NaN          NaN   \n",
       "25%            NaN       NaN         NaN                  NaN          NaN   \n",
       "50%            NaN       NaN         NaN                  NaN          NaN   \n",
       "75%            NaN       NaN         NaN                  NaN          NaN   \n",
       "max            NaN       NaN         NaN                  NaN          NaN   \n",
       "\n",
       "        secs_elapsed  \n",
       "count   1.043171e+07  \n",
       "unique           NaN  \n",
       "top              NaN  \n",
       "freq             NaN  \n",
       "mean    1.940581e+04  \n",
       "std     8.888424e+04  \n",
       "min     0.000000e+00  \n",
       "25%     2.290000e+02  \n",
       "50%     1.147000e+03  \n",
       "75%     8.444000e+03  \n",
       "max     1.799977e+06  "
      ]
     },
     "execution_count": 33,
     "metadata": {},
     "output_type": "execute_result"
    }
   ],
   "source": [
    "sessions_raw.describe(include='all')"
   ]
  },
  {
   "cell_type": "markdown",
   "metadata": {},
   "source": [
    "Types of action types, actions and action details:"
   ]
  },
  {
   "cell_type": "markdown",
   "metadata": {},
   "source": [
    "Sessions by action type:"
   ]
  },
  {
   "cell_type": "code",
   "execution_count": 10,
   "metadata": {},
   "outputs": [
    {
     "data": {
      "text/plain": [
       "view                3560902\n",
       "data                2103770\n",
       "click               1996183\n",
       "-unknown-           1031170\n",
       "submit               623357\n",
       "message_post          87103\n",
       "partner_callback      19132\n",
       "booking_request       18773\n",
       "modify                 1139\n",
       "booking_response          4\n",
       "Name: action_type, dtype: int64"
      ]
     },
     "execution_count": 10,
     "metadata": {},
     "output_type": "execute_result"
    }
   ],
   "source": [
    "sessions_raw.action_type.value_counts()"
   ]
  },
  {
   "cell_type": "code",
   "execution_count": 89,
   "metadata": {},
   "outputs": [
    {
     "data": {
      "text/plain": [
       "show                         2768278\n",
       "index                         843699\n",
       "search_results                725226\n",
       "personalize                   706824\n",
       "search                        536057\n",
       "ajax_refresh_subtotal         487744\n",
       "update                        365130\n",
       "similar_listings              364624\n",
       "social_connections            339000\n",
       "reviews                       320591\n",
       "active                        188036\n",
       "similar_listings_v2           168788\n",
       "lookup                        162041\n",
       "create                        155887\n",
       "dashboard                     152952\n",
       "header_userpic                141830\n",
       "collections                   124417\n",
       "edit                          109083\n",
       "campaigns                     105028\n",
       "track_page_view                81117\n",
       "unavailabilities               78317\n",
       "qt2                            64651\n",
       "notifications                  59392\n",
       "confirm_email                  58726\n",
       "requested                      57034\n",
       "identity                       53631\n",
       "ajax_check_dates               52517\n",
       "show_personalize               50434\n",
       "ask_question                   44063\n",
       "listings                       43656\n",
       "                              ...   \n",
       "accept_decline                     2\n",
       "reset_calendar                     2\n",
       "views_campaign                     2\n",
       "confirmation                       2\n",
       "special_offer                      2\n",
       "south-america                      2\n",
       "stpcv                              2\n",
       "use_mobile_site                    2\n",
       "sandy                              2\n",
       "preapproval                        2\n",
       "unsubscribe                        2\n",
       "tos_2014                           2\n",
       "views_campaign_rules               2\n",
       "report                             2\n",
       "rest-of-world                      2\n",
       "plaxo_cb                           1\n",
       "deactivated                        1\n",
       "reactivate                         1\n",
       "acculynk_bin_check_failed          1\n",
       "set_minimum_payout_amount          1\n",
       "wishlists                          1\n",
       "nyan                               1\n",
       "update_message                     1\n",
       "deauthorize                        1\n",
       "revert_to_admin                    1\n",
       "events                             1\n",
       "desks                              1\n",
       "deactivate                         1\n",
       "sldf                               1\n",
       "host_cancel                        1\n",
       "Name: action, Length: 359, dtype: int64"
      ]
     },
     "execution_count": 89,
     "metadata": {},
     "output_type": "execute_result"
    }
   ],
   "source": [
    "sessions_raw.action.value_counts()"
   ]
  },
  {
   "cell_type": "markdown",
   "metadata": {},
   "source": [
    "Create a new dataframe to include the activity count by user:"
   ]
  },
  {
   "cell_type": "code",
   "execution_count": 91,
   "metadata": {},
   "outputs": [
    {
     "data": {
      "text/html": [
       "<div>\n",
       "<style scoped>\n",
       "    .dataframe tbody tr th:only-of-type {\n",
       "        vertical-align: middle;\n",
       "    }\n",
       "\n",
       "    .dataframe tbody tr th {\n",
       "        vertical-align: top;\n",
       "    }\n",
       "\n",
       "    .dataframe thead th {\n",
       "        text-align: right;\n",
       "    }\n",
       "</style>\n",
       "<table border=\"1\" class=\"dataframe\">\n",
       "  <thead>\n",
       "    <tr style=\"text-align: right;\">\n",
       "      <th></th>\n",
       "      <th>user_id</th>\n",
       "      <th>session count</th>\n",
       "    </tr>\n",
       "  </thead>\n",
       "  <tbody>\n",
       "    <tr>\n",
       "      <th>86383</th>\n",
       "      <td>mxqbh3ykxl</td>\n",
       "      <td>2722</td>\n",
       "    </tr>\n",
       "    <tr>\n",
       "      <th>1847</th>\n",
       "      <td>0hjoc5q8nf</td>\n",
       "      <td>2644</td>\n",
       "    </tr>\n",
       "    <tr>\n",
       "      <th>84873</th>\n",
       "      <td>mjbl6rrj52</td>\n",
       "      <td>2476</td>\n",
       "    </tr>\n",
       "    <tr>\n",
       "      <th>79804</th>\n",
       "      <td>l5lgm3w5pc</td>\n",
       "      <td>2424</td>\n",
       "    </tr>\n",
       "    <tr>\n",
       "      <th>122057</th>\n",
       "      <td>wg9413iaux</td>\n",
       "      <td>2362</td>\n",
       "    </tr>\n",
       "  </tbody>\n",
       "</table>\n",
       "</div>"
      ],
      "text/plain": [
       "           user_id  session count\n",
       "86383   mxqbh3ykxl           2722\n",
       "1847    0hjoc5q8nf           2644\n",
       "84873   mjbl6rrj52           2476\n",
       "79804   l5lgm3w5pc           2424\n",
       "122057  wg9413iaux           2362"
      ]
     },
     "execution_count": 91,
     "metadata": {},
     "output_type": "execute_result"
    }
   ],
   "source": [
    "user_activity_count=sessions_raw.groupby('user_id').size()\n",
    "user_activity_count=user_activity_count.reset_index()\n",
    "user_activity_count=user_activity_count.rename(columns={0: 'session count'})\n",
    "user_activity_count.sort_values(by='session count', ascending=False, inplace=True)\n",
    "user_activity_count.head()"
   ]
  },
  {
   "cell_type": "markdown",
   "metadata": {},
   "source": [
    "Create a new dataframe to include the total time spent on Airbnb by user:"
   ]
  },
  {
   "cell_type": "code",
   "execution_count": 102,
   "metadata": {},
   "outputs": [
    {
     "data": {
      "text/html": [
       "<div>\n",
       "<style scoped>\n",
       "    .dataframe tbody tr th:only-of-type {\n",
       "        vertical-align: middle;\n",
       "    }\n",
       "\n",
       "    .dataframe tbody tr th {\n",
       "        vertical-align: top;\n",
       "    }\n",
       "\n",
       "    .dataframe thead th {\n",
       "        text-align: right;\n",
       "    }\n",
       "</style>\n",
       "<table border=\"1\" class=\"dataframe\">\n",
       "  <thead>\n",
       "    <tr style=\"text-align: right;\">\n",
       "      <th></th>\n",
       "      <th>user_id</th>\n",
       "      <th>Total time spent (in seconds)</th>\n",
       "    </tr>\n",
       "  </thead>\n",
       "  <tbody>\n",
       "    <tr>\n",
       "      <th>81457</th>\n",
       "      <td>llvyczd9hn</td>\n",
       "      <td>38221363.0</td>\n",
       "    </tr>\n",
       "    <tr>\n",
       "      <th>131054</th>\n",
       "      <td>yu5bdalz2b</td>\n",
       "      <td>31393292.0</td>\n",
       "    </tr>\n",
       "    <tr>\n",
       "      <th>125353</th>\n",
       "      <td>xboy92k1s2</td>\n",
       "      <td>29469461.0</td>\n",
       "    </tr>\n",
       "    <tr>\n",
       "      <th>123975</th>\n",
       "      <td>wyv1imf8qw</td>\n",
       "      <td>28960128.0</td>\n",
       "    </tr>\n",
       "    <tr>\n",
       "      <th>59591</th>\n",
       "      <td>fsa2gw8kk4</td>\n",
       "      <td>26647578.0</td>\n",
       "    </tr>\n",
       "  </tbody>\n",
       "</table>\n",
       "</div>"
      ],
      "text/plain": [
       "           user_id  Total time spent (in seconds)\n",
       "81457   llvyczd9hn                     38221363.0\n",
       "131054  yu5bdalz2b                     31393292.0\n",
       "125353  xboy92k1s2                     29469461.0\n",
       "123975  wyv1imf8qw                     28960128.0\n",
       "59591   fsa2gw8kk4                     26647578.0"
      ]
     },
     "execution_count": 102,
     "metadata": {},
     "output_type": "execute_result"
    }
   ],
   "source": [
    "user_total_time_spent=sessions_raw.groupby('user_id')['secs_elapsed'].sum()\n",
    "user_total_time_spent=user_total_time_spent.reset_index()\n",
    "user_total_time_spent=user_total_time_spent.rename(columns={'secs_elapsed': 'Total time spent (in seconds)'})\n",
    "user_total_time_spent.sort_values(by='Total time spent (in seconds)', ascending=False, inplace=True)\n",
    "user_total_time_spent.head()"
   ]
  },
  {
   "cell_type": "markdown",
   "metadata": {},
   "source": [
    "Understand the distribution of the activity counts of the users:\n",
    "-  Overall 135,483 users in the dataset\n",
    "- 75% of users have less than or equal to 95 activity counts. There are some outlier in the activity count per user"
   ]
  },
  {
   "cell_type": "code",
   "execution_count": 104,
   "metadata": {},
   "outputs": [
    {
     "data": {
      "text/plain": [
       "count    135483.000000\n",
       "mean         77.745850\n",
       "std         112.563746\n",
       "min           1.000000\n",
       "25%          16.000000\n",
       "50%          41.000000\n",
       "75%          95.000000\n",
       "max        2722.000000\n",
       "Name: session count, dtype: float64"
      ]
     },
     "execution_count": 104,
     "metadata": {},
     "output_type": "execute_result"
    }
   ],
   "source": [
    "user_activity_count['session count'].describe()"
   ]
  },
  {
   "cell_type": "code",
   "execution_count": 106,
   "metadata": {},
   "outputs": [
    {
     "data": {
      "text/plain": [
       "(array([8.0373e+04, 2.6470e+04, 1.2113e+04, 6.2810e+03, 3.5020e+03,\n",
       "        2.1390e+03, 1.2840e+03, 9.3400e+02, 6.2600e+02, 4.7100e+02,\n",
       "        3.4100e+02, 2.0900e+02, 1.5200e+02, 1.3800e+02, 7.3000e+01,\n",
       "        6.8000e+01, 6.5000e+01, 4.6000e+01, 2.6000e+01, 4.1000e+01,\n",
       "        2.1000e+01, 1.9000e+01, 1.8000e+01, 7.0000e+00, 9.0000e+00,\n",
       "        1.4000e+01, 3.0000e+00, 4.0000e+00, 6.0000e+00, 2.0000e+00,\n",
       "        1.0000e+00, 2.0000e+00, 5.0000e+00, 2.0000e+00, 2.0000e+00,\n",
       "        3.0000e+00, 0.0000e+00, 1.0000e+00, 1.0000e+00, 1.0000e+00,\n",
       "        0.0000e+00, 3.0000e+00, 2.0000e+00, 1.0000e+00, 1.0000e+00,\n",
       "        1.0000e+00, 0.0000e+00, 0.0000e+00, 1.0000e+00, 1.0000e+00]),\n",
       " array([1.00000e+00, 5.54200e+01, 1.09840e+02, 1.64260e+02, 2.18680e+02,\n",
       "        2.73100e+02, 3.27520e+02, 3.81940e+02, 4.36360e+02, 4.90780e+02,\n",
       "        5.45200e+02, 5.99620e+02, 6.54040e+02, 7.08460e+02, 7.62880e+02,\n",
       "        8.17300e+02, 8.71720e+02, 9.26140e+02, 9.80560e+02, 1.03498e+03,\n",
       "        1.08940e+03, 1.14382e+03, 1.19824e+03, 1.25266e+03, 1.30708e+03,\n",
       "        1.36150e+03, 1.41592e+03, 1.47034e+03, 1.52476e+03, 1.57918e+03,\n",
       "        1.63360e+03, 1.68802e+03, 1.74244e+03, 1.79686e+03, 1.85128e+03,\n",
       "        1.90570e+03, 1.96012e+03, 2.01454e+03, 2.06896e+03, 2.12338e+03,\n",
       "        2.17780e+03, 2.23222e+03, 2.28664e+03, 2.34106e+03, 2.39548e+03,\n",
       "        2.44990e+03, 2.50432e+03, 2.55874e+03, 2.61316e+03, 2.66758e+03,\n",
       "        2.72200e+03]),\n",
       " <a list of 50 Patch objects>)"
      ]
     },
     "execution_count": 106,
     "metadata": {},
     "output_type": "execute_result"
    },
    {
     "data": {
      "image/png": "[encoded data removed]",
      "text/plain": [
       "<matplotlib.figure.Figure at 0xda636a0>"
      ]
     },
     "metadata": {},
     "output_type": "display_data"
    }
   ],
   "source": [
    "plt.hist(user_activity_count['session count'], bins=50)"
   ]
  },
  {
   "cell_type": "code",
   "execution_count": 107,
   "metadata": {},
   "outputs": [
    {
     "data": {
      "text/plain": [
       "<matplotlib.axes._subplots.AxesSubplot at 0xe5e2940>"
      ]
     },
     "execution_count": 107,
     "metadata": {},
     "output_type": "execute_result"
    },
    {
     "data": {
      "image/png": "[encoded data removed]",
      "text/plain": [
       "<matplotlib.figure.Figure at 0xe5e2208>"
      ]
     },
     "metadata": {},
     "output_type": "display_data"
    }
   ],
   "source": [
    "sns.violinplot(user_activity_count['session count'])"
   ]
  },
  {
   "cell_type": "code",
   "execution_count": 120,
   "metadata": {},
   "outputs": [
    {
     "data": {
      "text/plain": [
       "413.81444444444446"
      ]
     },
     "execution_count": 120,
     "metadata": {},
     "output_type": "execute_result"
    }
   ],
   "source": [
    "1.489732e+06/3600"
   ]
  },
  {
   "cell_type": "markdown",
   "metadata": {},
   "source": [
    "Show the distribution of the user session table:\n",
    "- Data is left skewed. half of the users has spent up to 236 hours. 75% of the users have spent 556 hours.\n",
    "- On average, users have spent around 414 hours.\n",
    "- By looking at the data, the second_elapsed field looks more like the open browser time rather than the actual time users have spent\n"
   ]
  },
  {
   "cell_type": "code",
   "execution_count": 109,
   "metadata": {},
   "outputs": [
    {
     "data": {
      "text/plain": [
       "count    1.354830e+05\n",
       "mean     1.489732e+06\n",
       "std      1.892923e+06\n",
       "min      0.000000e+00\n",
       "25%      2.605980e+05\n",
       "50%      8.502710e+05\n",
       "75%      2.000422e+06\n",
       "max      3.822136e+07\n",
       "Name: Total time spent (in seconds), dtype: float64"
      ]
     },
     "execution_count": 109,
     "metadata": {},
     "output_type": "execute_result"
    }
   ],
   "source": [
    "user_total_time_spent['Total time spent (in seconds)'].describe()"
   ]
  },
  {
   "cell_type": "code",
   "execution_count": 112,
   "metadata": {},
   "outputs": [],
   "source": [
    "user_total_time_spent['Total time spent (in seconds)']=pd.to_numeric(user_total_time_spent['Total time spent (in seconds)'])"
   ]
  },
  {
   "cell_type": "code",
   "execution_count": 113,
   "metadata": {},
   "outputs": [
    {
     "data": {
      "text/plain": [
       "(array([1.22782e+05, 1.04340e+04, 1.75500e+03, 3.81000e+02, 9.30000e+01,\n",
       "        2.60000e+01, 8.00000e+00, 2.00000e+00, 1.00000e+00, 1.00000e+00]),\n",
       " array([       0. ,  3822136.3,  7644272.6, 11466408.9, 15288545.2,\n",
       "        19110681.5, 22932817.8, 26754954.1, 30577090.4, 34399226.7,\n",
       "        38221363. ]),\n",
       " <a list of 10 Patch objects>)"
      ]
     },
     "execution_count": 113,
     "metadata": {},
     "output_type": "execute_result"
    },
    {
     "data": {
      "image/png": "[encoded data removed]",
      "text/plain": [
       "<matplotlib.figure.Figure at 0x150eaa90>"
      ]
     },
     "metadata": {},
     "output_type": "display_data"
    }
   ],
   "source": [
    "plt.hist(user_total_time_spent['Total time spent (in seconds)'])"
   ]
  },
  {
   "cell_type": "code",
   "execution_count": 123,
   "metadata": {},
   "outputs": [
    {
     "data": {
      "text/plain": [
       "<matplotlib.axes._subplots.AxesSubplot at 0xf8d0a20>"
      ]
     },
     "execution_count": 123,
     "metadata": {},
     "output_type": "execute_result"
    },
    {
     "data": {
      "image/png": "[encoded data removed]",
      "text/plain": [
       "<matplotlib.figure.Figure at 0x15168d30>"
      ]
     },
     "metadata": {},
     "output_type": "display_data"
    }
   ],
   "source": [
    "sns.violinplot(user_total_time_spent['Total time spent (in seconds)'])"
   ]
  },
  {
   "cell_type": "markdown",
   "metadata": {},
   "source": [
    "Data Cleaning and data exploratory analysis on the user data:"
   ]
  },
  {
   "cell_type": "code",
   "execution_count": 124,
   "metadata": {},
   "outputs": [
    {
     "data": {
      "text/plain": [
       "Index(['id', 'date_account_created', 'timestamp_first_active',\n",
       "       'date_first_booking', 'gender', 'age', 'signup_method', 'signup_flow',\n",
       "       'language', 'affiliate_channel', 'affiliate_provider',\n",
       "       'first_affiliate_tracked', 'signup_app', 'first_device_type',\n",
       "       'first_browser', 'country_destination'],\n",
       "      dtype='object')"
      ]
     },
     "execution_count": 124,
     "metadata": {},
     "output_type": "execute_result"
    }
   ],
   "source": [
    "train_users_2_raw.columns"
   ]
  },
  {
   "cell_type": "markdown",
   "metadata": {},
   "source": [
    "Clean up all the date and timestamp fields from the train_users_2_raw data frame:"
   ]
  },
  {
   "cell_type": "code",
   "execution_count": 181,
   "metadata": {},
   "outputs": [],
   "source": [
    "train_users_2_raw['date_account_created']=pd.to_datetime(train_users_2_raw['date_account_created'])\n",
    "train_users_2_raw['date_first_booking']=pd.to_datetime(train_users_2_raw['date_first_booking'])\n",
    "train_users_2_raw['timestamp_first_active_cleaned']=pd.to_datetime(train_users_2_raw['timestamp_first_active'].apply(lambda x: str(x)[:8]).apply(lambda x: str(x)[:4]) +'-'+ train_users_2_raw['timestamp_first_active'].apply(lambda x: str(x)[:8]).apply(lambda x: str(x)[4:6]) + '-' + train_users_2_raw['timestamp_first_active'].apply(lambda x: str(x)[:8]).apply(lambda x: str(x)[6:]))"
   ]
  },
  {
   "cell_type": "markdown",
   "metadata": {},
   "source": [
    "Make sure the user training dataset is at the user id level"
   ]
  },
  {
   "cell_type": "code",
   "execution_count": 182,
   "metadata": {},
   "outputs": [],
   "source": [
    "user_training_dataset_check_duplicate_df=train_users_2_raw.groupby('id').size().reset_index()"
   ]
  },
  {
   "cell_type": "code",
   "execution_count": 183,
   "metadata": {},
   "outputs": [
    {
     "data": {
      "text/html": [
       "<div>\n",
       "<style scoped>\n",
       "    .dataframe tbody tr th:only-of-type {\n",
       "        vertical-align: middle;\n",
       "    }\n",
       "\n",
       "    .dataframe tbody tr th {\n",
       "        vertical-align: top;\n",
       "    }\n",
       "\n",
       "    .dataframe thead th {\n",
       "        text-align: right;\n",
       "    }\n",
       "</style>\n",
       "<table border=\"1\" class=\"dataframe\">\n",
       "  <thead>\n",
       "    <tr style=\"text-align: right;\">\n",
       "      <th></th>\n",
       "      <th>id</th>\n",
       "      <th>0</th>\n",
       "    </tr>\n",
       "  </thead>\n",
       "  <tbody>\n",
       "  </tbody>\n",
       "</table>\n",
       "</div>"
      ],
      "text/plain": [
       "Empty DataFrame\n",
       "Columns: [id, 0]\n",
       "Index: []"
      ]
     },
     "execution_count": 183,
     "metadata": {},
     "output_type": "execute_result"
    }
   ],
   "source": [
    "user_training_dataset_check_duplicate_df.loc[user_training_dataset_check_duplicate_df[0]>1]"
   ]
  },
  {
   "cell_type": "markdown",
   "metadata": {},
   "source": [
    "There's no duplicate data by user id in the user training user dataset so the data is clean."
   ]
  },
  {
   "cell_type": "markdown",
   "metadata": {},
   "source": [
    "Find out if there's any user in the dataset that does not have the country destination"
   ]
  },
  {
   "cell_type": "code",
   "execution_count": 184,
   "metadata": {},
   "outputs": [
    {
     "data": {
      "text/html": [
       "<div>\n",
       "<style scoped>\n",
       "    .dataframe tbody tr th:only-of-type {\n",
       "        vertical-align: middle;\n",
       "    }\n",
       "\n",
       "    .dataframe tbody tr th {\n",
       "        vertical-align: top;\n",
       "    }\n",
       "\n",
       "    .dataframe thead th {\n",
       "        text-align: right;\n",
       "    }\n",
       "</style>\n",
       "<table border=\"1\" class=\"dataframe\">\n",
       "  <thead>\n",
       "    <tr style=\"text-align: right;\">\n",
       "      <th></th>\n",
       "      <th>id</th>\n",
       "      <th>date_account_created</th>\n",
       "      <th>timestamp_first_active</th>\n",
       "      <th>date_first_booking</th>\n",
       "      <th>gender</th>\n",
       "      <th>age</th>\n",
       "      <th>signup_method</th>\n",
       "      <th>signup_flow</th>\n",
       "      <th>language</th>\n",
       "      <th>affiliate_channel</th>\n",
       "      <th>affiliate_provider</th>\n",
       "      <th>first_affiliate_tracked</th>\n",
       "      <th>signup_app</th>\n",
       "      <th>first_device_type</th>\n",
       "      <th>first_browser</th>\n",
       "      <th>country_destination</th>\n",
       "      <th>timestamp_first_active_cleaned</th>\n",
       "    </tr>\n",
       "  </thead>\n",
       "  <tbody>\n",
       "  </tbody>\n",
       "</table>\n",
       "</div>"
      ],
      "text/plain": [
       "Empty DataFrame\n",
       "Columns: [id, date_account_created, timestamp_first_active, date_first_booking, gender, age, signup_method, signup_flow, language, affiliate_channel, affiliate_provider, first_affiliate_tracked, signup_app, first_device_type, first_browser, country_destination, timestamp_first_active_cleaned]\n",
       "Index: []"
      ]
     },
     "execution_count": 184,
     "metadata": {},
     "output_type": "execute_result"
    }
   ],
   "source": [
    "train_users_2_raw.loc[pd.isnull(train_users_2_raw['country_destination'])]"
   ]
  },
  {
   "cell_type": "code",
   "execution_count": 185,
   "metadata": {},
   "outputs": [
    {
     "data": {
      "text/plain": [
       "0          NaT\n",
       "1          NaT\n",
       "2   2010-08-02\n",
       "3   2012-09-08\n",
       "4   2010-02-18\n",
       "Name: date_first_booking, dtype: datetime64[ns]"
      ]
     },
     "execution_count": 185,
     "metadata": {},
     "output_type": "execute_result"
    }
   ],
   "source": [
    "train_users_2_raw['date_first_booking'].head()"
   ]
  },
  {
   "cell_type": "markdown",
   "metadata": {},
   "source": [
    "Create new variable number_of_days_account_creation: number of days since the account has been created (number of days between date_account_created and date_first_booking)"
   ]
  },
  {
   "cell_type": "code",
   "execution_count": 186,
   "metadata": {},
   "outputs": [],
   "source": [
    "train_users_2_raw['number_of_days_account_creation']=train_users_2_raw['date_first_booking']-train_users_2_raw['date_account_created']"
   ]
  },
  {
   "cell_type": "markdown",
   "metadata": {},
   "source": [
    "Create new variable number_of_active_days: number of days since the user has been active (number of days between timestamp_first_active_cleaned and date_first_booking )"
   ]
  },
  {
   "cell_type": "code",
   "execution_count": 187,
   "metadata": {},
   "outputs": [],
   "source": [
    "train_users_2_raw['number_of_active_days']=train_users_2_raw['date_first_booking']-train_users_2_raw['timestamp_first_active_cleaned']"
   ]
  },
  {
   "cell_type": "markdown",
   "metadata": {},
   "source": [
    "Data Exploratory analysis on the train_user_data:"
   ]
  },
  {
   "cell_type": "markdown",
   "metadata": {},
   "source": [
    "213,451 users in total in the user training dataset. \n",
    "The fields below have missing values:\n",
    "- date_first_booking     \n",
    "- number_of_days_account_creation     \n",
    "- number_of_active_days               \n",
    "- first_affiliate_tracked  "
   ]
  },
  {
   "cell_type": "code",
   "execution_count": 194,
   "metadata": {},
   "outputs": [
    {
     "data": {
      "text/plain": [
       "id                                 213451\n",
       "date_account_created               213451\n",
       "timestamp_first_active             213451\n",
       "date_first_booking                  88908\n",
       "gender                             213451\n",
       "age                                125461\n",
       "signup_method                      213451\n",
       "signup_flow                        213451\n",
       "language                           213451\n",
       "affiliate_channel                  213451\n",
       "affiliate_provider                 213451\n",
       "first_affiliate_tracked            207386\n",
       "signup_app                         213451\n",
       "first_device_type                  213451\n",
       "first_browser                      213451\n",
       "country_destination                213451\n",
       "timestamp_first_active_cleaned     213451\n",
       "number_of_days_account_creation     88908\n",
       "number_of_active_days               88908\n",
       "dtype: int64"
      ]
     },
     "execution_count": 194,
     "metadata": {},
     "output_type": "execute_result"
    }
   ],
   "source": [
    "train_users_2_raw.count()"
   ]
  },
  {
   "cell_type": "markdown",
   "metadata": {},
   "source": [
    "User age field:"
   ]
  },
  {
   "cell_type": "markdown",
   "metadata": {},
   "source": [
    "There's some outlier in the age field:"
   ]
  },
  {
   "cell_type": "code",
   "execution_count": 205,
   "metadata": {},
   "outputs": [
    {
     "data": {
      "text/plain": [
       "count    125461.000000\n",
       "mean         49.668335\n",
       "std         155.666612\n",
       "min           1.000000\n",
       "25%          28.000000\n",
       "50%          34.000000\n",
       "75%          43.000000\n",
       "max        2014.000000\n",
       "Name: age, dtype: float64"
      ]
     },
     "execution_count": 205,
     "metadata": {},
     "output_type": "execute_result"
    }
   ],
   "source": [
    "train_users_2_raw['age'].describe()"
   ]
  },
  {
   "cell_type": "markdown",
   "metadata": {},
   "source": [
    "There are 939 rows with age lower than 18 or over 122 years old."
   ]
  },
  {
   "cell_type": "code",
   "execution_count": 206,
   "metadata": {},
   "outputs": [
    {
     "data": {
      "text/plain": [
       "939"
      ]
     },
     "execution_count": 206,
     "metadata": {},
     "output_type": "execute_result"
    }
   ],
   "source": [
    "train_users_2_raw.loc[(train_users_2_raw['age']>=122)|(train_users_2_raw['age']<18),'age'].count()"
   ]
  },
  {
   "cell_type": "markdown",
   "metadata": {},
   "source": [
    "Create a field age_computed to compute the age lower than 18 to be 18 and the age over 122 to be 122 years old."
   ]
  },
  {
   "cell_type": "code",
   "execution_count": 210,
   "metadata": {},
   "outputs": [],
   "source": [
    "train_users_2_raw['age_computed']=train_users_2_raw['age']\n",
    "train_users_2_raw.loc[train_users_2_raw['age_computed']>=122,'age_computed']=122\n",
    "train_users_2_raw.loc[train_users_2_raw['age_computed']<18,'age_computed']=18"
   ]
  },
  {
   "cell_type": "code",
   "execution_count": null,
   "metadata": {},
   "outputs": [],
   "source": []
  },
  {
   "cell_type": "markdown",
   "metadata": {},
   "source": [
    "Below is the age histogram:\n",
    "- The age histogram is left skewed.\n"
   ]
  },
  {
   "cell_type": "code",
   "execution_count": 293,
   "metadata": {},
   "outputs": [
    {
     "data": {
      "text/plain": [
       "<matplotlib.axes._subplots.AxesSubplot at 0x23871048>"
      ]
     },
     "execution_count": 293,
     "metadata": {},
     "output_type": "execute_result"
    },
    {
     "data": {
      "image/png": "[encoded data removed]",
      "text/plain": [
       "<matplotlib.figure.Figure at 0x1ec2e780>"
      ]
     },
     "metadata": {},
     "output_type": "display_data"
    }
   ],
   "source": [
    "train_users_2_raw['age_computed'].hist(bins=10)"
   ]
  },
  {
   "cell_type": "code",
   "execution_count": 295,
   "metadata": {},
   "outputs": [
    {
     "data": {
      "text/plain": [
       "<matplotlib.axes._subplots.AxesSubplot at 0x298c2f98>"
      ]
     },
     "execution_count": 295,
     "metadata": {},
     "output_type": "execute_result"
    },
    {
     "data": {
      "image/png": "[encoded data removed]",
      "text/plain": [
       "<matplotlib.figure.Figure at 0x29c2dc18>"
      ]
     },
     "metadata": {},
     "output_type": "display_data"
    }
   ],
   "source": [
    "sns.violinplot(train_users_2_raw['age_computed'])"
   ]
  },
  {
   "cell_type": "markdown",
   "metadata": {},
   "source": [
    "The average computed age of the user is around 38 years old. 50% of the users are up to 34 years old."
   ]
  },
  {
   "cell_type": "code",
   "execution_count": 296,
   "metadata": {},
   "outputs": [
    {
     "data": {
      "text/plain": [
       "count    125461.000000\n",
       "mean         37.945736\n",
       "std          15.405991\n",
       "min          18.000000\n",
       "25%          28.000000\n",
       "50%          34.000000\n",
       "75%          43.000000\n",
       "max         122.000000\n",
       "Name: age_computed, dtype: float64"
      ]
     },
     "execution_count": 296,
     "metadata": {},
     "output_type": "execute_result"
    }
   ],
   "source": [
    "train_users_2_raw['age_computed'].describe()"
   ]
  },
  {
   "cell_type": "markdown",
   "metadata": {},
   "source": [
    "User Gender field:"
   ]
  },
  {
   "cell_type": "code",
   "execution_count": 213,
   "metadata": {},
   "outputs": [
    {
     "data": {
      "text/plain": [
       "array(['-unknown-', 'MALE', 'FEMALE', 'OTHER'], dtype=object)"
      ]
     },
     "execution_count": 213,
     "metadata": {},
     "output_type": "execute_result"
    }
   ],
   "source": [
    "train_users_2_raw['gender'].unique()                        "
   ]
  },
  {
   "cell_type": "markdown",
   "metadata": {},
   "source": [
    "45% of the users have unknown gender, 30% of users are female, 26% of users are male"
   ]
  },
  {
   "cell_type": "code",
   "execution_count": 222,
   "metadata": {},
   "outputs": [
    {
     "data": {
      "text/plain": [
       "-unknown-    95688\n",
       "FEMALE       63041\n",
       "MALE         54440\n",
       "OTHER          282\n",
       "Name: gender, dtype: int64"
      ]
     },
     "execution_count": 222,
     "metadata": {},
     "output_type": "execute_result"
    }
   ],
   "source": [
    "train_users_2_raw['gender'].value_counts()"
   ]
  },
  {
   "cell_type": "code",
   "execution_count": 217,
   "metadata": {},
   "outputs": [
    {
     "data": {
      "text/plain": [
       "Index(['id', 'date_account_created', 'timestamp_first_active',\n",
       "       'date_first_booking', 'gender', 'age', 'signup_method', 'signup_flow',\n",
       "       'language', 'affiliate_channel', 'affiliate_provider',\n",
       "       'first_affiliate_tracked', 'signup_app', 'first_device_type',\n",
       "       'first_browser', 'country_destination',\n",
       "       'timestamp_first_active_cleaned', 'number_of_days_account_creation',\n",
       "       'number_of_active_days', 'age_computed'],\n",
       "      dtype='object')"
      ]
     },
     "execution_count": 217,
     "metadata": {},
     "output_type": "execute_result"
    }
   ],
   "source": [
    "train_users_2_raw.columns"
   ]
  },
  {
   "cell_type": "markdown",
   "metadata": {},
   "source": [
    "User signup method field:\n",
    "- 71% of users are signing up through regular approach\n",
    "- 28% of users are signing up through Facebook\n"
   ]
  },
  {
   "cell_type": "code",
   "execution_count": 223,
   "metadata": {},
   "outputs": [
    {
     "data": {
      "text/plain": [
       "array(['facebook', 'basic', 'google'], dtype=object)"
      ]
     },
     "execution_count": 223,
     "metadata": {},
     "output_type": "execute_result"
    }
   ],
   "source": [
    "train_users_2_raw['signup_method'].unique()"
   ]
  },
  {
   "cell_type": "code",
   "execution_count": 227,
   "metadata": {},
   "outputs": [
    {
     "data": {
      "text/plain": [
       "basic       152897\n",
       "facebook     60008\n",
       "google         546\n",
       "Name: signup_method, dtype: int64"
      ]
     },
     "execution_count": 227,
     "metadata": {},
     "output_type": "execute_result"
    }
   ],
   "source": [
    "train_users_2_raw['signup_method'].value_counts()"
   ]
  },
  {
   "cell_type": "markdown",
   "metadata": {},
   "source": [
    "User signup_flow field:\n",
    "\n",
    "77% of users have 0 sign-up flow"
   ]
  },
  {
   "cell_type": "code",
   "execution_count": 229,
   "metadata": {},
   "outputs": [
    {
     "data": {
      "text/plain": [
       "<matplotlib.axes._subplots.AxesSubplot at 0x2046e048>"
      ]
     },
     "execution_count": 229,
     "metadata": {},
     "output_type": "execute_result"
    },
    {
     "data": {
      "image/png": "[encoded data removed]",
      "text/plain": [
       "<matplotlib.figure.Figure at 0x1be39cf8>"
      ]
     },
     "metadata": {},
     "output_type": "display_data"
    }
   ],
   "source": [
    "train_users_2_raw['signup_flow'].hist()"
   ]
  },
  {
   "cell_type": "code",
   "execution_count": 230,
   "metadata": {},
   "outputs": [
    {
     "data": {
      "text/plain": [
       "0     164739\n",
       "25     14659\n",
       "12      9329\n",
       "3       8822\n",
       "2       6881\n",
       "24      4328\n",
       "23      2835\n",
       "1       1047\n",
       "6        301\n",
       "8        240\n",
       "21       196\n",
       "5         36\n",
       "20        14\n",
       "16        11\n",
       "15        10\n",
       "10         2\n",
       "4          1\n",
       "Name: signup_flow, dtype: int64"
      ]
     },
     "execution_count": 230,
     "metadata": {},
     "output_type": "execute_result"
    }
   ],
   "source": [
    "train_users_2_raw['signup_flow'].value_counts()"
   ]
  },
  {
   "cell_type": "markdown",
   "metadata": {},
   "source": [
    "User language field:"
   ]
  },
  {
   "cell_type": "code",
   "execution_count": 232,
   "metadata": {},
   "outputs": [
    {
     "data": {
      "text/plain": [
       "array(['en', 'fr', 'de', 'es', 'it', 'pt', 'zh', 'ko', 'ja', 'ru', 'pl',\n",
       "       'el', 'sv', 'nl', 'hu', 'da', 'id', 'fi', 'no', 'tr', 'th', 'cs',\n",
       "       'hr', 'ca', 'is'], dtype=object)"
      ]
     },
     "execution_count": 232,
     "metadata": {},
     "output_type": "execute_result"
    }
   ],
   "source": [
    "train_users_2_raw['language'].unique()"
   ]
  },
  {
   "cell_type": "markdown",
   "metadata": {},
   "source": [
    "97% of users have english as their browser language"
   ]
  },
  {
   "cell_type": "code",
   "execution_count": 233,
   "metadata": {},
   "outputs": [
    {
     "data": {
      "text/plain": [
       "en    206314\n",
       "zh      1632\n",
       "fr      1172\n",
       "es       915\n",
       "ko       747\n",
       "de       732\n",
       "it       514\n",
       "ru       389\n",
       "pt       240\n",
       "ja       225\n",
       "sv       122\n",
       "nl        97\n",
       "tr        64\n",
       "da        58\n",
       "pl        54\n",
       "cs        32\n",
       "no        30\n",
       "el        24\n",
       "th        24\n",
       "id        22\n",
       "hu        18\n",
       "fi        14\n",
       "is         5\n",
       "ca         5\n",
       "hr         2\n",
       "Name: language, dtype: int64"
      ]
     },
     "execution_count": 233,
     "metadata": {},
     "output_type": "execute_result"
    }
   ],
   "source": [
    "train_users_2_raw['language'].value_counts()"
   ]
  },
  {
   "cell_type": "markdown",
   "metadata": {},
   "source": [
    "user affiliate_channel field:"
   ]
  },
  {
   "cell_type": "markdown",
   "metadata": {},
   "source": [
    "8 types of affiliate channels in the dataset:"
   ]
  },
  {
   "cell_type": "code",
   "execution_count": 237,
   "metadata": {},
   "outputs": [
    {
     "data": {
      "text/plain": [
       "array(['direct', 'seo', 'other', 'sem-non-brand', 'content', 'sem-brand',\n",
       "       'remarketing', 'api'], dtype=object)"
      ]
     },
     "execution_count": 237,
     "metadata": {},
     "output_type": "execute_result"
    }
   ],
   "source": [
    "train_users_2_raw['affiliate_channel'].unique()"
   ]
  },
  {
   "cell_type": "markdown",
   "metadata": {},
   "source": [
    "65% of the users came to the airbnb page through direct affiliate channel, 21% of users came to the airbnb page through sem (brand & non-brand)"
   ]
  },
  {
   "cell_type": "code",
   "execution_count": 238,
   "metadata": {},
   "outputs": [
    {
     "data": {
      "text/plain": [
       "direct           137727\n",
       "sem-brand         26045\n",
       "sem-non-brand     18844\n",
       "other              8961\n",
       "seo                8663\n",
       "api                8167\n",
       "content            3948\n",
       "remarketing        1096\n",
       "Name: affiliate_channel, dtype: int64"
      ]
     },
     "execution_count": 238,
     "metadata": {},
     "output_type": "execute_result"
    }
   ],
   "source": [
    "train_users_2_raw['affiliate_channel'].value_counts()"
   ]
  },
  {
   "cell_type": "markdown",
   "metadata": {},
   "source": [
    "User affiliate_provider:"
   ]
  },
  {
   "cell_type": "markdown",
   "metadata": {},
   "source": [
    "64% of users are from direct affiliate provider, 24% of users are from google affiliate provider"
   ]
  },
  {
   "cell_type": "code",
   "execution_count": 243,
   "metadata": {},
   "outputs": [
    {
     "data": {
      "text/plain": [
       "array(['direct', 'google', 'other', 'craigslist', 'facebook', 'vast',\n",
       "       'bing', 'meetup', 'facebook-open-graph', 'email-marketing',\n",
       "       'yahoo', 'padmapper', 'gsp', 'wayn', 'naver', 'baidu', 'yandex',\n",
       "       'daum'], dtype=object)"
      ]
     },
     "execution_count": 243,
     "metadata": {},
     "output_type": "execute_result"
    }
   ],
   "source": [
    "train_users_2_raw['affiliate_provider'].unique()"
   ]
  },
  {
   "cell_type": "code",
   "execution_count": 257,
   "metadata": {},
   "outputs": [
    {
     "data": {
      "text/plain": [
       "direct                 137426\n",
       "google                  51693\n",
       "other                   12549\n",
       "craigslist               3471\n",
       "bing                     2328\n",
       "facebook                 2273\n",
       "vast                      829\n",
       "padmapper                 768\n",
       "facebook-open-graph       545\n",
       "yahoo                     496\n",
       "gsp                       453\n",
       "meetup                    347\n",
       "email-marketing           166\n",
       "naver                      52\n",
       "baidu                      29\n",
       "yandex                     17\n",
       "wayn                        8\n",
       "daum                        1\n",
       "Name: affiliate_provider, dtype: int64"
      ]
     },
     "execution_count": 257,
     "metadata": {},
     "output_type": "execute_result"
    }
   ],
   "source": [
    "train_users_2_raw['affiliate_provider'].value_counts()"
   ]
  },
  {
   "cell_type": "code",
   "execution_count": 258,
   "metadata": {},
   "outputs": [
    {
     "data": {
      "text/plain": [
       "direct                 0.643829\n",
       "google                 0.242177\n",
       "other                  0.058791\n",
       "craigslist             0.016261\n",
       "bing                   0.010906\n",
       "facebook               0.010649\n",
       "vast                   0.003884\n",
       "padmapper              0.003598\n",
       "facebook-open-graph    0.002553\n",
       "yahoo                  0.002324\n",
       "gsp                    0.002122\n",
       "meetup                 0.001626\n",
       "email-marketing        0.000778\n",
       "naver                  0.000244\n",
       "baidu                  0.000136\n",
       "yandex                 0.000080\n",
       "wayn                   0.000037\n",
       "daum                   0.000005\n",
       "Name: affiliate_provider, dtype: float64"
      ]
     },
     "execution_count": 258,
     "metadata": {},
     "output_type": "execute_result"
    }
   ],
   "source": [
    "train_users_2_raw['affiliate_provider'].value_counts()/train_users_2_raw['id'].count()"
   ]
  },
  {
   "cell_type": "markdown",
   "metadata": {},
   "source": [
    "User first_affiliate_tracked field:\n",
    "\n",
    "Note: Don't think this field could be a useful feature"
   ]
  },
  {
   "cell_type": "code",
   "execution_count": 260,
   "metadata": {},
   "outputs": [
    {
     "data": {
      "text/plain": [
       "array(['untracked', 'omg', nan, 'linked', 'tracked-other', 'product',\n",
       "       'marketing', 'local ops'], dtype=object)"
      ]
     },
     "execution_count": 260,
     "metadata": {},
     "output_type": "execute_result"
    }
   ],
   "source": [
    "train_users_2_raw.first_affiliate_tracked.unique()"
   ]
  },
  {
   "cell_type": "markdown",
   "metadata": {},
   "source": [
    "User signup_app field:\n",
    "\n",
    "85% of users are signing up through Web"
   ]
  },
  {
   "cell_type": "code",
   "execution_count": 261,
   "metadata": {},
   "outputs": [
    {
     "data": {
      "text/plain": [
       "array(['Web', 'Moweb', 'iOS', 'Android'], dtype=object)"
      ]
     },
     "execution_count": 261,
     "metadata": {},
     "output_type": "execute_result"
    }
   ],
   "source": [
    "train_users_2_raw['signup_app'].unique()"
   ]
  },
  {
   "cell_type": "code",
   "execution_count": 262,
   "metadata": {},
   "outputs": [
    {
     "data": {
      "text/plain": [
       "Web        182717\n",
       "iOS         19019\n",
       "Moweb        6261\n",
       "Android      5454\n",
       "Name: signup_app, dtype: int64"
      ]
     },
     "execution_count": 262,
     "metadata": {},
     "output_type": "execute_result"
    }
   ],
   "source": [
    "train_users_2_raw['signup_app'].value_counts()"
   ]
  },
  {
   "cell_type": "code",
   "execution_count": 265,
   "metadata": {},
   "outputs": [
    {
     "data": {
      "text/plain": [
       "Web        0.856014\n",
       "iOS        0.089102\n",
       "Moweb      0.029332\n",
       "Android    0.025552\n",
       "Name: signup_app, dtype: float64"
      ]
     },
     "execution_count": 265,
     "metadata": {},
     "output_type": "execute_result"
    }
   ],
   "source": [
    "train_users_2_raw['signup_app'].value_counts()/train_users_2_raw.id.count()"
   ]
  },
  {
   "cell_type": "markdown",
   "metadata": {},
   "source": [
    "User first_device_type field:\n",
    "\n",
    "- 42% of the uses go to airbnb from Mac Desktop as the first device.\n",
    "- 34% of the users go to airbnb from Windows Desktop as the first device.\n",
    "- 10% of the users go to airbnb from iPhone as the first device.\n"
   ]
  },
  {
   "cell_type": "code",
   "execution_count": 267,
   "metadata": {},
   "outputs": [
    {
     "data": {
      "text/plain": [
       "array(['Mac Desktop', 'Windows Desktop', 'iPhone', 'Other/Unknown',\n",
       "       'Desktop (Other)', 'Android Tablet', 'iPad', 'Android Phone',\n",
       "       'SmartPhone (Other)'], dtype=object)"
      ]
     },
     "execution_count": 267,
     "metadata": {},
     "output_type": "execute_result"
    }
   ],
   "source": [
    "train_users_2_raw['first_device_type'].unique()"
   ]
  },
  {
   "cell_type": "code",
   "execution_count": 271,
   "metadata": {},
   "outputs": [
    {
     "data": {
      "text/plain": [
       "Mac Desktop           89600\n",
       "Windows Desktop       72716\n",
       "iPhone                20759\n",
       "iPad                  14339\n",
       "Other/Unknown         10667\n",
       "Android Phone          2803\n",
       "Android Tablet         1292\n",
       "Desktop (Other)        1199\n",
       "SmartPhone (Other)       76\n",
       "Name: first_device_type, dtype: int64"
      ]
     },
     "execution_count": 271,
     "metadata": {},
     "output_type": "execute_result"
    }
   ],
   "source": [
    "train_users_2_raw['first_device_type'].value_counts()"
   ]
  },
  {
   "cell_type": "code",
   "execution_count": 270,
   "metadata": {},
   "outputs": [
    {
     "data": {
      "text/plain": [
       "Mac Desktop           0.419768\n",
       "Windows Desktop       0.340668\n",
       "iPhone                0.097254\n",
       "iPad                  0.067177\n",
       "Other/Unknown         0.049974\n",
       "Android Phone         0.013132\n",
       "Android Tablet        0.006053\n",
       "Desktop (Other)       0.005617\n",
       "SmartPhone (Other)    0.000356\n",
       "Name: first_device_type, dtype: float64"
      ]
     },
     "execution_count": 270,
     "metadata": {},
     "output_type": "execute_result"
    }
   ],
   "source": [
    "train_users_2_raw['first_device_type'].value_counts()/train_users_2_raw['id'].count()"
   ]
  },
  {
   "cell_type": "markdown",
   "metadata": {},
   "source": [
    "User first_browser field:\n",
    "\n",
    "30% of users use Chrome as the first browser, 21% use Sarafi as the first browser, 16% use Firefox as the first browser"
   ]
  },
  {
   "cell_type": "code",
   "execution_count": 273,
   "metadata": {},
   "outputs": [
    {
     "data": {
      "text/plain": [
       "array(['Chrome', 'IE', 'Firefox', 'Safari', '-unknown-', 'Mobile Safari',\n",
       "       'Chrome Mobile', 'RockMelt', 'Chromium', 'Android Browser',\n",
       "       'AOL Explorer', 'Palm Pre web browser', 'Mobile Firefox', 'Opera',\n",
       "       'TenFourFox', 'IE Mobile', 'Apple Mail', 'Silk', 'Camino', 'Arora',\n",
       "       'BlackBerry Browser', 'SeaMonkey', 'Iron', 'Sogou Explorer',\n",
       "       'IceWeasel', 'Opera Mini', 'SiteKiosk', 'Maxthon',\n",
       "       'Kindle Browser', 'CoolNovo', 'Conkeror', 'wOSBrowser',\n",
       "       'Google Earth', 'Crazy Browser', 'Mozilla', 'OmniWeb',\n",
       "       'PS Vita browser', 'NetNewsWire', 'CometBird', 'Comodo Dragon',\n",
       "       'Flock', 'Pale Moon', 'Avant Browser', 'Opera Mobile',\n",
       "       'Yandex.Browser', 'TheWorld Browser', 'SlimBrowser', 'Epic',\n",
       "       'Stainless', 'Googlebot', 'Outlook 2007', 'IceDragon'],\n",
       "      dtype=object)"
      ]
     },
     "execution_count": 273,
     "metadata": {},
     "output_type": "execute_result"
    }
   ],
   "source": [
    "train_users_2_raw['first_browser'].unique()"
   ]
  },
  {
   "cell_type": "code",
   "execution_count": 276,
   "metadata": {},
   "outputs": [
    {
     "data": {
      "text/plain": [
       "Chrome                  63845\n",
       "Safari                  45169\n",
       "Firefox                 33655\n",
       "-unknown-               27266\n",
       "IE                      21068\n",
       "Mobile Safari           19274\n",
       "Chrome Mobile            1270\n",
       "Android Browser           851\n",
       "AOL Explorer              245\n",
       "Opera                     188\n",
       "Silk                      124\n",
       "Chromium                   73\n",
       "BlackBerry Browser         53\n",
       "Maxthon                    46\n",
       "IE Mobile                  36\n",
       "Apple Mail                 36\n",
       "Sogou Explorer             33\n",
       "Mobile Firefox             30\n",
       "SiteKiosk                  24\n",
       "RockMelt                   24\n",
       "Iron                       17\n",
       "IceWeasel                  13\n",
       "Pale Moon                  12\n",
       "SeaMonkey                  11\n",
       "CometBird                  11\n",
       "Yandex.Browser             11\n",
       "Camino                      9\n",
       "TenFourFox                  8\n",
       "wOSBrowser                  6\n",
       "CoolNovo                    6\n",
       "Avant Browser               4\n",
       "Opera Mini                  4\n",
       "Mozilla                     3\n",
       "Flock                       2\n",
       "Opera Mobile                2\n",
       "Comodo Dragon               2\n",
       "OmniWeb                     2\n",
       "Crazy Browser               2\n",
       "SlimBrowser                 2\n",
       "TheWorld Browser            2\n",
       "Stainless                   1\n",
       "Conkeror                    1\n",
       "Palm Pre web browser        1\n",
       "Kindle Browser              1\n",
       "PS Vita browser             1\n",
       "NetNewsWire                 1\n",
       "Arora                       1\n",
       "Google Earth                1\n",
       "Googlebot                   1\n",
       "Outlook 2007                1\n",
       "IceDragon                   1\n",
       "Epic                        1\n",
       "Name: first_browser, dtype: int64"
      ]
     },
     "execution_count": 276,
     "metadata": {},
     "output_type": "execute_result"
    }
   ],
   "source": [
    "train_users_2_raw['first_browser'].value_counts()"
   ]
  },
  {
   "cell_type": "code",
   "execution_count": 275,
   "metadata": {},
   "outputs": [
    {
     "data": {
      "text/plain": [
       "Chrome                  0.299108\n",
       "Safari                  0.211613\n",
       "Firefox                 0.157671\n",
       "-unknown-               0.127739\n",
       "IE                      0.098702\n",
       "Mobile Safari           0.090297\n",
       "Chrome Mobile           0.005950\n",
       "Android Browser         0.003987\n",
       "AOL Explorer            0.001148\n",
       "Opera                   0.000881\n",
       "Silk                    0.000581\n",
       "Chromium                0.000342\n",
       "BlackBerry Browser      0.000248\n",
       "Maxthon                 0.000216\n",
       "IE Mobile               0.000169\n",
       "Apple Mail              0.000169\n",
       "Sogou Explorer          0.000155\n",
       "Mobile Firefox          0.000141\n",
       "SiteKiosk               0.000112\n",
       "RockMelt                0.000112\n",
       "Iron                    0.000080\n",
       "IceWeasel               0.000061\n",
       "Pale Moon               0.000056\n",
       "SeaMonkey               0.000052\n",
       "CometBird               0.000052\n",
       "Yandex.Browser          0.000052\n",
       "Camino                  0.000042\n",
       "TenFourFox              0.000037\n",
       "wOSBrowser              0.000028\n",
       "CoolNovo                0.000028\n",
       "Avant Browser           0.000019\n",
       "Opera Mini              0.000019\n",
       "Mozilla                 0.000014\n",
       "Flock                   0.000009\n",
       "Opera Mobile            0.000009\n",
       "Comodo Dragon           0.000009\n",
       "OmniWeb                 0.000009\n",
       "Crazy Browser           0.000009\n",
       "SlimBrowser             0.000009\n",
       "TheWorld Browser        0.000009\n",
       "Stainless               0.000005\n",
       "Conkeror                0.000005\n",
       "Palm Pre web browser    0.000005\n",
       "Kindle Browser          0.000005\n",
       "PS Vita browser         0.000005\n",
       "NetNewsWire             0.000005\n",
       "Arora                   0.000005\n",
       "Google Earth            0.000005\n",
       "Googlebot               0.000005\n",
       "Outlook 2007            0.000005\n",
       "IceDragon               0.000005\n",
       "Epic                    0.000005\n",
       "Name: first_browser, dtype: float64"
      ]
     },
     "execution_count": 275,
     "metadata": {},
     "output_type": "execute_result"
    }
   ],
   "source": [
    "train_users_2_raw['first_browser'].value_counts()/train_users_2_raw['id'].count()"
   ]
  },
  {
   "cell_type": "code",
   "execution_count": 277,
   "metadata": {},
   "outputs": [
    {
     "data": {
      "text/plain": [
       "Index(['id', 'date_account_created', 'timestamp_first_active',\n",
       "       'date_first_booking', 'gender', 'age', 'signup_method', 'signup_flow',\n",
       "       'language', 'affiliate_channel', 'affiliate_provider',\n",
       "       'first_affiliate_tracked', 'signup_app', 'first_device_type',\n",
       "       'first_browser', 'country_destination',\n",
       "       'timestamp_first_active_cleaned', 'number_of_days_account_creation',\n",
       "       'number_of_active_days', 'age_computed'],\n",
       "      dtype='object')"
      ]
     },
     "execution_count": 277,
     "metadata": {},
     "output_type": "execute_result"
    }
   ],
   "source": [
    "train_users_2_raw.columns"
   ]
  },
  {
   "cell_type": "markdown",
   "metadata": {},
   "source": [
    "user country_destination:"
   ]
  },
  {
   "cell_type": "markdown",
   "metadata": {},
   "source": [
    "- 58% of users have chosen NDF\n",
    "- 29% of users have chosen US "
   ]
  },
  {
   "cell_type": "code",
   "execution_count": 279,
   "metadata": {},
   "outputs": [
    {
     "data": {
      "text/plain": [
       "array(['NDF', 'US', 'other', 'FR', 'CA', 'GB', 'ES', 'IT', 'PT', 'NL',\n",
       "       'DE', 'AU'], dtype=object)"
      ]
     },
     "execution_count": 279,
     "metadata": {},
     "output_type": "execute_result"
    }
   ],
   "source": [
    "train_users_2_raw['country_destination'].unique()"
   ]
  },
  {
   "cell_type": "code",
   "execution_count": 280,
   "metadata": {},
   "outputs": [
    {
     "data": {
      "text/plain": [
       "NDF      124543\n",
       "US        62376\n",
       "other     10094\n",
       "FR         5023\n",
       "IT         2835\n",
       "GB         2324\n",
       "ES         2249\n",
       "CA         1428\n",
       "DE         1061\n",
       "NL          762\n",
       "AU          539\n",
       "PT          217\n",
       "Name: country_destination, dtype: int64"
      ]
     },
     "execution_count": 280,
     "metadata": {},
     "output_type": "execute_result"
    }
   ],
   "source": [
    "train_users_2_raw['country_destination'].value_counts()"
   ]
  },
  {
   "cell_type": "code",
   "execution_count": 281,
   "metadata": {},
   "outputs": [
    {
     "data": {
      "text/plain": [
       "NDF      0.583473\n",
       "US       0.292226\n",
       "other    0.047290\n",
       "FR       0.023532\n",
       "IT       0.013282\n",
       "GB       0.010888\n",
       "ES       0.010536\n",
       "CA       0.006690\n",
       "DE       0.004971\n",
       "NL       0.003570\n",
       "AU       0.002525\n",
       "PT       0.001017\n",
       "Name: country_destination, dtype: float64"
      ]
     },
     "execution_count": 281,
     "metadata": {},
     "output_type": "execute_result"
    }
   ],
   "source": [
    "train_users_2_raw['country_destination'].value_counts()/train_users_2_raw['id'].count()"
   ]
  },
  {
   "cell_type": "markdown",
   "metadata": {},
   "source": [
    "User number_of_days_account_creation and number of active days:"
   ]
  },
  {
   "cell_type": "code",
   "execution_count": 285,
   "metadata": {},
   "outputs": [
    {
     "data": {
      "text/plain": [
       "count                      88908\n",
       "mean     44 days 08:41:59.854231\n",
       "std      87 days 11:59:22.090141\n",
       "min          -349 days +00:00:00\n",
       "25%              1 days 00:00:00\n",
       "50%              3 days 00:00:00\n",
       "75%             29 days 00:00:00\n",
       "max            365 days 00:00:00\n",
       "Name: number_of_days_account_creation, dtype: object"
      ]
     },
     "execution_count": 285,
     "metadata": {},
     "output_type": "execute_result"
    }
   ],
   "source": [
    "train_users_2_raw['number_of_days_account_creation'].describe()"
   ]
  },
  {
   "cell_type": "markdown",
   "metadata": {},
   "source": [
    "Most of the users (up to 75%) make their bookings with 30 days after they are active on the website."
   ]
  },
  {
   "cell_type": "code",
   "execution_count": 329,
   "metadata": {},
   "outputs": [
    {
     "data": {
      "text/plain": [
       "<matplotlib.axes._subplots.AxesSubplot at 0x28aaa518>"
      ]
     },
     "execution_count": 329,
     "metadata": {},
     "output_type": "execute_result"
    },
    {
     "data": {
      "image/png": "[encoded data removed]",
      "text/plain": [
       "<matplotlib.figure.Figure at 0x2ab08588>"
      ]
     },
     "metadata": {},
     "output_type": "display_data"
    }
   ],
   "source": [
    "train_users_2_raw['number_of_active_days_numeric_value'].hist(bins=10)"
   ]
  },
  {
   "cell_type": "code",
   "execution_count": 315,
   "metadata": {},
   "outputs": [
    {
     "data": {
      "text/plain": [
       "count                      88908\n",
       "mean     44 days 16:36:44.022135\n",
       "std      88 days 11:35:12.574019\n",
       "min              0 days 00:00:00\n",
       "25%              1 days 00:00:00\n",
       "50%              3 days 00:00:00\n",
       "75%             29 days 00:00:00\n",
       "max           1369 days 00:00:00\n",
       "Name: number_of_active_days, dtype: object"
      ]
     },
     "execution_count": 315,
     "metadata": {},
     "output_type": "execute_result"
    }
   ],
   "source": [
    "train_users_2_raw['number_of_active_days'].describe()"
   ]
  },
  {
   "cell_type": "markdown",
   "metadata": {},
   "source": [
    "Create classification variables called \"Account_creation_before_booking_flag\" :\n",
    "- 0: Account creation after first booking\n",
    "- 1: Account creation and first booking happened on the same day\n",
    "- 2: Account creation before first booking\n"
   ]
  },
  {
   "cell_type": "markdown",
   "metadata": {},
   "source": [
    "Convert the timedelta to number of days (numeric value):"
   ]
  },
  {
   "cell_type": "code",
   "execution_count": 316,
   "metadata": {},
   "outputs": [],
   "source": [
    "train_users_2_raw['number_of_days_account_creation_numeric_value']=train_users_2_raw['number_of_days_account_creation'].dt.days\n",
    "train_users_2_raw['number_of_active_days_numeric_value']=train_users_2_raw['number_of_active_days'].dt.days"
   ]
  },
  {
   "cell_type": "code",
   "execution_count": 317,
   "metadata": {},
   "outputs": [],
   "source": [
    "train_users_2_raw.loc[train_users_2_raw['number_of_days_account_creation_numeric_value']==0,'Account_creation_before_booking_flag']=1\n",
    "train_users_2_raw.loc[train_users_2_raw['number_of_days_account_creation_numeric_value']>0,'Account_creation_before_booking_flag']=2\n",
    "train_users_2_raw.loc[train_users_2_raw['number_of_days_account_creation_numeric_value']<0,'Account_creation_before_booking_flag']=0\n"
   ]
  },
  {
   "cell_type": "code",
   "execution_count": 319,
   "metadata": {},
   "outputs": [
    {
     "data": {
      "text/plain": [
       "2.0    67475\n",
       "1.0    21404\n",
       "0.0       29\n",
       "Name: Account_creation_before_booking_flag, dtype: int64"
      ]
     },
     "execution_count": 319,
     "metadata": {},
     "output_type": "execute_result"
    }
   ],
   "source": [
    "train_users_2_raw['Account_creation_before_booking_flag'].value_counts()"
   ]
  },
  {
   "cell_type": "markdown",
   "metadata": {},
   "source": [
    "32% of the users create the account before the first booking, 10% of users created account after the first booking. The remaining users do not have the first booking date in the training dataset."
   ]
  },
  {
   "cell_type": "code",
   "execution_count": 320,
   "metadata": {},
   "outputs": [
    {
     "data": {
      "text/plain": [
       "2.0    0.316115\n",
       "1.0    0.100276\n",
       "0.0    0.000136\n",
       "Name: Account_creation_before_booking_flag, dtype: float64"
      ]
     },
     "execution_count": 320,
     "metadata": {},
     "output_type": "execute_result"
    }
   ],
   "source": [
    "train_users_2_raw['Account_creation_before_booking_flag'].value_counts()/train_users_2_raw['id'].count()"
   ]
  },
  {
   "cell_type": "markdown",
   "metadata": {},
   "source": [
    "Merge the train_users_2_raw data frame and the user_activity_count dataframe and user_total_time_spent dataframe by user id:"
   ]
  },
  {
   "cell_type": "code",
   "execution_count": 336,
   "metadata": {},
   "outputs": [
    {
     "data": {
      "text/plain": [
       "10533241"
      ]
     },
     "execution_count": 336,
     "metadata": {},
     "output_type": "execute_result"
    }
   ],
   "source": [
    "user_activity_count['session count'].sum() ##10533241\n",
    "user_total_time_spent['Total time spent (in seconds)'].sum() ##201833415029.0"
   ]
  },
  {
   "cell_type": "code",
   "execution_count": 354,
   "metadata": {},
   "outputs": [],
   "source": [
    "user_final_training_dataset=pd.merge(left=train_users_2_raw, right=user_activity_count, left_on=\"id\", right_on=\"user_id\", how='left')\n",
    "user_final_training_dataset=pd.merge(left=user_final_training_dataset, right=user_total_time_spent, left_on=\"id\", right_on=\"user_id\", how='left')"
   ]
  },
  {
   "cell_type": "code",
   "execution_count": 351,
   "metadata": {},
   "outputs": [
    {
     "data": {
      "text/plain": [
       "(213451, 23)"
      ]
     },
     "execution_count": 351,
     "metadata": {},
     "output_type": "execute_result"
    }
   ],
   "source": [
    "train_users_2_raw.shape"
   ]
  },
  {
   "cell_type": "code",
   "execution_count": 352,
   "metadata": {},
   "outputs": [
    {
     "data": {
      "text/plain": [
       "(213451, 27)"
      ]
     },
     "execution_count": 352,
     "metadata": {},
     "output_type": "execute_result"
    }
   ],
   "source": [
    "user_final_training_dataset.shape"
   ]
  },
  {
   "cell_type": "code",
   "execution_count": 355,
   "metadata": {},
   "outputs": [
    {
     "data": {
      "text/plain": [
       "Index(['id', 'date_account_created', 'timestamp_first_active',\n",
       "       'date_first_booking', 'gender', 'age', 'signup_method', 'signup_flow',\n",
       "       'language', 'affiliate_channel', 'affiliate_provider',\n",
       "       'first_affiliate_tracked', 'signup_app', 'first_device_type',\n",
       "       'first_browser', 'country_destination',\n",
       "       'timestamp_first_active_cleaned', 'number_of_days_account_creation',\n",
       "       'number_of_active_days', 'age_computed',\n",
       "       'number_of_days_account_creation_numeric_value',\n",
       "       'number_of_active_days_numeric_value',\n",
       "       'Account_creation_before_booking_flag', 'user_id_x', 'session count',\n",
       "       'user_id_y', 'Total time spent (in seconds)'],\n",
       "      dtype='object')"
      ]
     },
     "execution_count": 355,
     "metadata": {},
     "output_type": "execute_result"
    }
   ],
   "source": [
    "user_final_training_dataset.columns"
   ]
  },
  {
   "cell_type": "code",
   "execution_count": 357,
   "metadata": {},
   "outputs": [
    {
     "data": {
      "text/plain": [
       "5537957.0"
      ]
     },
     "execution_count": 357,
     "metadata": {},
     "output_type": "execute_result"
    }
   ],
   "source": [
    "user_final_training_dataset['session count'].sum() ##10533241"
   ]
  },
  {
   "cell_type": "code",
   "execution_count": 359,
   "metadata": {},
   "outputs": [
    {
     "data": {
      "text/plain": [
       "111773253498.0"
      ]
     },
     "execution_count": 359,
     "metadata": {},
     "output_type": "execute_result"
    }
   ],
   "source": [
    "user_final_training_dataset['Total time spent (in seconds)'].sum() ##201833415029.0"
   ]
  },
  {
   "cell_type": "markdown",
   "metadata": {},
   "source": [
    "Export the dataset user_final_training_dataset into csv file"
   ]
  },
  {
   "cell_type": "code",
   "execution_count": 360,
   "metadata": {},
   "outputs": [],
   "source": [
    "#user_final_training_dataset.to_csv(\n",
    ")"
   ]
  },
  {
   "cell_type": "code",
   "execution_count": null,
   "metadata": {},
   "outputs": [],
   "source": []
  }
 ],
 "metadata": {
  "kernelspec": {
   "display_name": "Python 3",
   "language": "python",
   "name": "python3"
  },
  "language_info": {
   "codemirror_mode": {
    "name": "ipython",
    "version": 3
   },
   "file_extension": ".py",
   "mimetype": "text/x-python",
   "name": "python",
   "nbconvert_exporter": "python",
   "pygments_lexer": "ipython3",
   "version": "3.6.4"
  }
 },
 "nbformat": 4,
 "nbformat_minor": 2
}
