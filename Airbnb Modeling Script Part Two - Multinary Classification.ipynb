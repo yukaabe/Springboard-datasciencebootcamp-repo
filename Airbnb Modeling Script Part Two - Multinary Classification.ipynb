{
 "cells": [
  {
   "cell_type": "markdown",
   "metadata": {},
   "source": [
    "# Import all the libraries"
   ]
  },
  {
   "cell_type": "code",
   "execution_count": 2,
   "metadata": {},
   "outputs": [
    {
     "name": "stderr",
     "output_type": "stream",
     "text": [
      "C:\\Users\\yuka.abe\\AppData\\Local\\Continuum\\anaconda3\\lib\\site-packages\\sklearn\\cross_validation.py:41: DeprecationWarning: This module was deprecated in version 0.18 in favor of the model_selection module into which all the refactored classes and functions are moved. Also note that the interface of the new CV iterators are different from that of this module. This module will be removed in 0.20.\n",
      "  \"This module will be removed in 0.20.\", DeprecationWarning)\n"
     ]
    }
   ],
   "source": [
    "import pandas as pd\n",
    "import numpy as np\n",
    "import matplotlib.pyplot as plt\n",
    "import time\n",
    "%matplotlib inline\n",
    "import seaborn as sns\n",
    "\n",
    "from sklearn import datasets, linear_model\n",
    "from sklearn.model_selection import train_test_split\n",
    "from sklearn.linear_model import LogisticRegression\n",
    "from sklearn.cross_validation import cross_val_score, train_test_split\n",
    "from sklearn.metrics import precision_score, recall_score, roc_auc_score, roc_curve, f1_score\n",
    "from sklearn import metrics\n",
    "from sklearn.tree import DecisionTreeClassifier\n",
    "from sklearn.ensemble import AdaBoostClassifier, RandomForestClassifier\n",
    "import xgboost as xgb"
   ]
  },
  {
   "cell_type": "markdown",
   "metadata": {},
   "source": [
    "# Loading the Airbnb dataset below:"
   ]
  },
  {
   "cell_type": "markdown",
   "metadata": {},
   "source": [
    "You can download the user_training_dataset_update.csv from the link below:\n",
    "\n",
    "https://drive.google.com/open?id=1tQGlNvkmGVPGcmQID2NNd5p8bkLBxofM"
   ]
  },
  {
   "cell_type": "code",
   "execution_count": 7,
   "metadata": {},
   "outputs": [],
   "source": [
    "user_training_dataset_update=pd.read_csv(\"C:/Users/yuka.abe/Desktop/Airbnb Kaggle DataSet/user_training_dataset_update.csv\")\n",
    "\n",
    "user_training_dataset_update_multinary_classfication=user_training_dataset_update.copy()\n",
    "user_training_dataset_update_multinary_classfication.loc[user_training_dataset_update_multinary_classfication['first_browser']=='-unknown-', 'first_browser']='Unknown'\n",
    "user_training_dataset_update_multinary_classfication.loc[user_training_dataset_update_multinary_classfication['gender']=='-unknown-', 'gender']='Unknown'\n",
    "\n"
   ]
  },
  {
   "cell_type": "code",
   "execution_count": 8,
   "metadata": {},
   "outputs": [
    {
     "data": {
      "text/plain": [
       "Index(['id', 'date_account_created', 'timestamp_first_active_cleaned',\n",
       "       'gender', 'signup_method', 'signup_flow', 'language',\n",
       "       'affiliate_channel', 'affiliate_provider', 'first_affiliate_tracked',\n",
       "       'signup_app', 'first_device_type', 'first_browser',\n",
       "       'country_destination', 'age_computed',\n",
       "       'Account_creation_before_booking_flag', 'Total time spent (in seconds)',\n",
       "       'number_of_active_day_as_of_latest_date',\n",
       "       'number_of_days_since_account_creation_as_of_latest_date',\n",
       "       'session count', 'trip_booking_flag', 'Account_creation_date_month',\n",
       "       'Account_creation_date_year', 'Account_creation_date_day',\n",
       "       'Account_creation_date_day_of_week', 'first_active_date_month',\n",
       "       'first_active_date_day', 'first_active_date_year',\n",
       "       'first_active_date_dayofweek', 'age_bucket',\n",
       "       'Total time spent (in seconds)_fill_null_zero',\n",
       "       'session count_fill_null_zero', 'Total time spent (in seconds)_bucket',\n",
       "       'session count_bucket'],\n",
       "      dtype='object')"
      ]
     },
     "execution_count": 8,
     "metadata": {},
     "output_type": "execute_result"
    }
   ],
   "source": [
    "user_training_dataset_update_multinary_classfication.columns"
   ]
  },
  {
   "cell_type": "code",
   "execution_count": 10,
   "metadata": {},
   "outputs": [],
   "source": [
    "del user_training_dataset_update_multinary_classfication['trip_booking_flag']                                          "
   ]
  },
  {
   "cell_type": "markdown",
   "metadata": {},
   "source": [
    "In the user_training_dataset_update_multinary_classfication dataset, the following fields have some missing values:\n",
    "- first_affiliate_tracked \n",
    "- age_computed\n",
    "- Total time spent (in seconds) \n",
    "- Account_creation_before_booking_flag \n",
    "- session count  "
   ]
  },
  {
   "cell_type": "code",
   "execution_count": 11,
   "metadata": {},
   "outputs": [
    {
     "name": "stdout",
     "output_type": "stream",
     "text": [
      "<class 'pandas.core.frame.DataFrame'>\n",
      "RangeIndex: 213451 entries, 0 to 213450\n",
      "Data columns (total 33 columns):\n",
      "id                                                         213451 non-null object\n",
      "date_account_created                                       213451 non-null object\n",
      "timestamp_first_active_cleaned                             213451 non-null object\n",
      "gender                                                     213451 non-null object\n",
      "signup_method                                              213451 non-null object\n",
      "signup_flow                                                213451 non-null int64\n",
      "language                                                   213451 non-null object\n",
      "affiliate_channel                                          213451 non-null object\n",
      "affiliate_provider                                         213451 non-null object\n",
      "first_affiliate_tracked                                    207386 non-null object\n",
      "signup_app                                                 213451 non-null object\n",
      "first_device_type                                          213451 non-null object\n",
      "first_browser                                              213451 non-null object\n",
      "country_destination                                        213451 non-null object\n",
      "age_computed                                               125461 non-null float64\n",
      "Account_creation_before_booking_flag                       88908 non-null float64\n",
      "Total time spent (in seconds)                              73815 non-null float64\n",
      "number_of_active_day_as_of_latest_date                     213451 non-null int64\n",
      "number_of_days_since_account_creation_as_of_latest_date    213451 non-null int64\n",
      "session count                                              73815 non-null float64\n",
      "Account_creation_date_month                                213451 non-null int64\n",
      "Account_creation_date_year                                 213451 non-null int64\n",
      "Account_creation_date_day                                  213451 non-null int64\n",
      "Account_creation_date_day_of_week                          213451 non-null int64\n",
      "first_active_date_month                                    213451 non-null int64\n",
      "first_active_date_day                                      213451 non-null int64\n",
      "first_active_date_year                                     213451 non-null int64\n",
      "first_active_date_dayofweek                                213451 non-null int64\n",
      "age_bucket                                                 213451 non-null object\n",
      "Total time spent (in seconds)_fill_null_zero               213451 non-null float64\n",
      "session count_fill_null_zero                               213451 non-null float64\n",
      "Total time spent (in seconds)_bucket                       213451 non-null object\n",
      "session count_bucket                                       213451 non-null object\n",
      "dtypes: float64(6), int64(11), object(16)\n",
      "memory usage: 53.7+ MB\n"
     ]
    }
   ],
   "source": [
    "user_training_dataset_update_multinary_classfication.info()"
   ]
  },
  {
   "cell_type": "markdown",
   "metadata": {},
   "source": [
    "Input the null value for first_affiliate_tracked field as \"unknown\""
   ]
  },
  {
   "cell_type": "code",
   "execution_count": 18,
   "metadata": {},
   "outputs": [
    {
     "data": {
      "text/plain": [
       "untracked        109232\n",
       "linked            46287\n",
       "omg               43982\n",
       "tracked-other      6156\n",
       "Unknown            6065\n",
       "product            1556\n",
       "marketing           139\n",
       "local ops            34\n",
       "Name: first_affiliate_tracked, dtype: int64"
      ]
     },
     "execution_count": 18,
     "metadata": {},
     "output_type": "execute_result"
    }
   ],
   "source": [
    "user_training_dataset_update_multinary_classfication.loc[pd.isnull(user_training_dataset_update_multinary_classfication['first_affiliate_tracked']), 'first_affiliate_tracked']='Unknown'\n",
    "\n",
    "user_training_dataset_update_multinary_classfication['first_affiliate_tracked'].value_counts()"
   ]
  },
  {
   "cell_type": "markdown",
   "metadata": {},
   "source": [
    "Input the null value for \"Account_creation_before_booking_flag\" as \"unknown\""
   ]
  },
  {
   "cell_type": "code",
   "execution_count": 19,
   "metadata": {},
   "outputs": [
    {
     "data": {
      "text/plain": [
       "Unknown    124543\n",
       "2.0         67475\n",
       "1.0         21404\n",
       "0.0            29\n",
       "Name: Account_creation_before_booking_flag, dtype: int64"
      ]
     },
     "execution_count": 19,
     "metadata": {},
     "output_type": "execute_result"
    }
   ],
   "source": [
    "user_training_dataset_update_multinary_classfication.loc[pd.isnull(user_training_dataset_update_multinary_classfication['Account_creation_before_booking_flag']), 'Account_creation_before_booking_flag']='Unknown'\n",
    "\n",
    "user_training_dataset_update_multinary_classfication['Account_creation_before_booking_flag'].value_counts()"
   ]
  },
  {
   "cell_type": "markdown",
   "metadata": {},
   "source": [
    "Define the NDCG score function:"
   ]
  },
  {
   "cell_type": "code",
   "execution_count": 28,
   "metadata": {},
   "outputs": [],
   "source": [
    "def ndcg_score(preds, dtrain):\n",
    "    labels = dtrain.get_label()\n",
    "    top = []\n",
    "\n",
    "    for i in range(preds.shape[0]):\n",
    "        top.append(np.argsort(preds[i])[::-1][:5])\n",
    "\n",
    "    mat = np.reshape(np.repeat(labels,np.shape(top)[1]) == np.array(top).ravel(),np.array(top).shape).astype(int)\n",
    "    score = np.mean(np.sum(mat/np.log2(np.arange(2, mat.shape[1] + 2)),axis = 1))\n",
    "    return 'ndcg', score"
   ]
  },
  {
   "cell_type": "markdown",
   "metadata": {},
   "source": [
    "Define function to get dummy variables from all the categorical variables:"
   ]
  },
  {
   "cell_type": "code",
   "execution_count": 6,
   "metadata": {},
   "outputs": [],
   "source": [
    "def func_get_dummy_variables_for_categorical_variables(dataset, variable_name):\n",
    "    \n",
    "    dummy_variables_series=pd.get_dummies(dataset[variable_name])\n",
    "    dummy_variables_series_df=pd.DataFrame(dummy_variables_series)\n",
    "    \n",
    "    for column in dummy_variables_series_df.columns:\n",
    "        new_column_name=variable_name+'_'+str(column)\n",
    "        if new_column_name in dataset.columns:\n",
    "            del dataset[new_column_name]\n",
    "        \n",
    "        dummy_variables_series_df=dummy_variables_series_df.rename(columns={column: new_column_name})\n",
    "        \n",
    "        \n",
    "    del dataset[variable_name]\n",
    "    #del dummy_variables_series_df[dummy_variables_series_df.columns[-1]]\n",
    "    return dummy_variables_series_df"
   ]
  },
  {
   "cell_type": "code",
   "execution_count": 134,
   "metadata": {},
   "outputs": [],
   "source": [
    "user_training_dataset_update_multinary_classfication1=user_training_dataset_update_multinary_classfication.copy()"
   ]
  },
  {
   "cell_type": "code",
   "execution_count": 135,
   "metadata": {},
   "outputs": [],
   "source": [
    "user_training_dataset_update_multinary_classfication1=user_training_dataset_update_multinary_classfication1[[\n",
    "'id',\n",
    "# Below are the category variables:\n",
    "'gender', \n",
    "'signup_method',   \n",
    "'signup_flow',  \n",
    "'language',  \n",
    "'affiliate_channel', \n",
    "'affiliate_provider',   \n",
    "'first_affiliate_tracked',   \n",
    "'signup_app',    \n",
    "'first_device_type', \n",
    "'first_browser',   \n",
    "'Account_creation_before_booking_flag',  \n",
    "'Account_creation_date_month',\n",
    "'Account_creation_date_year',\n",
    "'Account_creation_date_day', \n",
    "'Account_creation_date_day_of_week',  \n",
    "'first_active_date_month',\n",
    "'first_active_date_year',\n",
    "'first_active_date_day',\n",
    "'first_active_date_dayofweek',\n",
    "'age_bucket',\n",
    "'session count_bucket',  \n",
    "'Total time spent (in seconds)_bucket',                                          \n",
    "\n",
    "#Below are the continuous variables:\n",
    "\n",
    "'number_of_active_day_as_of_latest_date', \n",
    "'number_of_days_since_account_creation_as_of_latest_date',\n",
    "'Total time spent (in seconds)_fill_null_zero',   \n",
    "'session count_fill_null_zero', \n",
    "                                              \n",
    "#Below's the label variable:\n",
    "'country_destination' ]]                                                                                                 "
   ]
  },
  {
   "cell_type": "code",
   "execution_count": 138,
   "metadata": {},
   "outputs": [],
   "source": [
    "user_training_dataset_update_multinary_classfication1=user_training_dataset_update_multinary_classfication1.set_index('id')"
   ]
  },
  {
   "cell_type": "markdown",
   "metadata": {},
   "source": [
    "All the data in the user_training_dataset_update_multinary_classfication1 dataset does not have missing values:"
   ]
  },
  {
   "cell_type": "code",
   "execution_count": 139,
   "metadata": {},
   "outputs": [
    {
     "name": "stdout",
     "output_type": "stream",
     "text": [
      "<class 'pandas.core.frame.DataFrame'>\n",
      "Index: 213451 entries, gxn3p5htnn to nw9fwlyb5f\n",
      "Data columns (total 27 columns):\n",
      "gender                                                     213451 non-null object\n",
      "signup_method                                              213451 non-null object\n",
      "signup_flow                                                213451 non-null int64\n",
      "language                                                   213451 non-null object\n",
      "affiliate_channel                                          213451 non-null object\n",
      "affiliate_provider                                         213451 non-null object\n",
      "first_affiliate_tracked                                    213451 non-null object\n",
      "signup_app                                                 213451 non-null object\n",
      "first_device_type                                          213451 non-null object\n",
      "first_browser                                              213451 non-null object\n",
      "Account_creation_before_booking_flag                       213451 non-null object\n",
      "Account_creation_date_month                                213451 non-null int64\n",
      "Account_creation_date_year                                 213451 non-null int64\n",
      "Account_creation_date_day                                  213451 non-null int64\n",
      "Account_creation_date_day_of_week                          213451 non-null int64\n",
      "first_active_date_month                                    213451 non-null int64\n",
      "first_active_date_year                                     213451 non-null int64\n",
      "first_active_date_day                                      213451 non-null int64\n",
      "first_active_date_dayofweek                                213451 non-null int64\n",
      "age_bucket                                                 213451 non-null object\n",
      "session count_bucket                                       213451 non-null object\n",
      "Total time spent (in seconds)_bucket                       213451 non-null object\n",
      "number_of_active_day_as_of_latest_date                     213451 non-null int64\n",
      "number_of_days_since_account_creation_as_of_latest_date    213451 non-null int64\n",
      "Total time spent (in seconds)_fill_null_zero               213451 non-null float64\n",
      "session count_fill_null_zero                               213451 non-null float64\n",
      "country_destination                                        213451 non-null object\n",
      "dtypes: float64(2), int64(11), object(14)\n",
      "memory usage: 45.6+ MB\n"
     ]
    }
   ],
   "source": [
    "user_training_dataset_update_multinary_classfication1.info()"
   ]
  },
  {
   "cell_type": "markdown",
   "metadata": {},
   "source": [
    "Encode the category variables into dummy variables:"
   ]
  },
  {
   "cell_type": "code",
   "execution_count": 140,
   "metadata": {},
   "outputs": [],
   "source": [
    "Categorical_variable_list=['gender', \n",
    "'signup_method',   \n",
    "'signup_flow',  \n",
    "'language',  \n",
    "'affiliate_channel', \n",
    "'affiliate_provider',   \n",
    "'first_affiliate_tracked',   \n",
    "'signup_app',    \n",
    "'first_device_type', \n",
    "'first_browser',   \n",
    "'Account_creation_before_booking_flag',  \n",
    "'Account_creation_date_month',\n",
    "'Account_creation_date_year',\n",
    "'Account_creation_date_day', \n",
    "'Account_creation_date_day_of_week',  \n",
    "'first_active_date_month',\n",
    "'first_active_date_year',\n",
    "'first_active_date_day',\n",
    "'first_active_date_dayofweek',\n",
    "'age_bucket',\n",
    "'session count_bucket',  \n",
    "'Total time spent (in seconds)_bucket']"
   ]
  },
  {
   "cell_type": "code",
   "execution_count": 141,
   "metadata": {},
   "outputs": [],
   "source": [
    "for variable_name in Categorical_variable_list:\n",
    "    df_dummy=func_get_dummy_variables_for_categorical_variables(user_training_dataset_update_multinary_classfication1, variable_name)\n",
    "    user_training_dataset_update_multinary_classfication1=user_training_dataset_update_multinary_classfication1.merge(df_dummy, on=None, left_index=True, right_index=True)"
   ]
  },
  {
   "cell_type": "code",
   "execution_count": 32,
   "metadata": {},
   "outputs": [
    {
     "data": {
      "text/plain": [
       "Index(['number_of_active_day_as_of_latest_date',\n",
       "       'number_of_days_since_account_creation_as_of_latest_date',\n",
       "       'Total time spent (in seconds)_fill_null_zero',\n",
       "       'session count_fill_null_zero', 'country_destination', 'gender_FEMALE',\n",
       "       'gender_MALE', 'gender_OTHER', 'gender_Unknown', 'signup_method_basic',\n",
       "       ...\n",
       "       'session count_bucket_(111.0, 2644.0]',\n",
       "       'session count_bucket_(26.0, 53.0]',\n",
       "       'session count_bucket_(53.0, 111.0]', 'session count_bucket_Unknown',\n",
       "       'Total time spent (in seconds)_bucket_(-0.001, 169857.6]',\n",
       "       'Total time spent (in seconds)_bucket_(1248857.2, 2444996.4]',\n",
       "       'Total time spent (in seconds)_bucket_(169857.6, 584557.4]',\n",
       "       'Total time spent (in seconds)_bucket_(2444996.4, 38221363.0]',\n",
       "       'Total time spent (in seconds)_bucket_(584557.4, 1248857.2]',\n",
       "       'Total time spent (in seconds)_bucket_Unknown'],\n",
       "      dtype='object', length=286)"
      ]
     },
     "execution_count": 32,
     "metadata": {},
     "output_type": "execute_result"
    }
   ],
   "source": [
    "user_training_dataset_update_multinary_classfication1.columns"
   ]
  },
  {
   "cell_type": "markdown",
   "metadata": {},
   "source": [
    "Check if there's any null value in the user_training_dataset_update_binary_classfication1 dataset:"
   ]
  },
  {
   "cell_type": "code",
   "execution_count": 142,
   "metadata": {},
   "outputs": [],
   "source": [
    "for column in user_training_dataset_update_multinary_classfication1.columns:\n",
    "    row_count=user_training_dataset_update_multinary_classfication1[column].count()\n",
    "    if row_count<213451:\n",
    "        print(column)"
   ]
  },
  {
   "cell_type": "markdown",
   "metadata": {},
   "source": [
    "There's no column with null value after having preprocessed the data."
   ]
  },
  {
   "cell_type": "markdown",
   "metadata": {},
   "source": [
    "Define the feature list:"
   ]
  },
  {
   "cell_type": "code",
   "execution_count": 56,
   "metadata": {},
   "outputs": [],
   "source": [
    "feature_list1=list(user_training_dataset_update_multinary_classfication1.columns)"
   ]
  },
  {
   "cell_type": "code",
   "execution_count": 58,
   "metadata": {},
   "outputs": [],
   "source": [
    "feature_list1.remove('Total time spent (in seconds)_fill_null_zero')\n",
    "feature_list1.remove('session count_fill_null_zero')"
   ]
  },
  {
   "cell_type": "code",
   "execution_count": 59,
   "metadata": {},
   "outputs": [],
   "source": [
    "feature_list2=list(user_training_dataset_update_multinary_classfication1.columns)"
   ]
  },
  {
   "cell_type": "code",
   "execution_count": 60,
   "metadata": {},
   "outputs": [],
   "source": [
    "feature_list2.remove('Total time spent (in seconds)_bucket_(-0.001, 169857.6]')\n",
    "feature_list2.remove('Total time spent (in seconds)_bucket_(1248857.2, 2444996.4]')\n",
    "feature_list2.remove('Total time spent (in seconds)_bucket_(169857.6, 584557.4]')\n",
    "feature_list2.remove('Total time spent (in seconds)_bucket_(2444996.4, 38221363.0]')\n",
    "feature_list2.remove('Total time spent (in seconds)_bucket_(584557.4, 1248857.2]')\n",
    "feature_list2.remove('Total time spent (in seconds)_bucket_Unknown')\n",
    "\n",
    "feature_list2.remove('session count_bucket_(0.999, 10.0]')\n",
    "feature_list2.remove('session count_bucket_(10.0, 26.0]')\n",
    "feature_list2.remove('session count_bucket_(111.0, 2644.0]')\n",
    "feature_list2.remove('session count_bucket_(26.0, 53.0]')\n",
    "feature_list2.remove('session count_bucket_(53.0, 111.0]')\n",
    "feature_list2.remove('session count_bucket_Unknown')"
   ]
  },
  {
   "cell_type": "markdown",
   "metadata": {},
   "source": [
    "Remove the trip_booking_flag variable  (label):"
   ]
  },
  {
   "cell_type": "code",
   "execution_count": 61,
   "metadata": {},
   "outputs": [],
   "source": [
    "feature_list2.remove('country_destination')       \n",
    "feature_list1.remove('country_destination')   "
   ]
  },
  {
   "cell_type": "markdown",
   "metadata": {},
   "source": [
    "Define the label and feature:"
   ]
  },
  {
   "cell_type": "code",
   "execution_count": 143,
   "metadata": {},
   "outputs": [],
   "source": [
    "y, X =user_training_dataset_update_multinary_classfication1['country_destination'], user_training_dataset_update_multinary_classfication1[feature_list1]"
   ]
  },
  {
   "cell_type": "markdown",
   "metadata": {},
   "source": [
    "Create the training and testing vars:"
   ]
  },
  {
   "cell_type": "code",
   "execution_count": 145,
   "metadata": {},
   "outputs": [],
   "source": [
    "X_train, X_test, y_train, y_test = train_test_split(X, y, test_size=0.2, random_state=123)"
   ]
  },
  {
   "cell_type": "code",
   "execution_count": 146,
   "metadata": {},
   "outputs": [
    {
     "name": "stdout",
     "output_type": "stream",
     "text": [
      "(170760, 283)\n",
      "(42691, 283)\n",
      "(170760,)\n",
      "(42691,)\n"
     ]
    }
   ],
   "source": [
    "print(X_train.shape)\n",
    "print(X_test.shape)\n",
    "print(y_train.shape)\n",
    "print(y_test.shape)"
   ]
  },
  {
   "cell_type": "markdown",
   "metadata": {},
   "source": [
    "#  Develop multinary classification model. Use Country Destination as the label and rest of the variables as features\n"
   ]
  },
  {
   "cell_type": "markdown",
   "metadata": {},
   "source": [
    "# Use Logistic Regression to fit the model: "
   ]
  },
  {
   "cell_type": "code",
   "execution_count": 147,
   "metadata": {},
   "outputs": [
    {
     "data": {
      "text/plain": [
       "LogisticRegression(C=10, class_weight=None, dual=False, fit_intercept=True,\n",
       "          intercept_scaling=1, max_iter=100, multi_class='multinomial',\n",
       "          n_jobs=1, penalty='l2', random_state=None, solver='lbfgs',\n",
       "          tol=0.0001, verbose=0, warm_start=False)"
      ]
     },
     "execution_count": 147,
     "metadata": {},
     "output_type": "execute_result"
    }
   ],
   "source": [
    "Multinary_Logistic_Regression=LogisticRegression(multi_class='multinomial', solver='lbfgs', C=10)\n",
    "Multinary_Logistic_Regression.fit(X_train, y_train)"
   ]
  },
  {
   "cell_type": "code",
   "execution_count": 148,
   "metadata": {},
   "outputs": [
    {
     "data": {
      "text/plain": [
       "0.7528922289192229"
      ]
     },
     "execution_count": 148,
     "metadata": {},
     "output_type": "execute_result"
    }
   ],
   "source": [
    "cross_val_score(Multinary_Logistic_Regression, X_train,y_train, cv=5 ).mean()"
   ]
  },
  {
   "cell_type": "markdown",
   "metadata": {},
   "source": [
    "Model Performance on the testing set:"
   ]
  },
  {
   "cell_type": "code",
   "execution_count": 149,
   "metadata": {},
   "outputs": [
    {
     "name": "stdout",
     "output_type": "stream",
     "text": [
      "Accuracy Score:  0.7403210861348863\n"
     ]
    }
   ],
   "source": [
    "print(\"Accuracy Score: \", cross_val_score(Multinary_Logistic_Regression, X_test,y_test, cv=5).mean())"
   ]
  },
  {
   "cell_type": "markdown",
   "metadata": {},
   "source": [
    "# Get the predict probability by user:"
   ]
  },
  {
   "cell_type": "markdown",
   "metadata": {},
   "source": [
    "Define a function to output model prediction probability by class:"
   ]
  },
  {
   "cell_type": "code",
   "execution_count": 202,
   "metadata": {},
   "outputs": [],
   "source": [
    "def multinary_classification_model_predict_probability_by_class(multinary_classification_model, training_data_features):\n",
    "    ordered_label=multinary_classification_model.classes_\n",
    "    #Create a dictionary of label classes:\n",
    "    \n",
    "    i=0\n",
    "    label_order_dict=dict()\n",
    "    \n",
    "    for label in ordered_label:\n",
    "        label_order_dict[i]=label\n",
    "        i=i+1\n",
    "    \n",
    "    #Create a dataframe for classification probability\n",
    "    \n",
    "    df_prob=pd.DataFrame()\n",
    "    \n",
    "    for probability_order in range(0,ordered_label.shape[0]):\n",
    "        df_prob[label_order_dict[probability_order]]=list(zip(*multinary_classification_model.predict_proba(training_data_features)))[probability_order]\n",
    " \n",
    "    df_prob.set_index(training_data_features.index, inplace=True) \n",
    "    \n",
    "    df_prob=df_prob.rename(columns={'index':'id'})\n",
    "    \n",
    "    df_prob=df_prob.reset_index()\n",
    "\n",
    "    df_prob_melt=pd.melt(df_prob, id_vars='id',value_vars=['AU', 'CA', 'DE', 'ES', 'FR', 'GB', 'IT', 'NDF', 'NL', 'PT', 'US','other'])\n",
    "\n",
    "    df_prob_melt=df_prob_melt.rename(columns={'value': 'Probability'})\n",
    "\n",
    "    df_prob_melt.sort_values(by=['id', 'Probability'], ascending=[True, False], inplace=True)\n",
    "    \n",
    "\n",
    "\n",
    "    df_prob_melt_top5_countries=df_prob_melt.groupby('id').head(5)\n",
    "\n",
    "    return df_prob_melt_top5_countries"
   ]
  },
  {
   "cell_type": "code",
   "execution_count": 203,
   "metadata": {},
   "outputs": [],
   "source": [
    "Multinary_Logistic_Regression_prediction_probability_df=multinary_classification_model_predict_probability_by_class(Multinary_Logistic_Regression, X_train)"
   ]
  },
  {
   "cell_type": "code",
   "execution_count": 204,
   "metadata": {},
   "outputs": [
    {
     "data": {
      "text/html": [
       "<div>\n",
       "<style scoped>\n",
       "    .dataframe tbody tr th:only-of-type {\n",
       "        vertical-align: middle;\n",
       "    }\n",
       "\n",
       "    .dataframe tbody tr th {\n",
       "        vertical-align: top;\n",
       "    }\n",
       "\n",
       "    .dataframe thead th {\n",
       "        text-align: right;\n",
       "    }\n",
       "</style>\n",
       "<table border=\"1\" class=\"dataframe\">\n",
       "  <thead>\n",
       "    <tr style=\"text-align: right;\">\n",
       "      <th></th>\n",
       "      <th>id</th>\n",
       "      <th>variable</th>\n",
       "      <th>Probability</th>\n",
       "    </tr>\n",
       "  </thead>\n",
       "  <tbody>\n",
       "    <tr>\n",
       "      <th>1216588</th>\n",
       "      <td>00023iyk9l</td>\n",
       "      <td>NDF</td>\n",
       "      <td>0.768577</td>\n",
       "    </tr>\n",
       "    <tr>\n",
       "      <th>1728868</th>\n",
       "      <td>00023iyk9l</td>\n",
       "      <td>US</td>\n",
       "      <td>0.093365</td>\n",
       "    </tr>\n",
       "    <tr>\n",
       "      <th>1899628</th>\n",
       "      <td>00023iyk9l</td>\n",
       "      <td>other</td>\n",
       "      <td>0.024614</td>\n",
       "    </tr>\n",
       "    <tr>\n",
       "      <th>704308</th>\n",
       "      <td>00023iyk9l</td>\n",
       "      <td>FR</td>\n",
       "      <td>0.019071</td>\n",
       "    </tr>\n",
       "    <tr>\n",
       "      <th>1045828</th>\n",
       "      <td>00023iyk9l</td>\n",
       "      <td>IT</td>\n",
       "      <td>0.017224</td>\n",
       "    </tr>\n",
       "  </tbody>\n",
       "</table>\n",
       "</div>"
      ],
      "text/plain": [
       "                 id variable  Probability\n",
       "1216588  00023iyk9l      NDF     0.768577\n",
       "1728868  00023iyk9l       US     0.093365\n",
       "1899628  00023iyk9l    other     0.024614\n",
       "704308   00023iyk9l       FR     0.019071\n",
       "1045828  00023iyk9l       IT     0.017224"
      ]
     },
     "execution_count": 204,
     "metadata": {},
     "output_type": "execute_result"
    }
   ],
   "source": [
    "Multinary_Logistic_Regression_prediction_probability_df.head()"
   ]
  },
  {
   "cell_type": "code",
   "execution_count": 293,
   "metadata": {},
   "outputs": [],
   "source": [
    "def multinary_classification_model_predict_class(multinary_classification_model, training_data_features):\n",
    "    ordered_label=multinary_classification_model.classes_\n",
    "    \n",
    "    multinary_classification_prediction_label=multinary_classification_model.predict(training_data_features)\n",
    "    \n",
    "    multinary_classification_prediction_label_df=pd.DataFrame(multinary_classification_prediction_label)\n",
    "    multinary_classification_prediction_label_df.set_index(training_data_features.index, inplace=True)\n",
    "    \n",
    "    multinary_classification_prediction_label_df=multinary_classification_prediction_label_df.rename(columns={0:'label'})\n",
    "    \n",
    "    return multinary_classification_prediction_label_df\n",
    "    \n",
    "    \n",
    "    "
   ]
  },
  {
   "cell_type": "code",
   "execution_count": 268,
   "metadata": {},
   "outputs": [],
   "source": [
    "Multinary_Logistic_Regression_prediction_label_df=multinary_classification_model_predict_class(Multinary_Logistic_Regression, X_train)"
   ]
  },
  {
   "cell_type": "markdown",
   "metadata": {},
   "source": [
    "# Below is detail NDCG (Normalized discounted cumulative gain) evaluation provided by Kaggle competition:"
   ]
  },
  {
   "attachments": {
    "image.png": {
     "image/png": "[encoded data removed]"
    }
   },
   "cell_type": "markdown",
   "metadata": {},
   "source": [
    "![image.png](attachment:image.png)"
   ]
  },
  {
   "cell_type": "markdown",
   "metadata": {},
   "source": [
    "# Define a function to output the NDCG score based on the model, feature dataset and label dataset:"
   ]
  },
  {
   "cell_type": "code",
   "execution_count": 356,
   "metadata": {},
   "outputs": [],
   "source": [
    "def funct_NDCG_score_output(logistic_classification_model_input, training_data_features, training_data_labels):\n",
    "    #Create NDCG function here for computing the NDCG Score:\n",
    "    def func_NDCG(ranking_number):\n",
    "        if ranking_number<=5:\n",
    "            score=(2**1-1)/np.log2(ranking_number+1)\n",
    "        else:\n",
    "            score=0\n",
    "        return score\n",
    "    \n",
    "    # Output the classification probability for the top 5 destination countries per user:\n",
    "    \n",
    "    ordered_label=logistic_classification_model_input.classes_\n",
    "    #Create a dictionary of label classes:\n",
    "\n",
    "    i=0\n",
    "    label_order_dict=dict()\n",
    "\n",
    "    for label in ordered_label:\n",
    "        label_order_dict[i]=label\n",
    "        i=i+1\n",
    "\n",
    "    #Create a dataframe for classification probability\n",
    "\n",
    "    df_prob=pd.DataFrame()\n",
    "\n",
    "    for probability_order in range(0,ordered_label.shape[0]):\n",
    "        df_prob[label_order_dict[probability_order]]=list(zip(*logistic_classification_model_input.predict_proba(training_data_features)))[probability_order]\n",
    "\n",
    "    df_prob.set_index(training_data_features.index, inplace=True) \n",
    "\n",
    "    df_prob=df_prob.rename(columns={'index':'id'})\n",
    "\n",
    "    df_prob=df_prob.reset_index()\n",
    "\n",
    "    df_prob_melt=pd.melt(df_prob, id_vars='id',value_vars=['AU', 'CA', 'DE', 'ES', 'FR', 'GB', 'IT', 'NDF', 'NL', 'PT', 'US','other'])\n",
    "\n",
    "    df_prob_melt=df_prob_melt.rename(columns={'value': 'Probability'})\n",
    "\n",
    "    df_prob_melt.sort_values(by=['id', 'Probability'], ascending=[True, False], inplace=True)\n",
    "\n",
    "\n",
    "\n",
    "    df_prob_melt_top5_countries=df_prob_melt.groupby('id').head(5)\n",
    "\n",
    "    # Output the classification model prediction class\n",
    "    \n",
    "    \n",
    "    ordered_label1=logistic_classification_model_input.classes_\n",
    "    \n",
    "    multinary_classification_prediction_label=logistic_classification_model_input.predict(training_data_features)\n",
    "    \n",
    "    multinary_classification_prediction_label_df=pd.DataFrame(multinary_classification_prediction_label)\n",
    "    multinary_classification_prediction_label_df.set_index(training_data_features.index, inplace=True)\n",
    "    \n",
    "    multinary_classification_prediction_label_df=multinary_classification_prediction_label_df.rename(columns={0:'label'})\n",
    "    \n",
    "    \n",
    "    # Merge the country prediction rank along with the actual label into the final data frame for computing the NDCG score based on the country ranking:\n",
    "    \n",
    "    Multinary_Logistic_Regression_prediction_probability_df_rank_by_probability=df_prob_melt_top5_countries.groupby('id')['Probability'].rank(ascending=False)\n",
    "    \n",
    "    Multinary_Logistic_Regression_prediction_probability_df_rank_by_probability_df=pd.DataFrame(Multinary_Logistic_Regression_prediction_probability_df_rank_by_probability)\n",
    "    \n",
    "    Multinary_Logistic_Regression_prediction_probability_df_rank_by_probability_df.rename(columns={'Probability': 'Rank'}, inplace=True)\n",
    "    \n",
    "    Multinary_Logistic_Regression_prediction_probability_df_with_ranking=pd.merge(df_prob_melt_top5_countries, Multinary_Logistic_Regression_prediction_probability_df_rank_by_probability_df, left_index=True, right_index=True)\n",
    "    \n",
    "    Multinary_Logistic_Regression_prediction_probability_df_with_ranking=Multinary_Logistic_Regression_prediction_probability_df_with_ranking.rename(columns={'variable':'country'})\n",
    "    \n",
    "    Multinary_Logistic_Regression_prediction_actual_label_df1=training_data_labels.reset_index()\n",
    "    \n",
    "    Multinary_Logistic_Regression_prediction_actual_label_df1=Multinary_Logistic_Regression_prediction_actual_label_df1.rename(columns={'label':'country'})\n",
    "    \n",
    "    Multinary_Logistic_Regression_prediction_actual_label_df1=Multinary_Logistic_Regression_prediction_actual_label_df1.rename(columns={'country_destination':'country'})\n",
    "    \n",
    "    Multinary_Logistic_Regression_prediction_evaludation_df=pd.merge(Multinary_Logistic_Regression_prediction_actual_label_df1, Multinary_Logistic_Regression_prediction_probability_df_with_ranking, how='left', right_on=['id', 'country'],left_on=['id', 'country'])\n",
    "    \n",
    "    #Compute the score:\n",
    "    Multinary_Logistic_Regression_prediction_evaludation_df['Score']=Multinary_Logistic_Regression_prediction_evaludation_df['Rank'].apply(func_NDCG)\n",
    "    \n",
    "    \n",
    "    return Multinary_Logistic_Regression_prediction_evaludation_df"
   ]
  },
  {
   "cell_type": "markdown",
   "metadata": {},
   "source": [
    "# Leverage the function to evaluate the performance on the training set:"
   ]
  },
  {
   "cell_type": "code",
   "execution_count": 367,
   "metadata": {},
   "outputs": [],
   "source": [
    "logistic_regression_evaluation_final_df=funct_NDCG_score_output(Multinary_Logistic_Regression, X_train, y_train)"
   ]
  },
  {
   "cell_type": "code",
   "execution_count": 359,
   "metadata": {},
   "outputs": [
    {
     "data": {
      "text/html": [
       "<div>\n",
       "<style scoped>\n",
       "    .dataframe tbody tr th:only-of-type {\n",
       "        vertical-align: middle;\n",
       "    }\n",
       "\n",
       "    .dataframe tbody tr th {\n",
       "        vertical-align: top;\n",
       "    }\n",
       "\n",
       "    .dataframe thead th {\n",
       "        text-align: right;\n",
       "    }\n",
       "</style>\n",
       "<table border=\"1\" class=\"dataframe\">\n",
       "  <thead>\n",
       "    <tr style=\"text-align: right;\">\n",
       "      <th></th>\n",
       "      <th>id</th>\n",
       "      <th>country</th>\n",
       "      <th>Probability</th>\n",
       "      <th>Rank</th>\n",
       "      <th>Score</th>\n",
       "    </tr>\n",
       "  </thead>\n",
       "  <tbody>\n",
       "    <tr>\n",
       "      <th>0</th>\n",
       "      <td>gevm0ie1gh</td>\n",
       "      <td>ES</td>\n",
       "      <td>NaN</td>\n",
       "      <td>NaN</td>\n",
       "      <td>0.0</td>\n",
       "    </tr>\n",
       "    <tr>\n",
       "      <th>1</th>\n",
       "      <td>jhwcf2xu24</td>\n",
       "      <td>CA</td>\n",
       "      <td>NaN</td>\n",
       "      <td>NaN</td>\n",
       "      <td>0.0</td>\n",
       "    </tr>\n",
       "    <tr>\n",
       "      <th>2</th>\n",
       "      <td>zey76oxl0y</td>\n",
       "      <td>US</td>\n",
       "      <td>0.870585</td>\n",
       "      <td>1.0</td>\n",
       "      <td>1.0</td>\n",
       "    </tr>\n",
       "    <tr>\n",
       "      <th>3</th>\n",
       "      <td>b2x4yqliof</td>\n",
       "      <td>NDF</td>\n",
       "      <td>0.982918</td>\n",
       "      <td>1.0</td>\n",
       "      <td>1.0</td>\n",
       "    </tr>\n",
       "    <tr>\n",
       "      <th>4</th>\n",
       "      <td>uro59va61h</td>\n",
       "      <td>US</td>\n",
       "      <td>0.391006</td>\n",
       "      <td>1.0</td>\n",
       "      <td>1.0</td>\n",
       "    </tr>\n",
       "  </tbody>\n",
       "</table>\n",
       "</div>"
      ],
      "text/plain": [
       "           id country  Probability  Rank  Score\n",
       "0  gevm0ie1gh      ES          NaN   NaN    0.0\n",
       "1  jhwcf2xu24      CA          NaN   NaN    0.0\n",
       "2  zey76oxl0y      US     0.870585   1.0    1.0\n",
       "3  b2x4yqliof     NDF     0.982918   1.0    1.0\n",
       "4  uro59va61h      US     0.391006   1.0    1.0"
      ]
     },
     "execution_count": 359,
     "metadata": {},
     "output_type": "execute_result"
    }
   ],
   "source": [
    "logistic_regression_evaluation_final_df.head()"
   ]
  },
  {
   "cell_type": "markdown",
   "metadata": {},
   "source": [
    "In the training data set, the prediction model is doing very poorly for countries like AU, CA, PT, NT, DE, ES and GB. The prediction is very powerful to predict the user that has not done any booking and the users that have booked US as their first destination country."
   ]
  },
  {
   "cell_type": "code",
   "execution_count": 364,
   "metadata": {},
   "outputs": [
    {
     "data": {
      "text/plain": [
       "country\n",
       "AU       0.000000\n",
       "CA       0.000000\n",
       "DE       0.000969\n",
       "ES       0.000942\n",
       "FR       0.436927\n",
       "GB       0.001019\n",
       "IT       0.386682\n",
       "NDF      0.993171\n",
       "NL       0.000000\n",
       "PT       0.000000\n",
       "US       0.871734\n",
       "other    0.525719\n",
       "Name: Score, dtype: float64"
      ]
     },
     "execution_count": 364,
     "metadata": {},
     "output_type": "execute_result"
    }
   ],
   "source": [
    "logistic_regression_evaluation_final_df.groupby('country')['Score'].mean()"
   ]
  },
  {
   "cell_type": "code",
   "execution_count": 363,
   "metadata": {},
   "outputs": [
    {
     "data": {
      "text/plain": [
       "<matplotlib.axes._subplots.AxesSubplot at 0xa34aa908>"
      ]
     },
     "execution_count": 363,
     "metadata": {},
     "output_type": "execute_result"
    },
    {
     "data": {
      "image/png": "[encoded data removed]",
      "text/plain": [
       "<matplotlib.figure.Figure at 0x9e17c630>"
      ]
     },
     "metadata": {},
     "output_type": "display_data"
    }
   ],
   "source": [
    "logistic_regression_evaluation_final_df.groupby('country')['Score'].mean().plot(kind='barh', title='Average NDCG score by country (training set)')"
   ]
  },
  {
   "cell_type": "markdown",
   "metadata": {},
   "source": [
    "# Leverage the function to evaluate the performance on the testing set:"
   ]
  },
  {
   "cell_type": "markdown",
   "metadata": {},
   "source": [
    "Same as the performance in the training dataset, the prediction model is doing very poorly for countries like AU, CA, PT, NT, DE, ES and GB. The prediction is very powerful to predict the user that has not done any booking and the users that have booked US as their first destination country in the testing dataset."
   ]
  },
  {
   "cell_type": "code",
   "execution_count": 366,
   "metadata": {},
   "outputs": [],
   "source": [
    "logistic_regression_evaluation_final_df_testing=funct_NDCG_score_output(Multinary_Logistic_Regression, X_test, y_test)"
   ]
  },
  {
   "cell_type": "code",
   "execution_count": 368,
   "metadata": {},
   "outputs": [
    {
     "data": {
      "text/plain": [
       "country\n",
       "AU       0.000000\n",
       "CA       0.000000\n",
       "DE       0.001985\n",
       "ES       0.000000\n",
       "FR       0.436112\n",
       "GB       0.000000\n",
       "IT       0.386180\n",
       "NDF      0.993069\n",
       "NL       0.000000\n",
       "PT       0.000000\n",
       "US       0.875352\n",
       "other    0.525819\n",
       "Name: Score, dtype: float64"
      ]
     },
     "execution_count": 368,
     "metadata": {},
     "output_type": "execute_result"
    }
   ],
   "source": [
    "logistic_regression_evaluation_final_df_testing.groupby('country')['Score'].mean()"
   ]
  },
  {
   "cell_type": "code",
   "execution_count": 369,
   "metadata": {},
   "outputs": [
    {
     "data": {
      "text/plain": [
       "<matplotlib.axes._subplots.AxesSubplot at 0xa092f940>"
      ]
     },
     "execution_count": 369,
     "metadata": {},
     "output_type": "execute_result"
    },
    {
     "data": {
      "image/png": "[encoded data removed]",
      "text/plain": [
       "<matplotlib.figure.Figure at 0x9e961c18>"
      ]
     },
     "metadata": {},
     "output_type": "display_data"
    }
   ],
   "source": [
    "logistic_regression_evaluation_final_df_testing.groupby('country')['Score'].mean().plot(kind='barh', title='Average NDCG score by country (testing set)')"
   ]
  },
  {
   "cell_type": "code",
   "execution_count": null,
   "metadata": {},
   "outputs": [],
   "source": []
  },
  {
   "cell_type": "markdown",
   "metadata": {},
   "source": [
    "# Use Random Forest to train the model: "
   ]
  },
  {
   "cell_type": "markdown",
   "metadata": {},
   "source": [
    "# Need to review before getting started:\n",
    "Random Forest output probability:\n",
    "\n",
    "https://www.linkedin.com/pulse/decoding-probabilities-random-forest-sanchit-tiwari/"
   ]
  },
  {
   "cell_type": "code",
   "execution_count": null,
   "metadata": {},
   "outputs": [],
   "source": []
  }
 ],
 "metadata": {
  "kernelspec": {
   "display_name": "Python 3",
   "language": "python",
   "name": "python3"
  },
  "language_info": {
   "codemirror_mode": {
    "name": "ipython",
    "version": 3
   },
   "file_extension": ".py",
   "mimetype": "text/x-python",
   "name": "python",
   "nbconvert_exporter": "python",
   "pygments_lexer": "ipython3",
   "version": "3.6.4"
  }
 },
 "nbformat": 4,
 "nbformat_minor": 2
}
